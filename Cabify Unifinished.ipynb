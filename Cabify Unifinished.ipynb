{
 "cells": [
  {
   "cell_type": "code",
   "execution_count": 464,
   "id": "14418ccf",
   "metadata": {},
   "outputs": [],
   "source": [
    "import pandas as pd\n",
    "import numpy as np\n",
    "import matplotlib.pyplot as plt\n",
    "%matplotlib inline\n",
    "import seaborn as sns\n",
    "import folium\n",
    "from shapely.geometry import Polygon\n",
    "import math\n",
    "from haversine import haversine, Unit\n"
   ]
  },
  {
   "cell_type": "code",
   "execution_count": 4,
   "id": "b411a939",
   "metadata": {},
   "outputs": [],
   "source": [
    "df=pd.read_json('challenge_dataset.json')"
   ]
  },
  {
   "cell_type": "code",
   "execution_count": 444,
   "id": "b9ba86f3",
   "metadata": {},
   "outputs": [
    {
     "data": {
      "image/png": "[encoded data removed]",
      "text/plain": [
       "<Figure size 400x400 with 1 Axes>"
      ]
     },
     "metadata": {},
     "output_type": "display_data"
    }
   ],
   "source": [
    "sns.set_theme(style='darkgrid')\n",
    "sns.set_palette(\"twilight\")\n",
    "df['annotation'].value_counts().plot.pie(figsize=(4,4));"
   ]
  },
  {
   "cell_type": "markdown",
   "id": "f97646bf",
   "metadata": {},
   "source": [
    "# DATA QUALITY"
   ]
  },
  {
   "cell_type": "markdown",
   "id": "58f2fb7c",
   "metadata": {},
   "source": [
    "## Different annotations for the same journey:"
   ]
  },
  {
   "cell_type": "markdown",
   "id": "9c5f2e17",
   "metadata": {},
   "source": [
    "I proceed to identify the registers where the annotation is different for the same journey:"
   ]
  },
  {
   "cell_type": "code",
   "execution_count": 439,
   "id": "0fe415c4",
   "metadata": {},
   "outputs": [],
   "source": [
    "df_different_annotations = df[df.groupby('journey_id')['annotation'].transform('nunique') > 1]"
   ]
  },
  {
   "cell_type": "code",
   "execution_count": 428,
   "id": "1fc3da65",
   "metadata": {},
   "outputs": [
    {
     "data": {
      "text/html": [
       "<div>\n",
       "<style scoped>\n",
       "    .dataframe tbody tr th:only-of-type {\n",
       "        vertical-align: middle;\n",
       "    }\n",
       "\n",
       "    .dataframe tbody tr th {\n",
       "        vertical-align: top;\n",
       "    }\n",
       "\n",
       "    .dataframe thead th {\n",
       "        text-align: right;\n",
       "    }\n",
       "</style>\n",
       "<table border=\"1\" class=\"dataframe\">\n",
       "  <thead>\n",
       "    <tr style=\"text-align: right;\">\n",
       "      <th></th>\n",
       "      <th>journey_id</th>\n",
       "      <th>annotator</th>\n",
       "      <th>annotation</th>\n",
       "      <th>estimated_route</th>\n",
       "      <th>real_route</th>\n",
       "      <th>len_esti_route</th>\n",
       "      <th>len_real_route</th>\n",
       "      <th>area_m2</th>\n",
       "      <th>distance_real_r</th>\n",
       "      <th>distance_estimated_r</th>\n",
       "      <th>difference_distances</th>\n",
       "    </tr>\n",
       "  </thead>\n",
       "  <tbody>\n",
       "    <tr>\n",
       "      <th>40</th>\n",
       "      <td>878553b4-5543-11ec-8511-9950cc15bf2f</td>\n",
       "      <td>1</td>\n",
       "      <td>I don't know</td>\n",
       "      <td>[[4.74041, -74.06221], [4.74046, -74.06242], [...</td>\n",
       "      <td>[[4.740529, -74.062714], [4.74052, -74.062713]...</td>\n",
       "      <td>269</td>\n",
       "      <td>226</td>\n",
       "      <td>0.033052</td>\n",
       "      <td>7.102657</td>\n",
       "      <td>7.205445</td>\n",
       "      <td>-0.102788</td>\n",
       "    </tr>\n",
       "    <tr>\n",
       "      <th>41</th>\n",
       "      <td>878553b4-5543-11ec-8511-9950cc15bf2f</td>\n",
       "      <td>2</td>\n",
       "      <td>Both are the same</td>\n",
       "      <td>[[4.74041, -74.06221], [4.74046, -74.06242], [...</td>\n",
       "      <td>[[4.740529, -74.062714], [4.74052, -74.062713]...</td>\n",
       "      <td>269</td>\n",
       "      <td>226</td>\n",
       "      <td>0.033052</td>\n",
       "      <td>7.102657</td>\n",
       "      <td>7.205445</td>\n",
       "      <td>-0.102788</td>\n",
       "    </tr>\n",
       "    <tr>\n",
       "      <th>70</th>\n",
       "      <td>2c013625-575b-11ec-8c14-d9c690d44ede</td>\n",
       "      <td>7</td>\n",
       "      <td>Both are the same</td>\n",
       "      <td>[[-33.58247, -70.6656], [-33.58263, -70.66485]...</td>\n",
       "      <td>[[-33.582379, -70.665998], [-33.582379, -70.66...</td>\n",
       "      <td>525</td>\n",
       "      <td>483</td>\n",
       "      <td>4.606501</td>\n",
       "      <td>22.257495</td>\n",
       "      <td>22.716509</td>\n",
       "      <td>-0.459014</td>\n",
       "    </tr>\n",
       "    <tr>\n",
       "      <th>71</th>\n",
       "      <td>2c013625-575b-11ec-8c14-d9c690d44ede</td>\n",
       "      <td>5</td>\n",
       "      <td>I don't know</td>\n",
       "      <td>[[-33.58247, -70.6656], [-33.58263, -70.66485]...</td>\n",
       "      <td>[[-33.582379, -70.665998], [-33.582379, -70.66...</td>\n",
       "      <td>525</td>\n",
       "      <td>483</td>\n",
       "      <td>4.606501</td>\n",
       "      <td>22.257495</td>\n",
       "      <td>22.716509</td>\n",
       "      <td>-0.459014</td>\n",
       "    </tr>\n",
       "    <tr>\n",
       "      <th>78</th>\n",
       "      <td>4cc903e4-5a6e-11ec-b347-e1e81d9998ac</td>\n",
       "      <td>2</td>\n",
       "      <td>They differ</td>\n",
       "      <td>[[37.38101, -5.99355], [37.38104, -5.99367], [...</td>\n",
       "      <td>[[37.381013, -5.995019], [37.380967, -5.994986...</td>\n",
       "      <td>85</td>\n",
       "      <td>124</td>\n",
       "      <td>0.025773</td>\n",
       "      <td>2.914007</td>\n",
       "      <td>2.109641</td>\n",
       "      <td>0.804367</td>\n",
       "    </tr>\n",
       "    <tr>\n",
       "      <th>...</th>\n",
       "      <td>...</td>\n",
       "      <td>...</td>\n",
       "      <td>...</td>\n",
       "      <td>...</td>\n",
       "      <td>...</td>\n",
       "      <td>...</td>\n",
       "      <td>...</td>\n",
       "      <td>...</td>\n",
       "      <td>...</td>\n",
       "      <td>...</td>\n",
       "      <td>...</td>\n",
       "    </tr>\n",
       "    <tr>\n",
       "      <th>2638</th>\n",
       "      <td>c71c5880-54a6-11ec-87af-c565ea9421d1</td>\n",
       "      <td>3</td>\n",
       "      <td>Both are the same</td>\n",
       "      <td>[[40.421, -3.69817], [40.42076, -3.69825], [40...</td>\n",
       "      <td>[[40.42121, -3.698092], [40.421174, -3.698107]...</td>\n",
       "      <td>202</td>\n",
       "      <td>136</td>\n",
       "      <td>0.002431</td>\n",
       "      <td>3.741188</td>\n",
       "      <td>3.414732</td>\n",
       "      <td>0.326455</td>\n",
       "    </tr>\n",
       "    <tr>\n",
       "      <th>2748</th>\n",
       "      <td>aa29f796-5b49-11ec-8b1f-0b356e20177a</td>\n",
       "      <td>2</td>\n",
       "      <td>They differ</td>\n",
       "      <td>[[40.47382, -3.7051], [40.4738, -3.7051], [40....</td>\n",
       "      <td>[[40.473942, -3.705184], [40.473942, -3.705184...</td>\n",
       "      <td>669</td>\n",
       "      <td>108</td>\n",
       "      <td>0.992708</td>\n",
       "      <td>6.971135</td>\n",
       "      <td>7.517543</td>\n",
       "      <td>-0.546409</td>\n",
       "    </tr>\n",
       "    <tr>\n",
       "      <th>2749</th>\n",
       "      <td>aa29f796-5b49-11ec-8b1f-0b356e20177a</td>\n",
       "      <td>2</td>\n",
       "      <td>I don't know</td>\n",
       "      <td>[[40.47382, -3.7051], [40.4738, -3.7051], [40....</td>\n",
       "      <td>[[40.473942, -3.705184], [40.473942, -3.705184...</td>\n",
       "      <td>669</td>\n",
       "      <td>108</td>\n",
       "      <td>0.992708</td>\n",
       "      <td>6.971135</td>\n",
       "      <td>7.517543</td>\n",
       "      <td>-0.546409</td>\n",
       "    </tr>\n",
       "    <tr>\n",
       "      <th>2783</th>\n",
       "      <td>c72b5d8c-5715-11ec-a4b8-d123064b4d18</td>\n",
       "      <td>6</td>\n",
       "      <td>They differ</td>\n",
       "      <td>[[-12.11695, -77.01305], [-12.11699, -77.01305...</td>\n",
       "      <td>[[-12.116924, -77.013106], [-12.116924, -77.01...</td>\n",
       "      <td>470</td>\n",
       "      <td>354</td>\n",
       "      <td>0.254075</td>\n",
       "      <td>12.518621</td>\n",
       "      <td>12.424396</td>\n",
       "      <td>0.094224</td>\n",
       "    </tr>\n",
       "    <tr>\n",
       "      <th>2784</th>\n",
       "      <td>c72b5d8c-5715-11ec-a4b8-d123064b4d18</td>\n",
       "      <td>2</td>\n",
       "      <td>I don't know</td>\n",
       "      <td>[[-12.11695, -77.01305], [-12.11699, -77.01305...</td>\n",
       "      <td>[[-12.116924, -77.013106], [-12.116924, -77.01...</td>\n",
       "      <td>470</td>\n",
       "      <td>354</td>\n",
       "      <td>0.254075</td>\n",
       "      <td>12.518621</td>\n",
       "      <td>12.424396</td>\n",
       "      <td>0.094224</td>\n",
       "    </tr>\n",
       "  </tbody>\n",
       "</table>\n",
       "<p>118 rows × 11 columns</p>\n",
       "</div>"
      ],
      "text/plain": [
       "                                journey_id  annotator         annotation  \\\n",
       "40    878553b4-5543-11ec-8511-9950cc15bf2f          1       I don't know   \n",
       "41    878553b4-5543-11ec-8511-9950cc15bf2f          2  Both are the same   \n",
       "70    2c013625-575b-11ec-8c14-d9c690d44ede          7  Both are the same   \n",
       "71    2c013625-575b-11ec-8c14-d9c690d44ede          5       I don't know   \n",
       "78    4cc903e4-5a6e-11ec-b347-e1e81d9998ac          2        They differ   \n",
       "...                                    ...        ...                ...   \n",
       "2638  c71c5880-54a6-11ec-87af-c565ea9421d1          3  Both are the same   \n",
       "2748  aa29f796-5b49-11ec-8b1f-0b356e20177a          2        They differ   \n",
       "2749  aa29f796-5b49-11ec-8b1f-0b356e20177a          2       I don't know   \n",
       "2783  c72b5d8c-5715-11ec-a4b8-d123064b4d18          6        They differ   \n",
       "2784  c72b5d8c-5715-11ec-a4b8-d123064b4d18          2       I don't know   \n",
       "\n",
       "                                        estimated_route  \\\n",
       "40    [[4.74041, -74.06221], [4.74046, -74.06242], [...   \n",
       "41    [[4.74041, -74.06221], [4.74046, -74.06242], [...   \n",
       "70    [[-33.58247, -70.6656], [-33.58263, -70.66485]...   \n",
       "71    [[-33.58247, -70.6656], [-33.58263, -70.66485]...   \n",
       "78    [[37.38101, -5.99355], [37.38104, -5.99367], [...   \n",
       "...                                                 ...   \n",
       "2638  [[40.421, -3.69817], [40.42076, -3.69825], [40...   \n",
       "2748  [[40.47382, -3.7051], [40.4738, -3.7051], [40....   \n",
       "2749  [[40.47382, -3.7051], [40.4738, -3.7051], [40....   \n",
       "2783  [[-12.11695, -77.01305], [-12.11699, -77.01305...   \n",
       "2784  [[-12.11695, -77.01305], [-12.11699, -77.01305...   \n",
       "\n",
       "                                             real_route  len_esti_route  \\\n",
       "40    [[4.740529, -74.062714], [4.74052, -74.062713]...             269   \n",
       "41    [[4.740529, -74.062714], [4.74052, -74.062713]...             269   \n",
       "70    [[-33.582379, -70.665998], [-33.582379, -70.66...             525   \n",
       "71    [[-33.582379, -70.665998], [-33.582379, -70.66...             525   \n",
       "78    [[37.381013, -5.995019], [37.380967, -5.994986...              85   \n",
       "...                                                 ...             ...   \n",
       "2638  [[40.42121, -3.698092], [40.421174, -3.698107]...             202   \n",
       "2748  [[40.473942, -3.705184], [40.473942, -3.705184...             669   \n",
       "2749  [[40.473942, -3.705184], [40.473942, -3.705184...             669   \n",
       "2783  [[-12.116924, -77.013106], [-12.116924, -77.01...             470   \n",
       "2784  [[-12.116924, -77.013106], [-12.116924, -77.01...             470   \n",
       "\n",
       "      len_real_route   area_m2  distance_real_r  distance_estimated_r  \\\n",
       "40               226  0.033052         7.102657              7.205445   \n",
       "41               226  0.033052         7.102657              7.205445   \n",
       "70               483  4.606501        22.257495             22.716509   \n",
       "71               483  4.606501        22.257495             22.716509   \n",
       "78               124  0.025773         2.914007              2.109641   \n",
       "...              ...       ...              ...                   ...   \n",
       "2638             136  0.002431         3.741188              3.414732   \n",
       "2748             108  0.992708         6.971135              7.517543   \n",
       "2749             108  0.992708         6.971135              7.517543   \n",
       "2783             354  0.254075        12.518621             12.424396   \n",
       "2784             354  0.254075        12.518621             12.424396   \n",
       "\n",
       "      difference_distances  \n",
       "40               -0.102788  \n",
       "41               -0.102788  \n",
       "70               -0.459014  \n",
       "71               -0.459014  \n",
       "78                0.804367  \n",
       "...                    ...  \n",
       "2638              0.326455  \n",
       "2748             -0.546409  \n",
       "2749             -0.546409  \n",
       "2783              0.094224  \n",
       "2784              0.094224  \n",
       "\n",
       "[118 rows x 11 columns]"
      ]
     },
     "execution_count": 428,
     "metadata": {},
     "output_type": "execute_result"
    }
   ],
   "source": [
    "df_different_annotations"
   ]
  },
  {
   "cell_type": "markdown",
   "id": "e05dc3c5",
   "metadata": {},
   "source": [
    "I dentify how many couples, trios and quartets are for the same journey id."
   ]
  },
  {
   "cell_type": "code",
   "execution_count": 440,
   "id": "fc606808",
   "metadata": {},
   "outputs": [
    {
     "data": {
      "image/png": "[encoded data removed]",
      "text/plain": [
       "<Figure size 700x300 with 1 Axes>"
      ]
     },
     "metadata": {},
     "output_type": "display_data"
    }
   ],
   "source": [
    "df_different_annotations.groupby('journey_id')['journey_id']\\\n",
    ".transform('count')\\\n",
    ".value_counts().plot.barh(figsize=(7,3))\n",
    "sns.set_palette(\"twilight\")"
   ]
  },
  {
   "cell_type": "markdown",
   "id": "c00f7cb6",
   "metadata": {},
   "source": [
    "So there are:\n",
    "\n",
    "- 182 registers that are couples\n",
    "- 30 that are trios\n",
    "- 4 that are quartets\n",
    "\n",
    "We need to unify all these to have the same target info for each journey, in order not to have noise data in our training dataset.\n",
    "\n",
    "I create the variable repetitions, that will be eliminate it once we solve this problem."
   ]
  },
  {
   "cell_type": "code",
   "execution_count": 441,
   "id": "39acb83c",
   "metadata": {},
   "outputs": [
    {
     "name": "stderr",
     "output_type": "stream",
     "text": [
      "C:\\Users\\110927\\AppData\\Local\\Temp\\ipykernel_18592\\119517437.py:1: SettingWithCopyWarning: \n",
      "A value is trying to be set on a copy of a slice from a DataFrame.\n",
      "Try using .loc[row_indexer,col_indexer] = value instead\n",
      "\n",
      "See the caveats in the documentation: https://pandas.pydata.org/pandas-docs/stable/user_guide/indexing.html#returning-a-view-versus-a-copy\n",
      "  df_different_annotations['repetitions']=df_different_annotations.\\\n"
     ]
    }
   ],
   "source": [
    "df_different_annotations['repetitions']=df_different_annotations.\\\n",
    "                                        groupby('journey_id')['journey_id'].\\\n",
    "                                            transform('count')"
   ]
  },
  {
   "cell_type": "markdown",
   "id": "c6051079",
   "metadata": {},
   "source": [
    "### Different annotation: Couples"
   ]
  },
  {
   "cell_type": "code",
   "execution_count": 437,
   "id": "30472859",
   "metadata": {},
   "outputs": [
    {
     "data": {
      "text/plain": [
       "I don't know         57\n",
       "They differ          38\n",
       "Both are the same    19\n",
       "Name: annotation, dtype: int64"
      ]
     },
     "execution_count": 437,
     "metadata": {},
     "output_type": "execute_result"
    }
   ],
   "source": [
    "df_different_annotations[df_different_annotations['repetitions']==2]['annotation'].value_counts()"
   ]
  },
  {
   "cell_type": "markdown",
   "id": "f58b9618",
   "metadata": {},
   "source": [
    "So there are 182 registers that are journey_id couples. \n",
    "\n",
    "Let's give credit to the annotators that have said something else from 'I don't know'. And eliminate those ones where annotators contradict eachother.\n",
    "\n",
    "So I will eliminate: 182-(57*2)=68 registers. They are the 2.2% (68/3027) of the total. For this demo is fine. Even though, let's remember they are couples, so the real percentage is 1.1%\n",
    "\n",
    "And I will change the value of annotation in 57 registers, to eliminate the value 'I don't know'.\n",
    "\n",
    "With these changes we are done for this part."
   ]
  },
  {
   "cell_type": "code",
   "execution_count": null,
   "id": "1e53897c",
   "metadata": {},
   "outputs": [],
   "source": [
    "df_diff_2= df_different_annotations[df_different_annotations['repetitions'] == 2]"
   ]
  },
  {
   "cell_type": "code",
   "execution_count": 352,
   "id": "f8976f3b",
   "metadata": {},
   "outputs": [],
   "source": [
    "df_to_delete=df_diff_2[~df_diff_2['journey_id'].isin(\n",
    "    df_diff_2[df_diff_2['annotation'] == \"I don't know\"]['journey_id'])]"
   ]
  },
  {
   "cell_type": "code",
   "execution_count": 433,
   "id": "0cde9776",
   "metadata": {},
   "outputs": [],
   "source": [
    "df.drop(df_diff_2[df_diff_2['annotation']==\"I don't know\"].index, inplace=True)"
   ]
  },
  {
   "cell_type": "code",
   "execution_count": 443,
   "id": "89cea377",
   "metadata": {},
   "outputs": [
    {
     "data": {
      "text/plain": [
       "They differ          1580\n",
       "Both are the same    1153\n",
       "I don't know          139\n",
       "Name: annotation, dtype: int64"
      ]
     },
     "execution_count": 443,
     "metadata": {},
     "output_type": "execute_result"
    }
   ],
   "source": [
    "df['annotation'].value_counts()"
   ]
  },
  {
   "cell_type": "code",
   "execution_count": 234,
   "id": "a8ed9c40",
   "metadata": {},
   "outputs": [
    {
     "data": {
      "text/html": [
       "<div>\n",
       "<style scoped>\n",
       "    .dataframe tbody tr th:only-of-type {\n",
       "        vertical-align: middle;\n",
       "    }\n",
       "\n",
       "    .dataframe tbody tr th {\n",
       "        vertical-align: top;\n",
       "    }\n",
       "\n",
       "    .dataframe thead th {\n",
       "        text-align: right;\n",
       "    }\n",
       "</style>\n",
       "<table border=\"1\" class=\"dataframe\">\n",
       "  <thead>\n",
       "    <tr style=\"text-align: right;\">\n",
       "      <th></th>\n",
       "      <th>journey_id</th>\n",
       "      <th>annotator</th>\n",
       "      <th>annotation</th>\n",
       "      <th>estimated_route</th>\n",
       "      <th>real_route</th>\n",
       "      <th>repettions</th>\n",
       "      <th>repetitions</th>\n",
       "    </tr>\n",
       "  </thead>\n",
       "  <tbody>\n",
       "    <tr>\n",
       "      <th>51</th>\n",
       "      <td>496b4bfd-5b07-11ec-9ab6-33834486a386</td>\n",
       "      <td>2</td>\n",
       "      <td>Both are the same</td>\n",
       "      <td>[[4.6664200000000005, -74.07931], [4.66641, -7...</td>\n",
       "      <td>[[4.666263, -74.079433], [4.666263, -74.079434...</td>\n",
       "      <td>2</td>\n",
       "      <td>2</td>\n",
       "    </tr>\n",
       "    <tr>\n",
       "      <th>52</th>\n",
       "      <td>496b4bfd-5b07-11ec-9ab6-33834486a386</td>\n",
       "      <td>2</td>\n",
       "      <td>They differ</td>\n",
       "      <td>[[4.6664200000000005, -74.07931], [4.66641, -7...</td>\n",
       "      <td>[[4.666263, -74.079433], [4.666263, -74.079434...</td>\n",
       "      <td>2</td>\n",
       "      <td>2</td>\n",
       "    </tr>\n",
       "  </tbody>\n",
       "</table>\n",
       "</div>"
      ],
      "text/plain": [
       "                              journey_id  annotator         annotation  \\\n",
       "51  496b4bfd-5b07-11ec-9ab6-33834486a386          2  Both are the same   \n",
       "52  496b4bfd-5b07-11ec-9ab6-33834486a386          2        They differ   \n",
       "\n",
       "                                      estimated_route  \\\n",
       "51  [[4.6664200000000005, -74.07931], [4.66641, -7...   \n",
       "52  [[4.6664200000000005, -74.07931], [4.66641, -7...   \n",
       "\n",
       "                                           real_route  repettions  repetitions  \n",
       "51  [[4.666263, -74.079433], [4.666263, -74.079434...           2            2  \n",
       "52  [[4.666263, -74.079433], [4.666263, -74.079434...           2            2  "
      ]
     },
     "execution_count": 234,
     "metadata": {},
     "output_type": "execute_result"
    }
   ],
   "source": [
    "df_to_delete.iloc[2:4]"
   ]
  },
  {
   "cell_type": "markdown",
   "id": "2fa1dee0",
   "metadata": {},
   "source": [
    "Let's draw a map to see how the differences are.\n",
    "\n",
    "I am gonna use folium for this purpouse. \n",
    "\n",
    "I selected one route I think is very explanatory."
   ]
  },
  {
   "cell_type": "code",
   "execution_count": 393,
   "id": "46d3a4e0",
   "metadata": {},
   "outputs": [],
   "source": [
    "def create_map(index, zoom):    \n",
    "    journey=df.loc[index]\n",
    "\n",
    "    map_center=journey['estimated_route'][round(len(journey['estimated_route'])/2)]\n",
    "    journey_map=folium.Map(location=map_center, zoom_start=zoom)\n",
    "    journey_estimated=journey['estimated_route']\n",
    "    journey_real=journey['real_route']\n",
    "\n",
    "    folium.PolyLine(journey_estimated, color='blue').add_to(journey_map)\n",
    "    folium.PolyLine(journey_real, color='red').add_to(journey_map)\n",
    "\n",
    "    return journey_map"
   ]
  },
  {
   "cell_type": "code",
   "execution_count": 481,
   "id": "da1fb7b6",
   "metadata": {},
   "outputs": [
    {
     "data": {
      "text/html": [
       "<div style=\"width:100%;\"><div style=\"position:relative;width:100%;height:0;padding-bottom:60%;\"><span style=\"color:#565656\">Make this Notebook Trusted to load map: File -> Trust Notebook</span><iframe srcdoc=\"&lt;!DOCTYPE html&gt;\n",
       "&lt;html&gt;\n",
       "&lt;head&gt;\n",
       "    \n",
       "    &lt;meta http-equiv=&quot;content-type&quot; content=&quot;text/html; charset=UTF-8&quot; /&gt;\n",
       "    \n",
       "        &lt;script&gt;\n",
       "            L_NO_TOUCH = false;\n",
       "            L_DISABLE_3D = false;\n",
       "        &lt;/script&gt;\n",
       "    \n",
       "    &lt;style&gt;html, body {width: 100%;height: 100%;margin: 0;padding: 0;}&lt;/style&gt;\n",
       "    &lt;style&gt;#map {position:absolute;top:0;bottom:0;right:0;left:0;}&lt;/style&gt;\n",
       "    &lt;script src=&quot;https://cdn.jsdelivr.net/npm/leaflet@1.9.3/dist/leaflet.js&quot;&gt;&lt;/script&gt;\n",
       "    &lt;script src=&quot;https://code.jquery.com/jquery-3.7.1.min.js&quot;&gt;&lt;/script&gt;\n",
       "    &lt;script src=&quot;https://cdn.jsdelivr.net/npm/bootstrap@5.2.2/dist/js/bootstrap.bundle.min.js&quot;&gt;&lt;/script&gt;\n",
       "    &lt;script src=&quot;https://cdnjs.cloudflare.com/ajax/libs/Leaflet.awesome-markers/2.0.2/leaflet.awesome-markers.js&quot;&gt;&lt;/script&gt;\n",
       "    &lt;link rel=&quot;stylesheet&quot; href=&quot;https://cdn.jsdelivr.net/npm/leaflet@1.9.3/dist/leaflet.css&quot;/&gt;\n",
       "    &lt;link rel=&quot;stylesheet&quot; href=&quot;https://cdn.jsdelivr.net/npm/bootstrap@5.2.2/dist/css/bootstrap.min.css&quot;/&gt;\n",
       "    &lt;link rel=&quot;stylesheet&quot; href=&quot;https://netdna.bootstrapcdn.com/bootstrap/3.0.0/css/bootstrap-glyphicons.css&quot;/&gt;\n",
       "    &lt;link rel=&quot;stylesheet&quot; href=&quot;https://cdn.jsdelivr.net/npm/@fortawesome/fontawesome-free@6.2.0/css/all.min.css&quot;/&gt;\n",
       "    &lt;link rel=&quot;stylesheet&quot; href=&quot;https://cdnjs.cloudflare.com/ajax/libs/Leaflet.awesome-markers/2.0.2/leaflet.awesome-markers.css&quot;/&gt;\n",
       "    &lt;link rel=&quot;stylesheet&quot; href=&quot;https://cdn.jsdelivr.net/gh/python-visualization/folium/folium/templates/leaflet.awesome.rotate.min.css&quot;/&gt;\n",
       "    \n",
       "            &lt;meta name=&quot;viewport&quot; content=&quot;width=device-width,\n",
       "                initial-scale=1.0, maximum-scale=1.0, user-scalable=no&quot; /&gt;\n",
       "            &lt;style&gt;\n",
       "                #map_33d0642fffe164090ef9d3905bb85587 {\n",
       "                    position: relative;\n",
       "                    width: 100.0%;\n",
       "                    height: 100.0%;\n",
       "                    left: 0.0%;\n",
       "                    top: 0.0%;\n",
       "                }\n",
       "                .leaflet-container { font-size: 1rem; }\n",
       "            &lt;/style&gt;\n",
       "        \n",
       "&lt;/head&gt;\n",
       "&lt;body&gt;\n",
       "    \n",
       "    \n",
       "            &lt;div class=&quot;folium-map&quot; id=&quot;map_33d0642fffe164090ef9d3905bb85587&quot; &gt;&lt;/div&gt;\n",
       "        \n",
       "&lt;/body&gt;\n",
       "&lt;script&gt;\n",
       "    \n",
       "    \n",
       "            var map_33d0642fffe164090ef9d3905bb85587 = L.map(\n",
       "                &quot;map_33d0642fffe164090ef9d3905bb85587&quot;,\n",
       "                {\n",
       "                    center: [40.41965, -3.66505],\n",
       "                    crs: L.CRS.EPSG3857,\n",
       "                    zoom: 14,\n",
       "                    zoomControl: true,\n",
       "                    preferCanvas: false,\n",
       "                }\n",
       "            );\n",
       "\n",
       "            \n",
       "\n",
       "        \n",
       "    \n",
       "            var tile_layer_d7cb7ce8cc1854b4c7a2034e5e1b3929 = L.tileLayer(\n",
       "                &quot;https://tile.openstreetmap.org/{z}/{x}/{y}.png&quot;,\n",
       "                {&quot;attribution&quot;: &quot;\\u0026copy; \\u003ca href=\\&quot;https://www.openstreetmap.org/copyright\\&quot;\\u003eOpenStreetMap\\u003c/a\\u003e contributors&quot;, &quot;detectRetina&quot;: false, &quot;maxNativeZoom&quot;: 19, &quot;maxZoom&quot;: 19, &quot;minZoom&quot;: 0, &quot;noWrap&quot;: false, &quot;opacity&quot;: 1, &quot;subdomains&quot;: &quot;abc&quot;, &quot;tms&quot;: false}\n",
       "            );\n",
       "        \n",
       "    \n",
       "            tile_layer_d7cb7ce8cc1854b4c7a2034e5e1b3929.addTo(map_33d0642fffe164090ef9d3905bb85587);\n",
       "        \n",
       "    \n",
       "            var poly_line_8dc5f9c0a8c70e6f576906bce358d72a = L.polyline(\n",
       "                [[40.42029, -3.6884], [40.42029, -3.68842], [40.4203, -3.68845], [40.42032, -3.68848], [40.42033, -3.68852], [40.42034, -3.68856], [40.42035, -3.68859], [40.42035, -3.6886200000000002], [40.42036, -3.68866], [40.42036, -3.6887], [40.42036, -3.68875], [40.42036, -3.68879], [40.42035, -3.68881], [40.42035, -3.68884], [40.42034, -3.68888], [40.42033, -3.68891], [40.42032, -3.68894], [40.4203, -3.6889700000000003], [40.42029, -3.68901], [40.42027, -3.6890400000000003], [40.42025, -3.68907], [40.42024, -3.68909], [40.42023, -3.6891100000000003], [40.4202, -3.68914], [40.42016, -3.68917], [40.42015, -3.68917], [40.42012, -3.68919], [40.42011, -3.6892], [40.42009, -3.6892], [40.42008, -3.68921], [40.42006, -3.68921], [40.42002, -3.68922], [40.42, -3.68922], [40.41997, -3.68922], [40.41994, -3.68922], [40.41992, -3.68921], [40.41989, -3.6892], [40.41986, -3.68919], [40.41984, -3.68918], [40.41981, -3.68916], [40.41978, -3.68914], [40.41975, -3.6891100000000003], [40.41973, -3.68907], [40.4197, -3.6890400000000003], [40.41968, -3.689], [40.41965, -3.68896], [40.41963, -3.68892], [40.41962, -3.68887], [40.41961, -3.68884], [40.41961, -3.68882], [40.4196, -3.68879], [40.4196, -3.6887600000000003], [40.4196, -3.68873], [40.4196, -3.6887], [40.41961, -3.68867], [40.41961, -3.68864], [40.41962, -3.6886200000000002], [40.41964, -3.68857], [40.41965, -3.68854], [40.41966, -3.68851], [40.41969, -3.68847], [40.4197, -3.68844], [40.41972, -3.68841], [40.41974, -3.68839], [40.41975, -3.68838], [40.41977, -3.68835], [40.41979, -3.68833], [40.4198, -3.68832], [40.41991, -3.6882200000000003], [40.41991, -3.6882200000000003], [40.41995, -3.68818], [40.41998, -3.6881500000000003], [40.41999, -3.68813], [40.42001, -3.68811], [40.42002, -3.6880800000000002], [40.42003, -3.68805], [40.42004, -3.68802], [40.42005, -3.68799], [40.42005, -3.68797], [40.42006, -3.68793], [40.42021, -3.68724], [40.42044, -3.6861800000000002], [40.42051, -3.68587], [40.42068, -3.68508], [40.4207, -3.68497], [40.42073, -3.68486], [40.42073, -3.6848], [40.42073, -3.68476], [40.42074, -3.68472], [40.42075, -3.68465], [40.42077, -3.68457], [40.42086, -3.68411], [40.42091, -3.6838800000000003], [40.42091, -3.6838800000000003], [40.42094, -3.68368], [40.42094, -3.68368], [40.42098, -3.68361], [40.421, -3.68356], [40.42101, -3.6835], [40.42103, -3.68342], [40.42105, -3.68333], [40.42107, -3.68318], [40.4211, -3.68301], [40.42113, -3.68285], [40.42114, -3.68278], [40.42121, -3.68239], [40.42129, -3.68197], [40.42132, -3.6818400000000002], [40.42142, -3.68129], [40.42152, -3.68073], [40.42161, -3.68027], [40.42165, -3.68004], [40.42167, -3.6798900000000003], [40.42168, -3.67981], [40.42171, -3.67959], [40.42171, -3.67958], [40.42171, -3.67944], [40.42171, -3.67935], [40.42171, -3.67934], [40.42169, -3.67896], [40.42168, -3.67887], [40.42167, -3.67866], [40.42166, -3.6784], [40.42165, -3.67816], [40.42164, -3.67793], [40.42163, -3.67769], [40.42162, -3.67746], [40.4216, -3.67699], [40.42156, -3.67628], [40.42155, -3.67604], [40.42155, -3.67601], [40.42154, -3.67584], [40.42152, -3.67533], [40.42151, -3.6751], [40.4215, -3.67486], [40.42149, -3.67467], [40.42148, -3.67439], [40.42148, -3.67438], [40.42147, -3.67416], [40.42146, -3.67392], [40.42144, -3.67345], [40.42143, -3.67328], [40.42143, -3.67321], [40.42142, -3.67298], [40.4214, -3.67274], [40.42139, -3.6725], [40.42138, -3.67227], [40.42136, -3.6718], [40.42133, -3.6712100000000003], [40.4213, -3.67074], [40.4213, -3.67056], [40.42129, -3.67051], [40.42127, -3.67004], [40.42126, -3.6698], [40.42125, -3.66956], [40.42123, -3.66933], [40.42123, -3.66926], [40.42123, -3.66918], [40.42121, -3.66907], [40.42121, -3.66904], [40.42119, -3.66897], [40.42116, -3.66882], [40.42114, -3.66876], [40.42108, -3.66859], [40.42107, -3.66855], [40.42101, -3.66836], [40.42101, -3.66833], [40.42096, -3.6681600000000003], [40.42095, -3.66811], [40.42091, -3.66797], [40.42089, -3.6678800000000003], [40.42083, -3.66769], [40.42078, -3.66745], [40.42072, -3.66722], [40.42067, -3.66698], [40.42062, -3.66679], [40.42056, -3.66653], [40.4205, -3.66629], [40.42046, -3.66617], [40.4204, -3.6660500000000003], [40.42031, -3.6657200000000003], [40.42025, -3.66549], [40.4202, -3.66527], [40.42018, -3.6651800000000003], [40.42013, -3.665], [40.42012, -3.66496], [40.42007, -3.66473], [40.42005, -3.66465], [40.42003, -3.6645700000000003], [40.42003, -3.6645700000000003], [40.42, -3.66456], [40.41999, -3.66455], [40.41997, -3.66454], [40.41996, -3.66451], [40.41993, -3.66445], [40.41989, -3.6644], [40.41985, -3.66434], [40.4198, -3.6642900000000003], [40.41977, -3.66427], [40.41973, -3.66426], [40.41969, -3.66424], [40.41965, -3.66424], [40.41963, -3.66424], [40.41959, -3.66425], [40.41951, -3.66426], [40.41952, -3.6642900000000003], [40.41951, -3.6643], [40.41951, -3.66431], [40.41951, -3.66432], [40.41951, -3.66433], [40.41947, -3.66437], [40.41944, -3.66441], [40.41943, -3.66444], [40.41941, -3.66448], [40.4194, -3.66451], [40.41939, -3.66454], [40.41938, -3.66458], [40.41937, -3.66466], [40.41939, -3.66477], [40.41939, -3.66478], [40.41943, -3.66485], [40.41949, -3.66493], [40.41954, -3.66498], [40.4196, -3.66502], [40.41965, -3.66505], [40.41967, -3.66506], [40.41969, -3.66507], [40.41971, -3.66508], [40.41976, -3.6651100000000003], [40.41976, -3.6651100000000003], [40.41989, -3.66506], [40.41996, -3.66503], [40.42001, -3.66501], [40.42003, -3.665], [40.42004, -3.66499], [40.42039, -3.66485], [40.42044, -3.66481], [40.42053, -3.66475], [40.42057, -3.66472], [40.42057, -3.66471], [40.42063, -3.66466], [40.42068, -3.6646], [40.42072, -3.66454], [40.42078, -3.6644300000000003], [40.42085, -3.66427], [40.42091, -3.6641], [40.42095, -3.66398], [40.42098, -3.66386], [40.42102, -3.66373], [40.42116, -3.66303], [40.42124, -3.66257], [40.42129, -3.6623200000000002], [40.42131, -3.66219], [40.42133, -3.66208], [40.42135, -3.66191], [40.42137, -3.66183], [40.42137, -3.66176], [40.42138, -3.66169], [40.42139, -3.6616], [40.42139, -3.66156], [40.4214, -3.66137], [40.42141, -3.6611700000000003], [40.42141, -3.66106], [40.42142, -3.66041], [40.42142, -3.66029], [40.42143, -3.65958], [40.42143, -3.65949], [40.42143, -3.65938], [40.42143, -3.65937], [40.42143, -3.65921], [40.42143, -3.6592000000000002], [40.42143, -3.65911], [40.42144, -3.65909], [40.42144, -3.65897], [40.42144, -3.65896], [40.42144, -3.65895], [40.42144, -3.65876], [40.42144, -3.65875], [40.42144, -3.65861], [40.42144, -3.65848], [40.42145, -3.65832], [40.42146, -3.6582], [40.42147, -3.6581200000000003], [40.42149, -3.65802], [40.42152, -3.65791], [40.42154, -3.65782], [40.42156, -3.65775], [40.42158, -3.65769], [40.42159, -3.65766], [40.42162, -3.65757], [40.42165, -3.65749], [40.42172, -3.65736], [40.42179, -3.65723], [40.42183, -3.65715], [40.42193, -3.65701], [40.42199, -3.65693], [40.42206, -3.65684], [40.42213, -3.65673], [40.42229, -3.65651], [40.42237, -3.6564], [40.42237, -3.6564], [40.42236, -3.65639], [40.42236, -3.65638], [40.42236, -3.65637], [40.42236, -3.6563600000000003], [40.42236, -3.65635], [40.42236, -3.65634], [40.42237, -3.65633], [40.42237, -3.65632], [40.42237, -3.65631], [40.42237, -3.6563], [40.42238, -3.6563], [40.42238, -3.6562900000000003], [40.42238, -3.65628], [40.42239, -3.65627], [40.4224, -3.65626], [40.4224, -3.65624], [40.42241, -3.65624], [40.42242, -3.65623], [40.42242, -3.6562200000000002], [40.42243, -3.65621], [40.42244, -3.65621], [40.42244, -3.6562], [40.42245, -3.65619], [40.42246, -3.65619], [40.42246, -3.65618], [40.42247, -3.65618], [40.42248, -3.65617], [40.42249, -3.65617], [40.4225, -3.65617], [40.42251, -3.65616], [40.42252, -3.65616], [40.42253, -3.65616], [40.42256, -3.65617], [40.42262, -3.6561], [40.42266, -3.65607], [40.42269, -3.65603], [40.42269, -3.65602], [40.42311, -3.65545], [40.42322, -3.65531], [40.42327, -3.65523], [40.42334, -3.65512], [40.42345, -3.65496], [40.42351, -3.65487], [40.42358, -3.65478], [40.42372, -3.65458], [40.42381, -3.65445], [40.42395, -3.65424], [40.42417, -3.65395], [40.42445, -3.65355], [40.4245, -3.65348], [40.42473, -3.65316], [40.42495, -3.65286], [40.42503, -3.65276], [40.42512, -3.65264], [40.42516, -3.65258], [40.42522, -3.65252], [40.42532, -3.65237], [40.42538, -3.65229], [40.42546, -3.65218], [40.42548, -3.65215], [40.42583, -3.65166], [40.42596, -3.65149], [40.42659, -3.65065], [40.42667, -3.65053], [40.42676, -3.65038], [40.4268, -3.6503], [40.4268, -3.6503], [40.42682, -3.65006], [40.42683, -3.65002], [40.42684, -3.64997], [40.42685, -3.64991], [40.42689, -3.64976], [40.42692, -3.64963], [40.42696, -3.64945], [40.42698, -3.64938], [40.427, -3.64929], [40.42701, -3.64924], [40.42702, -3.6492], [40.42705, -3.64912], [40.42707, -3.649], [40.42708, -3.64891], [40.42712, -3.64862], [40.42713, -3.64859], [40.42715, -3.6483600000000003], [40.42717, -3.64825], [40.42718, -3.64807], [40.42717, -3.64802], [40.42717, -3.64801], [40.42718, -3.6479], [40.42714, -3.64765], [40.42714, -3.64765], [40.42713, -3.64765], [40.42712, -3.64764], [40.42711, -3.64763], [40.4271, -3.64762], [40.42709, -3.6476100000000002], [40.42708, -3.64757], [40.42706, -3.6475400000000002], [40.42705, -3.6475], [40.42703, -3.64747], [40.42703, -3.64743], [40.42702, -3.64738], [40.42702, -3.64734], [40.42702, -3.6473], [40.42703, -3.64729], [40.42703, -3.6472800000000003], [40.42703, -3.64727], [40.42703, -3.64726], [40.42703, -3.64725], [40.42704, -3.64724], [40.42704, -3.64723], [40.42704, -3.64722], [40.42705, -3.6472100000000003], [40.42706, -3.6471999999999998], [40.42706, -3.64719], [40.42707, -3.64717], [40.42708, -3.64716], [40.42709, -3.64715], [40.4271, -3.6471400000000003], [40.42711, -3.64713], [40.42712, -3.64712], [40.42713, -3.64711], [40.42715, -3.6471], [40.42716, -3.64709], [40.42718, -3.64708], [40.42719, -3.6470700000000003], [40.42721, -3.64706], [40.42722, -3.64706], [40.42729, -3.64705], [40.4273, -3.64699], [40.42731, -3.64696], [40.42732, -3.64694], [40.42733, -3.64694], [40.42734, -3.6469300000000002], [40.42739, -3.6469], [40.42749, -3.64682], [40.42762, -3.64673], [40.42775, -3.64664], [40.42782, -3.6465899999999998], [40.42791, -3.64655], [40.42795, -3.64655], [40.42798, -3.64655], [40.42801, -3.64655], [40.42804, -3.64656], [40.42817, -3.64658], [40.42841, -3.64664], [40.42841, -3.64664], [40.42836, -3.64704]],\n",
       "                {&quot;bubblingMouseEvents&quot;: true, &quot;color&quot;: &quot;blue&quot;, &quot;dashArray&quot;: null, &quot;dashOffset&quot;: null, &quot;fill&quot;: false, &quot;fillColor&quot;: &quot;blue&quot;, &quot;fillOpacity&quot;: 0.2, &quot;fillRule&quot;: &quot;evenodd&quot;, &quot;lineCap&quot;: &quot;round&quot;, &quot;lineJoin&quot;: &quot;round&quot;, &quot;noClip&quot;: false, &quot;opacity&quot;: 1.0, &quot;smoothFactor&quot;: 1.0, &quot;stroke&quot;: true, &quot;weight&quot;: 3}\n",
       "            ).addTo(map_33d0642fffe164090ef9d3905bb85587);\n",
       "        \n",
       "    \n",
       "            var poly_line_07d66a9d140202db2995d254a35b138e = L.polyline(\n",
       "                [[40.419671, -3.688215], [40.419671, -3.688215], [40.419671, -3.688215], [40.419671, -3.688215], [40.419671, -3.688215], [40.419674, -3.688205], [40.419783, -3.68814], [40.419947, -3.688104], [40.420014, -3.688085], [40.420167, -3.687656], [40.420271, -3.687137], [40.420457, -3.68619], [40.420638, -3.685291], [40.420754, -3.684697], [40.420927, -3.683888], [40.421086, -3.683105], [40.421168, -3.6825859999999997], [40.421243, -3.682208], [40.421243, -3.682208], [40.421243, -3.682208], [40.421243, -3.682208], [40.421243, -3.682208], [40.421243, -3.682208], [40.421243, -3.682208], [40.421243, -3.682208], [40.421243, -3.682208], [40.421243, -3.682208], [40.421243, -3.682208], [40.421243, -3.682208], [40.421243, -3.682208], [40.421243, -3.682208], [40.421243, -3.682208], [40.421243, -3.682208], [40.421243, -3.682208], [40.421243, -3.682208], [40.421243, -3.682208], [40.419428, -3.664913], [40.41965, -3.665081], [40.420282, -3.66491], [40.420655, -3.664675], [40.421006, -3.663872], [40.421174, -3.663027], [40.421278, -3.662405], [40.42134, -3.662046], [40.421377, -3.661758], [40.42138, -3.66177], [40.42138, -3.66177], [40.42138, -3.66177], [40.42138, -3.66177], [40.42138, -3.66177], [40.42139, -3.661494], [40.421425, -3.660605], [40.421442, -3.659637], [40.421451, -3.659078], [40.421486, -3.6580690000000002], [40.421684, -3.657446], [40.422255, -3.656593], [40.422269, -3.656559], [40.422269, -3.656559], [40.422269, -3.656559], [40.422269, -3.656559], [40.422281, -3.656533], [40.422475, -3.656226], [40.422774, -3.655944], [40.42311, -3.655455], [40.423525, -3.654864], [40.423837, -3.6544600000000003], [40.424331, -3.653801], [40.424654, -3.653371], [40.425034, -3.652828], [40.425221, -3.65257], [40.425344, -3.652377], [40.425667, -3.651926], [40.425804, -3.651749], [40.425832, -3.6517], [40.425832, -3.6517], [40.425832, -3.6517], [40.425832, -3.6517], [40.425832, -3.6517], [40.425832, -3.6517], [40.42585, -3.651678], [40.426002, -3.651472], [40.426348, -3.6509650000000002], [40.426713, -3.650452], [40.427101, -3.6499800000000002], [40.427491, -3.649563], [40.427855, -3.649272], [40.428123, -3.649078], [40.428395, -3.6488680000000002], [40.428395, -3.648589], [40.428284, -3.648346], [40.42812, -3.647995], [40.427941, -3.647604], [40.427901, -3.647494], [40.427926, -3.6471869999999997], [40.427952, -3.646679], [40.427991, -3.646535], [40.42824, -3.646555], [40.42836, -3.64657], [40.428408, -3.646629], [40.428399, -3.646757], [40.428337, -3.646984], [40.428334, -3.647154], [40.428351, -3.647248], [40.428349, -3.647329], [40.428349, -3.64733], [40.428349, -3.64733]],\n",
       "                {&quot;bubblingMouseEvents&quot;: true, &quot;color&quot;: &quot;red&quot;, &quot;dashArray&quot;: null, &quot;dashOffset&quot;: null, &quot;fill&quot;: false, &quot;fillColor&quot;: &quot;red&quot;, &quot;fillOpacity&quot;: 0.2, &quot;fillRule&quot;: &quot;evenodd&quot;, &quot;lineCap&quot;: &quot;round&quot;, &quot;lineJoin&quot;: &quot;round&quot;, &quot;noClip&quot;: false, &quot;opacity&quot;: 1.0, &quot;smoothFactor&quot;: 1.0, &quot;stroke&quot;: true, &quot;weight&quot;: 3}\n",
       "            ).addTo(map_33d0642fffe164090ef9d3905bb85587);\n",
       "        \n",
       "&lt;/script&gt;\n",
       "&lt;/html&gt;\" style=\"position:absolute;width:100%;height:100%;left:0;top:0;border:none !important;\" allowfullscreen webkitallowfullscreen mozallowfullscreen></iframe></div></div>"
      ],
      "text/plain": [
       "<folium.folium.Map at 0x2bc018ebf70>"
      ]
     },
     "execution_count": 481,
     "metadata": {},
     "output_type": "execute_result"
    }
   ],
   "source": [
    "create_map(65, 14)"
   ]
  },
  {
   "cell_type": "markdown",
   "id": "ed3320fc",
   "metadata": {},
   "source": [
    "They are very similar. In my opinion this is not the same route. But for now with the resources and time available, I decide to keep with our previous decision of eliminating these registers.\n",
    "\n",
    "Also, we do not know the instructions the annotators received. We would have to ask the business team encharge of this topic to understand how the annotations were made."
   ]
  },
  {
   "cell_type": "markdown",
   "id": "5884335d",
   "metadata": {},
   "source": [
    "### Different annotation: Trios and quartets"
   ]
  },
  {
   "cell_type": "code",
   "execution_count": 354,
   "id": "2fde74b6",
   "metadata": {},
   "outputs": [],
   "source": [
    "df_diff_3= df_different_annotations[df_different_annotations['repetitions'] == 3]\n",
    "df_diff_4= df_different_annotations[df_different_annotations['repetitions'] == 4]"
   ]
  },
  {
   "cell_type": "markdown",
   "id": "8a9d78ba",
   "metadata": {},
   "source": [
    "For the quartet I am going to set all of them as 'Both are the same'"
   ]
  },
  {
   "cell_type": "code",
   "execution_count": 355,
   "id": "c90662bf",
   "metadata": {},
   "outputs": [
    {
     "data": {
      "text/html": [
       "<div>\n",
       "<style scoped>\n",
       "    .dataframe tbody tr th:only-of-type {\n",
       "        vertical-align: middle;\n",
       "    }\n",
       "\n",
       "    .dataframe tbody tr th {\n",
       "        vertical-align: top;\n",
       "    }\n",
       "\n",
       "    .dataframe thead th {\n",
       "        text-align: right;\n",
       "    }\n",
       "</style>\n",
       "<table border=\"1\" class=\"dataframe\">\n",
       "  <thead>\n",
       "    <tr style=\"text-align: right;\">\n",
       "      <th></th>\n",
       "      <th>journey_id</th>\n",
       "      <th>annotator</th>\n",
       "      <th>annotation</th>\n",
       "      <th>estimated_route</th>\n",
       "      <th>real_route</th>\n",
       "      <th>repettions</th>\n",
       "      <th>repetitions</th>\n",
       "    </tr>\n",
       "  </thead>\n",
       "  <tbody>\n",
       "    <tr>\n",
       "      <th>1192</th>\n",
       "      <td>b3df0630-54a3-11ec-b344-ab8c7bd1aa5c</td>\n",
       "      <td>7</td>\n",
       "      <td>Both are the same</td>\n",
       "      <td>[[-12.12779, -77.0133], [-12.12772, -77.01375]...</td>\n",
       "      <td>[[-12.127787, -77.013175], [-12.127778, -77.01...</td>\n",
       "      <td>4</td>\n",
       "      <td>4</td>\n",
       "    </tr>\n",
       "    <tr>\n",
       "      <th>1193</th>\n",
       "      <td>b3df0630-54a3-11ec-b344-ab8c7bd1aa5c</td>\n",
       "      <td>6</td>\n",
       "      <td>They differ</td>\n",
       "      <td>[[-12.12779, -77.0133], [-12.12772, -77.01375]...</td>\n",
       "      <td>[[-12.127787, -77.013175], [-12.127778, -77.01...</td>\n",
       "      <td>4</td>\n",
       "      <td>4</td>\n",
       "    </tr>\n",
       "    <tr>\n",
       "      <th>1194</th>\n",
       "      <td>b3df0630-54a3-11ec-b344-ab8c7bd1aa5c</td>\n",
       "      <td>4</td>\n",
       "      <td>Both are the same</td>\n",
       "      <td>[[-12.12779, -77.0133], [-12.12772, -77.01375]...</td>\n",
       "      <td>[[-12.127787, -77.013175], [-12.127778, -77.01...</td>\n",
       "      <td>4</td>\n",
       "      <td>4</td>\n",
       "    </tr>\n",
       "    <tr>\n",
       "      <th>1195</th>\n",
       "      <td>b3df0630-54a3-11ec-b344-ab8c7bd1aa5c</td>\n",
       "      <td>2</td>\n",
       "      <td>Both are the same</td>\n",
       "      <td>[[-12.12779, -77.0133], [-12.12772, -77.01375]...</td>\n",
       "      <td>[[-12.127787, -77.013175], [-12.127778, -77.01...</td>\n",
       "      <td>4</td>\n",
       "      <td>4</td>\n",
       "    </tr>\n",
       "  </tbody>\n",
       "</table>\n",
       "</div>"
      ],
      "text/plain": [
       "                                journey_id  annotator         annotation  \\\n",
       "1192  b3df0630-54a3-11ec-b344-ab8c7bd1aa5c          7  Both are the same   \n",
       "1193  b3df0630-54a3-11ec-b344-ab8c7bd1aa5c          6        They differ   \n",
       "1194  b3df0630-54a3-11ec-b344-ab8c7bd1aa5c          4  Both are the same   \n",
       "1195  b3df0630-54a3-11ec-b344-ab8c7bd1aa5c          2  Both are the same   \n",
       "\n",
       "                                        estimated_route  \\\n",
       "1192  [[-12.12779, -77.0133], [-12.12772, -77.01375]...   \n",
       "1193  [[-12.12779, -77.0133], [-12.12772, -77.01375]...   \n",
       "1194  [[-12.12779, -77.0133], [-12.12772, -77.01375]...   \n",
       "1195  [[-12.12779, -77.0133], [-12.12772, -77.01375]...   \n",
       "\n",
       "                                             real_route  repettions  \\\n",
       "1192  [[-12.127787, -77.013175], [-12.127778, -77.01...           4   \n",
       "1193  [[-12.127787, -77.013175], [-12.127778, -77.01...           4   \n",
       "1194  [[-12.127787, -77.013175], [-12.127778, -77.01...           4   \n",
       "1195  [[-12.127787, -77.013175], [-12.127778, -77.01...           4   \n",
       "\n",
       "      repetitions  \n",
       "1192            4  \n",
       "1193            4  \n",
       "1194            4  \n",
       "1195            4  "
      ]
     },
     "execution_count": 355,
     "metadata": {},
     "output_type": "execute_result"
    }
   ],
   "source": [
    "df_diff_4"
   ]
  },
  {
   "cell_type": "code",
   "execution_count": 363,
   "id": "1a6c9353",
   "metadata": {},
   "outputs": [
    {
     "name": "stderr",
     "output_type": "stream",
     "text": [
      "C:\\Users\\110927\\AppData\\Local\\Temp\\ipykernel_18592\\2187511729.py:1: SettingWithCopyWarning: \n",
      "A value is trying to be set on a copy of a slice from a DataFrame.\n",
      "Try using .loc[row_indexer,col_indexer] = value instead\n",
      "\n",
      "See the caveats in the documentation: https://pandas.pydata.org/pandas-docs/stable/user_guide/indexing.html#returning-a-view-versus-a-copy\n",
      "  df.iloc[df_diff_4.index]['annotation']='Both are the same'\n"
     ]
    }
   ],
   "source": [
    "df.iloc[df_diff_4.index]['annotation']='Both are the same'"
   ]
  },
  {
   "cell_type": "markdown",
   "id": "23b86348",
   "metadata": {},
   "source": [
    "For the trios, I am going to get a list and see how they are distributed, unstacking them, and showing them in terms of the annotation received."
   ]
  },
  {
   "cell_type": "code",
   "execution_count": 240,
   "id": "a2c0ba4e",
   "metadata": {},
   "outputs": [
    {
     "data": {
      "text/html": [
       "<div>\n",
       "<style scoped>\n",
       "    .dataframe tbody tr th:only-of-type {\n",
       "        vertical-align: middle;\n",
       "    }\n",
       "\n",
       "    .dataframe tbody tr th {\n",
       "        vertical-align: top;\n",
       "    }\n",
       "\n",
       "    .dataframe thead th {\n",
       "        text-align: right;\n",
       "    }\n",
       "</style>\n",
       "<table border=\"1\" class=\"dataframe\">\n",
       "  <thead>\n",
       "    <tr style=\"text-align: right;\">\n",
       "      <th>annotation</th>\n",
       "      <th>Both are the same</th>\n",
       "      <th>I don't know</th>\n",
       "      <th>They differ</th>\n",
       "    </tr>\n",
       "    <tr>\n",
       "      <th>journey_id</th>\n",
       "      <th></th>\n",
       "      <th></th>\n",
       "      <th></th>\n",
       "    </tr>\n",
       "  </thead>\n",
       "  <tbody>\n",
       "    <tr>\n",
       "      <th>96320f6c-5a46-11ec-a66a-8d299b2f33d0</th>\n",
       "      <td>0</td>\n",
       "      <td>1</td>\n",
       "      <td>2</td>\n",
       "    </tr>\n",
       "    <tr>\n",
       "      <th>bfab656a-5c07-11ec-9739-f17d0371a7fa</th>\n",
       "      <td>0</td>\n",
       "      <td>1</td>\n",
       "      <td>2</td>\n",
       "    </tr>\n",
       "    <tr>\n",
       "      <th>d1d39664-5436-11ec-8369-e9c18ab4dae7</th>\n",
       "      <td>0</td>\n",
       "      <td>1</td>\n",
       "      <td>2</td>\n",
       "    </tr>\n",
       "    <tr>\n",
       "      <th>e1f245d0-5711-11ec-875a-2f4d7245bfe0</th>\n",
       "      <td>0</td>\n",
       "      <td>2</td>\n",
       "      <td>1</td>\n",
       "    </tr>\n",
       "    <tr>\n",
       "      <th>24e2a579-5ae0-11ec-8632-7da3475d8ea0</th>\n",
       "      <td>1</td>\n",
       "      <td>1</td>\n",
       "      <td>1</td>\n",
       "    </tr>\n",
       "    <tr>\n",
       "      <th>34c8ba45-5aa0-11ec-b771-1768151b4934</th>\n",
       "      <td>1</td>\n",
       "      <td>1</td>\n",
       "      <td>1</td>\n",
       "    </tr>\n",
       "    <tr>\n",
       "      <th>4f8359a7-5749-11ec-abf8-9b82da5f65c0</th>\n",
       "      <td>1</td>\n",
       "      <td>0</td>\n",
       "      <td>2</td>\n",
       "    </tr>\n",
       "    <tr>\n",
       "      <th>e36bf96c-59f0-11ec-acdb-093843ba27e7</th>\n",
       "      <td>1</td>\n",
       "      <td>1</td>\n",
       "      <td>1</td>\n",
       "    </tr>\n",
       "    <tr>\n",
       "      <th>a629ccf4-56fb-11ec-9f3b-97958b4887d3</th>\n",
       "      <td>2</td>\n",
       "      <td>1</td>\n",
       "      <td>0</td>\n",
       "    </tr>\n",
       "    <tr>\n",
       "      <th>b7e77264-5625-11ec-a319-eb5904dfc034</th>\n",
       "      <td>2</td>\n",
       "      <td>0</td>\n",
       "      <td>1</td>\n",
       "    </tr>\n",
       "  </tbody>\n",
       "</table>\n",
       "</div>"
      ],
      "text/plain": [
       "annotation                            Both are the same  I don't know  \\\n",
       "journey_id                                                              \n",
       "96320f6c-5a46-11ec-a66a-8d299b2f33d0                  0             1   \n",
       "bfab656a-5c07-11ec-9739-f17d0371a7fa                  0             1   \n",
       "d1d39664-5436-11ec-8369-e9c18ab4dae7                  0             1   \n",
       "e1f245d0-5711-11ec-875a-2f4d7245bfe0                  0             2   \n",
       "24e2a579-5ae0-11ec-8632-7da3475d8ea0                  1             1   \n",
       "34c8ba45-5aa0-11ec-b771-1768151b4934                  1             1   \n",
       "4f8359a7-5749-11ec-abf8-9b82da5f65c0                  1             0   \n",
       "e36bf96c-59f0-11ec-acdb-093843ba27e7                  1             1   \n",
       "a629ccf4-56fb-11ec-9f3b-97958b4887d3                  2             1   \n",
       "b7e77264-5625-11ec-a319-eb5904dfc034                  2             0   \n",
       "\n",
       "annotation                            They differ  \n",
       "journey_id                                         \n",
       "96320f6c-5a46-11ec-a66a-8d299b2f33d0            2  \n",
       "bfab656a-5c07-11ec-9739-f17d0371a7fa            2  \n",
       "d1d39664-5436-11ec-8369-e9c18ab4dae7            2  \n",
       "e1f245d0-5711-11ec-875a-2f4d7245bfe0            1  \n",
       "24e2a579-5ae0-11ec-8632-7da3475d8ea0            1  \n",
       "34c8ba45-5aa0-11ec-b771-1768151b4934            1  \n",
       "4f8359a7-5749-11ec-abf8-9b82da5f65c0            2  \n",
       "e36bf96c-59f0-11ec-acdb-093843ba27e7            1  \n",
       "a629ccf4-56fb-11ec-9f3b-97958b4887d3            0  \n",
       "b7e77264-5625-11ec-a319-eb5904dfc034            1  "
      ]
     },
     "execution_count": 240,
     "metadata": {},
     "output_type": "execute_result"
    }
   ],
   "source": [
    "df_diff_3.groupby('journey_id')['annotation']\\\n",
    ".value_counts().unstack(fill_value=0)\\\n",
    ".sort_values(by='Both are the same')"
   ]
  },
  {
   "cell_type": "markdown",
   "id": "96ebd857",
   "metadata": {},
   "source": [
    "As you can see, there is no relation between them. So, in order not to lose much time with this, I am going to get rid of all of them. In a real case this should not be do it like this, if we want to reach a great performance from the model. But in my case, as I said, I have limited time, and I think is better to invest it in explaining the reasons why I do the actions I take. "
   ]
  },
  {
   "cell_type": "markdown",
   "id": "9d9a482e",
   "metadata": {},
   "source": [
    "In summary they will be 68 from the previous one, and 30 from this one, 98 in total."
   ]
  },
  {
   "cell_type": "code",
   "execution_count": 357,
   "id": "c2241745",
   "metadata": {},
   "outputs": [],
   "source": [
    "df_to_delete = pd.concat([df_to_delete, df_diff_3], axis=0)"
   ]
  },
  {
   "cell_type": "code",
   "execution_count": 366,
   "id": "4c8952fa",
   "metadata": {},
   "outputs": [],
   "source": [
    "df=df.drop(df_to_delete.index)"
   ]
  },
  {
   "cell_type": "code",
   "execution_count": 368,
   "id": "2114b46c",
   "metadata": {},
   "outputs": [
    {
     "data": {
      "text/plain": [
       "(2929, 8)"
      ]
     },
     "execution_count": 368,
     "metadata": {},
     "output_type": "execute_result"
    }
   ],
   "source": [
    "df.shape"
   ]
  },
  {
   "cell_type": "markdown",
   "id": "9eef2687",
   "metadata": {},
   "source": [
    "I check the change has been made succesfully:"
   ]
  },
  {
   "cell_type": "code",
   "execution_count": 369,
   "id": "cb098191",
   "metadata": {},
   "outputs": [
    {
     "data": {
      "text/plain": [
       "2929"
      ]
     },
     "execution_count": 369,
     "metadata": {},
     "output_type": "execute_result"
    }
   ],
   "source": [
    "3027-98"
   ]
  },
  {
   "cell_type": "markdown",
   "id": "4c0ca045",
   "metadata": {},
   "source": [
    "## What we do with the \"I don't know\"s?"
   ]
  },
  {
   "cell_type": "code",
   "execution_count": 450,
   "id": "044cc912",
   "metadata": {},
   "outputs": [
    {
     "data": {
      "text/plain": [
       "4.83983286908078"
      ]
     },
     "execution_count": 450,
     "metadata": {},
     "output_type": "execute_result"
    }
   ],
   "source": [
    "df[df['annotation']==\"I don't know\"].shape[0]/df.shape[0]*100"
   ]
  },
  {
   "cell_type": "markdown",
   "id": "70b8a46c",
   "metadata": {},
   "source": [
    "My decision here is going to be the same. I will eliminate them, in order to save time.\n",
    "\n",
    "I could impute them using the variable \"area_m2\", that I will create later on. But I don't think is a great solution eather: I do not want to leave that much weight on that variable. If I leave more wieght in the best predictor variable, it might overfit in the future."
   ]
  },
  {
   "cell_type": "code",
   "execution_count": 451,
   "id": "81c17f24",
   "metadata": {},
   "outputs": [],
   "source": [
    "df = df[df['annotation'] != \"I don't know\"]"
   ]
  },
  {
   "cell_type": "markdown",
   "id": "51981849",
   "metadata": {},
   "source": [
    "## Creating new variables:"
   ]
  },
  {
   "cell_type": "markdown",
   "id": "6459569c",
   "metadata": {},
   "source": [
    "I am going to use scikitlearn, so I need that the routes are shown in numeric values. I have to decompose the lists of locations into new variables."
   ]
  },
  {
   "cell_type": "markdown",
   "id": "296be406",
   "metadata": {},
   "source": [
    "### Testing coordinates as variables"
   ]
  },
  {
   "cell_type": "markdown",
   "id": "09efcb75",
   "metadata": {},
   "source": [
    "Let's check how many values each list has. In order to check if we could agregate them as new variables. It looks like it won't be possible (there will be a reason why they are compressed into one variable), but let's check it."
   ]
  },
  {
   "cell_type": "code",
   "execution_count": 269,
   "id": "363c1a29",
   "metadata": {},
   "outputs": [],
   "source": [
    "df['len_esti_route'] = df['estimated_route'].apply(len)\n",
    "df['len_real_route'] = df['real_route'].apply(len)"
   ]
  },
  {
   "cell_type": "code",
   "execution_count": 276,
   "id": "1d48a434",
   "metadata": {},
   "outputs": [
    {
     "data": {
      "text/html": [
       "<div>\n",
       "<style scoped>\n",
       "    .dataframe tbody tr th:only-of-type {\n",
       "        vertical-align: middle;\n",
       "    }\n",
       "\n",
       "    .dataframe tbody tr th {\n",
       "        vertical-align: top;\n",
       "    }\n",
       "\n",
       "    .dataframe thead th {\n",
       "        text-align: right;\n",
       "    }\n",
       "</style>\n",
       "<table border=\"1\" class=\"dataframe\">\n",
       "  <thead>\n",
       "    <tr style=\"text-align: right;\">\n",
       "      <th></th>\n",
       "      <th>count</th>\n",
       "      <th>mean</th>\n",
       "      <th>std</th>\n",
       "      <th>min</th>\n",
       "      <th>25%</th>\n",
       "      <th>50%</th>\n",
       "      <th>75%</th>\n",
       "      <th>max</th>\n",
       "    </tr>\n",
       "  </thead>\n",
       "  <tbody>\n",
       "    <tr>\n",
       "      <th>len_esti_route</th>\n",
       "      <td>3027.0</td>\n",
       "      <td>332.0</td>\n",
       "      <td>265.0</td>\n",
       "      <td>8.0</td>\n",
       "      <td>135.0</td>\n",
       "      <td>255.0</td>\n",
       "      <td>469.0</td>\n",
       "      <td>1886.0</td>\n",
       "    </tr>\n",
       "    <tr>\n",
       "      <th>len_real_route</th>\n",
       "      <td>3027.0</td>\n",
       "      <td>241.0</td>\n",
       "      <td>160.0</td>\n",
       "      <td>5.0</td>\n",
       "      <td>129.0</td>\n",
       "      <td>199.0</td>\n",
       "      <td>306.0</td>\n",
       "      <td>1270.0</td>\n",
       "    </tr>\n",
       "  </tbody>\n",
       "</table>\n",
       "</div>"
      ],
      "text/plain": [
       "                 count   mean    std  min    25%    50%    75%     max\n",
       "len_esti_route  3027.0  332.0  265.0  8.0  135.0  255.0  469.0  1886.0\n",
       "len_real_route  3027.0  241.0  160.0  5.0  129.0  199.0  306.0  1270.0"
      ]
     },
     "execution_count": 276,
     "metadata": {},
     "output_type": "execute_result"
    }
   ],
   "source": [
    "round(df.drop(columns='annotator').describe().T)"
   ]
  },
  {
   "cell_type": "markdown",
   "id": "4b1aa5f5",
   "metadata": {},
   "source": [
    "The list of values is enormous, reaching 200 at the median. And let's not forget that would have to be summed up, and multiply by two, because each value has a longitude value and a latitude value. So it will be almost 800 variables for just the median. And that amount of variables for 3000 records it's simply not viable.\n",
    "\n",
    "We could interpole the values, to reduce the number of coordinates but, anyway, I think this is not the way. It is good to check all the posibilities, to learn though."
   ]
  },
  {
   "cell_type": "markdown",
   "id": "e9f01a45",
   "metadata": {},
   "source": [
    "### Calculating the area between the real and the estimated route:"
   ]
  },
  {
   "cell_type": "code",
   "execution_count": 476,
   "id": "c3f52da5",
   "metadata": {},
   "outputs": [
    {
     "name": "stderr",
     "output_type": "stream",
     "text": [
      "C:\\Users\\110927\\AppData\\Local\\Temp\\ipykernel_18592\\2312632967.py:14: SettingWithCopyWarning: \n",
      "A value is trying to be set on a copy of a slice from a DataFrame.\n",
      "Try using .loc[row_indexer,col_indexer] = value instead\n",
      "\n",
      "See the caveats in the documentation: https://pandas.pydata.org/pandas-docs/stable/user_guide/indexing.html#returning-a-view-versus-a-copy\n",
      "  df['area_m2'] = df.apply(calculate_area, axis=1)\n"
     ]
    }
   ],
   "source": [
    "def degrees_to_kms(area_in_radians):\n",
    "    earth_radius=6371\n",
    "    return area_in_radians*(math.pi /180) ** 2 * earth_radius ** 2\n",
    "def calculate_area(row):\n",
    "    route1 = row['estimated_route']\n",
    "    route2 = row['real_route'][::-1]\n",
    "    polygon_coords = route1 + route2\n",
    "    \n",
    "    polygon = Polygon(polygon_coords)\n",
    "    area_in_radians = polygon.area\n",
    "    area_in_meters = degrees_to_kms(area_in_radians)\n",
    "    return area_in_meters\n",
    "\n",
    "df['area_m2'] = df.apply(calculate_area, axis=1)"
   ]
  },
  {
   "cell_type": "code",
   "execution_count": 453,
   "id": "af27c6cb",
   "metadata": {},
   "outputs": [
    {
     "data": {
      "text/html": [
       "<div>\n",
       "<style scoped>\n",
       "    .dataframe tbody tr th:only-of-type {\n",
       "        vertical-align: middle;\n",
       "    }\n",
       "\n",
       "    .dataframe tbody tr th {\n",
       "        vertical-align: top;\n",
       "    }\n",
       "\n",
       "    .dataframe thead th {\n",
       "        text-align: right;\n",
       "    }\n",
       "</style>\n",
       "<table border=\"1\" class=\"dataframe\">\n",
       "  <thead>\n",
       "    <tr style=\"text-align: right;\">\n",
       "      <th>annotation</th>\n",
       "      <th>Both are the same</th>\n",
       "      <th>They differ</th>\n",
       "    </tr>\n",
       "  </thead>\n",
       "  <tbody>\n",
       "    <tr>\n",
       "      <th>count</th>\n",
       "      <td>1153.000000</td>\n",
       "      <td>1580.000000</td>\n",
       "    </tr>\n",
       "    <tr>\n",
       "      <th>mean</th>\n",
       "      <td>0.112978</td>\n",
       "      <td>6.437005</td>\n",
       "    </tr>\n",
       "    <tr>\n",
       "      <th>std</th>\n",
       "      <td>0.304600</td>\n",
       "      <td>16.755088</td>\n",
       "    </tr>\n",
       "    <tr>\n",
       "      <th>min</th>\n",
       "      <td>0.000023</td>\n",
       "      <td>0.000584</td>\n",
       "    </tr>\n",
       "    <tr>\n",
       "      <th>25%</th>\n",
       "      <td>0.006005</td>\n",
       "      <td>0.417019</td>\n",
       "    </tr>\n",
       "    <tr>\n",
       "      <th>50%</th>\n",
       "      <td>0.019623</td>\n",
       "      <td>1.602559</td>\n",
       "    </tr>\n",
       "    <tr>\n",
       "      <th>75%</th>\n",
       "      <td>0.079556</td>\n",
       "      <td>5.681513</td>\n",
       "    </tr>\n",
       "    <tr>\n",
       "      <th>max</th>\n",
       "      <td>4.606501</td>\n",
       "      <td>398.380583</td>\n",
       "    </tr>\n",
       "  </tbody>\n",
       "</table>\n",
       "</div>"
      ],
      "text/plain": [
       "annotation  Both are the same  They differ\n",
       "count             1153.000000  1580.000000\n",
       "mean                 0.112978     6.437005\n",
       "std                  0.304600    16.755088\n",
       "min                  0.000023     0.000584\n",
       "25%                  0.006005     0.417019\n",
       "50%                  0.019623     1.602559\n",
       "75%                  0.079556     5.681513\n",
       "max                  4.606501   398.380583"
      ]
     },
     "execution_count": 453,
     "metadata": {},
     "output_type": "execute_result"
    }
   ],
   "source": [
    "df.groupby('annotation')['area_m2'].describe().T"
   ]
  },
  {
   "cell_type": "markdown",
   "id": "626d01c4",
   "metadata": {},
   "source": [
    "Checking the metrics for the area, I see there are some values that exceed the common sense. Like the area of almost 400km2. I'm gonna sketch a map to see how that can be possible, or insted we are talking of an outlier here."
   ]
  },
  {
   "cell_type": "code",
   "execution_count": 482,
   "id": "25da3d9a",
   "metadata": {},
   "outputs": [
    {
     "data": {
      "text/html": [
       "<div style=\"width:100%;\"><div style=\"position:relative;width:100%;height:0;padding-bottom:60%;\"><span style=\"color:#565656\">Make this Notebook Trusted to load map: File -> Trust Notebook</span><iframe srcdoc=\"&lt;!DOCTYPE html&gt;\n",
       "&lt;html&gt;\n",
       "&lt;head&gt;\n",
       "    \n",
       "    &lt;meta http-equiv=&quot;content-type&quot; content=&quot;text/html; charset=UTF-8&quot; /&gt;\n",
       "    \n",
       "        &lt;script&gt;\n",
       "            L_NO_TOUCH = false;\n",
       "            L_DISABLE_3D = false;\n",
       "        &lt;/script&gt;\n",
       "    \n",
       "    &lt;style&gt;html, body {width: 100%;height: 100%;margin: 0;padding: 0;}&lt;/style&gt;\n",
       "    &lt;style&gt;#map {position:absolute;top:0;bottom:0;right:0;left:0;}&lt;/style&gt;\n",
       "    &lt;script src=&quot;https://cdn.jsdelivr.net/npm/leaflet@1.9.3/dist/leaflet.js&quot;&gt;&lt;/script&gt;\n",
       "    &lt;script src=&quot;https://code.jquery.com/jquery-3.7.1.min.js&quot;&gt;&lt;/script&gt;\n",
       "    &lt;script src=&quot;https://cdn.jsdelivr.net/npm/bootstrap@5.2.2/dist/js/bootstrap.bundle.min.js&quot;&gt;&lt;/script&gt;\n",
       "    &lt;script src=&quot;https://cdnjs.cloudflare.com/ajax/libs/Leaflet.awesome-markers/2.0.2/leaflet.awesome-markers.js&quot;&gt;&lt;/script&gt;\n",
       "    &lt;link rel=&quot;stylesheet&quot; href=&quot;https://cdn.jsdelivr.net/npm/leaflet@1.9.3/dist/leaflet.css&quot;/&gt;\n",
       "    &lt;link rel=&quot;stylesheet&quot; href=&quot;https://cdn.jsdelivr.net/npm/bootstrap@5.2.2/dist/css/bootstrap.min.css&quot;/&gt;\n",
       "    &lt;link rel=&quot;stylesheet&quot; href=&quot;https://netdna.bootstrapcdn.com/bootstrap/3.0.0/css/bootstrap-glyphicons.css&quot;/&gt;\n",
       "    &lt;link rel=&quot;stylesheet&quot; href=&quot;https://cdn.jsdelivr.net/npm/@fortawesome/fontawesome-free@6.2.0/css/all.min.css&quot;/&gt;\n",
       "    &lt;link rel=&quot;stylesheet&quot; href=&quot;https://cdnjs.cloudflare.com/ajax/libs/Leaflet.awesome-markers/2.0.2/leaflet.awesome-markers.css&quot;/&gt;\n",
       "    &lt;link rel=&quot;stylesheet&quot; href=&quot;https://cdn.jsdelivr.net/gh/python-visualization/folium/folium/templates/leaflet.awesome.rotate.min.css&quot;/&gt;\n",
       "    \n",
       "            &lt;meta name=&quot;viewport&quot; content=&quot;width=device-width,\n",
       "                initial-scale=1.0, maximum-scale=1.0, user-scalable=no&quot; /&gt;\n",
       "            &lt;style&gt;\n",
       "                #map_1a639679c6ff66675767e4d19abd8274 {\n",
       "                    position: relative;\n",
       "                    width: 100.0%;\n",
       "                    height: 100.0%;\n",
       "                    left: 0.0%;\n",
       "                    top: 0.0%;\n",
       "                }\n",
       "                .leaflet-container { font-size: 1rem; }\n",
       "            &lt;/style&gt;\n",
       "        \n",
       "&lt;/head&gt;\n",
       "&lt;body&gt;\n",
       "    \n",
       "    \n",
       "            &lt;div class=&quot;folium-map&quot; id=&quot;map_1a639679c6ff66675767e4d19abd8274&quot; &gt;&lt;/div&gt;\n",
       "        \n",
       "&lt;/body&gt;\n",
       "&lt;script&gt;\n",
       "    \n",
       "    \n",
       "            var map_1a639679c6ff66675767e4d19abd8274 = L.map(\n",
       "                &quot;map_1a639679c6ff66675767e4d19abd8274&quot;,\n",
       "                {\n",
       "                    center: [-34.78996, -58.51811],\n",
       "                    crs: L.CRS.EPSG3857,\n",
       "                    zoom: 10,\n",
       "                    zoomControl: true,\n",
       "                    preferCanvas: false,\n",
       "                }\n",
       "            );\n",
       "\n",
       "            \n",
       "\n",
       "        \n",
       "    \n",
       "            var tile_layer_10f5ff306ca587df909627543dcfb551 = L.tileLayer(\n",
       "                &quot;https://tile.openstreetmap.org/{z}/{x}/{y}.png&quot;,\n",
       "                {&quot;attribution&quot;: &quot;\\u0026copy; \\u003ca href=\\&quot;https://www.openstreetmap.org/copyright\\&quot;\\u003eOpenStreetMap\\u003c/a\\u003e contributors&quot;, &quot;detectRetina&quot;: false, &quot;maxNativeZoom&quot;: 19, &quot;maxZoom&quot;: 19, &quot;minZoom&quot;: 0, &quot;noWrap&quot;: false, &quot;opacity&quot;: 1, &quot;subdomains&quot;: &quot;abc&quot;, &quot;tms&quot;: false}\n",
       "            );\n",
       "        \n",
       "    \n",
       "            tile_layer_10f5ff306ca587df909627543dcfb551.addTo(map_1a639679c6ff66675767e4d19abd8274);\n",
       "        \n",
       "    \n",
       "            var poly_line_92776ddf8c666596c039c76646228930 = L.polyline(\n",
       "                [[-34.90884, -58.36936], [-34.90898, -58.36926], [-34.90898, -58.36926], [-34.90975, -58.37069], [-34.91024, -58.37169], [-34.91028, -58.37178], [-34.910470000000004, -58.37215], [-34.91119, -58.37361], [-34.91194, -58.37509], [-34.91267, -58.37654], [-34.91267, -58.37654], [-34.91209, -58.37698], [-34.91153, -58.37739], [-34.91095, -58.37782], [-34.91036, -58.37824], [-34.90977, -58.37868], [-34.9092, -58.3791], [-34.9092, -58.3791], [-34.9099, -58.38054], [-34.91003, -58.38079], [-34.91014, -58.381], [-34.91033, -58.38134], [-34.91051, -58.38171], [-34.91062, -58.38194], [-34.91085, -58.38241], [-34.91101, -58.38274], [-34.91175, -58.38419], [-34.91247, -58.38566], [-34.91317, -58.3871], [-34.91317, -58.3871], [-34.91329, -58.38734], [-34.91213, -58.38819], [-34.91177, -58.38846], [-34.91155, -58.38862], [-34.911410000000004, -58.38872], [-34.91098, -58.38903], [-34.91044, -58.38941], [-34.9104, -58.38944], [-34.91016, -58.38961], [-34.91011, -58.38965], [-34.90985, -58.38983], [-34.90967, -58.38997], [-34.90939, -58.39016], [-34.90922, -58.3903], [-34.90892, -58.39045], [-34.90877, -58.39052], [-34.90854, -58.39062], [-34.90825, -58.3907], [-34.90821, -58.39071], [-34.90817, -58.39072], [-34.90812, -58.39072], [-34.90797, -58.39073], [-34.90758, -58.39075], [-34.90757, -58.39075], [-34.90708, -58.39073], [-34.90708, -58.39073], [-34.90712, -58.39087], [-34.9075, -58.39166], [-34.90777, -58.39219], [-34.90789, -58.39243], [-34.90802, -58.39271], [-34.90821, -58.39311], [-34.90828, -58.39325], [-34.90835, -58.39338], [-34.90875, -58.39416], [-34.9088, -58.39426], [-34.90911, -58.39489], [-34.90922, -58.39512], [-34.90954, -58.39573], [-34.90978, -58.39626], [-34.90988, -58.39648], [-34.91066, -58.39803], [-34.91121, -58.39915], [-34.911410000000004, -58.39954], [-34.91174, -58.40019], [-34.912, -58.40072], [-34.9123, -58.40132], [-34.91241, -58.40153], [-34.91252, -58.40174], [-34.91286, -58.40241], [-34.9129, -58.4025], [-34.91326, -58.40323], [-34.91331, -58.40334], [-34.91337, -58.40346], [-34.91342, -58.40358], [-34.91375, -58.40422], [-34.91381, -58.40436], [-34.91421, -58.40511], [-34.91431, -58.40532], [-34.91441, -58.4055], [-34.91471, -58.40612], [-34.91507, -58.40678], [-34.91518, -58.40701], [-34.91564, -58.40788], [-34.91591, -58.4084], [-34.91611, -58.4088], [-34.91647, -58.40955], [-34.91654, -58.40967], [-34.91655, -58.4097], [-34.91703, -58.41061], [-34.91726, -58.41106], [-34.91749, -58.4115], [-34.91756, -58.41164], [-34.9176, -58.41172], [-34.91777, -58.41203], [-34.91797, -58.41239], [-34.91815, -58.41277], [-34.91832, -58.41313], [-34.91853, -58.41361], [-34.91867, -58.41389], [-34.91875, -58.41405], [-34.91904, -58.41463], [-34.91935, -58.41523], [-34.9196, -58.41572], [-34.91979, -58.4161], [-34.91991, -58.41634], [-34.92006, -58.4167], [-34.92034, -58.41733], [-34.92037, -58.4174], [-34.92051, -58.4177], [-34.92069, -58.41812], [-34.92093, -58.41865], [-34.921170000000004, -58.41918], [-34.92137, -58.4196], [-34.92147, -58.41982], [-34.9216, -58.42007], [-34.9219, -58.42066], [-34.92209, -58.42105], [-34.92233, -58.42151], [-34.92279, -58.42244], [-34.92302, -58.4229], [-34.92339, -58.42365], [-34.92378, -58.42443], [-34.92441, -58.42567], [-34.92469, -58.42622], [-34.9247, -58.42625], [-34.92493, -58.42671], [-34.92527, -58.4274], [-34.92561, -58.42808], [-34.92562, -58.4281], [-34.92571, -58.42829], [-34.92572, -58.4283], [-34.9259, -58.42866], [-34.92598, -58.42883], [-34.92627, -58.42942], [-34.92673, -58.43032], [-34.92719, -58.43124], [-34.92747, -58.43179], [-34.92769, -58.43223], [-34.92792, -58.43269], [-34.92826, -58.43337], [-34.92872, -58.43429], [-34.92917, -58.43519], [-34.92939, -58.43565], [-34.92968, -58.43622], [-34.93001, -58.4369], [-34.93039, -58.43764], [-34.9308, -58.43848], [-34.9312, -58.4393], [-34.93169, -58.44026], [-34.932, -58.44086], [-34.93215, -58.44117], [-34.93228, -58.44146], [-34.93244, -58.44178], [-34.93258, -58.44207], [-34.93268, -58.44228], [-34.93275, -58.44245], [-34.93281, -58.44264], [-34.93288, -58.44286], [-34.93295, -58.44311], [-34.93299, -58.44332], [-34.93303, -58.44357], [-34.93306, -58.44377], [-34.93308, -58.44399], [-34.93309, -58.44424], [-34.9331, -58.44441], [-34.93311, -58.44466], [-34.93311, -58.44504], [-34.9331, -58.44537], [-34.9331, -58.44553], [-34.93309, -58.44575], [-34.93309, -58.44616], [-34.93309, -58.44655], [-34.93308, -58.44681], [-34.93307, -58.4476], [-34.93306, -58.44781], [-34.93305, -58.44809], [-34.93305, -58.44809], [-34.93304, -58.44814], [-34.93398, -58.44847], [-34.93414, -58.44849], [-34.93463, -58.44866], [-34.93497, -58.44877], [-34.93522, -58.44888], [-34.93534, -58.44894], [-34.93568, -58.4491], [-34.93595, -58.44924], [-34.93605, -58.44929], [-34.93616, -58.44936], [-34.9363, -58.44945], [-34.93633, -58.44947], [-34.9371, -58.44995], [-34.93772, -58.45034], [-34.93795, -58.4505], [-34.93864, -58.45093], [-34.93961, -58.45155], [-34.93998, -58.45178], [-34.94017, -58.45192], [-34.94031, -58.45203], [-34.94044, -58.45216], [-34.94055, -58.45228], [-34.94068, -58.452420000000004], [-34.94115, -58.45305], [-34.94179, -58.45392], [-34.9423, -58.4546], [-34.94285, -58.455330000000004], [-34.94328, -58.4559], [-34.94372, -58.45649], [-34.94429, -58.45725], [-34.94487, -58.45803], [-34.945570000000004, -58.45898], [-34.94625, -58.45987], [-34.94626, -58.45989], [-34.94678, -58.46059], [-34.94721, -58.46118], [-34.94775, -58.46188], [-34.94821, -58.4625], [-34.94861, -58.46302], [-34.94878, -58.46322], [-34.94891, -58.46338], [-34.94892, -58.46344], [-34.94893, -58.46347], [-34.94894, -58.46349], [-34.94894, -58.4635], [-34.94896, -58.46353], [-34.94905, -58.46365], [-34.94909, -58.46372], [-34.94912, -58.46379], [-34.94914, -58.46384], [-34.94916, -58.46392], [-34.94917, -58.46399], [-34.94918, -58.46413], [-34.9492, -58.46431], [-34.94922, -58.46442], [-34.94922, -58.46442], [-34.94916, -58.46444], [-34.94913, -58.46445], [-34.94909, -58.46448], [-34.94905, -58.46452], [-34.94901, -58.46456], [-34.94896, -58.46464], [-34.94892, -58.46469], [-34.94875, -58.46489], [-34.94828, -58.46538], [-34.94807, -58.46564], [-34.94795, -58.46581], [-34.94789, -58.4659], [-34.94784, -58.46597], [-34.94782, -58.46601], [-34.9478, -58.46609], [-34.94747, -58.46654], [-34.94728, -58.46681], [-34.94681, -58.46743], [-34.94666, -58.46764], [-34.94661, -58.4677], [-34.94606, -58.46845], [-34.94584, -58.46876], [-34.94542, -58.46934], [-34.9452, -58.46964], [-34.94499, -58.46993], [-34.9447, -58.47031], [-34.94454, -58.47053], [-34.94427, -58.4709], [-34.94408, -58.47117], [-34.94391, -58.4714], [-34.94369, -58.47169], [-34.9434, -58.47209], [-34.94318, -58.47238], [-34.94294, -58.4727], [-34.94292, -58.47273], [-34.94273, -58.47299], [-34.94251, -58.47329], [-34.94237, -58.47349], [-34.94218, -58.47374], [-34.94217, -58.47375], [-34.94189, -58.47412], [-34.94164, -58.47447], [-34.94143, -58.47474], [-34.94123, -58.47501], [-34.94106, -58.47521], [-34.94065, -58.47576], [-34.94041, -58.47607], [-34.94013, -58.47642], [-34.93985, -58.4768], [-34.93984, -58.47681], [-34.93974, -58.47695], [-34.93901, -58.47788], [-34.93818, -58.47896], [-34.93742, -58.47993], [-34.93629, -58.48138], [-34.93579, -58.48202], [-34.9357, -58.48213], [-34.93566, -58.48218], [-34.93499, -58.48304], [-34.93469, -58.48344], [-34.93435, -58.48387], [-34.93411, -58.48418], [-34.93369, -58.48473], [-34.93321, -58.48535], [-34.93315, -58.48543], [-34.93291, -58.48573], [-34.93284, -58.48583], [-34.93273, -58.48597], [-34.93271, -58.48599], [-34.93268, -58.48603], [-34.93265, -58.48607], [-34.9325, -58.48626], [-34.93228, -58.48654], [-34.93226, -58.48657], [-34.93179, -58.48716], [-34.93154, -58.48747], [-34.93065, -58.48864], [-34.93015, -58.48927], [-34.92969, -58.48987], [-34.92912, -58.49059], [-34.92898, -58.49076], [-34.92871, -58.49111], [-34.92833, -58.49154], [-34.92805, -58.49182], [-34.9278, -58.49205], [-34.92755, -58.49224], [-34.92716, -58.49257], [-34.92675, -58.49293], [-34.92654, -58.4931], [-34.92626, -58.49333], [-34.92539, -58.49405], [-34.92532, -58.49411], [-34.92503, -58.49435], [-34.92427, -58.49497], [-34.92326, -58.49582], [-34.9231, -58.49595], [-34.923, -58.49604], [-34.92272, -58.49627], [-34.92235, -58.49657], [-34.92185, -58.49697], [-34.92151, -58.49725], [-34.92114, -58.49756], [-34.92098, -58.4977], [-34.92072, -58.49791], [-34.92043, -58.49815], [-34.92008, -58.49843], [-34.91983, -58.49864], [-34.91953, -58.49888], [-34.91897, -58.49933], [-34.91891, -58.49938], [-34.91884, -58.49942], [-34.91875, -58.49949], [-34.91854, -58.49963], [-34.91832, -58.49976], [-34.91802, -58.49995], [-34.91755, -58.50022], [-34.91654, -58.50078], [-34.91631, -58.50092], [-34.91577, -58.50122], [-34.91507, -58.50161], [-34.91463, -58.50187], [-34.914320000000004, -58.50204], [-34.91346, -58.50251], [-34.91273, -58.50291], [-34.91236, -58.50315], [-34.91214, -58.50326], [-34.9112, -58.5038], [-34.910470000000004, -58.50421], [-34.91019, -58.50437], [-34.90953, -58.50474], [-34.9087, -58.50522], [-34.90774, -58.50576], [-34.90755, -58.50587], [-34.90715, -58.50609], [-34.90678, -58.5063], [-34.90656, -58.50642], [-34.90641, -58.50651], [-34.90562, -58.50696], [-34.90528, -58.50715], [-34.90489, -58.50738], [-34.90387, -58.50795], [-34.90322, -58.50831], [-34.90266, -58.50859], [-34.90247, -58.50869], [-34.90232, -58.50872], [-34.90225, -58.50875], [-34.90218, -58.50878], [-34.90209, -58.50881], [-34.90201, -58.50884], [-34.90193, -58.50886], [-34.90187, -58.50887], [-34.90179, -58.50888], [-34.90171, -58.50888], [-34.90163, -58.50887], [-34.90163, -58.50887], [-34.90158, -58.50883], [-34.90152, -58.50879], [-34.90147, -58.50876], [-34.90141, -58.50875], [-34.90134, -58.50875], [-34.90128, -58.50876], [-34.90122, -58.50878], [-34.90117, -58.50882], [-34.90112, -58.50886], [-34.90105, -58.50896], [-34.90102, -58.50898], [-34.90087, -58.50905], [-34.90078, -58.5091], [-34.90073, -58.50911], [-34.90066, -58.50913], [-34.90052, -58.50915], [-34.90028, -58.50916], [-34.89999, -58.50915], [-34.89979, -58.50914], [-34.89969, -58.50914], [-34.89959, -58.50914], [-34.89952, -58.50915], [-34.89933, -58.50914], [-34.89923, -58.50913], [-34.89909, -58.50911], [-34.89889, -58.50908], [-34.89865, -58.50903], [-34.89786, -58.5088], [-34.89741, -58.50866], [-34.89681, -58.50847], [-34.89631, -58.50832], [-34.89453, -58.50776], [-34.89357, -58.50746], [-34.89276, -58.50722], [-34.892, -58.50697], [-34.89122, -58.50674], [-34.89044, -58.5065], [-34.89004, -58.50637], [-34.88947, -58.5062], [-34.88889, -58.50602], [-34.88793, -58.50571], [-34.88674, -58.50534], [-34.8863, -58.5052], [-34.885040000000004, -58.5048], [-34.88416, -58.50453], [-34.88388, -58.50446], [-34.88357, -58.50438], [-34.88304, -58.50425], [-34.88302, -58.50425], [-34.88286, -58.50421], [-34.88229, -58.50408], [-34.88216, -58.50405], [-34.88188, -58.50399], [-34.88156, -58.50392], [-34.8813, -58.50387], [-34.88086, -58.50377], [-34.8806, -58.50374], [-34.88045, -58.5037], [-34.8802, -58.50353], [-34.8802, -58.50353], [-34.8802, -58.50351], [-34.88018, -58.50348], [-34.88017, -58.50345], [-34.88015, -58.50342], [-34.88013, -58.50339], [-34.88011, -58.50338], [-34.88011, -58.50337], [-34.88008, -58.50335], [-34.88006, -58.50334], [-34.88003, -58.50333], [-34.88, -58.50332], [-34.87997, -58.50331], [-34.87994, -58.50332], [-34.87991, -58.50332], [-34.87989, -58.50333], [-34.87986, -58.50334], [-34.87983, -58.50336], [-34.87981, -58.50338], [-34.87979, -58.5034], [-34.87977, -58.50342], [-34.87948, -58.50355], [-34.8794, -58.50356], [-34.8793, -58.50356], [-34.87919, -58.50357], [-34.87889, -58.50358], [-34.87876, -58.50357], [-34.87853, -58.50353], [-34.87788, -58.50343], [-34.87754, -58.50338], [-34.87633, -58.50318], [-34.8749, -58.50295], [-34.8738, -58.50278], [-34.87302, -58.50266], [-34.87245, -58.50255], [-34.87125, -58.50238], [-34.87111, -58.50234], [-34.87003, -58.50221], [-34.86972, -58.5022], [-34.86923, -58.50221], [-34.86806, -58.5022], [-34.86792, -58.5022], [-34.86643, -58.50219], [-34.86585, -58.5022], [-34.86555, -58.5022], [-34.86506, -58.50223], [-34.8647, -58.50227], [-34.86454, -58.5023], [-34.864, -58.50226], [-34.86385, -58.50224], [-34.86374, -58.50227], [-34.86365, -58.5023], [-34.8635, -58.50235], [-34.86336, -58.50237], [-34.86315, -58.50238], [-34.86286, -58.50239], [-34.86277, -58.5024], [-34.86249, -58.50242], [-34.86118, -58.50252], [-34.86063, -58.50255], [-34.85986, -58.50259], [-34.85973, -58.50258], [-34.85918, -58.50261], [-34.85884, -58.50263], [-34.85881, -58.50263], [-34.85818, -58.50267], [-34.85764, -58.5027], [-34.85759, -58.5027], [-34.85655, -58.50278], [-34.85603, -58.5028], [-34.85567, -58.50278], [-34.85533, -58.50276], [-34.8551, -58.50277], [-34.85504, -58.50277], [-34.8549, -58.50279], [-34.85489, -58.50279], [-34.85467, -58.5028], [-34.85464, -58.5028], [-34.85424, -58.50287], [-34.8542, -58.50288], [-34.85386, -58.50294], [-34.85374, -58.50296], [-34.85363, -58.503], [-34.8535, -58.50304], [-34.85339, -58.50315], [-34.8533, -58.50325], [-34.85315, -58.50336], [-34.85306, -58.50341], [-34.85296, -58.50345], [-34.85273, -58.50354], [-34.85213, -58.50377], [-34.85202, -58.50381], [-34.8513, -58.50406], [-34.85111, -58.50412], [-34.85047, -58.50436], [-34.85019, -58.50447], [-34.85019, -58.50447], [-34.84971, -58.50464], [-34.84909, -58.50487], [-34.847970000000004, -58.50526], [-34.84772, -58.50534], [-34.84687, -58.50564], [-34.84607, -58.50594], [-34.84569, -58.50607], [-34.84558, -58.50611], [-34.84541, -58.50614], [-34.84532, -58.50615], [-34.8452, -58.50615], [-34.84506, -58.50613], [-34.84497, -58.50611], [-34.84479, -58.50607], [-34.84479, -58.50607], [-34.84477, -58.50604], [-34.84474, -58.50602], [-34.84472, -58.506], [-34.84469, -58.50599], [-34.84466, -58.50597], [-34.84463, -58.50596], [-34.8446, -58.50596], [-34.84457, -58.50595], [-34.84442, -58.50578], [-34.84432, -58.50567], [-34.84425, -58.50555], [-34.84417, -58.50542], [-34.84413, -58.50532], [-34.84406, -58.50514], [-34.84397, -58.50496], [-34.84385, -58.50471], [-34.84379, -58.50459], [-34.84364, -58.50436], [-34.84346, -58.50409], [-34.84326, -58.50386], [-34.84314, -58.50374], [-34.84292, -58.50354], [-34.84279, -58.50343], [-34.84267, -58.50335], [-34.84241, -58.503190000000004], [-34.84214, -58.50304], [-34.84196, -58.50298], [-34.84183, -58.50293], [-34.84168, -58.5029], [-34.84155, -58.50287], [-34.8414, -58.50285], [-34.84125, -58.50284], [-34.84108, -58.50285], [-34.84092, -58.50288], [-34.84079, -58.50291], [-34.84064, -58.50296], [-34.84048, -58.50303], [-34.84033, -58.50311], [-34.84016, -58.5032], [-34.84, -58.5033], [-34.83979, -58.50351], [-34.8395, -58.50374], [-34.83921, -58.50396], [-34.83885, -58.50426], [-34.83873, -58.50435], [-34.83852, -58.5045], [-34.83838, -58.5046], [-34.83827, -58.50467], [-34.8381, -58.50478], [-34.83782, -58.50493], [-34.83742, -58.50513], [-34.83686, -58.50539], [-34.83653, -58.50556], [-34.8363, -58.50569], [-34.83609, -58.50582], [-34.83593, -58.50591], [-34.83583, -58.50598], [-34.8356, -58.50614], [-34.83552, -58.50619], [-34.83544, -58.50625], [-34.83476, -58.50671], [-34.83465, -58.50677], [-34.83449, -58.50687], [-34.8341, -58.5071], [-34.83372, -58.50733], [-34.83353, -58.50746], [-34.83338, -58.50756], [-34.83338, -58.50756], [-34.83321, -58.50766], [-34.83293, -58.50786], [-34.83286, -58.5079], [-34.83233, -58.50835], [-34.83206, -58.50855], [-34.83204, -58.50855], [-34.83174, -58.50873], [-34.83159, -58.50883], [-34.83155, -58.50885], [-34.83142, -58.50889], [-34.83135, -58.5089], [-34.83128, -58.5089], [-34.8312, -58.5089], [-34.83118, -58.5089], [-34.83112, -58.50889], [-34.83104, -58.50887], [-34.83097, -58.50885], [-34.83096, -58.50885], [-34.83076, -58.50878], [-34.83075, -58.50878], [-34.8304, -58.50866], [-34.83027, -58.50861], [-34.82987, -58.50847], [-34.82931, -58.50834], [-34.82893, -58.50826], [-34.82844, -58.50822], [-34.82814, -58.50823], [-34.82795, -58.50826], [-34.82774, -58.5083], [-34.82772, -58.5083], [-34.82761, -58.5083], [-34.82756, -58.50831], [-34.82681, -58.5084], [-34.82561, -58.50857], [-34.82504, -58.50867], [-34.82307, -58.50896], [-34.82255, -58.50905], [-34.82193, -58.50916], [-34.82131, -58.50927], [-34.82113, -58.50931], [-34.821, -58.50933], [-34.82059, -58.50942], [-34.82007, -58.50953], [-34.81895, -58.50977], [-34.81889, -58.50978], [-34.81882, -58.50979], [-34.81859, -58.50985], [-34.81842, -58.50988], [-34.81811, -58.50996], [-34.81732, -58.51013], [-34.81717, -58.51016], [-34.81716, -58.51016], [-34.81622, -58.51033], [-34.81458, -58.51069], [-34.81393, -58.51084], [-34.81375, -58.51088], [-34.81357, -58.51091], [-34.81317, -58.51098], [-34.81274, -58.51104], [-34.81234, -58.51109], [-34.81172, -58.51116], [-34.81087, -58.51129], [-34.81044, -58.51137], [-34.80957, -58.51158], [-34.80893, -58.51171], [-34.8083, -58.51184], [-34.80764, -58.51198], [-34.80745, -58.51202], [-34.80677, -58.51217], [-34.80573, -58.51239], [-34.80462, -58.51263], [-34.80407, -58.51274], [-34.80363, -58.51284], [-34.80264, -58.51307], [-34.80199, -58.51321], [-34.80129, -58.51335], [-34.80085, -58.51344], [-34.80048, -58.51353], [-34.79998, -58.51365], [-34.79951, -58.51376], [-34.79929, -58.51382], [-34.79906, -58.51389], [-34.79873, -58.51398], [-34.79829, -58.51412], [-34.79813, -58.51416], [-34.79769, -58.5143], [-34.79763, -58.51432], [-34.79752, -58.51436], [-34.79693, -58.51456], [-34.79685, -58.5146], [-34.79614, -58.51486], [-34.79599, -58.514920000000004], [-34.79557, -58.51509], [-34.79521, -58.51524], [-34.79493, -58.51537], [-34.7943, -58.51566], [-34.79422, -58.5157], [-34.7937, -58.51596], [-34.79352, -58.51605], [-34.79336, -58.51612], [-34.79313, -58.51625], [-34.79296, -58.51633], [-34.79254, -58.51656], [-34.79222, -58.51673], [-34.79186, -58.51694], [-34.7913, -58.51726], [-34.79037, -58.51784], [-34.78996, -58.51811], [-34.78986, -58.51817], [-34.78941, -58.51848], [-34.78919, -58.51863], [-34.789, -58.51876], [-34.78874, -58.51896], [-34.78852, -58.5191], [-34.7875, -58.51984], [-34.78739, -58.51992], [-34.78708, -58.52015], [-34.78693, -58.52026], [-34.78667, -58.52046], [-34.78603, -58.52097], [-34.78548, -58.52139], [-34.7851, -58.52169], [-34.78495, -58.52184], [-34.78495, -58.52184], [-34.78479, -58.52191], [-34.78472, -58.52197], [-34.78458, -58.52207], [-34.78421, -58.52236], [-34.78421, -58.52236], [-34.7838, -58.52263], [-34.78373, -58.52268], [-34.78365, -58.52273], [-34.78357, -58.52279], [-34.78357, -58.52279], [-34.78329, -58.523], [-34.78292, -58.52328], [-34.7825, -58.5236], [-34.78224, -58.52376], [-34.78201, -58.52388], [-34.78184, -58.52397], [-34.78163, -58.52406], [-34.78132, -58.52419], [-34.78107, -58.52428], [-34.78089, -58.52432], [-34.78067, -58.52434], [-34.78043, -58.52442], [-34.78018, -58.52445], [-34.77985, -58.52449], [-34.77981, -58.52449], [-34.7789, -58.52446], [-34.77872, -58.52445], [-34.77871, -58.52446], [-34.77859, -58.5245], [-34.77832, -58.52449], [-34.77816, -58.52448], [-34.77776, -58.52445], [-34.77654, -58.52438], [-34.77474, -58.52427], [-34.7738, -58.52421], [-34.77358, -58.5242], [-34.77321, -58.52417], [-34.77312, -58.52417], [-34.77278, -58.52415], [-34.77144, -58.52407], [-34.77137, -58.52406], [-34.76826, -58.52387], [-34.7676, -58.52382], [-34.76644, -58.52375], [-34.76543, -58.52369], [-34.76392, -58.52362], [-34.76318, -58.52358], [-34.76285, -58.52356], [-34.7626, -58.52354], [-34.76187, -58.5235], [-34.76033, -58.5234], [-34.75999, -58.52338], [-34.7599, -58.52337], [-34.759, -58.52332], [-34.75743, -58.52323], [-34.75734, -58.52323], [-34.75562, -58.52312], [-34.75539, -58.52308], [-34.7547, -58.52305], [-34.75402, -58.523], [-34.75207, -58.52277], [-34.75184, -58.52273], [-34.75095, -58.52259], [-34.75017, -58.52245], [-34.7488, -58.5222], [-34.74747, -58.52194], [-34.74736, -58.52192], [-34.74725, -58.5219], [-34.74723, -58.52189], [-34.74687, -58.52183], [-34.74662, -58.521770000000004], [-34.74633, -58.52171], [-34.74548, -58.52152], [-34.74515, -58.52146], [-34.74505, -58.52144], [-34.74452, -58.52132], [-34.74198, -58.52072], [-34.74164, -58.52063], [-34.74049, -58.52032], [-34.7403, -58.52027], [-34.73924, -58.51997], [-34.73921, -58.51996], [-34.73777, -58.51954], [-34.73673, -58.51922], [-34.73663, -58.51919], [-34.7347, -58.51852], [-34.73453, -58.51847], [-34.73418, -58.51835], [-34.73283, -58.51784], [-34.73194, -58.5175], [-34.73189, -58.51748], [-34.73186, -58.51746], [-34.7316, -58.51736], [-34.73097, -58.51712], [-34.73054, -58.51695], [-34.73003, -58.51672], [-34.72934, -58.51643], [-34.7285, -58.51611], [-34.72811, -58.51596], [-34.72793, -58.51588], [-34.72786, -58.51584], [-34.72728, -58.5156], [-34.72717, -58.51556], [-34.72705, -58.51552], [-34.72527, -58.51478], [-34.72496, -58.51464], [-34.72479, -58.51457], [-34.72452, -58.51444], [-34.72436, -58.51435], [-34.723910000000004, -58.51414], [-34.72346, -58.5139], [-34.72331, -58.51382], [-34.72324, -58.51378], [-34.72311, -58.51371], [-34.72263, -58.51345], [-34.72207, -58.51313], [-34.72191, -58.51304], [-34.72178, -58.51296], [-34.72164, -58.51287], [-34.71987, -58.51176], [-34.71956, -58.51154], [-34.71857, -58.51085], [-34.71847, -58.51078], [-34.71558, -58.50876], [-34.71544, -58.50866], [-34.7153, -58.50855], [-34.71315, -58.50691], [-34.71231, -58.50629], [-34.71194, -58.506], [-34.71177, -58.50585], [-34.71166, -58.50574], [-34.71128, -58.5054], [-34.71087, -58.50505], [-34.7107, -58.50491], [-34.7103, -58.50458], [-34.70966, -58.50404], [-34.70916, -58.50361], [-34.70863, -58.50315], [-34.70824, -58.50284], [-34.70786, -58.50252], [-34.70736, -58.50209], [-34.70694, -58.50178], [-34.70635, -58.50131], [-34.70621, -58.50119], [-34.70579, -58.50083], [-34.70555, -58.50064], [-34.70482, -58.50004], [-34.70353, -58.49898], [-34.70336, -58.49885], [-34.70319, -58.49871], [-34.70276, -58.49833], [-34.7024, -58.49802], [-34.70199, -58.49769], [-34.70184, -58.49758], [-34.70175, -58.4975], [-34.70163, -58.4974], [-34.70155, -58.49734], [-34.70151, -58.49731], [-34.7013, -58.49714], [-34.70112, -58.49699], [-34.70099, -58.4969], [-34.7009, -58.49682], [-34.70082, -58.49675], [-34.70049, -58.4965], [-34.70019, -58.49627], [-34.69921, -58.49551], [-34.69863, -58.49502], [-34.69833, -58.49475], [-34.69804, -58.4945], [-34.69793, -58.4944], [-34.69785, -58.49433], [-34.69775, -58.49424], [-34.69759, -58.49411], [-34.69749, -58.49401], [-34.69738, -58.49392], [-34.69729, -58.49383], [-34.69722, -58.49376], [-34.69716, -58.49371], [-34.69658, -58.49318], [-34.69604, -58.49269], [-34.69604, -58.49269], [-34.69553, -58.49236], [-34.6954, -58.49225], [-34.69516, -58.49205], [-34.69495, -58.49187], [-34.69469, -58.49166], [-34.6943, -58.49134], [-34.69367, -58.49084], [-34.69285, -58.49015], [-34.69263, -58.48997], [-34.69222, -58.48964], [-34.692, -58.48945], [-34.69165, -58.48914], [-34.69128, -58.48884], [-34.69112, -58.48872], [-34.69088, -58.48851], [-34.6905, -58.4882], [-34.68982, -58.48766], [-34.68945, -58.48737], [-34.68931, -58.48724], [-34.68927, -58.48721], [-34.6892, -58.48712], [-34.68868, -58.48671], [-34.68855, -58.48661], [-34.68838, -58.48648], [-34.68831, -58.48641], [-34.68824, -58.48635], [-34.68811, -58.48623], [-34.68811, -58.48623], [-34.68786, -58.48602], [-34.68716, -58.48544], [-34.6871, -58.48539], [-34.68703, -58.48534], [-34.68701, -58.48532], [-34.68694, -58.48526], [-34.68678, -58.48513], [-34.68676, -58.48512], [-34.68646, -58.48486], [-34.68632, -58.48475], [-34.68575, -58.48428], [-34.68555, -58.48412], [-34.68546, -58.48404], [-34.68536, -58.48395], [-34.6851, -58.48374], [-34.68468, -58.48339], [-34.68437, -58.4831], [-34.68428, -58.48301], [-34.6841, -58.48284], [-34.68398, -58.48273], [-34.683840000000004, -58.4826], [-34.68359, -58.48232], [-34.68352, -58.48226], [-34.68342, -58.48215], [-34.68318, -58.48191], [-34.68316, -58.48189], [-34.683, -58.48173], [-34.68289, -58.48163], [-34.68281, -58.48156], [-34.68272, -58.48146], [-34.68267, -58.48142], [-34.68264, -58.4814], [-34.68257, -58.48134], [-34.68246, -58.48125], [-34.68237, -58.48118], [-34.68225, -58.4811], [-34.68216, -58.48104], [-34.68194, -58.48091], [-34.68163, -58.48074], [-34.68149, -58.48068], [-34.68115, -58.48053], [-34.68094, -58.48044], [-34.68064, -58.48031], [-34.68055, -58.48026], [-34.67955, -58.47983], [-34.67887, -58.4795], [-34.67846, -58.47931], [-34.67832, -58.47924], [-34.67829, -58.47923], [-34.67813, -58.47916], [-34.67804, -58.47912], [-34.67792, -58.47907], [-34.67766, -58.47894], [-34.67736, -58.47881], [-34.67718, -58.47874], [-34.67706, -58.47869], [-34.67677, -58.47857], [-34.6765, -58.47846], [-34.67643, -58.47843], [-34.67636, -58.4784], [-34.67625, -58.47836], [-34.67593, -58.47824], [-34.67581, -58.4782], [-34.67578, -58.47819], [-34.6757, -58.47816], [-34.67552, -58.4781], [-34.67529, -58.47802], [-34.67492, -58.47786], [-34.67447, -58.47766], [-34.67392, -58.47742], [-34.67376, -58.47735], [-34.67349, -58.47723], [-34.67313, -58.47708], [-34.67271, -58.47689], [-34.6723, -58.47671], [-34.67174, -58.47646], [-34.67156, -58.47638], [-34.67154, -58.47637], [-34.67119, -58.47621], [-34.67106, -58.47615], [-34.67092, -58.47608], [-34.67062, -58.47593], [-34.67017, -58.47571], [-34.67011, -58.47567], [-34.66967, -58.47545], [-34.66951, -58.47537], [-34.66888, -58.47508], [-34.66873, -58.47502], [-34.66809, -58.47472], [-34.66761, -58.47453], [-34.66742, -58.47445], [-34.66688, -58.47425], [-34.66636, -58.47404], [-34.66582, -58.47379], [-34.66506, -58.47346], [-34.66497, -58.47342], [-34.66423, -58.47309], [-34.66419, -58.47309], [-34.66374, -58.47289], [-34.66322, -58.47266], [-34.66305, -58.47258], [-34.66295, -58.47253], [-34.66284, -58.47249], [-34.66269, -58.47242], [-34.66253, -58.47235], [-34.66232, -58.47226], [-34.66164, -58.471940000000004], [-34.66087, -58.47159], [-34.6604, -58.47137], [-34.66014, -58.47124], [-34.66001, -58.47116], [-34.65973, -58.47102], [-34.65899, -58.47068], [-34.65824, -58.47034], [-34.65786, -58.47018], [-34.6575, -58.47003], [-34.65681, -58.46978], [-34.65672, -58.46974], [-34.65669, -58.46972], [-34.65666, -58.46971], [-34.65646, -58.46963], [-34.6561, -58.46948], [-34.65551, -58.46921], [-34.65492, -58.46895], [-34.65478, -58.46889], [-34.65455, -58.46877], [-34.65422, -58.46863], [-34.65372, -58.46839], [-34.65352, -58.46828], [-34.65332, -58.46817], [-34.65318, -58.46809], [-34.65304, -58.46801], [-34.65285, -58.4679], [-34.65261, -58.46775], [-34.65228, -58.46754], [-34.65214, -58.46745], [-34.65191, -58.4673], [-34.65175, -58.4672], [-34.65168, -58.46715], [-34.65161, -58.46708], [-34.65147, -58.46697], [-34.65139, -58.46691], [-34.65118, -58.46674], [-34.65077, -58.46639], [-34.65072, -58.46636], [-34.65037, -58.46606], [-34.64996, -58.46572], [-34.64996, -58.46572], [-34.64991, -58.46569], [-34.64986, -58.46566], [-34.64961, -58.46546], [-34.64955, -58.4654], [-34.6491, -58.46499], [-34.649, -58.46487], [-34.6489, -58.46475], [-34.64879, -58.46459], [-34.64867, -58.46444], [-34.64846, -58.46421], [-34.64843, -58.46417], [-34.64818, -58.46392], [-34.64765, -58.46361], [-34.64718, -58.46337], [-34.64685, -58.46321], [-34.64673, -58.46316], [-34.64632, -58.46297], [-34.64627, -58.46295], [-34.64623, -58.46293], [-34.64606, -58.46285], [-34.6459, -58.46276], [-34.64584, -58.46273], [-34.64582, -58.46272], [-34.64581, -58.4627], [-34.6458, -58.46269], [-34.64577, -58.462650000000004], [-34.64528, -58.46245], [-34.64448, -58.46217], [-34.64437, -58.46213], [-34.64426, -58.46209], [-34.64419, -58.46207], [-34.64412, -58.46204], [-34.64374, -58.46189], [-34.6436, -58.46182], [-34.64344, -58.46174], [-34.64329, -58.46167], [-34.64307, -58.46154], [-34.64292, -58.46143], [-34.64277, -58.46132], [-34.64266, -58.46123], [-34.64256, -58.46115], [-34.6424, -58.46101], [-34.64218, -58.46079], [-34.64206, -58.46066], [-34.64195, -58.46054], [-34.64184, -58.46041], [-34.64173, -58.46027], [-34.64163, -58.46014], [-34.64153, -58.46001], [-34.64146, -58.45991], [-34.64119, -58.45955], [-34.64093, -58.4592], [-34.64084, -58.45909], [-34.64076, -58.45897], [-34.64064, -58.45881], [-34.64053, -58.45865], [-34.64034, -58.45839], [-34.64016, -58.45814], [-34.63999, -58.45791], [-34.63972, -58.45758], [-34.63944, -58.45725], [-34.63935, -58.45714], [-34.63926, -58.45704], [-34.63881, -58.4565], [-34.63846, -58.45604], [-34.63838, -58.45594], [-34.6383, -58.45584], [-34.63807, -58.45551], [-34.63792, -58.45529], [-34.6378, -58.45509], [-34.63773, -58.45497], [-34.63763, -58.45484], [-34.63753, -58.45467], [-34.63743, -58.45451], [-34.63725, -58.45422], [-34.63716, -58.45406], [-34.63707, -58.4539], [-34.63699, -58.45374], [-34.63691, -58.45359], [-34.63685, -58.45344], [-34.6368, -58.45334], [-34.63675, -58.4532], [-34.63671, -58.4531], [-34.63667, -58.45295], [-34.6366, -58.45272], [-34.63655, -58.45249], [-34.63652, -58.45232], [-34.6365, -58.45219], [-34.63648, -58.45201], [-34.63646, -58.45184], [-34.63646, -58.45152], [-34.63645, -58.45112], [-34.63645, -58.45097], [-34.63645, -58.45079], [-34.63645, -58.45072], [-34.63646, -58.45043], [-34.63647, -58.45005], [-34.63649, -58.44968], [-34.63649, -58.44935], [-34.63649, -58.44924], [-34.63649, -58.44897], [-34.63648, -58.44877], [-34.63646, -58.44857], [-34.63644, -58.44839], [-34.63642, -58.44823], [-34.63639, -58.44806], [-34.63633, -58.44779], [-34.63624, -58.4475], [-34.63619, -58.44734], [-34.63613, -58.44716], [-34.63598, -58.44682], [-34.63592, -58.4467], [-34.63586, -58.44658], [-34.63582, -58.44651], [-34.63571, -58.44632], [-34.63558, -58.4461], [-34.63539, -58.44577], [-34.63491, -58.4451], [-34.63484, -58.44499], [-34.63467, -58.44473], [-34.63449, -58.44448], [-34.63418, -58.44402], [-34.63406, -58.44385], [-34.63394, -58.44368], [-34.63374, -58.44338], [-34.63352, -58.44304], [-34.63341, -58.44289], [-34.63323, -58.4426], [-34.63321, -58.44257], [-34.6331, -58.4424], [-34.633, -58.44224], [-34.63282, -58.44194], [-34.6326, -58.44158], [-34.6325, -58.44141], [-34.63248, -58.44137], [-34.63233, -58.4411], [-34.63207, -58.44065], [-34.6319, -58.44034], [-34.6318, -58.44017], [-34.63178, -58.44015], [-34.63177, -58.44013], [-34.63174, -58.44008], [-34.63171, -58.44004], [-34.63164, -58.43992], [-34.63161, -58.43987], [-34.63158, -58.43982], [-34.63153, -58.43973], [-34.63148, -58.43965], [-34.63145, -58.43961], [-34.63142, -58.43956], [-34.63138, -58.43949], [-34.63134, -58.43942], [-34.63132, -58.43937], [-34.63129, -58.43933], [-34.6312, -58.43917], [-34.63113, -58.43904], [-34.63107, -58.43891], [-34.63105, -58.43887], [-34.63102, -58.43883], [-34.63088, -58.43851], [-34.63085, -58.43843], [-34.63083, -58.43839], [-34.63082, -58.43834], [-34.63078, -58.43824], [-34.63076, -58.43816], [-34.63074, -58.43812], [-34.63069, -58.43796], [-34.63063, -58.43773], [-34.63052, -58.43724], [-34.63046, -58.43687], [-34.63045, -58.43682], [-34.63043, -58.43671], [-34.63042, -58.4366], [-34.63037, -58.43621], [-34.63033, -58.43591], [-34.63029, -58.43567], [-34.63025, -58.43536], [-34.63023, -58.43529], [-34.63022, -58.4352], [-34.6302, -58.43511], [-34.63009, -58.43444], [-34.63009, -58.43443], [-34.63007, -58.43432], [-34.63006, -58.43421], [-34.63001, -58.43392], [-34.63, -58.43385], [-34.62999, -58.43378], [-34.62997, -58.43365], [-34.62995, -58.4335], [-34.62994, -58.43345], [-34.62993, -58.43332], [-34.62987, -58.43293], [-34.62974, -58.43202], [-34.62971, -58.43186], [-34.62969, -58.4317], [-34.62961, -58.43118], [-34.62952, -58.43067], [-34.62949, -58.43048], [-34.62946, -58.4303], [-34.62936, -58.42961], [-34.62931, -58.42925], [-34.6293, -58.42915], [-34.62928, -58.42905], [-34.62912, -58.42782], [-34.62911, -58.4277], [-34.62909, -58.42759], [-34.62902, -58.427], [-34.62895, -58.42643], [-34.62893, -58.42629], [-34.62891, -58.42614], [-34.62882, -58.42537], [-34.6288, -58.42524], [-34.62879, -58.4251], [-34.62877, -58.42496], [-34.62871, -58.42447], [-34.62865, -58.42389], [-34.62864, -58.42379], [-34.62862, -58.42367], [-34.62861, -58.42355], [-34.62856, -58.42298], [-34.62852, -58.42263], [-34.6285, -58.42247], [-34.62848, -58.42234], [-34.62847, -58.42222], [-34.62842, -58.42191], [-34.62841, -58.42183], [-34.62839, -58.4216], [-34.62828, -58.42097], [-34.62818, -58.42034], [-34.62817, -58.42032], [-34.6281, -58.41989], [-34.62808, -58.41978], [-34.62807, -58.41967], [-34.62799, -58.41915], [-34.62791, -58.4186], [-34.62789, -58.41844], [-34.62787, -58.41834], [-34.62786, -58.41824], [-34.62781, -58.41791], [-34.62779, -58.41774], [-34.62776, -58.41755], [-34.62774, -58.41738], [-34.62774, -58.41735], [-34.62771, -58.41718], [-34.62769, -58.417], [-34.62765, -58.41679], [-34.62764, -58.41668], [-34.62763, -58.41662], [-34.6276, -58.41644], [-34.62757, -58.41626], [-34.62754, -58.41607], [-34.62751, -58.41588], [-34.62749, -58.41569], [-34.62746, -58.41552], [-34.62744, -58.41536], [-34.62742, -58.41516], [-34.62739, -58.41495], [-34.62737, -58.41479], [-34.62734, -58.41457], [-34.62732, -58.41439], [-34.62729, -58.41421], [-34.62727, -58.41402], [-34.62724, -58.41384], [-34.62722, -58.41366], [-34.6272, -58.41348], [-34.62717, -58.41329], [-34.62715, -58.41311], [-34.62713, -58.41293], [-34.62711, -58.41284], [-34.6271, -58.41274], [-34.62708, -58.41256], [-34.62706, -58.41238], [-34.627, -58.412], [-34.62698, -58.41179], [-34.62694, -58.41138], [-34.62692, -58.41114], [-34.62692, -58.41109], [-34.62688, -58.41052], [-34.62688, -58.41028], [-34.62687, -58.41011], [-34.62685, -58.40994], [-34.62685, -58.40942], [-34.62684, -58.40924], [-34.62684, -58.40905], [-34.62683, -58.40887], [-34.62683, -58.40868], [-34.62682, -58.40852], [-34.62681, -58.40831], [-34.6268, -58.40813], [-34.62679, -58.40794], [-34.62677, -58.40775], [-34.62676, -58.40757], [-34.62674, -58.40739], [-34.62672, -58.4072], [-34.6267, -58.40702], [-34.62669, -58.40699], [-34.62669, -58.40696], [-34.62668, -58.40692], [-34.62668, -58.4069], [-34.62667, -58.40685], [-34.62667, -58.40682], [-34.62666, -58.40679], [-34.62663, -58.40657], [-34.62657, -58.40592], [-34.62657, -58.40588], [-34.62655, -58.40579], [-34.62652, -58.40574], [-34.62652, -58.40573], [-34.62651, -58.40566], [-34.62645, -58.40524], [-34.62633, -58.40424], [-34.62625, -58.40364], [-34.62625, -58.40363], [-34.62623, -58.40346], [-34.62614, -58.40277], [-34.62608, -58.40235], [-34.62603, -58.40204], [-34.62597, -58.4017], [-34.62591, -58.4014], [-34.62583, -58.40102], [-34.62578, -58.40079], [-34.62569, -58.40042], [-34.62562, -58.40013], [-34.62541, -58.39923], [-34.6253, -58.39876], [-34.62496, -58.39743], [-34.62482, -58.39677], [-34.62467, -58.39611], [-34.62467, -58.39611], [-34.6247, -58.39602], [-34.62471, -58.39597], [-34.62471, -58.39592], [-34.62471, -58.39586], [-34.62461, -58.39525], [-34.62452, -58.39487], [-34.62444, -58.39452], [-34.62442, -58.39445], [-34.62422, -58.3936], [-34.62422, -58.3936], [-34.62405, -58.39286], [-34.62403, -58.39273], [-34.62403, -58.39273], [-34.62417, -58.39271], [-34.62425, -58.3927], [-34.62494, -58.3926], [-34.62505, -58.39259], [-34.62514, -58.39258], [-34.6253, -58.39256], [-34.62547, -58.39249], [-34.62591, -58.39242], [-34.62646, -58.3923], [-34.62695, -58.39223], [-34.62724, -58.39218], [-34.62724, -58.39218], [-34.62728, -58.39196], [-34.62727, -58.39182], [-34.62727, -58.39116], [-34.62726, -58.39023], [-34.62723, -58.38943], [-34.6272, -58.38935], [-34.62719, -58.38921], [-34.62718, -58.38881], [-34.62715, -58.38832], [-34.62714, -58.38803], [-34.62713, -58.38753], [-34.62712, -58.38724], [-34.62712, -58.38704], [-34.62711, -58.38681], [-34.62706, -58.38574], [-34.62706, -58.38574], [-34.62843, -58.3857], [-34.62855, -58.38569], [-34.62912, -58.38565]],\n",
       "                {&quot;bubblingMouseEvents&quot;: true, &quot;color&quot;: &quot;blue&quot;, &quot;dashArray&quot;: null, &quot;dashOffset&quot;: null, &quot;fill&quot;: false, &quot;fillColor&quot;: &quot;blue&quot;, &quot;fillOpacity&quot;: 0.2, &quot;fillRule&quot;: &quot;evenodd&quot;, &quot;lineCap&quot;: &quot;round&quot;, &quot;lineJoin&quot;: &quot;round&quot;, &quot;noClip&quot;: false, &quot;opacity&quot;: 1.0, &quot;smoothFactor&quot;: 1.0, &quot;stroke&quot;: true, &quot;weight&quot;: 3}\n",
       "            ).addTo(map_1a639679c6ff66675767e4d19abd8274);\n",
       "        \n",
       "    \n",
       "            var poly_line_b8120ca6523f4915c41001a8a9443a7f = L.polyline(\n",
       "                [[-34.909333, -58.369866], [-34.909318999999996, -58.36984], [-34.909316, -58.36984], [-34.909294, -58.369763], [-34.90926, -58.369697], [-34.909098, -58.369466], [-34.9091, -58.369434], [-34.909103, -58.369442], [-34.909107, -58.369437], [-34.909103, -58.369421], [-34.909115, -58.369441], [-34.909116, -58.369445], [-34.90912, -58.369452], [-34.909133, -58.36945], [-34.909126, -58.36944], [-34.909121, -58.369442], [-34.909113, -58.369441], [-34.909106, -58.369441], [-34.909106, -58.369441], [-34.909103, -58.369421], [-34.909103, -58.369439], [-34.909121, -58.369411], [-34.909116, -58.369411], [-34.909115, -58.369411], [-34.909116, -58.369411], [-34.909082, -58.369278], [-34.909227, -58.369259], [-34.909417, -58.368926], [-34.909649, -58.368873], [-34.909826, -58.369189], [-34.910021, -58.369541], [-34.910184, -58.369945], [-34.91022, -58.370039], [-34.910257, -58.370062], [-34.910418, -58.370367], [-34.91068, -58.370914], [-34.91101, -58.371567], [-34.911206, -58.372038], [-34.911472, -58.372482], [-34.911601, -58.372778], [-34.911618, -58.372796], [-34.911629, -58.372798], [-34.911619, -58.372782], [-34.9116, -58.37275], [-34.911613, -58.372778], [-34.911688, -58.37296], [-34.911938, -58.373433], [-34.912133, -58.373826], [-34.912338, -58.374305], [-34.912614, -58.374838], [-34.912877, -58.37535], [-34.913008, -58.375583], [-34.913176, -58.375916], [-34.913156, -58.375935], [-34.913194, -58.375951], [-34.913169, -58.375957], [-34.913169, -58.375935], [-34.913174, -58.375936], [-34.913173, -58.375936], [-34.913172, -58.375933], [-34.913175, -58.375933], [-34.913173, -58.375931], [-34.913172, -58.375931], [-34.913166, -58.375951], [-34.913166, -58.375951], [-34.913165, -58.375925], [-34.913164, -58.375925], [-34.913306, -58.376305], [-34.913685, -58.376989], [-34.913939, -58.377471], [-34.914275, -58.378186], [-34.914502, -58.37874], [-34.914751, -58.379093], [-34.9149, -58.379441], [-34.915111, -58.379848], [-34.91524, -58.380081], [-34.915373, -58.380378], [-34.915483, -58.380602], [-34.915508, -58.380632], [-34.91551, -58.380649], [-34.915492, -58.380665], [-34.91546, -58.380658], [-34.91547, -58.380625], [-34.915467, -58.380626], [-34.91549, -58.380595], [-34.915469, -58.380615], [-34.915466, -58.380617], [-34.915465, -58.380618], [-34.91549, -58.380595], [-34.915479, -58.380619], [-34.91549, -58.380595], [-34.915564, -58.3807], [-34.915682, -58.380897], [-34.915926, -58.381393], [-34.91621, -58.382004], [-34.916439, -58.382434], [-34.916815, -58.383136], [-34.917105, -58.383755], [-34.917139, -58.383875], [-34.917155, -58.383893], [-34.917169, -58.383897], [-34.917168, -58.383897], [-34.917145, -58.383893], [-34.917168, -58.383896], [-34.917167, -58.383896], [-34.917168, -58.383896], [-34.917168, -58.383895], [-34.917168, -58.383895], [-34.917168, -58.383895], [-34.917202, -58.383953], [-34.917292, -58.384134], [-34.917287, -58.384401], [-34.916798, -58.384766], [-34.916143, -58.385225], [-34.915726, -58.385532], [-34.915149, -58.38591], [-34.914692, -58.386281], [-34.914638, -58.386303], [-34.914637, -58.386306], [-34.914606, -58.386288], [-34.914641, -58.386305], [-34.914538, -58.386374], [-34.914166, -58.386665], [-34.913823, -58.386869], [-34.913421, -58.387216], [-34.912969, -58.387549], [-34.912644, -58.38779], [-34.912182, -58.388054], [-34.911832, -58.388369], [-34.911764, -58.388411], [-34.911757, -58.388407], [-34.911721, -58.38838], [-34.911724, -58.388423], [-34.911446, -58.388625], [-34.911155, -58.388851], [-34.910663, -58.389151], [-34.910076, -58.389651], [-34.909742, -58.389891], [-34.909178, -58.39029], [-34.908778, -58.390432], [-34.908256, -58.390676], [-34.9077, -58.390729], [-34.907346, -58.390721], [-34.907275, -58.390682], [-34.907269, -58.390713], [-34.907275, -58.390715], [-34.907282, -58.390723], [-34.907258, -58.390688], [-34.907284, -58.390724], [-34.907284, -58.390724], [-34.907284, -58.390724], [-34.907284, -58.390724], [-34.907284, -58.390724], [-34.90699, -58.390714], [-34.90641, -58.390685], [-34.90595, -58.39066], [-34.905177, -58.390661], [-34.904367, -58.390618], [-34.903822, -58.3906], [-34.903123, -58.390578], [-34.902091, -58.390537], [-34.901237, -58.390504], [-34.900636, -58.390486], [-34.899773, -58.390467], [-34.899314, -58.39043], [-34.899155, -58.390435], [-34.898814, -58.390426], [-34.898246, -58.390401], [-34.897795, -58.390373], [-34.897097, -58.390343], [-34.896383, -58.390304], [-34.89594, -58.390314], [-34.895238, -58.390286], [-34.894749, -58.39026], [-34.893982, -58.390235], [-34.893176, -58.390191], [-34.89244, -58.390169], [-34.892014, -58.390159], [-34.891488, -58.390135], [-34.890893, -58.390107], [-34.890479, -58.390113], [-34.890089, -58.390096], [-34.889878, -58.390103], [-34.889799, -58.390103], [-34.889653, -58.39008], [-34.889251, -58.390064], [-34.888981, -58.390058], [-34.888738, -58.390065], [-34.888578, -58.39007], [-34.888552, -58.39007], [-34.888555, -58.390079], [-34.888558, -58.390085], [-34.888558, -58.390086], [-34.888558, -58.390086], [-34.888559, -58.390086], [-34.888558, -58.390086], [-34.888533, -58.390084], [-34.888333, -58.390067], [-34.888124, -58.390053], [-34.88768, -58.390032], [-34.88726, -58.390036], [-34.887113, -58.390029], [-34.886963, -58.390031], [-34.886875, -58.390031], [-34.886483, -58.390018], [-34.885926, -58.389993], [-34.885557, -58.38998], [-34.885034, -58.389961], [-34.884468, -58.389949], [-34.884163, -58.389923], [-34.883461, -58.389918], [-34.882735, -58.389885], [-34.882254, -58.389875], [-34.881729, -58.389857], [-34.881468, -58.389838], [-34.88123, -58.389832], [-34.880644, -58.389802], [-34.879969, -58.389764], [-34.879482, -58.389759], [-34.878707, -58.389725], [-34.877979, -58.389704], [-34.877494, -58.389703], [-34.876969, -58.389673], [-34.876446, -58.389651], [-34.876127, -58.389625], [-34.87582, -58.389606], [-34.875792, -58.389608], [-34.875794, -58.38961], [-34.875793, -58.389612], [-34.875779, -58.389614], [-34.875793, -58.389612], [-34.875793, -58.389612], [-34.875773, -58.389607], [-34.875531, -58.389597], [-34.875044, -58.389578], [-34.874658, -58.389562], [-34.874034, -58.389553], [-34.873401, -58.389546], [-34.872958, -58.38952], [-34.872235, -58.389489], [-34.87146, -58.389464], [-34.869865, -58.389436], [-34.86927, -58.389437], [-34.869277, -58.389441], [-34.869275, -58.389446], [-34.869276, -58.389447], [-34.869276, -58.389447], [-34.869253, -58.389442], [-34.869056, -58.389434], [-34.868661, -58.38943], [-34.868302, -58.389422], [-34.867775, -58.389401], [-34.867184, -58.389376], [-34.8668, -58.38936], [-34.866171, -58.389356], [-34.865588, -58.389366], [-34.865132, -58.389365], [-34.864427, -58.389361], [-34.863828, -58.38932], [-34.863057, -58.389344], [-34.862588, -58.389347], [-34.861943, -58.389515], [-34.861346, -58.389945], [-34.860931, -58.390231], [-34.860329, -58.390691], [-34.859711, -58.39112], [-34.859281, -58.391399], [-34.858702, -58.391748], [-34.858303, -58.391836], [-34.85822, -58.391838], [-34.858178, -58.391818], [-34.858205, -58.391834], [-34.8582, -58.391831], [-34.8582, -58.391831], [-34.85819, -58.391831], [-34.858034, -58.391863], [-34.857656, -58.391934], [-34.857143, -58.392052], [-34.856861, -58.392131], [-34.856281, -58.392596], [-34.855917, -58.392867], [-34.85541, -58.393176], [-34.854928, -58.393526], [-34.854495, -58.393828], [-34.854286, -58.393971], [-34.854056, -58.394144], [-34.853817, -58.394341], [-34.853571, -58.39451], [-34.853174, -58.394815], [-34.853015, -58.394932], [-34.852863, -58.39506], [-34.852646, -58.395248], [-34.852337, -58.395453], [-34.851813, -58.395805], [-34.851241, -58.396214], [-34.850832, -58.396514], [-34.850277, -58.396923], [-34.849929, -58.397188], [-34.849868, -58.397242], [-34.849785, -58.397319], [-34.849633, -58.397431], [-34.849363, -58.397622], [-34.848876, -58.397963], [-34.84854, -58.398199], [-34.848112, -58.398506], [-34.847896, -58.398662], [-34.847811, -58.39872], [-34.84754, -58.398922], [-34.846828, -58.399365], [-34.846361, -58.399719], [-34.845682, -58.400255], [-34.845079, -58.400667], [-34.84482, -58.400836], [-34.844711, -58.400922], [-34.844741, -58.400984], [-34.844687, -58.400955], [-34.844726, -58.40098], [-34.844648, -58.401058], [-34.844379, -58.401231], [-34.843957, -58.401528], [-34.843772, -58.401679], [-34.843555, -58.401827], [-34.843386, -58.401948], [-34.843263, -58.402], [-34.842971, -58.402257], [-34.842809, -58.402343], [-34.842783, -58.402348], [-34.84278, -58.402356], [-34.842752, -58.402383], [-34.842749, -58.402387], [-34.842665, -58.402437], [-34.842391, -58.40255], [-34.842102, -58.402675], [-34.841933, -58.402714], [-34.841786, -58.402739], [-34.841786, -58.402731], [-34.841785, -58.402726], [-34.841786, -58.402727], [-34.841786, -58.402727], [-34.841786, -58.402727], [-34.841786, -58.402727], [-34.841786, -58.402727], [-34.841786, -58.402727], [-34.841767, -58.402729], [-34.841588, -58.402725], [-34.84117, -58.402683], [-34.840656, -58.402567], [-34.840279, -58.402464], [-34.839756, -58.402324], [-34.839137, -58.40216], [-34.838861, -58.402083], [-34.83858, -58.402016], [-34.838069, -58.401849], [-34.837479, -58.401668], [-34.837129, -58.401567], [-34.83666, -58.40142], [-34.83635, -58.401313], [-34.836259, -58.401295], [-34.836214, -58.401286], [-34.836212, -58.401287], [-34.836208, -58.401296], [-34.836208, -58.401296], [-34.836183, -58.401287], [-34.836007, -58.401234], [-34.835674, -58.401016], [-34.835484, -58.400777], [-34.835312, -58.400681], [-34.835087, -58.400729], [-34.834698, -58.400798], [-34.83436, -58.40072], [-34.833716, -58.400505], [-34.833108, -58.400307], [-34.832823, -58.400197], [-34.832182, -58.399984], [-34.831787, -58.399867], [-34.831659, -58.399815], [-34.831354, -58.39971], [-34.830914, -58.399553], [-34.830588, -58.399417], [-34.830045, -58.399191], [-34.829628, -58.399038], [-34.829018, -58.398732], [-34.828478, -58.398472], [-34.82809, -58.398306], [-34.827597, -58.398076], [-34.827269, -58.397924], [-34.827144, -58.39786], [-34.827083, -58.397836], [-34.827076, -58.397843], [-34.827084, -58.397839], [-34.827085, -58.39784], [-34.827083, -58.39784], [-34.827078, -58.397839], [-34.826838, -58.397735], [-34.826411, -58.397558], [-34.826103, -58.39742], [-34.825632, -58.397213], [-34.825134, -58.396996], [-34.824791, -58.39686], [-34.824262, -58.396603], [-34.823645, -58.396348], [-34.823195, -58.396216], [-34.822702, -58.395933], [-34.82212, -58.395715], [-34.821701, -58.395569], [-34.821138, -58.395354], [-34.820396, -58.394992], [-34.819952, -58.394803], [-34.819317, -58.394607], [-34.818877, -58.394597], [-34.818745, -58.394625], [-34.818749, -58.394639], [-34.818757, -58.394645], [-34.818749, -58.394621], [-34.818758, -58.394645], [-34.818761, -58.394645], [-34.818597, -58.394698], [-34.818366, -58.394835], [-34.818063, -58.395089], [-34.817588, -58.395408], [-34.81718, -58.395678], [-34.816829, -58.395867], [-34.816422, -58.39619], [-34.815913, -58.396505], [-34.815556, -58.396745], [-34.814999, -58.397118], [-34.814316, -58.397593], [-34.813891, -58.397924], [-34.81333, -58.398386], [-34.812956, -58.398694], [-34.812871, -58.398793], [-34.812824, -58.398825], [-34.812822, -58.398816], [-34.812737, -58.398898], [-34.812662, -58.398907], [-34.812332, -58.399152], [-34.812043, -58.399403], [-34.811662, -58.399764], [-34.811388, -58.399912], [-34.811328, -58.399981], [-34.811313, -58.400024], [-34.811323, -58.400022], [-34.811324, -58.400022], [-34.811318, -58.40004], [-34.81109, -58.400157], [-34.810819, -58.4004], [-34.810483, -58.40058], [-34.810191, -58.400796], [-34.81005, -58.400913], [-34.809788, -58.401116], [-34.809399, -58.401403], [-34.809086, -58.401653], [-34.808675, -58.401985], [-34.808229, -58.402339], [-34.807742, -58.40271], [-34.807384, -58.402977], [-34.806841, -58.403384], [-34.806532, -58.403574], [-34.805987, -58.403981], [-34.805674, -58.40426], [-34.805453, -58.404436], [-34.805305, -58.404532], [-34.804966, -58.404753], [-34.804445, -58.40517], [-34.804116, -58.405434], [-34.803596, -58.405788], [-34.803087, -58.406222], [-34.802784, -58.406461], [-34.802208, -58.406878], [-34.801652, -58.407291], [-34.801415, -58.407432], [-34.80086, -58.407775], [-34.800179, -58.407768], [-34.79971, -58.407761], [-34.799084, -58.407961], [-34.798666, -58.408132], [-34.798416, -58.408218], [-34.798403, -58.408188], [-34.7984, -58.408195], [-34.798378, -58.40818], [-34.798394, -58.408194], [-34.79832, -58.408211], [-34.797422, -58.408489], [-34.797017, -58.408583], [-34.796474, -58.408739], [-34.796185, -58.408829], [-34.796152, -58.408825], [-34.796175, -58.408852], [-34.796174, -58.408856], [-34.796173, -58.408856], [-34.796173, -58.408856], [-34.795962, -58.408914], [-34.795708, -58.408977], [-34.795322, -58.409032], [-34.794808, -58.409037], [-34.794418, -58.409033], [-34.793715, -58.409023], [-34.792936, -58.409049], [-34.792564, -58.409006], [-34.791708, -58.408871], [-34.791044, -58.408727], [-34.790647, -58.408637], [-34.790193, -58.408535], [-34.789982, -58.408481], [-34.789929, -58.408453], [-34.789902, -58.408446], [-34.789889, -58.408433], [-34.78991, -58.408453], [-34.789911, -58.408452], [-34.789912, -58.408452], [-34.789793, -58.408428], [-34.789447, -58.408339], [-34.789185, -58.408264], [-34.788689, -58.408169], [-34.788176, -58.408089], [-34.787823, -58.408007], [-34.787232, -58.407868], [-34.786609, -58.407731], [-34.786378, -58.407678], [-34.786101, -58.407631], [-34.785615, -58.407537], [-34.785171, -58.407435], [-34.784566, -58.407301], [-34.78431, -58.407242], [-34.784119, -58.407195], [-34.784123, -58.407187], [-34.784142, -58.407192], [-34.784124, -58.407189], [-34.784094, -58.407186], [-34.784026, -58.407172], [-34.783707, -58.407106], [-34.783239, -58.406985], [-34.782856, -58.406889], [-34.782199, -58.406738], [-34.781519, -58.40658], [-34.781052, -58.406498], [-34.780337, -58.406349], [-34.779564, -58.406206], [-34.778994, -58.406075], [-34.77853, -58.405974], [-34.77854, -58.405981], [-34.778546, -58.405989], [-34.778551, -58.405977], [-34.778546, -58.405989], [-34.778546, -58.40599], [-34.778551, -58.405977], [-34.778413, -58.405954], [-34.778104, -58.405897], [-34.777437, -58.405762], [-34.776772, -58.405636], [-34.776412, -58.405544], [-34.775907, -58.405434], [-34.775326, -58.40534], [-34.774861, -58.405281], [-34.774166, -58.405188], [-34.773474, -58.405096], [-34.772977, -58.405036], [-34.772242, -58.404943], [-34.771743, -58.404856], [-34.771624, -58.404846], [-34.771597, -58.404834], [-34.7716, -58.404849], [-34.771594, -58.404846], [-34.771593, -58.404845], [-34.771593, -58.404845], [-34.771593, -58.404845], [-34.771622, -58.40482], [-34.771432, -58.404825], [-34.77116, -58.404792], [-34.770605, -58.404692], [-34.769889, -58.404504], [-34.76942, -58.404405], [-34.768654, -58.404234], [-34.767978, -58.404125], [-34.767312, -58.403982], [-34.766495, -58.403827], [-34.765744, -58.403672], [-34.76541, -58.403618], [-34.76522, -58.403569], [-34.765197, -58.403581], [-34.765204, -58.403576], [-34.765211, -58.403575], [-34.76521, -58.40357], [-34.765183, -58.403528], [-34.765209, -58.40357], [-34.765039, -58.403523], [-34.764785, -58.40345], [-34.764083, -58.40334], [-34.763622, -58.403213], [-34.762935, -58.403068], [-34.76224, -58.402931], [-34.761761, -58.402824], [-34.761108, -58.4027], [-34.760412, -58.402529], [-34.75991, -58.402413], [-34.759239, -58.402286], [-34.75867, -58.402146], [-34.758376, -58.402086], [-34.758301, -58.402078], [-34.75831, -58.402056], [-34.758299, -58.402048], [-34.758299, -58.402054], [-34.758299, -58.402055], [-34.75828, -58.402063], [-34.758157, -58.402039], [-34.757784, -58.401962], [-34.757273, -58.401861], [-34.75675, -58.401721], [-34.756246, -58.401609], [-34.755524, -58.40144], [-34.754806, -58.401282], [-34.754303, -58.401206], [-34.75352, -58.40107], [-34.752818, -58.400894], [-34.752367, -58.400781], [-34.752239, -58.400771], [-34.752231, -58.400771], [-34.752241, -58.400746], [-34.752238, -58.400774], [-34.752238, -58.400774], [-34.752238, -58.400774], [-34.752237, -58.400775], [-34.752237, -58.400775], [-34.751805, -58.400665], [-34.751208, -58.400542], [-34.750642, -58.400433], [-34.749924, -58.400266], [-34.749107, -58.40007], [-34.748613, -58.399995], [-34.747823, -58.399831], [-34.746999, -58.399698], [-34.746352, -58.399581], [-34.745742, -58.399465], [-34.745133, -58.39935], [-34.745014, -58.399313], [-34.744984, -58.399333], [-34.744941, -58.399357], [-34.744949, -58.399348], [-34.744965, -58.399338], [-34.744976, -58.399336], [-34.744978, -58.399336], [-34.744977, -58.399332], [-34.744447, -58.399204], [-34.743868, -58.399112], [-34.743091, -58.398952], [-34.742554, -58.398829], [-34.741722, -58.398672], [-34.740888, -58.398489], [-34.740358, -58.39838], [-34.739578, -58.398242], [-34.738753, -58.398094], [-34.73819, -58.397953], [-34.737537, -58.397829], [-34.736809, -58.397692], [-34.73666, -58.397669], [-34.73664, -58.397665], [-34.736636, -58.397646], [-34.736631, -58.397641], [-34.736621, -58.397636], [-34.736564, -58.397625], [-34.736199, -58.397572], [-34.735943, -58.397533], [-34.735695, -58.397488], [-34.735325, -58.397393], [-34.73496, -58.397317], [-34.734323, -58.397151], [-34.733966, -58.397087], [-34.733309, -58.396954], [-34.732705, -58.396834], [-34.732022, -58.396701], [-34.731551, -58.396598], [-34.730725, -58.396414], [-34.729989, -58.396294], [-34.72943, -58.396154], [-34.728763, -58.396039], [-34.728188, -58.395914], [-34.72742, -58.39574], [-34.726761, -58.395594], [-34.726414, -58.395488], [-34.725765, -58.395395], [-34.72501, -58.395242], [-34.724492, -58.39515], [-34.723933, -58.395054], [-34.723335, -58.394866], [-34.722692, -58.394751], [-34.72185, -58.394557], [-34.721052, -58.394381], [-34.720508, -58.39426], [-34.719725, -58.394109], [-34.718977, -58.393945], [-34.718524, -58.393812], [-34.718428, -58.393825], [-34.718429, -58.393831], [-34.718473, -58.393804], [-34.718436, -58.393822], [-34.718443, -58.393823], [-34.71845, -58.393828], [-34.718263, -58.393789], [-34.717726, -58.393664], [-34.717227, -58.39354], [-34.716641, -58.393406], [-34.715922, -58.393284], [-34.715948, -58.393298], [-34.71595, -58.393302], [-34.715953999999996, -58.393306], [-34.715953, -58.393311], [-34.715951, -58.393314], [-34.71595, -58.393314], [-34.715846, -58.39328], [-34.715359, -58.39318], [-34.714654, -58.393008], [-34.714163, -58.392892], [-34.713407, -58.392724], [-34.712628, -58.392567], [-34.712111, -58.39242], [-34.711283, -58.392248], [-34.710543, -58.392093], [-34.710304, -58.392017], [-34.709808, -58.391961], [-34.709316, -58.391855], [-34.708918, -58.391716], [-34.708227, -58.391587], [-34.707467, -58.39161], [-34.706973, -58.391658], [-34.706213, -58.391694], [-34.705467, -58.391749], [-34.705008, -58.391774], [-34.704369, -58.391801], [-34.704225, -58.391722], [-34.70424, -58.39176], [-34.704241, -58.391758], [-34.70424, -58.391758], [-34.704238, -58.39176], [-34.704237, -58.391762], [-34.704223, -58.391718], [-34.704235, -58.391764], [-34.704234, -58.391765], [-34.704148, -58.391763], [-34.703833, -58.391728], [-34.703288, -58.391764], [-34.702959, -58.391803], [-34.70261, -58.39175], [-34.701935, -58.39185], [-34.701783, -58.391863], [-34.70166, -58.391878], [-34.701553, -58.391865], [-34.701335, -58.391887], [-34.700822, -58.391933], [-34.700151, -58.39196], [-34.699753, -58.391971], [-34.699249, -58.392003], [-34.698689, -58.392002], [-34.698269, -58.392006], [-34.697627, -58.391754], [-34.696948, -58.391479], [-34.696443, -58.391249], [-34.695719, -58.390867], [-34.694961, -58.390561], [-34.694709, -58.390499], [-34.693769, -58.390096], [-34.693158, -58.389681], [-34.692598, -58.389509], [-34.692235, -58.389445], [-34.691465, -58.389068], [-34.690636, -58.388698], [-34.689821, -58.388353], [-34.689249, -58.388182], [-34.688674, -58.387918], [-34.688495, -58.38785], [-34.688489, -58.387873], [-34.688409, -58.387823], [-34.688413, -58.387824], [-34.688099, -58.38772], [-34.687518, -58.387421], [-34.687003, -58.387246], [-34.686255, -58.3869], [-34.685597, -58.386621], [-34.68518, -58.386475], [-34.684812, -58.386312], [-34.684758, -58.386303], [-34.684728, -58.386242], [-34.684739, -58.386263], [-34.684738, -58.386284], [-34.684738, -58.386268], [-34.684743, -58.386275], [-34.684626, -58.386231], [-34.684225, -58.3861], [-34.683545, -58.385781], [-34.682895, -58.385458], [-34.682625, -58.38542], [-34.681741, -58.384986], [-34.680977, -58.384661], [-34.680446, -58.384444], [-34.679626, -58.384025], [-34.679059, -58.383771], [-34.678249, -58.383402], [-34.677585, -58.383094], [-34.677134, -58.382903], [-34.676463, -58.382646], [-34.675887, -58.382429], [-34.675482, -58.382323], [-34.675043, -58.382196], [-34.674946, -58.38218], [-34.674999, -58.382232], [-34.674961, -58.382197], [-34.67496, -58.382192], [-34.674999, -58.382232], [-34.67496, -58.382191], [-34.67496, -58.382191], [-34.674999, -58.382232], [-34.629107, -58.385638], [-34.629119, -58.385703], [-34.629084, -58.385629], [-34.629082, -58.385636], [-34.629085, -58.385642], [-34.629088, -58.385644]],\n",
       "                {&quot;bubblingMouseEvents&quot;: true, &quot;color&quot;: &quot;red&quot;, &quot;dashArray&quot;: null, &quot;dashOffset&quot;: null, &quot;fill&quot;: false, &quot;fillColor&quot;: &quot;red&quot;, &quot;fillOpacity&quot;: 0.2, &quot;fillRule&quot;: &quot;evenodd&quot;, &quot;lineCap&quot;: &quot;round&quot;, &quot;lineJoin&quot;: &quot;round&quot;, &quot;noClip&quot;: false, &quot;opacity&quot;: 1.0, &quot;smoothFactor&quot;: 1.0, &quot;stroke&quot;: true, &quot;weight&quot;: 3}\n",
       "            ).addTo(map_1a639679c6ff66675767e4d19abd8274);\n",
       "        \n",
       "&lt;/script&gt;\n",
       "&lt;/html&gt;\" style=\"position:absolute;width:100%;height:100%;left:0;top:0;border:none !important;\" allowfullscreen webkitallowfullscreen mozallowfullscreen></iframe></div></div>"
      ],
      "text/plain": [
       "<folium.folium.Map at 0x2bc018e9030>"
      ]
     },
     "execution_count": 482,
     "metadata": {},
     "output_type": "execute_result"
    }
   ],
   "source": [
    "create_map(2567, 10)"
   ]
  },
  {
   "cell_type": "markdown",
   "id": "52b2f700",
   "metadata": {},
   "source": [
    "The blue line is the estimated one. Unless the user scheduled a stop and then did not want to stop there, or there was constructions obstacles... I cannot see this other way than an error, so I am gonna sketch more maps with an important area between the routes."
   ]
  },
  {
   "cell_type": "code",
   "execution_count": 477,
   "id": "b685cd32",
   "metadata": {},
   "outputs": [
    {
     "data": {
      "text/html": [
       "<div>\n",
       "<style scoped>\n",
       "    .dataframe tbody tr th:only-of-type {\n",
       "        vertical-align: middle;\n",
       "    }\n",
       "\n",
       "    .dataframe tbody tr th {\n",
       "        vertical-align: top;\n",
       "    }\n",
       "\n",
       "    .dataframe thead th {\n",
       "        text-align: right;\n",
       "    }\n",
       "</style>\n",
       "<table border=\"1\" class=\"dataframe\">\n",
       "  <thead>\n",
       "    <tr style=\"text-align: right;\">\n",
       "      <th></th>\n",
       "      <th>journey_id</th>\n",
       "      <th>annotator</th>\n",
       "      <th>annotation</th>\n",
       "      <th>estimated_route</th>\n",
       "      <th>real_route</th>\n",
       "      <th>len_esti_route</th>\n",
       "      <th>len_real_route</th>\n",
       "      <th>area_m2</th>\n",
       "      <th>distance_real_r</th>\n",
       "      <th>distance_estimated_r</th>\n",
       "      <th>difference_distances</th>\n",
       "    </tr>\n",
       "  </thead>\n",
       "  <tbody>\n",
       "    <tr>\n",
       "      <th>627</th>\n",
       "      <td>2f4da6e5-548e-11ec-9618-3515f90c81a4</td>\n",
       "      <td>1</td>\n",
       "      <td>They differ</td>\n",
       "      <td>[[-34.61754, -58.40545], [-34.61899, -58.40509...</td>\n",
       "      <td>[[-34.61751, -58.405644], [-34.617511, -58.405...</td>\n",
       "      <td>1137</td>\n",
       "      <td>393</td>\n",
       "      <td>136.598955</td>\n",
       "      <td>23.107590</td>\n",
       "      <td>29.572307</td>\n",
       "      <td>-6.464717</td>\n",
       "    </tr>\n",
       "    <tr>\n",
       "      <th>628</th>\n",
       "      <td>2f4da6e5-548e-11ec-9618-3515f90c81a4</td>\n",
       "      <td>2</td>\n",
       "      <td>They differ</td>\n",
       "      <td>[[-34.61754, -58.40545], [-34.61899, -58.40509...</td>\n",
       "      <td>[[-34.61751, -58.405644], [-34.617511, -58.405...</td>\n",
       "      <td>1137</td>\n",
       "      <td>393</td>\n",
       "      <td>136.598955</td>\n",
       "      <td>23.107590</td>\n",
       "      <td>29.572307</td>\n",
       "      <td>-6.464717</td>\n",
       "    </tr>\n",
       "    <tr>\n",
       "      <th>1876</th>\n",
       "      <td>e97f7ebc-5cb7-11ec-b0b6-95f4bdef0fb6</td>\n",
       "      <td>1</td>\n",
       "      <td>They differ</td>\n",
       "      <td>[[37.2819, -5.91662], [37.28197, -5.91653], [3...</td>\n",
       "      <td>[[37.281886, -5.916649], [37.28189, -5.916641]...</td>\n",
       "      <td>1224</td>\n",
       "      <td>311</td>\n",
       "      <td>104.474884</td>\n",
       "      <td>30.058771</td>\n",
       "      <td>21.331202</td>\n",
       "      <td>8.727569</td>\n",
       "    </tr>\n",
       "    <tr>\n",
       "      <th>1877</th>\n",
       "      <td>e97f7ebc-5cb7-11ec-b0b6-95f4bdef0fb6</td>\n",
       "      <td>7</td>\n",
       "      <td>They differ</td>\n",
       "      <td>[[37.2819, -5.91662], [37.28197, -5.91653], [3...</td>\n",
       "      <td>[[37.281886, -5.916649], [37.28189, -5.916641]...</td>\n",
       "      <td>1224</td>\n",
       "      <td>311</td>\n",
       "      <td>104.474884</td>\n",
       "      <td>30.058771</td>\n",
       "      <td>21.331202</td>\n",
       "      <td>8.727569</td>\n",
       "    </tr>\n",
       "    <tr>\n",
       "      <th>1982</th>\n",
       "      <td>6812a1b0-56ba-11ec-9c51-459a9ebea546</td>\n",
       "      <td>4</td>\n",
       "      <td>They differ</td>\n",
       "      <td>[[-33.41537, -70.5839], [-33.41517, -70.584], ...</td>\n",
       "      <td>[[-33.415238, -70.58388], [-33.415238, -70.583...</td>\n",
       "      <td>685</td>\n",
       "      <td>330</td>\n",
       "      <td>117.167780</td>\n",
       "      <td>24.154638</td>\n",
       "      <td>24.030253</td>\n",
       "      <td>0.124385</td>\n",
       "    </tr>\n",
       "    <tr>\n",
       "      <th>2091</th>\n",
       "      <td>f93435cc-5370-11ec-8d49-db7acdf0167f</td>\n",
       "      <td>1</td>\n",
       "      <td>They differ</td>\n",
       "      <td>[[40.54509, -3.65611], [40.5451, -3.65661], [4...</td>\n",
       "      <td>[[40.545092, -3.655442], [40.545092, -3.655442...</td>\n",
       "      <td>1179</td>\n",
       "      <td>391</td>\n",
       "      <td>106.334912</td>\n",
       "      <td>27.603271</td>\n",
       "      <td>22.510106</td>\n",
       "      <td>5.093165</td>\n",
       "    </tr>\n",
       "    <tr>\n",
       "      <th>2567</th>\n",
       "      <td>d90bdb26-587d-11ec-8cf5-4d1f2c6278c1</td>\n",
       "      <td>7</td>\n",
       "      <td>They differ</td>\n",
       "      <td>[[-34.90884, -58.36936], [-34.90898, -58.36926...</td>\n",
       "      <td>[[-34.909333, -58.369866], [-34.90931899999999...</td>\n",
       "      <td>1493</td>\n",
       "      <td>816</td>\n",
       "      <td>398.380583</td>\n",
       "      <td>35.461101</td>\n",
       "      <td>57.001449</td>\n",
       "      <td>-21.540348</td>\n",
       "    </tr>\n",
       "  </tbody>\n",
       "</table>\n",
       "</div>"
      ],
      "text/plain": [
       "                                journey_id  annotator   annotation  \\\n",
       "627   2f4da6e5-548e-11ec-9618-3515f90c81a4          1  They differ   \n",
       "628   2f4da6e5-548e-11ec-9618-3515f90c81a4          2  They differ   \n",
       "1876  e97f7ebc-5cb7-11ec-b0b6-95f4bdef0fb6          1  They differ   \n",
       "1877  e97f7ebc-5cb7-11ec-b0b6-95f4bdef0fb6          7  They differ   \n",
       "1982  6812a1b0-56ba-11ec-9c51-459a9ebea546          4  They differ   \n",
       "2091  f93435cc-5370-11ec-8d49-db7acdf0167f          1  They differ   \n",
       "2567  d90bdb26-587d-11ec-8cf5-4d1f2c6278c1          7  They differ   \n",
       "\n",
       "                                        estimated_route  \\\n",
       "627   [[-34.61754, -58.40545], [-34.61899, -58.40509...   \n",
       "628   [[-34.61754, -58.40545], [-34.61899, -58.40509...   \n",
       "1876  [[37.2819, -5.91662], [37.28197, -5.91653], [3...   \n",
       "1877  [[37.2819, -5.91662], [37.28197, -5.91653], [3...   \n",
       "1982  [[-33.41537, -70.5839], [-33.41517, -70.584], ...   \n",
       "2091  [[40.54509, -3.65611], [40.5451, -3.65661], [4...   \n",
       "2567  [[-34.90884, -58.36936], [-34.90898, -58.36926...   \n",
       "\n",
       "                                             real_route  len_esti_route  \\\n",
       "627   [[-34.61751, -58.405644], [-34.617511, -58.405...            1137   \n",
       "628   [[-34.61751, -58.405644], [-34.617511, -58.405...            1137   \n",
       "1876  [[37.281886, -5.916649], [37.28189, -5.916641]...            1224   \n",
       "1877  [[37.281886, -5.916649], [37.28189, -5.916641]...            1224   \n",
       "1982  [[-33.415238, -70.58388], [-33.415238, -70.583...             685   \n",
       "2091  [[40.545092, -3.655442], [40.545092, -3.655442...            1179   \n",
       "2567  [[-34.909333, -58.369866], [-34.90931899999999...            1493   \n",
       "\n",
       "      len_real_route     area_m2  distance_real_r  distance_estimated_r  \\\n",
       "627              393  136.598955        23.107590             29.572307   \n",
       "628              393  136.598955        23.107590             29.572307   \n",
       "1876             311  104.474884        30.058771             21.331202   \n",
       "1877             311  104.474884        30.058771             21.331202   \n",
       "1982             330  117.167780        24.154638             24.030253   \n",
       "2091             391  106.334912        27.603271             22.510106   \n",
       "2567             816  398.380583        35.461101             57.001449   \n",
       "\n",
       "      difference_distances  \n",
       "627              -6.464717  \n",
       "628              -6.464717  \n",
       "1876              8.727569  \n",
       "1877              8.727569  \n",
       "1982              0.124385  \n",
       "2091              5.093165  \n",
       "2567            -21.540348  "
      ]
     },
     "execution_count": 477,
     "metadata": {},
     "output_type": "execute_result"
    }
   ],
   "source": [
    "df[df['area_m2']>100]"
   ]
  },
  {
   "cell_type": "code",
   "execution_count": 479,
   "id": "15e634b9",
   "metadata": {},
   "outputs": [
    {
     "data": {
      "text/html": [
       "<div style=\"width:100%;\"><div style=\"position:relative;width:100%;height:0;padding-bottom:60%;\"><span style=\"color:#565656\">Make this Notebook Trusted to load map: File -> Trust Notebook</span><iframe srcdoc=\"&lt;!DOCTYPE html&gt;\n",
       "&lt;html&gt;\n",
       "&lt;head&gt;\n",
       "    \n",
       "    &lt;meta http-equiv=&quot;content-type&quot; content=&quot;text/html; charset=UTF-8&quot; /&gt;\n",
       "    \n",
       "        &lt;script&gt;\n",
       "            L_NO_TOUCH = false;\n",
       "            L_DISABLE_3D = false;\n",
       "        &lt;/script&gt;\n",
       "    \n",
       "    &lt;style&gt;html, body {width: 100%;height: 100%;margin: 0;padding: 0;}&lt;/style&gt;\n",
       "    &lt;style&gt;#map {position:absolute;top:0;bottom:0;right:0;left:0;}&lt;/style&gt;\n",
       "    &lt;script src=&quot;https://cdn.jsdelivr.net/npm/leaflet@1.9.3/dist/leaflet.js&quot;&gt;&lt;/script&gt;\n",
       "    &lt;script src=&quot;https://code.jquery.com/jquery-3.7.1.min.js&quot;&gt;&lt;/script&gt;\n",
       "    &lt;script src=&quot;https://cdn.jsdelivr.net/npm/bootstrap@5.2.2/dist/js/bootstrap.bundle.min.js&quot;&gt;&lt;/script&gt;\n",
       "    &lt;script src=&quot;https://cdnjs.cloudflare.com/ajax/libs/Leaflet.awesome-markers/2.0.2/leaflet.awesome-markers.js&quot;&gt;&lt;/script&gt;\n",
       "    &lt;link rel=&quot;stylesheet&quot; href=&quot;https://cdn.jsdelivr.net/npm/leaflet@1.9.3/dist/leaflet.css&quot;/&gt;\n",
       "    &lt;link rel=&quot;stylesheet&quot; href=&quot;https://cdn.jsdelivr.net/npm/bootstrap@5.2.2/dist/css/bootstrap.min.css&quot;/&gt;\n",
       "    &lt;link rel=&quot;stylesheet&quot; href=&quot;https://netdna.bootstrapcdn.com/bootstrap/3.0.0/css/bootstrap-glyphicons.css&quot;/&gt;\n",
       "    &lt;link rel=&quot;stylesheet&quot; href=&quot;https://cdn.jsdelivr.net/npm/@fortawesome/fontawesome-free@6.2.0/css/all.min.css&quot;/&gt;\n",
       "    &lt;link rel=&quot;stylesheet&quot; href=&quot;https://cdnjs.cloudflare.com/ajax/libs/Leaflet.awesome-markers/2.0.2/leaflet.awesome-markers.css&quot;/&gt;\n",
       "    &lt;link rel=&quot;stylesheet&quot; href=&quot;https://cdn.jsdelivr.net/gh/python-visualization/folium/folium/templates/leaflet.awesome.rotate.min.css&quot;/&gt;\n",
       "    \n",
       "            &lt;meta name=&quot;viewport&quot; content=&quot;width=device-width,\n",
       "                initial-scale=1.0, maximum-scale=1.0, user-scalable=no&quot; /&gt;\n",
       "            &lt;style&gt;\n",
       "                #map_5b5e117a69e30ae987fff3fe47ce91f3 {\n",
       "                    position: relative;\n",
       "                    width: 100.0%;\n",
       "                    height: 100.0%;\n",
       "                    left: 0.0%;\n",
       "                    top: 0.0%;\n",
       "                }\n",
       "                .leaflet-container { font-size: 1rem; }\n",
       "            &lt;/style&gt;\n",
       "        \n",
       "&lt;/head&gt;\n",
       "&lt;body&gt;\n",
       "    \n",
       "    \n",
       "            &lt;div class=&quot;folium-map&quot; id=&quot;map_5b5e117a69e30ae987fff3fe47ce91f3&quot; &gt;&lt;/div&gt;\n",
       "        \n",
       "&lt;/body&gt;\n",
       "&lt;script&gt;\n",
       "    \n",
       "    \n",
       "            var map_5b5e117a69e30ae987fff3fe47ce91f3 = L.map(\n",
       "                &quot;map_5b5e117a69e30ae987fff3fe47ce91f3&quot;,\n",
       "                {\n",
       "                    center: [-34.63503, -58.51197],\n",
       "                    crs: L.CRS.EPSG3857,\n",
       "                    zoom: 10,\n",
       "                    zoomControl: true,\n",
       "                    preferCanvas: false,\n",
       "                }\n",
       "            );\n",
       "\n",
       "            \n",
       "\n",
       "        \n",
       "    \n",
       "            var tile_layer_7721807d478ceebd237c27c82d06b8a2 = L.tileLayer(\n",
       "                &quot;https://tile.openstreetmap.org/{z}/{x}/{y}.png&quot;,\n",
       "                {&quot;attribution&quot;: &quot;\\u0026copy; \\u003ca href=\\&quot;https://www.openstreetmap.org/copyright\\&quot;\\u003eOpenStreetMap\\u003c/a\\u003e contributors&quot;, &quot;detectRetina&quot;: false, &quot;maxNativeZoom&quot;: 19, &quot;maxZoom&quot;: 19, &quot;minZoom&quot;: 0, &quot;noWrap&quot;: false, &quot;opacity&quot;: 1, &quot;subdomains&quot;: &quot;abc&quot;, &quot;tms&quot;: false}\n",
       "            );\n",
       "        \n",
       "    \n",
       "            tile_layer_7721807d478ceebd237c27c82d06b8a2.addTo(map_5b5e117a69e30ae987fff3fe47ce91f3);\n",
       "        \n",
       "    \n",
       "            var poly_line_b2c52663dcdcc2ed89178a790fe3aed5 = L.polyline(\n",
       "                [[-34.61754, -58.40545], [-34.61899, -58.40509], [-34.61906, -58.40507], [-34.61914, -58.40506], [-34.62017, -58.40479], [-34.62031, -58.40475], [-34.62081, -58.40463], [-34.62121, -58.40453], [-34.62135, -58.4045], [-34.62147, -58.40448], [-34.62273, -58.40431], [-34.62312, -58.40422], [-34.624, -58.40402], [-34.624, -58.40402], [-34.62394, -58.40347], [-34.62394, -58.40347], [-34.62465, -58.40333], [-34.62544, -58.40316], [-34.62558, -58.40313], [-34.6259, -58.40307], [-34.6259, -58.40307], [-34.62592, -58.40317], [-34.62593, -58.40326], [-34.62596, -58.40348], [-34.62597, -58.40357], [-34.62602, -58.40391], [-34.62605, -58.40416], [-34.62607, -58.40434], [-34.62615, -58.40499], [-34.62621, -58.40536], [-34.62629, -58.4058], [-34.6263, -58.40583], [-34.62636, -58.40626], [-34.62642, -58.40668], [-34.62644, -58.40682], [-34.62646, -58.4069], [-34.62652, -58.40699], [-34.62658, -58.40742], [-34.62659, -58.40753], [-34.6266, -58.40764], [-34.62661, -58.40775], [-34.62662, -58.40786], [-34.62663, -58.40797], [-34.62664, -58.40807], [-34.62664, -58.40818], [-34.62665, -58.40829], [-34.62666, -58.4084], [-34.62666, -58.40851], [-34.62666, -58.4086], [-34.62667, -58.40876], [-34.62667, -58.40889], [-34.62668, -58.40901], [-34.62668, -58.40914], [-34.62669, -58.40927], [-34.62669, -58.4094], [-34.62669, -58.40954], [-34.6267, -58.40967], [-34.6267, -58.4098], [-34.6267, -58.40992], [-34.62671, -58.41005], [-34.62671, -58.41016], [-34.62671, -58.41019], [-34.62672, -58.4103], [-34.62672, -58.41042], [-34.62673, -58.41063], [-34.62674, -58.41081], [-34.62675, -58.41097], [-34.62676, -58.41111], [-34.62677, -58.41123], [-34.62678, -58.41136], [-34.6268, -58.41149], [-34.62681, -58.41162], [-34.62682, -58.41172], [-34.62683, -58.41184], [-34.62683, -58.41188], [-34.62684, -58.41198], [-34.62685, -58.41201], [-34.62686, -58.41214], [-34.62688, -58.41227], [-34.6269, -58.4124], [-34.62691, -58.41253], [-34.62693, -58.41266], [-34.62695, -58.41279], [-34.62696, -58.41292], [-34.62698, -58.41304], [-34.62699, -58.41317], [-34.62701, -58.4133], [-34.62703, -58.41343], [-34.62704, -58.41356], [-34.62706, -58.41369], [-34.62708, -58.41381], [-34.6271, -58.41394], [-34.62711, -58.41407], [-34.62713, -58.4142], [-34.62715, -58.41433], [-34.62716, -58.41447], [-34.62718, -58.41459], [-34.6272, -58.41472], [-34.62721, -58.41484], [-34.62723, -58.41497], [-34.627250000000004, -58.41511], [-34.62726, -58.41523], [-34.62728, -58.41536], [-34.6273, -58.41549], [-34.62731, -58.41562], [-34.62733, -58.41575], [-34.62735, -58.41587], [-34.62737, -58.41601], [-34.62739, -58.41613], [-34.62741, -58.41625], [-34.62743, -58.4164], [-34.62745, -58.41652], [-34.62747, -58.41665], [-34.62751, -58.41691], [-34.62753, -58.41702], [-34.62755, -58.41716], [-34.62756, -58.41724], [-34.62756, -58.41728], [-34.62757, -58.41735], [-34.62758, -58.41742], [-34.62762, -58.41768], [-34.62764, -58.4178], [-34.62765, -58.41794], [-34.62767, -58.41806], [-34.62769, -58.4182], [-34.6277, -58.41827], [-34.62771, -58.41839], [-34.62773, -58.41851], [-34.62779, -58.41891], [-34.62783, -58.41919], [-34.62788, -58.41954], [-34.6279, -58.41964], [-34.62791, -58.41971], [-34.62793, -58.41983], [-34.62795, -58.41994], [-34.62801, -58.42036], [-34.62809, -58.42086], [-34.62811, -58.421], [-34.62813, -58.42113], [-34.62818, -58.4214], [-34.62831, -58.42224], [-34.62833, -58.42238], [-34.62834, -58.42253], [-34.62841, -58.42308], [-34.62846, -58.42359], [-34.62847, -58.42371], [-34.62848, -58.42382], [-34.6285, -58.42406], [-34.62852, -58.42418], [-34.62853, -58.42429], [-34.62855, -58.42447], [-34.62861, -58.42497], [-34.62863, -58.42515], [-34.62865, -58.42532], [-34.62867, -58.4255], [-34.62871, -58.42586], [-34.62875, -58.42613], [-34.62876, -58.4262], [-34.62878, -58.42635], [-34.62879, -58.4265], [-34.62888, -58.42718], [-34.62894, -58.42764], [-34.62895, -58.42776], [-34.62897, -58.42788], [-34.62902, -58.42832], [-34.62913, -58.42909], [-34.62915, -58.42922], [-34.62917, -58.42936], [-34.6293, -58.43034], [-34.62934, -58.43053], [-34.62937, -58.43073], [-34.62945, -58.43124], [-34.62954, -58.43175], [-34.62956, -58.43191], [-34.62959, -58.43208], [-34.62971, -58.43292], [-34.6298, -58.43359], [-34.6299, -58.43427], [-34.62991, -58.43433], [-34.62993, -58.4344], [-34.62994, -58.43446], [-34.62994, -58.43452], [-34.62995, -58.43456], [-34.62997, -58.4347], [-34.62999, -58.43485], [-34.63002, -58.43499], [-34.63004, -58.43514], [-34.63006, -58.43524], [-34.63008, -58.43534], [-34.63015, -58.43586], [-34.63019, -58.43613], [-34.63026, -58.43665], [-34.63028, -58.43676], [-34.63029, -58.43687], [-34.63036, -58.43729], [-34.6304, -58.43754], [-34.6305, -58.43792], [-34.6306, -58.43823], [-34.63064, -58.43834], [-34.63068, -58.43846], [-34.63076, -58.43865], [-34.63088, -58.43893], [-34.63095, -58.43907], [-34.63101, -58.43918], [-34.63103, -58.43923], [-34.63106, -58.43927], [-34.63114, -58.43942], [-34.63117, -58.43947], [-34.6312, -58.43953], [-34.63124, -58.43959], [-34.63128, -58.43966], [-34.6313, -58.43969], [-34.63132, -58.43972], [-34.63141, -58.43986], [-34.63143, -58.43989], [-34.63145, -58.43993], [-34.63151, -58.44002], [-34.63156, -58.44012], [-34.63166, -58.44027], [-34.63177, -58.44045], [-34.63183, -58.44057], [-34.63193, -58.44073], [-34.63221, -58.44123], [-34.63228, -58.44136], [-34.63235, -58.44148], [-34.63244, -58.44163], [-34.63262, -58.44193], [-34.63298, -58.44253], [-34.633070000000004, -58.44268], [-34.63318, -58.44284], [-34.63323, -58.44292], [-34.63326, -58.44298], [-34.63336, -58.44312], [-34.63356, -58.44341], [-34.63375, -58.44369], [-34.63394, -58.44398], [-34.63414, -58.44427], [-34.63432, -58.44453], [-34.63434, -58.44456], [-34.63437, -58.44461], [-34.63455, -58.44487], [-34.63474, -58.44515], [-34.63482, -58.44527], [-34.63492, -58.44541], [-34.63522, -58.44583], [-34.63551, -58.4463], [-34.63555, -58.44637], [-34.63559, -58.44644], [-34.63568, -58.44658], [-34.63576, -58.44674], [-34.63584, -58.44691], [-34.63591, -58.44706], [-34.63598, -58.44723], [-34.63604, -58.44738], [-34.6361, -58.44757], [-34.63613, -58.44769], [-34.63616, -58.44776], [-34.63619, -58.4479], [-34.63623, -58.44808], [-34.63626, -58.44826], [-34.63629, -58.44841], [-34.63631, -58.44864], [-34.63632, -58.44881], [-34.63633, -58.44902], [-34.63634, -58.44934], [-34.63634, -58.44956], [-34.63632, -58.44995], [-34.6363, -58.45048], [-34.6363, -58.45063], [-34.63629, -58.45084], [-34.63629, -58.45105], [-34.63629, -58.45124], [-34.63629, -58.45145], [-34.63629, -58.45166], [-34.6363, -58.45178], [-34.63631, -58.45191], [-34.63632, -58.45205], [-34.63634, -58.45219], [-34.63636, -58.45232], [-34.63639, -58.45247], [-34.63644, -58.45272], [-34.63648, -58.45287], [-34.63653, -58.45304], [-34.63659, -58.4532], [-34.63664, -58.45338], [-34.63667, -58.45345], [-34.63671, -58.45354], [-34.63678, -58.45369], [-34.63685, -58.45384], [-34.637, -58.4541], [-34.63711, -58.45431], [-34.63731, -58.45463], [-34.6374, -58.45479], [-34.6375, -58.45494], [-34.63763, -58.45516], [-34.63794, -58.45564], [-34.63812, -58.4559], [-34.63829, -58.45615], [-34.63835, -58.45621], [-34.63855, -58.45647], [-34.63885, -58.45682], [-34.63906, -58.45708], [-34.63915, -58.45718], [-34.63923, -58.45728], [-34.63931, -58.45738], [-34.63957, -58.45769], [-34.63983, -58.45799], [-34.64027, -58.45859], [-34.64055, -58.45897], [-34.64066, -58.45913], [-34.64079, -58.4593], [-34.6408, -58.45932], [-34.64081, -58.45933], [-34.64103, -58.45964], [-34.64107, -58.4597], [-34.64147, -58.46028], [-34.64167, -58.46056], [-34.6419, -58.46083], [-34.64213, -58.46107], [-34.64237, -58.46131], [-34.64261, -58.4615], [-34.64277, -58.46163], [-34.642830000000004, -58.46167], [-34.64296, -58.46176], [-34.64313, -58.46186], [-34.64335, -58.46199], [-34.6435, -58.46207], [-34.64359, -58.46211], [-34.64378, -58.46219], [-34.64422, -58.46235], [-34.64437, -58.4624], [-34.64457, -58.46247], [-34.64477, -58.46254], [-34.64494, -58.4626], [-34.64511, -58.46266], [-34.64516, -58.46268], [-34.6454, -58.46278], [-34.64555, -58.46284], [-34.64555, -58.46284], [-34.64559, -58.46291], [-34.64559, -58.46292], [-34.6456, -58.46293], [-34.64568, -58.46296], [-34.64575, -58.463], [-34.64588, -58.46306], [-34.64604, -58.46315], [-34.64613, -58.46322], [-34.64625, -58.46329], [-34.64628, -58.46332], [-34.64639, -58.4634], [-34.64666, -58.46361], [-34.64683, -58.46375], [-34.64775, -58.46459], [-34.64788, -58.46472], [-34.64801, -58.46485], [-34.64818, -58.46501], [-34.64831, -58.46513], [-34.64839, -58.46521], [-34.64846, -58.46528], [-34.64854, -58.46537], [-34.64867, -58.46553], [-34.64875, -58.46563], [-34.64878, -58.46567], [-34.64885, -58.46578], [-34.64894, -58.46592], [-34.64903, -58.46607], [-34.64911, -58.46625], [-34.64915, -58.46633], [-34.64916, -58.46636], [-34.6492, -58.46649], [-34.64925, -58.46666], [-34.64926, -58.46669], [-34.64927, -58.46675], [-34.64929, -58.4668], [-34.64929, -58.46686], [-34.6493, -58.46691], [-34.64931, -58.46698], [-34.64932, -58.46704], [-34.64933, -58.46711], [-34.64933, -58.46721], [-34.64934, -58.46737], [-34.64935, -58.46754], [-34.64935, -58.46778], [-34.64937, -58.4683], [-34.64936, -58.46892], [-34.64935, -58.46927], [-34.64932, -58.47019], [-34.6493, -58.47047], [-34.6493, -58.47077], [-34.64929, -58.47085], [-34.64928, -58.47091], [-34.64926, -58.47117], [-34.64921, -58.47186], [-34.64918, -58.47221], [-34.64917, -58.47235], [-34.64911, -58.47302], [-34.64911, -58.47304], [-34.64907, -58.47347], [-34.64905, -58.47369], [-34.64899, -58.47414], [-34.64896, -58.47438], [-34.64891, -58.47468], [-34.6489, -58.47477], [-34.64887, -58.47496], [-34.64883, -58.47519], [-34.6488, -58.47533], [-34.648740000000004, -58.47551], [-34.64868, -58.47566], [-34.64858, -58.47585], [-34.64854, -58.47591], [-34.64845, -58.47608], [-34.64801, -58.47669], [-34.64794, -58.47679], [-34.64778, -58.47704], [-34.647710000000004, -58.47716], [-34.6477, -58.47718], [-34.64766, -58.47726], [-34.6476, -58.47744], [-34.64753, -58.47772], [-34.6475, -58.4779], [-34.6475, -58.47793], [-34.64747, -58.47813], [-34.64744, -58.4784], [-34.64744, -58.47842], [-34.64744, -58.47872], [-34.64745, -58.47906], [-34.64747, -58.4794], [-34.64748, -58.47946], [-34.64749, -58.47958], [-34.6475, -58.47969], [-34.6475, -58.47979], [-34.64748, -58.47996], [-34.64747, -58.48007], [-34.64746, -58.48014], [-34.64746, -58.4802], [-34.64745, -58.48027], [-34.64743, -58.4804], [-34.6474, -58.48052], [-34.64736, -58.48066], [-34.64733, -58.48081], [-34.64718, -58.48127], [-34.64713, -58.48146], [-34.647, -58.48183], [-34.64696, -58.48197], [-34.64683, -58.48234], [-34.64665, -58.48281], [-34.64657, -58.48302], [-34.64655, -58.4831], [-34.64646, -58.48334], [-34.64627, -58.48388], [-34.6461, -58.48437], [-34.64591, -58.48485], [-34.64576, -58.48522], [-34.64571, -58.48533], [-34.64565, -58.48548], [-34.64557, -58.48567], [-34.64548, -58.48585], [-34.64532, -58.48619], [-34.64519, -58.48643], [-34.64517, -58.48646], [-34.64491, -58.48695], [-34.64473, -58.48727], [-34.64458, -58.48751], [-34.64454, -58.48758], [-34.6445, -58.48765], [-34.64414, -58.4882], [-34.644, -58.48841], [-34.64394, -58.48849], [-34.6438, -58.48868], [-34.64367, -58.48887], [-34.6436, -58.48896], [-34.64354, -58.48904], [-34.64326, -58.48939], [-34.64255, -58.49024], [-34.64241, -58.4904], [-34.64233, -58.4905], [-34.64213, -58.49072], [-34.64197, -58.49092], [-34.64194, -58.49094], [-34.64191, -58.49097], [-34.64174, -58.49116], [-34.64156, -58.49135], [-34.64147, -58.491460000000004], [-34.64143, -58.4915], [-34.64139, -58.49154], [-34.64134, -58.49159], [-34.64129, -58.49163], [-34.6409, -58.49203], [-34.64063, -58.49229], [-34.64036, -58.49255], [-34.64027, -58.49263], [-34.64018, -58.49271], [-34.63998, -58.49289], [-34.63978, -58.49307], [-34.63971, -58.49314], [-34.63967, -58.49316], [-34.63963, -58.4932], [-34.63955, -58.49327], [-34.63948, -58.49331], [-34.63942, -58.49336], [-34.63936, -58.49341], [-34.63856, -58.49403], [-34.63799, -58.49448], [-34.63749, -58.49485], [-34.63748, -58.49487], [-34.63713, -58.49516], [-34.63696, -58.49532], [-34.63685, -58.49544], [-34.63674, -58.49556], [-34.63664, -58.49568], [-34.63655, -58.4958], [-34.63645, -58.49595], [-34.63637, -58.49606], [-34.63632, -58.49613], [-34.63625, -58.49626], [-34.63616, -58.49642], [-34.63608, -58.49658], [-34.63601, -58.49674], [-34.63595, -58.49686], [-34.63587, -58.49711], [-34.63582, -58.49727], [-34.63581, -58.49728], [-34.63576, -58.49742], [-34.63572, -58.4976], [-34.63565, -58.49786], [-34.63563, -58.49798], [-34.63559, -58.49818], [-34.63557, -58.49838], [-34.63556, -58.49851], [-34.63555, -58.49871], [-34.63554, -58.49892], [-34.63554, -58.49911], [-34.63555, -58.49928], [-34.63558, -58.49969], [-34.63559, -58.49977], [-34.63559, -58.49984], [-34.63571, -58.50075], [-34.63588, -58.50202], [-34.63596, -58.50255], [-34.63605, -58.50324], [-34.63611, -58.50372], [-34.63615, -58.50412], [-34.63621, -58.50485], [-34.63622, -58.50522], [-34.63622, -58.50576], [-34.6362, -58.50614], [-34.63619, -58.50629], [-34.63618, -58.50643], [-34.63614, -58.50684], [-34.63608, -58.50718], [-34.63602, -58.50754], [-34.63597, -58.50775], [-34.63589, -58.508070000000004], [-34.6358, -58.50839], [-34.63571, -58.50868], [-34.63565, -58.50889], [-34.63556, -58.50924], [-34.63545, -58.50959], [-34.63535, -58.50993], [-34.6353, -58.51009], [-34.63525, -58.51027], [-34.6352, -58.5105], [-34.63515, -58.51075], [-34.6351, -58.51103], [-34.63508, -58.51121], [-34.63506, -58.5114], [-34.635040000000004, -58.51158], [-34.63503, -58.51178], [-34.63503, -58.51197], [-34.63502, -58.51214], [-34.63503, -58.51237], [-34.63503, -58.51244], [-34.635040000000004, -58.5127], [-34.63508, -58.51326], [-34.63511, -58.51371], [-34.63516, -58.51416], [-34.63519, -58.51445], [-34.6352, -58.51455], [-34.63524, -58.51491], [-34.6353, -58.51529], [-34.63535, -58.51564], [-34.6354, -58.516], [-34.63543, -58.51615], [-34.63549, -58.51653], [-34.63555, -58.51685], [-34.63562, -58.51719], [-34.63569, -58.5175], [-34.63573, -58.5177], [-34.63582, -58.51804], [-34.63592, -58.5184], [-34.63597, -58.51855], [-34.63618, -58.5192], [-34.6363, -58.51957], [-34.63647, -58.52017], [-34.63658, -58.52056], [-34.63665, -58.52087], [-34.63671, -58.52124], [-34.63671, -58.52128], [-34.63673, -58.52145], [-34.63675, -58.52161], [-34.63677, -58.52195], [-34.63677, -58.52218], [-34.63675, -58.52248], [-34.63674, -58.52263], [-34.63672, -58.52276], [-34.6367, -58.5229], [-34.63668, -58.52302], [-34.63666, -58.52312], [-34.63659, -58.52341], [-34.63652, -58.52361], [-34.63644, -58.52387], [-34.63639, -58.524], [-34.63634, -58.52411], [-34.63624, -58.52436], [-34.63609, -58.52469], [-34.63591, -58.52506], [-34.6358, -58.5253], [-34.63573, -58.52545], [-34.63566, -58.5256], [-34.63554, -58.52586], [-34.63549, -58.52594], [-34.63543, -58.5261], [-34.63536, -58.52623], [-34.63534, -58.52629], [-34.63533, -58.52633], [-34.63531, -58.5264], [-34.63528, -58.52647], [-34.63523, -58.52662], [-34.63513, -58.52687], [-34.63507, -58.52705], [-34.63507, -58.52705], [-34.63501, -58.52709], [-34.63499, -58.5271], [-34.63497, -58.52712], [-34.63496, -58.52714], [-34.63495, -58.52716], [-34.63494, -58.52718], [-34.63494, -58.5272], [-34.63492, -58.52727], [-34.63478, -58.52782], [-34.63473, -58.52807], [-34.63465, -58.52837], [-34.63463, -58.52847], [-34.63461, -58.52861], [-34.63456, -58.5288], [-34.63454, -58.52886], [-34.63448, -58.52909], [-34.63439, -58.52919], [-34.63432, -58.52927], [-34.63427, -58.52931], [-34.63425, -58.52934], [-34.63417, -58.52941], [-34.63406, -58.52948], [-34.63399, -58.52952], [-34.63388, -58.52957], [-34.63377, -58.52961], [-34.63364, -58.52963], [-34.63348, -58.52966], [-34.63312, -58.52969], [-34.63301, -58.5297], [-34.63291, -58.5297], [-34.63278, -58.5297], [-34.63269, -58.52971], [-34.63233, -58.52972], [-34.63207, -58.52974], [-34.6318, -58.52976], [-34.63173, -58.52977], [-34.63121, -58.52983], [-34.63096, -58.52986], [-34.63082, -58.52987], [-34.63073, -58.52991], [-34.63044, -58.52994], [-34.63027, -58.52996], [-34.63001, -58.52998], [-34.6297, -58.52999], [-34.62956, -58.53003], [-34.62954, -58.53004], [-34.62946, -58.5301], [-34.62946, -58.5301], [-34.6292, -58.53011], [-34.62911, -58.53011], [-34.62902, -58.53011], [-34.62893, -58.53011], [-34.62868, -58.53012], [-34.62843, -58.53013], [-34.62822, -58.53014], [-34.62806, -58.53015], [-34.62779, -58.53017], [-34.62726, -58.53021], [-34.62715, -58.53021], [-34.627, -58.53022], [-34.62626, -58.53027], [-34.62601, -58.53029], [-34.62587, -58.53029], [-34.62557, -58.53031], [-34.6254, -58.53032], [-34.62523, -58.53033], [-34.62419, -58.53039], [-34.62395, -58.5304], [-34.62386, -58.53041], [-34.62368, -58.53042], [-34.62337, -58.53043], [-34.62334, -58.53043], [-34.62312, -58.53043], [-34.62103, -58.53056], [-34.62032, -58.5306], [-34.62031, -58.5306], [-34.61997, -58.53062], [-34.61944, -58.53065], [-34.61893, -58.53067], [-34.61846, -58.5307], [-34.61772, -58.53074], [-34.61705, -58.53078], [-34.61681, -58.53079], [-34.61652, -58.5308], [-34.61644, -58.53081], [-34.61622, -58.53082], [-34.61609, -58.53082], [-34.61594, -58.53082], [-34.61579, -58.5308], [-34.61568, -58.53079], [-34.61564, -58.53079], [-34.61556, -58.53078], [-34.61551, -58.53076], [-34.61544, -58.53074], [-34.61538, -58.53073], [-34.61519, -58.53066], [-34.61506, -58.53063], [-34.61494, -58.53058], [-34.61483, -58.53053], [-34.61469, -58.53047], [-34.61429, -58.53029], [-34.61406, -58.53018], [-34.61377, -58.53005], [-34.61373, -58.53003], [-34.61351, -58.52992], [-34.61339, -58.52987], [-34.61286, -58.52962], [-34.61216, -58.52929], [-34.61146, -58.52896], [-34.61122, -58.52884], [-34.61072, -58.52861], [-34.61045, -58.52847], [-34.61023, -58.52836], [-34.61001, -58.52827], [-34.6098, -58.52818], [-34.60946, -58.52802], [-34.60931, -58.52794], [-34.60882, -58.52772], [-34.60849, -58.52757], [-34.60825, -58.52747], [-34.60721, -58.52698], [-34.60624, -58.52652], [-34.60573, -58.52629], [-34.60571, -58.52628], [-34.60531, -58.52609], [-34.60474, -58.52582], [-34.60415, -58.52555], [-34.6038, -58.52538], [-34.60356, -58.52527], [-34.60342, -58.5252], [-34.60313, -58.52507], [-34.60279, -58.5249], [-34.60265, -58.52484], [-34.60237, -58.52471], [-34.60223, -58.52463], [-34.6021, -58.52457], [-34.60202, -58.52454], [-34.60189, -58.52448], [-34.60177, -58.52443], [-34.60143, -58.52427], [-34.60129, -58.52421], [-34.60117, -58.52414], [-34.60094, -58.52403], [-34.60077, -58.52394], [-34.60072, -58.52391], [-34.60053, -58.5238], [-34.60022, -58.52361], [-34.60018, -58.52359], [-34.60008, -58.52352], [-34.59993, -58.52343], [-34.59963, -58.52324], [-34.59941, -58.5231], [-34.5993, -58.52304], [-34.59929, -58.52304], [-34.598910000000004, -58.52284], [-34.59869, -58.52273], [-34.59851, -58.52264], [-34.5984, -58.52259], [-34.59815, -58.52248], [-34.59811, -58.52247], [-34.59788, -58.52237], [-34.59763, -58.52229], [-34.59745, -58.52222], [-34.59726, -58.52216], [-34.59698, -58.52205], [-34.5959, -58.52165], [-34.59564, -58.52155], [-34.5955, -58.52148], [-34.59536, -58.52142], [-34.59502, -58.52126], [-34.59493, -58.52122], [-34.59485, -58.52118], [-34.5948, -58.52115], [-34.5945, -58.52101], [-34.59427, -58.5209], [-34.59283, -58.52023], [-34.59269, -58.52016], [-34.59255, -58.52009], [-34.59162, -58.51964], [-34.59122, -58.51945], [-34.59075, -58.51925], [-34.59021, -58.519], [-34.58988, -58.51884], [-34.58956, -58.51868], [-34.5893, -58.51857], [-34.58929, -58.51856], [-34.58916, -58.51851], [-34.58855, -58.51822], [-34.58803, -58.51798], [-34.58765, -58.5178], [-34.58753, -58.51775], [-34.58728, -58.51762], [-34.58695, -58.51746], [-34.58659, -58.51728], [-34.58643, -58.5172], [-34.58609, -58.51706], [-34.58567, -58.51687], [-34.58516, -58.51663], [-34.58465, -58.51638], [-34.58426, -58.51619], [-34.58284, -58.51554], [-34.58156, -58.51494], [-34.58053, -58.51445], [-34.57896, -58.51371], [-34.5779, -58.51322], [-34.5772, -58.51289], [-34.57672, -58.51266], [-34.57546, -58.51207], [-34.57502, -58.51186], [-34.57483, -58.51177], [-34.57429, -58.51152], [-34.57408, -58.51143], [-34.57377, -58.51128], [-34.57357, -58.51119], [-34.57329, -58.51105], [-34.57296, -58.51091], [-34.57242, -58.51065], [-34.57174, -58.51034], [-34.57155, -58.51026], [-34.57093, -58.51002], [-34.57084, -58.50998], [-34.57069, -58.50992], [-34.57062, -58.5099], [-34.57026, -58.50973], [-34.56996, -58.50959], [-34.56986, -58.50954], [-34.56979, -58.50951], [-34.56949, -58.50934], [-34.56933, -58.50925], [-34.56907, -58.5091], [-34.56881, -58.50894], [-34.56861, -58.50882], [-34.56856, -58.50878], [-34.5685, -58.50875], [-34.56841, -58.50868], [-34.56755, -58.50817], [-34.56728, -58.50803], [-34.567, -58.5079], [-34.56681, -58.50782], [-34.56662, -58.50774], [-34.56653, -58.5077], [-34.56647, -58.50768], [-34.5662, -58.50757], [-34.56596, -58.50748], [-34.56579, -58.50741], [-34.56578, -58.50741], [-34.56544, -58.50729], [-34.56505, -58.50714], [-34.56465, -58.50698], [-34.56426, -58.50682], [-34.56386, -58.50664], [-34.56235, -58.50593], [-34.56207, -58.5058], [-34.56155, -58.50555], [-34.56072, -58.50517], [-34.55878, -58.50426], [-34.55819, -58.50398], [-34.55783, -58.50382], [-34.557, -58.50341], [-34.55681, -58.50331], [-34.5562, -58.50303], [-34.55574, -58.50281], [-34.55506, -58.5025], [-34.55492, -58.50243], [-34.55461, -58.50229], [-34.55447, -58.50223], [-34.55423, -58.50212], [-34.55404, -58.50203], [-34.55386, -58.50194], [-34.55346, -58.50174], [-34.55321, -58.50162], [-34.55318, -58.5016], [-34.55199, -58.50105], [-34.5518, -58.50096], [-34.55164, -58.50088], [-34.55144, -58.50078], [-34.55138, -58.50075], [-34.55128, -58.50069], [-34.55111, -58.50059], [-34.55103, -58.50053], [-34.55101, -58.50052], [-34.55093, -58.50046], [-34.55078, -58.50036], [-34.55065, -58.50026], [-34.55065, -58.50026], [-34.55059, -58.50018], [-34.55031, -58.4999], [-34.55027, -58.49985], [-34.55023, -58.4998], [-34.55019, -58.49976], [-34.55014, -58.49969], [-34.55008, -58.49961], [-34.55001, -58.49951], [-34.54998, -58.49946], [-34.5499, -58.49933], [-34.54967, -58.49897], [-34.54945, -58.49862], [-34.54942, -58.49858], [-34.54941, -58.49857], [-34.54941, -58.49856], [-34.5494, -58.49854], [-34.54939, -58.49853], [-34.54938, -58.4985], [-34.54938, -58.49847], [-34.54926, -58.49829], [-34.5492, -58.4982], [-34.549080000000004, -58.49799], [-34.54895, -58.49774], [-34.54888, -58.49762], [-34.54881, -58.49749], [-34.54876, -58.49739], [-34.54872, -58.4973], [-34.54851, -58.49688], [-34.5483, -58.49637], [-34.54815, -58.49603], [-34.54807, -58.49583], [-34.548, -58.49562], [-34.54793, -58.49544], [-34.5479, -58.49536], [-34.54789, -58.49531], [-34.54786, -58.4952], [-34.54786, -58.4952], [-34.54782, -58.49511], [-34.5478, -58.49503], [-34.54778, -58.49493], [-34.54776, -58.49479], [-34.54775, -58.49464], [-34.54772, -58.49439], [-34.54771, -58.49415], [-34.5477, -58.49393], [-34.54769, -58.4938], [-34.54769, -58.4938], [-34.54765, -58.49363], [-34.5476, -58.4935], [-34.54754, -58.49338], [-34.54748, -58.49329], [-34.54743, -58.49323], [-34.54736, -58.49316], [-34.5473, -58.4931], [-34.54723, -58.49304], [-34.54722, -58.49303], [-34.54716, -58.49302], [-34.54709, -58.493], [-34.54702, -58.493], [-34.5469, -58.49301], [-34.54681, -58.49303], [-34.54675, -58.49306], [-34.54669, -58.4931], [-34.54666, -58.49312], [-34.54663, -58.49315], [-34.54658, -58.4932], [-34.54653, -58.49326], [-34.54648, -58.49332], [-34.54643, -58.49339], [-34.54639, -58.49346], [-34.54634, -58.49353], [-34.5463, -58.4936], [-34.54626, -58.49368], [-34.54622, -58.49376], [-34.54614, -58.49391], [-34.54604, -58.49408], [-34.546, -58.49414], [-34.54598, -58.49418], [-34.54592, -58.49427], [-34.54584, -58.49437], [-34.54576, -58.49447], [-34.54561, -58.49462], [-34.54547, -58.49476], [-34.54538, -58.49483], [-34.54533, -58.49487], [-34.54529, -58.4949], [-34.54528, -58.49491], [-34.5452, -58.49497], [-34.54509, -58.49503], [-34.54485, -58.49518], [-34.54468, -58.49523], [-34.54439, -58.4954], [-34.54414, -58.49555], [-34.54399, -58.49563], [-34.54389, -58.49569], [-34.54378, -58.49576], [-34.54365, -58.49584], [-34.54346, -58.49596], [-34.54328, -58.49608], [-34.54309, -58.4962], [-34.54291, -58.49633], [-34.5427, -58.49647], [-34.54264, -58.49652], [-34.54262, -58.49654], [-34.54259, -58.49655], [-34.54256, -58.49654], [-34.5425, -58.49654], [-34.5425, -58.49654], [-34.5423, -58.4967], [-34.54221, -58.49678], [-34.54204, -58.49692], [-34.54195, -58.49699], [-34.54185, -58.49708], [-34.54176, -58.49716], [-34.54168, -58.49724], [-34.54166, -58.49725], [-34.54136, -58.49755], [-34.54128, -58.49763], [-34.54126, -58.49764], [-34.5412, -58.4977], [-34.54058, -58.49835], [-34.54058, -58.49835], [-34.54034, -58.4984], [-34.54031, -58.49842], [-34.54022, -58.49849], [-34.54008, -58.49861], [-34.53953, -58.49906], [-34.5392, -58.49933], [-34.53918, -58.49934], [-34.53905, -58.49944], [-34.5389, -58.49956], [-34.53863, -58.49976], [-34.53812, -58.50013], [-34.53766, -58.50045], [-34.53645, -58.50128], [-34.53628, -58.50137], [-34.53603, -58.50155], [-34.53603, -58.50155], [-34.53579, -58.50174], [-34.53534, -58.50206], [-34.53473, -58.50248], [-34.53451, -58.50262], [-34.53433, -58.50274], [-34.53414, -58.50285], [-34.53388, -58.503], [-34.5335, -58.5032], [-34.533, -58.50346], [-34.5327, -58.50365], [-34.53145, -58.50467], [-34.5307, -58.50526], [-34.52972, -58.50595], [-34.52839, -58.50696], [-34.52832, -58.50701], [-34.52825, -58.50707], [-34.52721, -58.50783], [-34.52706, -58.50794], [-34.52613, -58.50862], [-34.526, -58.50869], [-34.52587, -58.50877], [-34.52573, -58.50887], [-34.52558, -58.50896], [-34.52364, -58.51041], [-34.52364, -58.51042], [-34.52339, -58.51059], [-34.52306, -58.51084], [-34.52273, -58.51109], [-34.52259, -58.51119], [-34.52206, -58.5116], [-34.52174, -58.51186], [-34.52166, -58.51192], [-34.5213, -58.51223], [-34.52105, -58.51246], [-34.52105, -58.51246], [-34.52097, -58.51248], [-34.52095, -58.51249], [-34.5209, -58.51251], [-34.52085, -58.51254], [-34.52081, -58.51257], [-34.52072, -58.51264], [-34.52066, -58.5127], [-34.52025, -58.51309], [-34.519800000000004, -58.51354], [-34.51947, -58.51386], [-34.51889, -58.51437], [-34.51884, -58.51442], [-34.51876, -58.51446], [-34.51868, -58.51448], [-34.51868, -58.51448], [-34.5186, -58.51456], [-34.51849, -58.51466], [-34.51849, -58.51466], [-34.5187, -58.51509], [-34.51877, -58.51522], [-34.51885, -58.51539], [-34.51903, -58.51577], [-34.51903, -58.51577], [-34.51923, -58.51555], [-34.51987, -58.5149], [-34.52021, -58.51452], [-34.52027, -58.51445], [-34.52028, -58.51444], [-34.52059, -58.51412], [-34.5207, -58.51401], [-34.52087, -58.51387], [-34.5209, -58.51383], [-34.52107, -58.51366], [-34.52134, -58.51339], [-34.52136, -58.51338], [-34.52154, -58.51322], [-34.52165, -58.51314], [-34.52183, -58.51297], [-34.52208, -58.51276], [-34.52295, -58.51209], [-34.52333, -58.51181], [-34.52362, -58.51161], [-34.52379, -58.51149], [-34.52395, -58.51138], [-34.52422, -58.51116], [-34.52466, -58.51084], [-34.52466, -58.51084], [-34.52497, -58.51148]],\n",
       "                {&quot;bubblingMouseEvents&quot;: true, &quot;color&quot;: &quot;blue&quot;, &quot;dashArray&quot;: null, &quot;dashOffset&quot;: null, &quot;fill&quot;: false, &quot;fillColor&quot;: &quot;blue&quot;, &quot;fillOpacity&quot;: 0.2, &quot;fillRule&quot;: &quot;evenodd&quot;, &quot;lineCap&quot;: &quot;round&quot;, &quot;lineJoin&quot;: &quot;round&quot;, &quot;noClip&quot;: false, &quot;opacity&quot;: 1.0, &quot;smoothFactor&quot;: 1.0, &quot;stroke&quot;: true, &quot;weight&quot;: 3}\n",
       "            ).addTo(map_5b5e117a69e30ae987fff3fe47ce91f3);\n",
       "        \n",
       "    \n",
       "            var poly_line_a68b4844bd47d946f5dd31e9138de97d = L.polyline(\n",
       "                [[-34.61751, -58.405644], [-34.617511, -58.405637], [-34.617511, -58.405637], [-34.617517, -58.405636], [-34.617527, -58.405631], [-34.61754, -58.405627], [-34.617520999999996, -58.405604], [-34.617502, -58.405555], [-34.61751, -58.405536], [-34.617411, -58.405252], [-34.617215, -58.404602], [-34.617133, -58.404366], [-34.61711, -58.404377], [-34.617081, -58.404342], [-34.616982, -58.404107], [-34.616812, -58.404113], [-34.61657, -58.404216], [-34.616164, -58.40437], [-34.615859, -58.404483], [-34.615389, -58.404655], [-34.614844, -58.404785], [-34.614577, -58.404537], [-34.614581, -58.404345], [-34.61457, -58.404188], [-34.614559, -58.403699], [-34.614521, -58.403121], [-34.614512, -58.402599], [-34.614479, -58.401824], [-34.614448, -58.40137], [-34.614405, -58.400953], [-34.614364, -58.400198], [-34.6143, -58.399339], [-34.61427, -58.398453], [-34.614219, -58.397976], [-34.614216, -58.398073], [-34.614205, -58.397973], [-34.614208, -58.39777], [-34.614203, -58.397293], [-34.614179, -58.396864], [-34.614177, -58.396399], [-34.614135, -58.396005], [-34.614086, -58.395335], [-34.614041, -58.394724], [-34.614006, -58.394333], [-34.613989, -58.393961], [-34.613976, -58.393603], [-34.613949, -58.393397], [-34.613937, -58.393399], [-34.613941, -58.393116], [-34.613919, -58.392848], [-34.613898, -58.392488], [-34.613856, -58.392075], [-34.613823, -58.391617], [-34.613777999999996, -58.391141], [-34.613732, -58.390555], [-34.613713, -58.390569], [-34.613719, -58.39058], [-34.613705, -58.390592], [-34.613705, -58.390593], [-34.613705, -58.390593], [-34.613693, -58.390593], [-34.613701, -58.390584], [-34.613709, -58.390569], [-34.613722, -58.39056], [-34.613697, -58.390422], [-34.61366, -58.389852], [-34.613649, -58.389528], [-34.613564, -58.388961], [-34.613536, -58.388455], [-34.613524, -58.388115], [-34.613547, -58.387699], [-34.613477, -58.387149], [-34.613445, -58.386662], [-34.613387, -58.386135], [-34.61335, -58.385488], [-34.613279, -58.384883], [-34.613283, -58.384365], [-34.61322, -58.383595], [-34.613196, -58.383179], [-34.613162, -58.38251], [-34.613107, -58.381841], [-34.613028, -58.381155], [-34.612982, -58.380892], [-34.612897, -58.380871], [-34.61258, -58.380884], [-34.612494, -58.380889], [-34.612415, -58.380896], [-34.612115, -58.380904], [-34.611624, -58.380937], [-34.611246, -58.380956], [-34.610644, -58.380987], [-34.610039, -58.380989], [-34.609658, -58.381029], [-34.609033, -58.381066], [-34.608349, -58.38111], [-34.607788, -58.381139], [-34.607672, -58.381144], [-34.607649, -58.381141], [-34.607652, -58.381162], [-34.607652, -58.38116], [-34.607655, -58.381163], [-34.607625, -58.381174], [-34.607586, -58.381205], [-34.607565, -58.381221], [-34.607562, -58.381232], [-34.607527, -58.381225], [-34.607344, -58.381204], [-34.607088, -58.381191], [-34.606497, -58.381223], [-34.605906, -58.381259], [-34.605539, -58.381272], [-34.605084, -58.381287], [-34.604687, -58.381261], [-34.604477, -58.381148], [-34.604391, -58.381109], [-34.60436, -58.381107], [-34.604363, -58.381108], [-34.604361, -58.381105], [-34.604351, -58.381107], [-34.604348, -58.381118], [-34.604345, -58.381115], [-34.604338, -58.381105], [-34.604337, -58.381096], [-34.604336, -58.381093], [-34.604335, -58.381094], [-34.604338, -58.381101], [-34.604336, -58.381118], [-34.60412, -58.381089], [-34.603783, -58.381088], [-34.603481, -58.381104], [-34.60293, -58.381249], [-34.60233, -58.381448], [-34.60162, -58.381472], [-34.60114, -58.381499], [-34.600586, -58.381545], [-34.600464, -58.381545], [-34.600471, -58.381531], [-34.600487, -58.381539], [-34.600502, -58.381574], [-34.600504, -58.381579], [-34.600492, -58.381576], [-34.600496, -58.381554], [-34.600502, -58.381537], [-34.60051, -58.381514], [-34.600504, -58.381505], [-34.600255, -58.381535], [-34.599936, -58.381555], [-34.599304, -58.381579], [-34.59857, -58.381646], [-34.598068, -58.381682], [-34.59737, -58.381744], [-34.596729, -58.381854], [-34.596254, -58.381908], [-34.59572, -58.381972], [-34.595647, -58.381965], [-34.59564, -58.38196], [-34.595636, -58.381967], [-34.595633, -58.381969], [-34.59563, -58.381986], [-34.59564, -58.38199], [-34.595648, -58.381988], [-34.59564, -58.381981], [-34.595632, -58.381969], [-34.595542, -58.381969], [-34.59507, -58.381997], [-34.594695, -58.382025], [-34.594183, -58.382053], [-34.593539, -58.382027], [-34.592816, -58.381996], [-34.592313, -58.381946], [-34.591503, -58.381868], [-34.590572, -58.381832], [-34.589586, -58.381666], [-34.588714, -58.381412], [-34.587901, -58.38108], [-34.587002, -58.380654], [-34.586406, -58.380315], [-34.585502, -58.379858], [-34.584567, -58.379725], [-34.583674, -58.380091], [-34.583162, -58.380557], [-34.582543, -58.381463], [-34.582017, -58.382447], [-34.581675, -58.383103], [-34.58118, -58.384058], [-34.580697, -58.385048], [-34.580288, -58.385912], [-34.579881, -58.386763], [-34.579364, -58.387718], [-34.578795, -58.388635], [-34.578395, -58.389217], [-34.577707, -58.390104], [-34.577, -58.390923], [-34.576535, -58.391355], [-34.575914, -58.391936], [-34.575506, -58.392423], [-34.575376, -58.39263], [-34.575222, -58.392873], [-34.575052, -58.393156], [-34.574834, -58.393523], [-34.574517, -58.394363], [-34.574168, -58.395398], [-34.573668, -58.396483], [-34.57317, -58.397412], [-34.572688, -58.398335], [-34.57208, -58.399489], [-34.571679, -58.400255], [-34.571073, -58.401409], [-34.570399, -58.402563], [-34.569682, -58.403716], [-34.569225, -58.404432], [-34.56852, -58.405501], [-34.567785, -58.406596], [-34.567303, -58.407328], [-34.566577, -58.408428], [-34.565902, -58.409605], [-34.565406, -58.41059], [-34.564909, -58.411577], [-34.564338, -58.412719], [-34.563768, -58.413866], [-34.563131, -58.415024], [-34.562657, -58.415752], [-34.561889, -58.416815], [-34.560991, -58.417823], [-34.560053, -58.418835], [-34.559489, -58.41957], [-34.558755, -58.420658], [-34.558045, -58.421722], [-34.557564, -58.422457], [-34.556757, -58.423658], [-34.555938, -58.424874], [-34.555129, -58.426082], [-34.554586, -58.426895], [-34.553927, -58.427822], [-34.553076, -58.428788], [-34.551487, -58.432251], [-34.550875, -58.433251], [-34.55017, -58.434492], [-34.549501, -58.435715], [-34.54907, -58.436508], [-34.54842, -58.437687], [-34.547762, -58.438852], [-34.547129, -58.440011], [-34.546694, -58.440801], [-34.54603, -58.442013], [-34.545363, -58.443219], [-34.544932, -58.443991], [-34.544309, -58.44512], [-34.543695, -58.446208], [-34.543004, -58.447308], [-34.542547, -58.448067], [-34.541919, -58.449196], [-34.5413, -58.450319], [-34.540904, -58.451069], [-34.540429, -58.452253], [-34.540078, -58.453528], [-34.539684, -58.4548], [-34.539262, -58.455814], [-34.538759, -58.456833], [-34.538194, -58.457841], [-34.537951, -58.458187], [-34.537666, -58.45855], [-34.537483, -58.458772], [-34.537247, -58.459044], [-34.536763, -58.459579], [-34.536249, -58.460069], [-34.535729, -58.460546], [-34.535407, -58.460891], [-34.535052, -58.46127], [-34.53473, -58.461697], [-34.534547, -58.462077], [-34.534429, -58.462408], [-34.534281, -58.462952], [-34.534237, -58.463729], [-34.534273, -58.464374], [-34.534398, -58.465209], [-34.534545, -58.465839], [-34.534636, -58.466242], [-34.534732, -58.466895], [-34.534846, -58.467421], [-34.535068, -58.467859], [-34.535253, -58.468094], [-34.535575, -58.468557], [-34.535904, -58.469179], [-34.536243999999996, -58.4698], [-34.536477, -58.470328], [-34.536855, -58.471204], [-34.537238, -58.472118], [-34.53748, -58.472692], [-34.537858, -58.473656], [-34.538242, -58.47466], [-34.538494, -58.475271], [-34.538878, -58.476139], [-34.539309, -58.477019], [-34.539717, -58.477796], [-34.539952, -58.478243], [-34.540212, -58.478736], [-34.540327, -58.478968], [-34.540384, -58.479094], [-34.540501, -58.47935], [-34.540618, -58.479623], [-34.540756, -58.479917], [-34.540844, -58.480112], [-34.540992, -58.480445], [-34.541203, -58.480937], [-34.54136, -58.481299], [-34.541622, -58.481918], [-34.541931, -58.482642], [-34.542256, -58.483393], [-34.542556, -58.484093], [-34.542872, -58.484836], [-34.54327, -58.485753], [-34.543535, -58.48637], [-34.543985, -58.487336], [-34.544439, -58.488357], [-34.54481, -58.48939], [-34.54506, -58.490482], [-34.545308, -58.491193], [-34.545707, -58.492071], [-34.545939, -58.492977], [-34.545712, -58.493887], [-34.545076, -58.494508], [-34.544536, -58.494902], [-34.543695, -58.495507], [-34.542885, -58.496125], [-34.542354, -58.496541], [-34.541553, -58.497229], [-34.540788, -58.497964], [-34.540304, -58.498436], [-34.539545, -58.499122], [-34.538726, -58.499735], [-34.537856, -58.50037], [-34.537223, -58.500793], [-34.536274, -58.501446], [-34.535316, -58.502112], [-34.534686, -58.502542], [-34.533615, -58.503204], [-34.532828, -58.503618], [-34.531935, -58.504322], [-34.531387, -58.504757], [-34.530542, -58.505395], [-34.52964, -58.506065], [-34.529025, -58.506513], [-34.528153, -58.507141], [-34.527477, -58.507631], [-34.526921, -58.508039], [-34.526499, -58.508348], [-34.525754, -58.508888], [-34.524877, -58.509517], [-34.524115, -58.510078], [-34.523379, -58.510606], [-34.522549, -58.5112], [-34.52178, -58.511799], [-34.521265, -58.512229], [-34.520481, -58.5129], [-34.519741, -58.513576], [-34.519103, -58.514182], [-34.518802, -58.514446], [-34.518734, -58.514511], [-34.518672, -58.514564], [-34.518654, -58.514579], [-34.518635, -58.514601], [-34.518567, -58.514689], [-34.518553, -58.514724], [-34.518648, -58.514937], [-34.518992, -58.515632], [-34.519195, -58.515591], [-34.519566, -58.515114], [-34.520095, -58.514488], [-34.520506, -58.513999], [-34.521156, -58.513295], [-34.521829, -58.512711], [-34.522297, -58.512388], [-34.522842, -58.512056], [-34.523209, -58.511832], [-34.523413, -58.511736], [-34.523653, -58.511587], [-34.523807, -58.511494], [-34.523804, -58.511496], [-34.523804, -58.511506], [-34.523809, -58.511519], [-34.523808, -58.511519], [-34.523807, -58.511518], [-34.523808, -58.511511], [-34.523806, -58.51151], [-34.523803, -58.511514], [-34.523926, -58.511422], [-34.524231, -58.511197], [-34.524651, -58.510907], [-34.524757, -58.511033], [-34.524962, -58.511432], [-34.524984, -58.511473], [-34.524981, -58.511469]],\n",
       "                {&quot;bubblingMouseEvents&quot;: true, &quot;color&quot;: &quot;red&quot;, &quot;dashArray&quot;: null, &quot;dashOffset&quot;: null, &quot;fill&quot;: false, &quot;fillColor&quot;: &quot;red&quot;, &quot;fillOpacity&quot;: 0.2, &quot;fillRule&quot;: &quot;evenodd&quot;, &quot;lineCap&quot;: &quot;round&quot;, &quot;lineJoin&quot;: &quot;round&quot;, &quot;noClip&quot;: false, &quot;opacity&quot;: 1.0, &quot;smoothFactor&quot;: 1.0, &quot;stroke&quot;: true, &quot;weight&quot;: 3}\n",
       "            ).addTo(map_5b5e117a69e30ae987fff3fe47ce91f3);\n",
       "        \n",
       "&lt;/script&gt;\n",
       "&lt;/html&gt;\" style=\"position:absolute;width:100%;height:100%;left:0;top:0;border:none !important;\" allowfullscreen webkitallowfullscreen mozallowfullscreen></iframe></div></div>"
      ],
      "text/plain": [
       "<folium.folium.Map at 0x2bc0188eb30>"
      ]
     },
     "execution_count": 479,
     "metadata": {},
     "output_type": "execute_result"
    }
   ],
   "source": [
    "create_map(627, 10)"
   ]
  },
  {
   "cell_type": "code",
   "execution_count": 480,
   "id": "44dc0587",
   "metadata": {},
   "outputs": [
    {
     "data": {
      "text/html": [
       "<div style=\"width:100%;\"><div style=\"position:relative;width:100%;height:0;padding-bottom:60%;\"><span style=\"color:#565656\">Make this Notebook Trusted to load map: File -> Trust Notebook</span><iframe srcdoc=\"&lt;!DOCTYPE html&gt;\n",
       "&lt;html&gt;\n",
       "&lt;head&gt;\n",
       "    \n",
       "    &lt;meta http-equiv=&quot;content-type&quot; content=&quot;text/html; charset=UTF-8&quot; /&gt;\n",
       "    \n",
       "        &lt;script&gt;\n",
       "            L_NO_TOUCH = false;\n",
       "            L_DISABLE_3D = false;\n",
       "        &lt;/script&gt;\n",
       "    \n",
       "    &lt;style&gt;html, body {width: 100%;height: 100%;margin: 0;padding: 0;}&lt;/style&gt;\n",
       "    &lt;style&gt;#map {position:absolute;top:0;bottom:0;right:0;left:0;}&lt;/style&gt;\n",
       "    &lt;script src=&quot;https://cdn.jsdelivr.net/npm/leaflet@1.9.3/dist/leaflet.js&quot;&gt;&lt;/script&gt;\n",
       "    &lt;script src=&quot;https://code.jquery.com/jquery-3.7.1.min.js&quot;&gt;&lt;/script&gt;\n",
       "    &lt;script src=&quot;https://cdn.jsdelivr.net/npm/bootstrap@5.2.2/dist/js/bootstrap.bundle.min.js&quot;&gt;&lt;/script&gt;\n",
       "    &lt;script src=&quot;https://cdnjs.cloudflare.com/ajax/libs/Leaflet.awesome-markers/2.0.2/leaflet.awesome-markers.js&quot;&gt;&lt;/script&gt;\n",
       "    &lt;link rel=&quot;stylesheet&quot; href=&quot;https://cdn.jsdelivr.net/npm/leaflet@1.9.3/dist/leaflet.css&quot;/&gt;\n",
       "    &lt;link rel=&quot;stylesheet&quot; href=&quot;https://cdn.jsdelivr.net/npm/bootstrap@5.2.2/dist/css/bootstrap.min.css&quot;/&gt;\n",
       "    &lt;link rel=&quot;stylesheet&quot; href=&quot;https://netdna.bootstrapcdn.com/bootstrap/3.0.0/css/bootstrap-glyphicons.css&quot;/&gt;\n",
       "    &lt;link rel=&quot;stylesheet&quot; href=&quot;https://cdn.jsdelivr.net/npm/@fortawesome/fontawesome-free@6.2.0/css/all.min.css&quot;/&gt;\n",
       "    &lt;link rel=&quot;stylesheet&quot; href=&quot;https://cdnjs.cloudflare.com/ajax/libs/Leaflet.awesome-markers/2.0.2/leaflet.awesome-markers.css&quot;/&gt;\n",
       "    &lt;link rel=&quot;stylesheet&quot; href=&quot;https://cdn.jsdelivr.net/gh/python-visualization/folium/folium/templates/leaflet.awesome.rotate.min.css&quot;/&gt;\n",
       "    \n",
       "            &lt;meta name=&quot;viewport&quot; content=&quot;width=device-width,\n",
       "                initial-scale=1.0, maximum-scale=1.0, user-scalable=no&quot; /&gt;\n",
       "            &lt;style&gt;\n",
       "                #map_76fa7f4a90c5b31f3ffb0c53a8b6bfa1 {\n",
       "                    position: relative;\n",
       "                    width: 100.0%;\n",
       "                    height: 100.0%;\n",
       "                    left: 0.0%;\n",
       "                    top: 0.0%;\n",
       "                }\n",
       "                .leaflet-container { font-size: 1rem; }\n",
       "            &lt;/style&gt;\n",
       "        \n",
       "&lt;/head&gt;\n",
       "&lt;body&gt;\n",
       "    \n",
       "    \n",
       "            &lt;div class=&quot;folium-map&quot; id=&quot;map_76fa7f4a90c5b31f3ffb0c53a8b6bfa1&quot; &gt;&lt;/div&gt;\n",
       "        \n",
       "&lt;/body&gt;\n",
       "&lt;script&gt;\n",
       "    \n",
       "    \n",
       "            var map_76fa7f4a90c5b31f3ffb0c53a8b6bfa1 = L.map(\n",
       "                &quot;map_76fa7f4a90c5b31f3ffb0c53a8b6bfa1&quot;,\n",
       "                {\n",
       "                    center: [37.33897, -5.95044],\n",
       "                    crs: L.CRS.EPSG3857,\n",
       "                    zoom: 10,\n",
       "                    zoomControl: true,\n",
       "                    preferCanvas: false,\n",
       "                }\n",
       "            );\n",
       "\n",
       "            \n",
       "\n",
       "        \n",
       "    \n",
       "            var tile_layer_61a6eff4b0b440d63aae4d3e3a92a6e6 = L.tileLayer(\n",
       "                &quot;https://tile.openstreetmap.org/{z}/{x}/{y}.png&quot;,\n",
       "                {&quot;attribution&quot;: &quot;\\u0026copy; \\u003ca href=\\&quot;https://www.openstreetmap.org/copyright\\&quot;\\u003eOpenStreetMap\\u003c/a\\u003e contributors&quot;, &quot;detectRetina&quot;: false, &quot;maxNativeZoom&quot;: 19, &quot;maxZoom&quot;: 19, &quot;minZoom&quot;: 0, &quot;noWrap&quot;: false, &quot;opacity&quot;: 1, &quot;subdomains&quot;: &quot;abc&quot;, &quot;tms&quot;: false}\n",
       "            );\n",
       "        \n",
       "    \n",
       "            tile_layer_61a6eff4b0b440d63aae4d3e3a92a6e6.addTo(map_76fa7f4a90c5b31f3ffb0c53a8b6bfa1);\n",
       "        \n",
       "    \n",
       "            var poly_line_88edc245c57370ae1cbeafd0f3754487 = L.polyline(\n",
       "                [[37.2819, -5.91662], [37.28197, -5.91653], [37.28223, -5.91626], [37.28223, -5.91626], [37.28246, -5.91659], [37.28271, -5.91694], [37.28278, -5.91705], [37.28296, -5.91729], [37.28311, -5.9175], [37.28322, -5.91765], [37.28351, -5.91805], [37.28355, -5.91811], [37.28357, -5.91813], [37.28358, -5.91814], [37.28361, -5.91818], [37.28366, -5.91824], [37.28387, -5.9185300000000005], [37.2846, -5.91957], [37.28472, -5.91973], [37.28479, -5.91983], [37.28506, -5.92028], [37.28506, -5.92029], [37.28532, -5.920640000000001], [37.28542, -5.9208], [37.28542, -5.9208], [37.28563, -5.92104], [37.2858, -5.92128], [37.28599, -5.92152], [37.28609, -5.92165], [37.28609, -5.92166], [37.28609, -5.92167], [37.2861, -5.92167], [37.2861, -5.92168], [37.2861, -5.92169], [37.28611, -5.92174], [37.28629, -5.92195], [37.28636, -5.9220500000000005], [37.28643, -5.92214], [37.28652, -5.92226], [37.28664, -5.92242], [37.28665, -5.92245], [37.28667, -5.92248], [37.28668, -5.9225], [37.28668, -5.92251], [37.28669, -5.92253], [37.2867, -5.92256], [37.2867, -5.92259], [37.2867, -5.92264], [37.28669, -5.92268], [37.28669, -5.92271], [37.28668, -5.92274], [37.28666, -5.92282], [37.28663, -5.92286], [37.28656, -5.923080000000001], [37.28654, -5.92315], [37.28653, -5.92317], [37.28652, -5.92321], [37.28651, -5.92326], [37.28651, -5.92328], [37.28651, -5.9233], [37.28651, -5.92332], [37.28652, -5.92334], [37.28653, -5.92337], [37.28654, -5.92339], [37.28655, -5.9234], [37.28656, -5.9234100000000005], [37.28657, -5.92342], [37.28667, -5.92347], [37.28667, -5.92347], [37.28673, -5.92348], [37.28678, -5.9235], [37.28684, -5.92353], [37.28688, -5.92358], [37.28693, -5.92363], [37.28696, -5.923690000000001], [37.28699, -5.92376], [37.287, -5.92384], [37.28701, -5.92391], [37.28701, -5.92399], [37.28699, -5.92408], [37.28699, -5.9241], [37.28698, -5.92412], [37.28698, -5.92414], [37.28697, -5.92415], [37.28696, -5.92417], [37.28695, -5.92419], [37.28694, -5.92421], [37.28694, -5.92422], [37.28694, -5.92425], [37.28695, -5.92427], [37.28697, -5.9243], [37.28697, -5.92431], [37.28698, -5.92432], [37.28699, -5.92433], [37.287, -5.92433], [37.28701, -5.92434], [37.28702, -5.9243500000000004], [37.28703, -5.92437], [37.28706, -5.92438], [37.28708, -5.92438], [37.28709, -5.92438], [37.28712, -5.92438], [37.28719, -5.92438], [37.28728, -5.92438], [37.28744, -5.92438], [37.28747, -5.92438], [37.28749, -5.92438], [37.28751, -5.92438], [37.28762, -5.92438], [37.2877, -5.92438], [37.2878, -5.92438], [37.28795, -5.92439], [37.28798, -5.92439], [37.28827, -5.92441], [37.28839, -5.92441], [37.28839, -5.92441], [37.28838, -5.9244], [37.28838, -5.92438], [37.28838, -5.92436], [37.28838, -5.9243500000000004], [37.28838, -5.92433], [37.28838, -5.92432], [37.28838, -5.9243], [37.28839, -5.92429], [37.28839, -5.92427], [37.2884, -5.92424], [37.28841, -5.92423], [37.28842, -5.92422], [37.28843, -5.92421], [37.28843, -5.92419], [37.28844, -5.92418], [37.28845, -5.92417], [37.28846, -5.92417], [37.28848, -5.9241600000000005], [37.28849, -5.92415], [37.2885, -5.92415], [37.28851, -5.92414], [37.28852, -5.92414], [37.28854, -5.92414], [37.28855, -5.92414], [37.28856, -5.92414], [37.28857, -5.92414], [37.28859, -5.92414], [37.2886, -5.92415], [37.28861, -5.92415], [37.28863, -5.9241600000000005], [37.28863, -5.92418], [37.28864, -5.92418], [37.28865, -5.92419], [37.28866, -5.9242], [37.28866, -5.92422], [37.28867, -5.92423], [37.28868, -5.92424], [37.28868, -5.92425], [37.28868, -5.92426], [37.28869, -5.92428], [37.28869, -5.92429], [37.28869, -5.9243], [37.28869, -5.92432], [37.28869, -5.92433], [37.28869, -5.9243500000000004], [37.28869, -5.92436], [37.28869, -5.92437], [37.28869, -5.92439], [37.28868, -5.9244], [37.28868, -5.92441], [37.28915, -5.92467], [37.289320000000004, -5.92468], [37.28943, -5.92468], [37.28953, -5.92471], [37.28964, -5.92469], [37.2899, -5.92467], [37.29035, -5.92464], [37.29049, -5.9246300000000005], [37.29069, -5.9246300000000005], [37.29111, -5.92462], [37.29126, -5.92461], [37.29194, -5.92456], [37.29211, -5.92454], [37.29236, -5.92452], [37.29244, -5.9245], [37.29254, -5.92447], [37.29254, -5.92447], [37.29254, -5.92445], [37.29254, -5.92444], [37.29255, -5.9244200000000005], [37.29255, -5.9244], [37.29256, -5.92439], [37.29257, -5.92438], [37.29258, -5.92436], [37.29259, -5.9243500000000004], [37.2926, -5.92434], [37.29261, -5.92433], [37.29262, -5.92432], [37.29263, -5.92431], [37.29264, -5.92431], [37.29266, -5.9243], [37.29267, -5.9243], [37.29268, -5.92429], [37.2927, -5.92429], [37.29271, -5.92429], [37.29272, -5.92429], [37.29274, -5.92429], [37.29275, -5.9243], [37.29276, -5.9243], [37.29278, -5.92431], [37.29279, -5.92432], [37.2928, -5.92432], [37.2928, -5.92433], [37.29281, -5.92433], [37.29281, -5.92434], [37.29282, -5.92434], [37.29283, -5.9243500000000004], [37.29283, -5.92436], [37.29284, -5.92436], [37.29284, -5.92437], [37.29285, -5.92438], [37.29286, -5.92439], [37.29299, -5.92437], [37.29323, -5.92437], [37.29329, -5.92439], [37.29334, -5.92438], [37.29348, -5.92436], [37.29351, -5.9243500000000004], [37.29359, -5.92432], [37.29365, -5.92431], [37.2937, -5.92431], [37.29375, -5.92431], [37.29379, -5.92432], [37.29383, -5.92432], [37.29461, -5.92446], [37.29471, -5.92448], [37.29479, -5.9245], [37.29502, -5.92453], [37.29537, -5.92459], [37.29588, -5.92474], [37.29603, -5.9247700000000005], [37.29604, -5.92474], [37.29604, -5.92473], [37.29604, -5.92472], [37.29605, -5.92472], [37.29605, -5.92471], [37.29605, -5.9247], [37.29606, -5.92469], [37.29606, -5.92468], [37.29607, -5.92468], [37.29607, -5.92467], [37.29608, -5.92466], [37.29609, -5.92466], [37.29609, -5.92465], [37.2961, -5.92465], [37.2961, -5.92464], [37.29611, -5.92464], [37.29612, -5.92464], [37.29613, -5.9246300000000005], [37.29614, -5.9246300000000005], [37.29615, -5.9246300000000005], [37.29616, -5.9246300000000005], [37.296170000000004, -5.9246300000000005], [37.29618, -5.9246300000000005], [37.29619, -5.9246300000000005], [37.2962, -5.9246300000000005], [37.29621, -5.92464], [37.29622, -5.92464], [37.29623, -5.92465], [37.29624, -5.92466], [37.29625, -5.92466], [37.29625, -5.92467], [37.29626, -5.92468], [37.29627, -5.92469], [37.29627, -5.9247], [37.29628, -5.92471], [37.29628, -5.92472], [37.29628, -5.92473], [37.29629, -5.92476], [37.29629, -5.9247700000000005], [37.29657, -5.92471], [37.29691, -5.92468], [37.29693, -5.92467], [37.29756, -5.92464], [37.29779, -5.9246300000000005], [37.29797, -5.92462], [37.29815, -5.92457], [37.29833, -5.92448], [37.29833, -5.92448], [37.29833, -5.92447], [37.29833, -5.92446], [37.29834, -5.92444], [37.29834, -5.92443], [37.29835, -5.9244200000000005], [37.29835, -5.9244], [37.29836, -5.92439], [37.29836, -5.92438], [37.29838, -5.92436], [37.29839, -5.9243500000000004], [37.2984, -5.92433], [37.29842, -5.92432], [37.29843, -5.92431], [37.29845, -5.9243], [37.29847, -5.92429], [37.2985, -5.92429], [37.29851, -5.92428], [37.29852, -5.92428], [37.29853, -5.92428], [37.29854, -5.92428], [37.29855, -5.92429], [37.29857, -5.92429], [37.29859, -5.9243], [37.2986, -5.9243], [37.29862, -5.92431], [37.29863, -5.92433], [37.29865, -5.92434], [37.29866, -5.9243500000000004], [37.29868, -5.92438], [37.29869, -5.92439], [37.29869, -5.9244], [37.2987, -5.92441], [37.2987, -5.9244200000000005], [37.29871, -5.92443], [37.29871, -5.92444], [37.29878, -5.92445], [37.29885, -5.92445], [37.29902, -5.92444], [37.29912, -5.92443], [37.29938, -5.92441], [37.29942, -5.92441], [37.29957, -5.92439], [37.29981, -5.92438], [37.30002, -5.9243500000000004], [37.30044, -5.92431], [37.30053, -5.92431], [37.30066, -5.92429], [37.30106, -5.92426], [37.30107, -5.92426], [37.3013, -5.92425], [37.30146, -5.92425], [37.30161, -5.92426], [37.30168, -5.92427], [37.30189, -5.9243], [37.30211, -5.9243500000000004], [37.30234, -5.92443], [37.30257, -5.92452], [37.30268, -5.92458], [37.3028, -5.92464], [37.30298, -5.92475], [37.30301, -5.92476], [37.30312, -5.92478], [37.3033, -5.9248], [37.3033, -5.9248], [37.30333, -5.92478], [37.30335, -5.9247700000000005], [37.30338, -5.92475], [37.30341, -5.92475], [37.30344, -5.92474], [37.30346, -5.92473], [37.30349, -5.92473], [37.30352, -5.92474], [37.30356, -5.92474], [37.3036, -5.92475], [37.30364, -5.9247700000000005], [37.30367, -5.92479], [37.30371, -5.92482], [37.30374, -5.92485], [37.30376, -5.92489], [37.30379, -5.92493], [37.3038, -5.92495], [37.30382, -5.92499], [37.30384, -5.9250300000000005], [37.30385, -5.92507], [37.30404, -5.92517], [37.30424, -5.92532], [37.30455, -5.92554], [37.30471, -5.92565], [37.30502, -5.92588], [37.30533, -5.92611], [37.30611, -5.92667], [37.30626, -5.9267900000000004], [37.30673, -5.92713], [37.30689, -5.92724], [37.30704, -5.927350000000001], [37.3072, -5.9274700000000005], [37.30751, -5.92769], [37.30752, -5.9277], [37.30782, -5.92792], [37.30797, -5.92804], [37.30809, -5.92813], [37.30826, -5.9283], [37.30828, -5.92832], [37.30847, -5.92855], [37.30852, -5.9286200000000004], [37.30852, -5.9286200000000004], [37.30858, -5.92861], [37.30864, -5.92861], [37.3087, -5.92861], [37.30876, -5.92863], [37.30882, -5.92865], [37.30888, -5.92867], [37.30894, -5.92871], [37.30899, -5.92875], [37.30903, -5.92878], [37.30907, -5.92882], [37.3091, -5.92887], [37.30913, -5.92891], [37.30916, -5.92896], [37.30919, -5.92901], [37.30921, -5.92906], [37.30923, -5.92912], [37.30942, -5.92917], [37.30956, -5.9292], [37.30959, -5.92921], [37.30961, -5.92922], [37.31011, -5.92958], [37.31144, -5.93055], [37.31206, -5.931], [37.31315, -5.93179], [37.31355, -5.93208], [37.31372, -5.93219], [37.31396, -5.9323], [37.31396, -5.9323], [37.31404, -5.932230000000001], [37.31413, -5.93217], [37.31422, -5.93213], [37.31431, -5.93211], [37.31441, -5.9320900000000005], [37.31451, -5.9320900000000005], [37.31461, -5.93211], [37.3147, -5.93214], [37.31475, -5.93217], [37.3148, -5.9322], [37.31485, -5.932230000000001], [37.3149, -5.93227], [37.31494, -5.93231], [37.31499, -5.93236], [37.31503, -5.9324], [37.31506, -5.93246], [37.31511, -5.93254], [37.31516, -5.93263], [37.31519, -5.93272], [37.31522, -5.93282], [37.31524, -5.93293], [37.31526, -5.9330300000000005], [37.31526, -5.93313], [37.31526, -5.93324], [37.31544, -5.93337], [37.31555, -5.933450000000001], [37.3157, -5.93356], [37.31571, -5.9335700000000005], [37.31586, -5.93368], [37.31601, -5.93379], [37.31602, -5.9338], [37.31617, -5.9339], [37.31618, -5.93391], [37.31742, -5.93482], [37.3178, -5.9351], [37.3181, -5.93532], [37.31813, -5.93534], [37.31816, -5.93538], [37.31819, -5.93541], [37.31832, -5.93557], [37.31832, -5.93557], [37.31833, -5.93556], [37.31834, -5.93556], [37.31836, -5.93555], [37.31837, -5.93555], [37.31838, -5.93554], [37.3184, -5.93554], [37.31841, -5.93554], [37.31842, -5.93553], [37.31844, -5.93553], [37.31847, -5.93553], [37.31849, -5.93553], [37.31851, -5.93553], [37.31853, -5.93553], [37.31855, -5.93554], [37.31857, -5.93554], [37.31859, -5.93555], [37.31862, -5.93556], [37.31864, -5.93557], [37.31867, -5.93558], [37.31869, -5.9356], [37.31871, -5.93562], [37.31873, -5.93563], [37.31876, -5.93565], [37.31878, -5.93567], [37.3188, -5.93571], [37.31882, -5.93574], [37.31884, -5.93577], [37.31886, -5.93581], [37.31887, -5.93585], [37.31889, -5.9358900000000006], [37.31889, -5.93591], [37.31903, -5.936], [37.31909, -5.93604], [37.31915, -5.93607], [37.31943, -5.93635], [37.31969, -5.9366200000000005], [37.31984, -5.93681], [37.31997, -5.937], [37.32005, -5.93714], [37.3201, -5.93722], [37.32026, -5.9375], [37.32037, -5.93771], [37.32046, -5.93794], [37.32056, -5.93818], [37.32061, -5.93835], [37.32067, -5.93855], [37.32076, -5.93895], [37.32079, -5.93904], [37.3209, -5.93954], [37.32103, -5.94008], [37.32119, -5.94074], [37.32123, -5.9408900000000004], [37.32128, -5.94112], [37.32128, -5.94112], [37.32137, -5.94118], [37.3214, -5.94122], [37.32143, -5.94126], [37.32145, -5.94128], [37.32157, -5.94154], [37.32158, -5.94162], [37.32159, -5.9417], [37.32159, -5.94178], [37.32158, -5.94191], [37.32192, -5.9421100000000004], [37.32193, -5.9421100000000004], [37.32203, -5.94217], [37.3227, -5.94247], [37.32321, -5.94269], [37.32351, -5.94283], [37.32371, -5.94292], [37.32473, -5.94337], [37.3249, -5.94344], [37.32504, -5.9435], [37.32507, -5.94352], [37.32558, -5.94374], [37.32575, -5.9438200000000005], [37.32589, -5.94388], [37.32598, -5.94392], [37.32609, -5.94397], [37.32622, -5.94403], [37.32643, -5.94412], [37.3266, -5.94419], [37.3269, -5.94433], [37.32763, -5.94464], [37.32868, -5.94511], [37.32927, -5.9454], [37.32931, -5.94542], [37.32944, -5.94548], [37.32947, -5.9455], [37.32964, -5.94559], [37.32968, -5.94561], [37.32993, -5.94575], [37.33013, -5.94588], [37.33018, -5.94591], [37.33038, -5.94605], [37.33045, -5.94609], [37.33062, -5.94621], [37.33079, -5.94634], [37.33093, -5.94644], [37.33106, -5.94654], [37.33119, -5.94664], [37.33125, -5.9467], [37.33137, -5.94679], [37.33152, -5.94691], [37.33167, -5.94704], [37.33176, -5.94712], [37.33195, -5.94728], [37.33209, -5.94739], [37.33221, -5.94749], [37.3324, -5.94765], [37.33242, -5.9476700000000005], [37.3326, -5.9478100000000005], [37.33274, -5.94792], [37.333, -5.94812], [37.33303, -5.94814], [37.33312, -5.94821], [37.3333, -5.94833], [37.33341, -5.94841], [37.33359, -5.94853], [37.33366, -5.94858], [37.33371, -5.94861], [37.33382, -5.94868], [37.33385, -5.9487000000000005], [37.33402, -5.9488], [37.33422, -5.94892], [37.33446, -5.94906], [37.33462, -5.94915], [37.33478, -5.94923], [37.33487, -5.94927], [37.33497, -5.94932], [37.33503, -5.94935], [37.33524, -5.949450000000001], [37.33552, -5.94957], [37.33571, -5.94965], [37.33598, -5.94975], [37.33614, -5.94982], [37.33633, -5.94988], [37.33649, -5.94994], [37.33665, -5.94999], [37.33685, -5.95004], [37.33695, -5.95007], [37.33705, -5.9501], [37.33724, -5.95015], [37.33743, -5.9502], [37.33761, -5.95024], [37.33777, -5.95027], [37.33795, -5.95031], [37.33814, -5.95034], [37.33819, -5.95035], [37.33833, -5.95037], [37.3385, -5.9503900000000005], [37.33883, -5.95042], [37.33897, -5.95044], [37.33909, -5.95044], [37.33955, -5.95047], [37.33964, -5.95047], [37.3398, -5.95047], [37.33982, -5.95047], [37.33998, -5.95046], [37.34034, -5.95045], [37.34036, -5.95045], [37.34099, -5.9504], [37.34117, -5.95038], [37.34124, -5.95037], [37.34188, -5.95027], [37.342060000000004, -5.95024], [37.34215, -5.95022], [37.34223, -5.95019], [37.34231, -5.95017], [37.34285, -5.95002], [37.34338, -5.94986], [37.34353, -5.94981], [37.34355, -5.94981], [37.34371, -5.94975], [37.34388, -5.94968], [37.34415, -5.94958], [37.34422, -5.94955], [37.34425, -5.94954], [37.34428, -5.94953], [37.34433, -5.94951], [37.34441, -5.94947], [37.34459, -5.94938], [37.34491, -5.94923], [37.34519, -5.9491], [37.34522, -5.94909], [37.34522, -5.94909], [37.34522, -5.94905], [37.34523, -5.94901], [37.34523, -5.94898], [37.34524, -5.94894], [37.34526, -5.94891], [37.34527, -5.94887], [37.34529, -5.948840000000001], [37.34531, -5.94882], [37.34533, -5.9488], [37.34535, -5.94878], [37.34538, -5.94877], [37.3454, -5.94875], [37.34542, -5.94875], [37.34544, -5.94874], [37.34547, -5.94874], [37.34549, -5.94874], [37.34552, -5.94874], [37.34554, -5.94874], [37.34557, -5.94875], [37.34559, -5.94876], [37.34561, -5.94878], [37.34564, -5.9488], [37.34566, -5.94882], [37.34567, -5.94883], [37.34571, -5.94883], [37.34625, -5.94849], [37.34627, -5.94848], [37.347, -5.94796], [37.34782, -5.94729], [37.3483, -5.9468700000000005], [37.34853, -5.94668], [37.34918, -5.94611], [37.34969, -5.94569], [37.34987, -5.94552], [37.34988, -5.9455100000000005], [37.35002, -5.94539], [37.35026, -5.94519], [37.35063, -5.94484], [37.3507, -5.94478], [37.35072, -5.9447600000000005], [37.35103, -5.94448], [37.35114, -5.94439], [37.35139, -5.94418], [37.35142, -5.94417], [37.35148, -5.94411], [37.35151, -5.94405], [37.35155, -5.94398], [37.35157, -5.94392], [37.35157, -5.94392], [37.35156, -5.94391], [37.35156, -5.94389], [37.35156, -5.94387], [37.35156, -5.94385], [37.35156, -5.94383], [37.35157, -5.9438200000000005], [37.35157, -5.9438], [37.35158, -5.94378], [37.35158, -5.94377], [37.3516, -5.94374], [37.35161, -5.94372], [37.35162, -5.94371], [37.35163, -5.9437], [37.35164, -5.9436800000000005], [37.35165, -5.94367], [37.35167, -5.94366], [37.35168, -5.94366], [37.3517, -5.94365], [37.35171, -5.94365], [37.35172, -5.94364], [37.35174, -5.94364], [37.35175, -5.94364], [37.35177, -5.94364], [37.35178, -5.94364], [37.3518, -5.94365], [37.35181, -5.94365], [37.35183, -5.94366], [37.35184, -5.94367], [37.35185, -5.9436800000000005], [37.35186, -5.94369], [37.35188, -5.9437], [37.35189, -5.94373], [37.35212, -5.94375], [37.35219, -5.94373], [37.35222, -5.94374], [37.35224, -5.94374], [37.35253, -5.94355], [37.35259, -5.94351], [37.35262, -5.94349], [37.35286, -5.94327], [37.35288, -5.94325], [37.35297, -5.94311], [37.35301, -5.94304], [37.35303, -5.943], [37.35316, -5.94277], [37.35316, -5.94277], [37.35316, -5.94275], [37.35316, -5.94273], [37.35316, -5.94271], [37.35316, -5.94269], [37.35317, -5.94267], [37.35317, -5.94265], [37.35318, -5.94263], [37.35319, -5.94261], [37.3532, -5.94259], [37.35321, -5.94257], [37.35322, -5.94256], [37.35324, -5.94255], [37.35325, -5.94254], [37.35326, -5.94253], [37.35328, -5.94252], [37.35329, -5.94251], [37.35331, -5.9425], [37.35332, -5.9425], [37.35334, -5.9425], [37.35336, -5.9425], [37.35337, -5.9425], [37.35339, -5.9425], [37.35341, -5.94251], [37.35342, -5.94252], [37.35344, -5.94252], [37.35345, -5.94253], [37.35346, -5.94255], [37.35348, -5.94256], [37.35349, -5.94257], [37.35349, -5.94258], [37.3535, -5.94258], [37.3535, -5.94259], [37.3535, -5.9426], [37.35351, -5.9426], [37.35351, -5.94261], [37.35352, -5.94262], [37.35352, -5.94263], [37.35353, -5.94264], [37.35353, -5.94265], [37.35353, -5.94266], [37.35353, -5.94267], [37.35353, -5.94268], [37.35354, -5.94269], [37.35354, -5.9427], [37.35354, -5.9427200000000004], [37.35354, -5.94275], [37.35354, -5.94277], [37.35354, -5.9427900000000005], [37.35353, -5.94281], [37.35353, -5.94283], [37.35352, -5.94284], [37.35351, -5.94286], [37.35351, -5.94288], [37.3535, -5.9429], [37.35349, -5.94291], [37.35351, -5.94306], [37.35352, -5.94313], [37.35356, -5.94332], [37.35361, -5.94357], [37.35361, -5.9436], [37.35366, -5.94379], [37.35368, -5.9439], [37.35371, -5.9440100000000005], [37.35373, -5.94412], [37.35376, -5.94422], [37.35377, -5.94428], [37.35382, -5.9444300000000005], [37.35386, -5.9445500000000004], [37.3539, -5.94466], [37.35394, -5.94472], [37.35401, -5.94489], [37.35403, -5.94495], [37.35404, -5.94501], [37.35405, -5.94505], [37.35408, -5.9452], [37.35408, -5.9452], [37.35421, -5.94549], [37.35429, -5.94566], [37.35437, -5.94583], [37.35474, -5.94662], [37.35475, -5.94665], [37.35519, -5.94759], [37.35552, -5.94826], [37.35583, -5.94891], [37.35591, -5.94909], [37.35603, -5.94932], [37.35619, -5.94966], [37.3562, -5.94967], [37.35635, -5.95], [37.35664, -5.95057], [37.35682, -5.95096], [37.35688, -5.95108], [37.35705, -5.95144], [37.35706, -5.9514700000000005], [37.35724, -5.95177], [37.35744, -5.95213], [37.35747, -5.95217], [37.35759, -5.95234], [37.35765, -5.95243], [37.35787, -5.95272], [37.35841, -5.95345], [37.35841, -5.95345], [37.35855, -5.95351], [37.35857, -5.95352], [37.3586, -5.95354], [37.35864, -5.95357], [37.35869, -5.9536], [37.35873, -5.95361], [37.35877, -5.95362], [37.35882, -5.95363], [37.35886, -5.95363], [37.3589, -5.95363], [37.35891, -5.95362], [37.35894, -5.95362], [37.35898, -5.9536], [37.35902, -5.9535800000000005], [37.35907, -5.95355], [37.35911, -5.95352], [37.35915, -5.95349], [37.35926, -5.95339], [37.35938, -5.95327], [37.35943, -5.95322], [37.3595, -5.95315], [37.35959, -5.95307], [37.35965, -5.95304], [37.35969, -5.95302], [37.35975, -5.95299], [37.35979, -5.95298], [37.35984, -5.95298], [37.35992, -5.95298], [37.36001, -5.95299], [37.3601, -5.953], [37.36028, -5.95303], [37.36037, -5.95305], [37.36046, -5.95305], [37.36055, -5.95305], [37.36059, -5.95304], [37.36064, -5.95303], [37.36069, -5.95301], [37.36073, -5.95299], [37.36081, -5.95295], [37.36082, -5.95294], [37.36088, -5.95289], [37.36092, -5.95286], [37.36098, -5.95279], [37.36102, -5.95274], [37.36105, -5.9526900000000005], [37.36108, -5.95265], [37.36121, -5.95248], [37.36146, -5.9521], [37.36149, -5.95204], [37.36176, -5.95164], [37.36217, -5.95099], [37.36247, -5.95051], [37.36268, -5.95017], [37.36282, -5.95004], [37.36316, -5.94948], [37.36326, -5.9493100000000005], [37.36337, -5.94914], [37.3645, -5.94725], [37.36458, -5.9471], [37.3646, -5.94708], [37.36484, -5.94669], [37.36507, -5.94631], [37.36534, -5.9459], [37.36553, -5.94567], [37.36571, -5.94548], [37.36585, -5.94534], [37.36589, -5.9453], [37.36589, -5.9453], [37.36597, -5.9452300000000005], [37.36612, -5.94509], [37.36626, -5.94499], [37.366460000000004, -5.94485], [37.36661, -5.9447600000000005], [37.36672, -5.9447], [37.36703, -5.9445500000000004], [37.36731, -5.94444], [37.36741, -5.94442], [37.3675, -5.94439], [37.36765, -5.94435], [37.36794, -5.94431], [37.3681, -5.9442900000000005], [37.368430000000004, -5.94428], [37.36892, -5.94427], [37.36922, -5.94427], [37.37066, -5.94425], [37.3712, -5.94425], [37.37185, -5.94424], [37.37384, -5.94422], [37.37445, -5.94421], [37.37483, -5.94421], [37.37524, -5.94419], [37.37549, -5.94417], [37.37571, -5.9441500000000005], [37.37588, -5.94413], [37.37622, -5.94408], [37.37638, -5.94405], [37.37652, -5.9440100000000005], [37.37697, -5.9439], [37.37705, -5.94387], [37.37799, -5.94355], [37.37808, -5.94352], [37.3782, -5.94347], [37.37848, -5.94337], [37.37891, -5.94322], [37.3796, -5.94297], [37.37977, -5.94291], [37.38039, -5.94268], [37.382, -5.9421100000000004], [37.3821, -5.94209], [37.38219, -5.94206], [37.38278, -5.9418500000000005], [37.38294, -5.9418], [37.38309, -5.94174], [37.38383, -5.94147], [37.38391, -5.94145], [37.38412, -5.94133], [37.38418, -5.94133], [37.38425, -5.94131], [37.38431, -5.94129], [37.3845, -5.94122], [37.38469, -5.94116], [37.38536, -5.94093], [37.38555, -5.94088], [37.38573, -5.94082], [37.38601, -5.94076], [37.38612, -5.94075], [37.38632, -5.94074], [37.38644, -5.94074], [37.38659, -5.94075], [37.38669, -5.94076], [37.38673, -5.9407700000000006], [37.38679, -5.94078], [37.3869, -5.9408], [37.38701, -5.94083], [37.3871, -5.94086], [37.38728, -5.94092], [37.3874, -5.9409600000000005], [37.38794, -5.94115], [37.38862, -5.94144], [37.38922, -5.94168], [37.38932, -5.9417], [37.38943, -5.94174], [37.38961, -5.94182], [37.39252, -5.94298], [37.39265, -5.94303], [37.39266, -5.94303], [37.39272, -5.94306], [37.39284, -5.9431], [37.39305, -5.94319], [37.39326, -5.94327], [37.39368, -5.94344], [37.39548, -5.94418], [37.39588, -5.94433], [37.39612, -5.9444300000000005], [37.3963, -5.9445], [37.39673, -5.94468], [37.39693, -5.94475], [37.39714, -5.94482], [37.39726, -5.94486], [37.39736, -5.94489], [37.39738, -5.94489], [37.39758, -5.94493], [37.39781, -5.94496], [37.39809, -5.94497], [37.39838, -5.94498], [37.39871, -5.94497], [37.39883, -5.94498], [37.39893, -5.94498], [37.39905, -5.94499], [37.39915, -5.945], [37.39927, -5.94503], [37.39938, -5.94505], [37.39946, -5.94507], [37.39964, -5.94513], [37.39982, -5.94521], [37.39997, -5.94526], [37.40002, -5.94529], [37.40008, -5.94532], [37.40056, -5.94567], [37.40109, -5.94611], [37.40128, -5.9463], [37.4013, -5.94632], [37.40147, -5.9464500000000005], [37.40169, -5.94658], [37.40179, -5.94663], [37.4019, -5.94667], [37.40291, -5.94708], [37.40315, -5.94716], [37.40338, -5.94726], [37.40365, -5.94738], [37.40415, -5.94758], [37.40483, -5.94786], [37.40527, -5.94802], [37.40572, -5.94822], [37.40572, -5.94822], [37.40609, -5.94832], [37.40621, -5.94835], [37.4063, -5.94836], [37.4064, -5.94837], [37.40649, -5.94838], [37.40658, -5.94839], [37.40665, -5.94838], [37.4067, -5.94838], [37.4068, -5.94837], [37.40693, -5.94835], [37.40702, -5.94833], [37.40712, -5.9483], [37.4072, -5.9482800000000005], [37.40732, -5.948230000000001], [37.4075, -5.94814], [37.40769, -5.948], [37.40788, -5.94784], [37.40794, -5.94778], [37.40801, -5.94771], [37.40809, -5.9475999999999996], [37.40816, -5.9475], [37.40823, -5.94738], [37.40828, -5.94728], [37.40843, -5.94697], [37.40848, -5.9468], [37.40853, -5.94662], [37.40869, -5.94593], [37.40898, -5.94463], [37.40921, -5.94364], [37.40927, -5.94335], [37.40927, -5.94334], [37.40946, -5.94249], [37.40948, -5.94239], [37.40967, -5.94165], [37.40987, -5.94103], [37.41024, -5.94004], [37.41055, -5.93922], [37.41058, -5.93914], [37.41066, -5.9389400000000006], [37.41095, -5.93816], [37.41113, -5.93769], [37.41132, -5.93719], [37.41144, -5.93689], [37.41153, -5.9366900000000005], [37.41163, -5.93646], [37.41172, -5.93623], [37.41178, -5.93609], [37.41203, -5.9354700000000005], [37.41213, -5.93523], [37.41217, -5.9351400000000005], [37.41231, -5.9348], [37.41232, -5.93477], [37.41237, -5.93465], [37.41242, -5.93452], [37.41258, -5.93414], [37.41293, -5.93328], [37.41298, -5.93316], [37.41303, -5.93305], [37.41307, -5.93295], [37.41311, -5.932840000000001], [37.41323, -5.93255], [37.41326, -5.93248], [37.41336, -5.93224], [37.41344, -5.93205], [37.41373, -5.9313400000000005], [37.41379, -5.9312000000000005], [37.41385, -5.93106], [37.41397, -5.93076], [37.41409, -5.93046], [37.41419, -5.93022], [37.41431, -5.92997], [37.41461, -5.92921], [37.41489, -5.92853], [37.41517, -5.92785], [37.41525, -5.92762], [37.41526, -5.9276], [37.41536, -5.92732], [37.41539, -5.92722], [37.41541, -5.92718], [37.41548, -5.92696], [37.41564, -5.9264], [37.41565, -5.92637], [37.41566, -5.92634], [37.41571, -5.92616], [37.41572, -5.92612], [37.4158, -5.9258500000000005], [37.4159, -5.92548], [37.416, -5.92513], [37.41607, -5.92488], [37.4161, -5.9247700000000005], [37.4162, -5.9244200000000005], [37.41624, -5.92427], [37.41631, -5.92403], [37.41633, -5.92394], [37.41662, -5.92292], [37.41671, -5.92261], [37.41688, -5.92199], [37.41691, -5.92189], [37.41708, -5.92128], [37.41721, -5.9208], [37.41734, -5.92035], [37.41738, -5.92018], [37.41758, -5.91952], [37.41803, -5.91815], [37.41822, -5.91765], [37.41835, -5.91733], [37.4185, -5.916980000000001], [37.41858, -5.9168], [37.41873, -5.91646], [37.419, -5.91589], [37.41912, -5.91563], [37.41933, -5.91518], [37.4195, -5.91483], [37.41976, -5.91429], [37.4199, -5.91399], [37.42013, -5.9135], [37.42034, -5.91305], [37.42039, -5.91294], [37.42053, -5.91267], [37.42076, -5.91219], [37.42143, -5.9109], [37.42143, -5.9109], [37.42153, -5.91045], [37.42158, -5.9103200000000005], [37.42163, -5.91019], [37.42169, -5.91004], [37.42181, -5.90975], [37.42198, -5.90934], [37.42203, -5.9092400000000005], [37.42203, -5.9092400000000005], [37.42206, -5.90917], [37.42208, -5.90914], [37.42214, -5.909], [37.42222, -5.90878], [37.42224, -5.9087], [37.42226, -5.9086300000000005], [37.42226, -5.90862], [37.42228, -5.9084900000000005], [37.42229, -5.9084], [37.42231, -5.90823], [37.42231, -5.90807], [37.42231, -5.90771], [37.42233, -5.90728], [37.42233, -5.9072700000000005], [37.42233, -5.90705], [37.42234, -5.90678], [37.42234, -5.90661], [37.42234, -5.90656], [37.42234, -5.90635], [37.42234, -5.90616], [37.42234, -5.90587], [37.42234, -5.9058600000000006], [37.42234, -5.90585], [37.42234, -5.90584], [37.42234, -5.90578], [37.42235, -5.90573], [37.42235, -5.90573], [37.42235, -5.90552], [37.42236, -5.9046], [37.42237, -5.90452], [37.42237, -5.90447], [37.42237, -5.9043600000000005], [37.42237, -5.90434], [37.42237, -5.90424], [37.42237, -5.90416], [37.42237, -5.9036], [37.42237, -5.90326], [37.42237, -5.90302], [37.42237, -5.9029], [37.42237, -5.90283], [37.42237, -5.902810000000001], [37.42237, -5.90268], [37.42238, -5.90255], [37.42239, -5.90238], [37.4224, -5.90233], [37.42241, -5.90223], [37.42243, -5.90211], [37.42249, -5.90189], [37.42253, -5.90175], [37.42255, -5.9017], [37.42259, -5.90161], [37.4226, -5.901590000000001], [37.42269, -5.90141], [37.42282, -5.90122], [37.42304, -5.9009], [37.4234, -5.90045]],\n",
       "                {&quot;bubblingMouseEvents&quot;: true, &quot;color&quot;: &quot;blue&quot;, &quot;dashArray&quot;: null, &quot;dashOffset&quot;: null, &quot;fill&quot;: false, &quot;fillColor&quot;: &quot;blue&quot;, &quot;fillOpacity&quot;: 0.2, &quot;fillRule&quot;: &quot;evenodd&quot;, &quot;lineCap&quot;: &quot;round&quot;, &quot;lineJoin&quot;: &quot;round&quot;, &quot;noClip&quot;: false, &quot;opacity&quot;: 1.0, &quot;smoothFactor&quot;: 1.0, &quot;stroke&quot;: true, &quot;weight&quot;: 3}\n",
       "            ).addTo(map_76fa7f4a90c5b31f3ffb0c53a8b6bfa1);\n",
       "        \n",
       "    \n",
       "            var poly_line_6ba85c3bb7e83c876f4f26ac5cdacaf0 = L.polyline(\n",
       "                [[37.281886, -5.916649], [37.28189, -5.916641], [37.281889, -5.916638], [37.281889, -5.916638], [37.281889, -5.916638], [37.281889, -5.916638], [37.281889, -5.916638], [37.281889, -5.916638], [37.281889, -5.916638], [37.281889, -5.916638], [37.281892, -5.91663], [37.282097, -5.916404], [37.282202, -5.916281], [37.282377, -5.916425], [37.282663, -5.916834], [37.282731, -5.916936], [37.282747, -5.916954], [37.282747, -5.916954], [37.282747, -5.916954], [37.282786, -5.917018], [37.282954, -5.917257], [37.283282, -5.917718], [37.283506, -5.918006], [37.283633, -5.918174], [37.283985, -5.918712], [37.284274, -5.919127], [37.284495, -5.919454], [37.284518, -5.919488], [37.284529, -5.919509], [37.284542, -5.919534], [37.284542, -5.919534], [37.284542, -5.919534], [37.284541, -5.919539], [37.284667, -5.919728], [37.284868, -5.919981], [37.285144, -5.920344], [37.285356, -5.920637], [37.285688, -5.921104], [37.286087, -5.921614], [37.286333, -5.921958], [37.286646, -5.922385], [37.286666, -5.922835], [37.286552, -5.923184], [37.286764, -5.9234539999999996], [37.28702, -5.923934], [37.286943, -5.924171], [37.286667, -5.924327], [37.286634, -5.924374], [37.286644, -5.9246], [37.286839, -5.92497], [37.28699, -5.925222], [37.287251, -5.925634], [37.287545, -5.926143], [37.287797, -5.926585], [37.288108, -5.927078], [37.288463, -5.92765], [37.288714, -5.928146], [37.289024, -5.929], [37.28916, -5.929372], [37.289294, -5.929733], [37.289306, -5.929778], [37.289306, -5.929778], [37.289306, -5.929778], [37.289313, -5.929788], [37.289347, -5.929878], [37.289368, -5.929951], [37.289379, -5.92999], [37.289426, -5.930125], [37.289453, -5.930188], [37.289479, -5.930213], [37.289645, -5.930565], [37.289572, -5.93105], [37.289767, -5.931958], [37.289978, -5.932441], [37.290068, -5.932812], [37.290083, -5.933201], [37.290132, -5.93342], [37.290249, -5.933928], [37.290463, -5.934851], [37.290669, -5.935759], [37.290801, -5.936373], [37.290995, -5.93734], [37.291114, -5.937847], [37.291364, -5.938093], [37.291622, -5.938349], [37.291826, -5.938735], [37.292443, -5.939363], [37.29293, -5.939877], [37.293041, -5.939983], [37.293143, -5.940069], [37.293231, -5.940131], [37.293247, -5.940136], [37.293414, -5.940185], [37.293585, -5.9402800000000004], [37.293993, -5.940631], [37.295013, -5.941074], [37.2958, -5.941438], [37.296915, -5.941967], [37.298086, -5.942527], [37.298667, -5.942801], [37.299225, -5.942986], [37.299479, -5.942709], [37.299596, -5.941666], [37.299711, -5.940324], [37.299802, -5.939315], [37.299957, -5.937452], [37.300102, -5.935309], [37.300208, -5.933782], [37.300341, -5.93145], [37.300414, -5.929863], [37.300619, -5.925308], [37.300755, -5.923533], [37.300951, -5.9217379999999995], [37.301287, -5.919598], [37.301568, -5.918198], [37.302077, -5.916151], [37.30247, -5.914798], [37.30314, -5.912826], [37.30391, -5.910901], [37.304619, -5.909343], [37.30541, -5.907825], [37.30645, -5.906072], [37.307211, -5.904961], [37.308482, -5.903427], [37.309419, -5.902534], [37.310913, -5.901402], [37.312507, -5.900517], [37.31359, -5.90004], [37.31521, -5.899313], [37.31674, -5.898337], [37.317695, -5.897526], [37.318997, -5.896074], [37.319825, -5.895049], [37.321121, -5.893571], [37.322509, -5.892229], [37.323481, -5.891419], [37.32502, -5.890357], [37.326641, -5.889467], [37.327736, -5.889008], [37.331136, -5.888049], [37.332288, -5.887909], [37.334022, -5.887859], [37.335772, -5.887939], [37.336931, -5.887979], [37.338659, -5.888018], [37.339814, -5.8879909999999995], [37.341557, -5.887837], [37.343274, -5.887551], [37.344422, -5.887284], [37.346116, -5.886769], [37.347796, -5.8861229999999995], [37.348895, -5.885619], [37.350494, -5.884785], [37.352038, -5.883842], [37.353038, -5.883135], [37.354507, -5.881983], [37.355445, -5.881161], [37.35681, -5.879836], [37.358116, -5.8784089999999996], [37.358946, -5.877415], [37.360157, -5.875884], [37.361352, -5.8743300000000005], [37.36215, -5.873274], [37.363383, -5.871735], [37.364232, -5.870724], [37.365545, -5.869276], [37.366917, -5.867909], [37.367861, -5.867043], [37.369296, -5.865825], [37.370766, -5.864706], [37.371783, -5.864021], [37.373331, -5.863058], [37.374389, -5.862458], [37.376018, -5.861631], [37.377685, -5.860911], [37.378806, -5.860488], [37.380216, -5.860024], [37.381911, -5.859557], [37.383612, -5.859189], [37.384754, -5.858999], [37.386489, -5.858789], [37.388236, -5.858588], [37.38939, -5.858449], [37.391123, -5.858206], [37.392838, -5.857911], [37.393981, -5.85765], [37.395674, -5.857225], [37.397356, -5.856731], [37.398479, -5.856359], [37.400157, -5.85574], [37.401267, -5.855307], [37.402904, -5.854588], [37.404498, -5.853816], [37.405564, -5.853254], [37.407154, -5.852342], [37.408736, -5.851392], [37.409769, -5.850703], [37.411288, -5.849629], [37.412279, -5.848873], [37.413744, -5.847711], [37.415163, -5.84651], [37.416371, -5.845532], [37.417656, -5.844676], [37.418731, -5.844069], [37.420377, -5.843322], [37.422069, -5.84279], [37.423205, -5.842538], [37.424901, -5.842277], [37.426496, -5.842297], [37.427749, -5.842421], [37.428885, -5.842633], [37.430138, -5.842873], [37.430923, -5.8431560000000005], [37.43198, -5.843595], [37.432555, -5.843625], [37.432983, -5.842866], [37.432525, -5.842156], [37.432013, -5.842284], [37.431716, -5.8432569999999995], [37.431565, -5.844603], [37.431493, -5.845646], [37.431384, -5.847264], [37.431348, -5.84829], [37.43123, -5.849819], [37.431119, -5.8514859999999995], [37.431011, -5.852633], [37.430853, -5.854433], [37.430761, -5.855639], [37.430626, -5.857413], [37.430478, -5.859281], [37.43039, -5.860494], [37.430247, -5.862342], [37.430105, -5.864206], [37.430011, -5.865408], [37.429994, -5.867185], [37.430265, -5.868905], [37.430587, -5.869959], [37.431271, -5.871432], [37.432024, -5.872865], [37.43252, -5.873811], [37.433238, -5.875169], [37.433922, -5.876573], [37.4343, -5.877616], [37.43469, -5.879269], [37.434784, -5.880981], [37.434698, -5.88207], [37.434381, -5.883708], [37.434015, -5.884752], [37.433315, -5.886235], [37.432625, -5.88769], [37.43216, -5.888647], [37.431466, -5.890093], [37.430768, -5.891554], [37.430337, -5.892465], [37.429788, -5.893626], [37.429343, -5.8945609999999995], [37.428532, -5.896256], [37.427823, -5.89776], [37.427352, -5.898802], [37.426578, -5.900434], [37.426282, -5.901169], [37.426614, -5.901976], [37.427108, -5.901868], [37.427594, -5.900987], [37.427394, -5.900033], [37.426995, -5.899626], [37.426384, -5.899218], [37.425817, -5.899749], [37.425613, -5.900494], [37.425122, -5.901774], [37.424767, -5.902518], [37.424407, -5.903171], [37.423843, -5.904303], [37.423553, -5.905232], [37.423228, -5.906529], [37.422702, -5.906774], [37.422365, -5.906076], [37.422363, -5.9054839999999995], [37.422363, -5.904498], [37.422363, -5.903507], [37.422348, -5.902952], [37.422368, -5.902338], [37.422446, -5.901892], [37.422714, -5.901258], [37.422857, -5.901025], [37.423015, -5.900833], [37.423045, -5.90078], [37.423045, -5.900786], [37.423065, -5.9007819999999995], [37.423066, -5.90079], [37.423085, -5.900794], [37.423094, -5.900785], [37.423125, -5.900634], [37.423158, -5.900516], [37.423202, -5.900423], [37.423198, -5.900387], [37.42322, -5.900384], [37.423219, -5.900383], [37.423234, -5.900383], [37.423252, -5.900385], [37.423267, -5.900383], [37.423266, -5.900379], [37.423266, -5.900379], [37.423266, -5.900379], [37.423266, -5.900379], [37.423266, -5.900379], [37.423266, -5.900379], [37.423266, -5.900379], [37.423266, -5.900379], [37.423266, -5.900379], [37.423266, -5.900379]],\n",
       "                {&quot;bubblingMouseEvents&quot;: true, &quot;color&quot;: &quot;red&quot;, &quot;dashArray&quot;: null, &quot;dashOffset&quot;: null, &quot;fill&quot;: false, &quot;fillColor&quot;: &quot;red&quot;, &quot;fillOpacity&quot;: 0.2, &quot;fillRule&quot;: &quot;evenodd&quot;, &quot;lineCap&quot;: &quot;round&quot;, &quot;lineJoin&quot;: &quot;round&quot;, &quot;noClip&quot;: false, &quot;opacity&quot;: 1.0, &quot;smoothFactor&quot;: 1.0, &quot;stroke&quot;: true, &quot;weight&quot;: 3}\n",
       "            ).addTo(map_76fa7f4a90c5b31f3ffb0c53a8b6bfa1);\n",
       "        \n",
       "&lt;/script&gt;\n",
       "&lt;/html&gt;\" style=\"position:absolute;width:100%;height:100%;left:0;top:0;border:none !important;\" allowfullscreen webkitallowfullscreen mozallowfullscreen></iframe></div></div>"
      ],
      "text/plain": [
       "<folium.folium.Map at 0x2bc0188c970>"
      ]
     },
     "execution_count": 480,
     "metadata": {},
     "output_type": "execute_result"
    }
   ],
   "source": [
    "create_map(1876, 10)"
   ]
  },
  {
   "cell_type": "markdown",
   "id": "5d5c6b58",
   "metadata": {},
   "source": [
    "These two look more normal to me.\n",
    "\n",
    "It is curious two of them are from Buenos Aires, it could be a thing in here, if we had more time, we could investigatigate deeply on it.\n",
    "\n",
    "I think it is good to check these not so common values, and visualize them."
   ]
  },
  {
   "cell_type": "code",
   "execution_count": null,
   "id": "b61f7377",
   "metadata": {},
   "outputs": [],
   "source": []
  },
  {
   "cell_type": "markdown",
   "id": "8d49769d",
   "metadata": {},
   "source": [
    "### Calculating the difference between the distances of each route:"
   ]
  },
  {
   "cell_type": "code",
   "execution_count": 407,
   "id": "91b42775",
   "metadata": {},
   "outputs": [],
   "source": [
    "def calculate_distance(route):\n",
    "    total_distance = 0\n",
    "    for i in range(1, len(route)):\n",
    "        total_distance += haversine(route[i-1], route[i], unit=Unit.KILOMETERS)\n",
    "    return total_distance\n",
    "\n",
    "df['distance_real_r'] = df['real_route'].apply(calculate_distance)\n",
    "df['distance_estimated_r'] = df['estimated_route'].apply(calculate_distance)"
   ]
  },
  {
   "cell_type": "code",
   "execution_count": 410,
   "id": "8711abf3",
   "metadata": {},
   "outputs": [],
   "source": [
    "df['difference_distances']=df['distance_real_r']-df['distance_estimated_r']"
   ]
  },
  {
   "cell_type": "code",
   "execution_count": 455,
   "id": "d002e106",
   "metadata": {},
   "outputs": [
    {
     "data": {
      "text/html": [
       "<div>\n",
       "<style scoped>\n",
       "    .dataframe tbody tr th:only-of-type {\n",
       "        vertical-align: middle;\n",
       "    }\n",
       "\n",
       "    .dataframe tbody tr th {\n",
       "        vertical-align: top;\n",
       "    }\n",
       "\n",
       "    .dataframe thead th {\n",
       "        text-align: right;\n",
       "    }\n",
       "</style>\n",
       "<table border=\"1\" class=\"dataframe\">\n",
       "  <thead>\n",
       "    <tr style=\"text-align: right;\">\n",
       "      <th>annotation</th>\n",
       "      <th>Both are the same</th>\n",
       "      <th>They differ</th>\n",
       "    </tr>\n",
       "  </thead>\n",
       "  <tbody>\n",
       "    <tr>\n",
       "      <th>count</th>\n",
       "      <td>1153.000000</td>\n",
       "      <td>1580.000000</td>\n",
       "    </tr>\n",
       "    <tr>\n",
       "      <th>mean</th>\n",
       "      <td>0.006248</td>\n",
       "      <td>-0.069761</td>\n",
       "    </tr>\n",
       "    <tr>\n",
       "      <th>std</th>\n",
       "      <td>0.515208</td>\n",
       "      <td>2.034905</td>\n",
       "    </tr>\n",
       "    <tr>\n",
       "      <th>min</th>\n",
       "      <td>-3.417226</td>\n",
       "      <td>-21.540348</td>\n",
       "    </tr>\n",
       "    <tr>\n",
       "      <th>25%</th>\n",
       "      <td>-0.103970</td>\n",
       "      <td>-0.562497</td>\n",
       "    </tr>\n",
       "    <tr>\n",
       "      <th>50%</th>\n",
       "      <td>-0.021384</td>\n",
       "      <td>-0.023331</td>\n",
       "    </tr>\n",
       "    <tr>\n",
       "      <th>75%</th>\n",
       "      <td>0.080962</td>\n",
       "      <td>0.525304</td>\n",
       "    </tr>\n",
       "    <tr>\n",
       "      <th>max</th>\n",
       "      <td>10.534459</td>\n",
       "      <td>15.949706</td>\n",
       "    </tr>\n",
       "  </tbody>\n",
       "</table>\n",
       "</div>"
      ],
      "text/plain": [
       "annotation  Both are the same  They differ\n",
       "count             1153.000000  1580.000000\n",
       "mean                 0.006248    -0.069761\n",
       "std                  0.515208     2.034905\n",
       "min                 -3.417226   -21.540348\n",
       "25%                 -0.103970    -0.562497\n",
       "50%                 -0.021384    -0.023331\n",
       "75%                  0.080962     0.525304\n",
       "max                 10.534459    15.949706"
      ]
     },
     "execution_count": 455,
     "metadata": {},
     "output_type": "execute_result"
    }
   ],
   "source": [
    "df.groupby('annotation')['difference_distances'].describe().T"
   ]
  },
  {
   "cell_type": "markdown",
   "id": "9fb05c73",
   "metadata": {},
   "source": [
    "# Hago una primera prueba predictiva"
   ]
  },
  {
   "cell_type": "code",
   "execution_count": 486,
   "id": "088c8eb3",
   "metadata": {},
   "outputs": [
    {
     "data": {
      "text/plain": [
       "They differ          1580\n",
       "Both are the same    1153\n",
       "Name: annotation, dtype: int64"
      ]
     },
     "execution_count": 486,
     "metadata": {},
     "output_type": "execute_result"
    }
   ],
   "source": [
    "df['annotation'].value_counts()"
   ]
  },
  {
   "cell_type": "markdown",
   "id": "22af070a",
   "metadata": {},
   "source": [
    "Im going to call the \"Both are the same\" as 1's, and the \"They differ\" as 0's."
   ]
  },
  {
   "cell_type": "code",
   "execution_count": 489,
   "id": "bcc88982",
   "metadata": {},
   "outputs": [
    {
     "name": "stderr",
     "output_type": "stream",
     "text": [
      "C:\\Users\\110927\\AppData\\Local\\Temp\\ipykernel_18592\\3468967020.py:1: SettingWithCopyWarning: \n",
      "A value is trying to be set on a copy of a slice from a DataFrame.\n",
      "Try using .loc[row_indexer,col_indexer] = value instead\n",
      "\n",
      "See the caveats in the documentation: https://pandas.pydata.org/pandas-docs/stable/user_guide/indexing.html#returning-a-view-versus-a-copy\n",
      "  df['target'] = np.where(df['annotation'] == 'Both are the same', 1, 0)\n"
     ]
    }
   ],
   "source": [
    "df['target'] = np.where(df['annotation'] == 'Both are the same', 1, 0)"
   ]
  },
  {
   "cell_type": "markdown",
   "id": "62c7ba0e",
   "metadata": {},
   "source": [
    "I'm gonna keep the ids in a separate dataframe:"
   ]
  },
  {
   "cell_type": "code",
   "execution_count": 491,
   "id": "001b8795",
   "metadata": {},
   "outputs": [],
   "source": [
    "journey_ids=df['journey_id']"
   ]
  },
  {
   "cell_type": "code",
   "execution_count": 492,
   "id": "17d608e5",
   "metadata": {},
   "outputs": [
    {
     "data": {
      "text/plain": [
       "Index(['journey_id', 'annotator', 'annotation', 'estimated_route',\n",
       "       'real_route', 'len_esti_route', 'len_real_route', 'area_m2',\n",
       "       'distance_real_r', 'distance_estimated_r', 'difference_distances',\n",
       "       'target'],\n",
       "      dtype='object')"
      ]
     },
     "execution_count": 492,
     "metadata": {},
     "output_type": "execute_result"
    }
   ],
   "source": [
    "df.columns"
   ]
  },
  {
   "cell_type": "code",
   "execution_count": 493,
   "id": "9082d14b",
   "metadata": {},
   "outputs": [],
   "source": [
    "x=df.drop(columns=['journey_id', 'annotation','estimated_route','real_route','target'])"
   ]
  },
  {
   "cell_type": "code",
   "execution_count": 494,
   "id": "aa3ad357",
   "metadata": {},
   "outputs": [],
   "source": [
    "y=df['target']"
   ]
  },
  {
   "cell_type": "markdown",
   "id": "124af9bb",
   "metadata": {},
   "source": [
    "I separate the test dataset, it will be 20%, because our training data is already limited. Normally I would take 30% or so."
   ]
  },
  {
   "cell_type": "code",
   "execution_count": 499,
   "id": "72340202",
   "metadata": {},
   "outputs": [],
   "source": [
    "from sklearn.model_selection import train_test_split\n",
    "train_x, val_x, train_y, val_y = train_test_split(x, y, test_size=0.2)"
   ]
  },
  {
   "cell_type": "code",
   "execution_count": 500,
   "id": "42167035",
   "metadata": {},
   "outputs": [],
   "source": [
    "from sklearn.model_selection import KFold\n",
    "kf= KFold(n_splits=5)"
   ]
  },
  {
   "cell_type": "code",
   "execution_count": 506,
   "id": "a374a670",
   "metadata": {},
   "outputs": [
    {
     "name": "stdout",
     "output_type": "stream",
     "text": [
      "0.9636288647674975\n"
     ]
    },
    {
     "name": "stderr",
     "output_type": "stream",
     "text": [
      "C:\\Users\\110927\\AppData\\Local\\miniconda3\\lib\\site-packages\\sklearn\\linear_model\\_logistic.py:458: ConvergenceWarning: lbfgs failed to converge (status=1):\n",
      "STOP: TOTAL NO. of ITERATIONS REACHED LIMIT.\n",
      "\n",
      "Increase the number of iterations (max_iter) or scale the data as shown in:\n",
      "    https://scikit-learn.org/stable/modules/preprocessing.html\n",
      "Please also refer to the documentation for alternative solver options:\n",
      "    https://scikit-learn.org/stable/modules/linear_model.html#logistic-regression\n",
      "  n_iter_i = _check_optimize_result(\n",
      "C:\\Users\\110927\\AppData\\Local\\miniconda3\\lib\\site-packages\\sklearn\\linear_model\\_logistic.py:458: ConvergenceWarning: lbfgs failed to converge (status=1):\n",
      "STOP: TOTAL NO. of ITERATIONS REACHED LIMIT.\n",
      "\n",
      "Increase the number of iterations (max_iter) or scale the data as shown in:\n",
      "    https://scikit-learn.org/stable/modules/preprocessing.html\n",
      "Please also refer to the documentation for alternative solver options:\n",
      "    https://scikit-learn.org/stable/modules/linear_model.html#logistic-regression\n",
      "  n_iter_i = _check_optimize_result(\n",
      "C:\\Users\\110927\\AppData\\Local\\miniconda3\\lib\\site-packages\\sklearn\\linear_model\\_logistic.py:458: ConvergenceWarning: lbfgs failed to converge (status=1):\n",
      "STOP: TOTAL NO. of ITERATIONS REACHED LIMIT.\n",
      "\n",
      "Increase the number of iterations (max_iter) or scale the data as shown in:\n",
      "    https://scikit-learn.org/stable/modules/preprocessing.html\n",
      "Please also refer to the documentation for alternative solver options:\n",
      "    https://scikit-learn.org/stable/modules/linear_model.html#logistic-regression\n",
      "  n_iter_i = _check_optimize_result(\n"
     ]
    }
   ],
   "source": [
    "from sklearn.linear_model import LogisticRegression\n",
    "from sklearn.model_selection import cross_val_score\n",
    "log_reg= LogisticRegression()\n",
    "met_cv_log_reg=cross_val_score(estimator=log_reg, X=train_x, y=train_y, cv=kf, scoring='roc_auc')\n",
    "print(met_cv.mean())"
   ]
  },
  {
   "cell_type": "code",
   "execution_count": 508,
   "id": "7b423e11",
   "metadata": {},
   "outputs": [
    {
     "name": "stderr",
     "output_type": "stream",
     "text": [
      "C:\\Users\\110927\\AppData\\Local\\miniconda3\\lib\\site-packages\\sklearn\\linear_model\\_logistic.py:458: ConvergenceWarning: lbfgs failed to converge (status=1):\n",
      "STOP: TOTAL NO. of ITERATIONS REACHED LIMIT.\n",
      "\n",
      "Increase the number of iterations (max_iter) or scale the data as shown in:\n",
      "    https://scikit-learn.org/stable/modules/preprocessing.html\n",
      "Please also refer to the documentation for alternative solver options:\n",
      "    https://scikit-learn.org/stable/modules/linear_model.html#logistic-regression\n",
      "  n_iter_i = _check_optimize_result(\n"
     ]
    },
    {
     "data": {
      "text/html": [
       "<style>#sk-container-id-3 {color: black;background-color: white;}#sk-container-id-3 pre{padding: 0;}#sk-container-id-3 div.sk-toggleable {background-color: white;}#sk-container-id-3 label.sk-toggleable__label {cursor: pointer;display: block;width: 100%;margin-bottom: 0;padding: 0.3em;box-sizing: border-box;text-align: center;}#sk-container-id-3 label.sk-toggleable__label-arrow:before {content: \"▸\";float: left;margin-right: 0.25em;color: #696969;}#sk-container-id-3 label.sk-toggleable__label-arrow:hover:before {color: black;}#sk-container-id-3 div.sk-estimator:hover label.sk-toggleable__label-arrow:before {color: black;}#sk-container-id-3 div.sk-toggleable__content {max-height: 0;max-width: 0;overflow: hidden;text-align: left;background-color: #f0f8ff;}#sk-container-id-3 div.sk-toggleable__content pre {margin: 0.2em;color: black;border-radius: 0.25em;background-color: #f0f8ff;}#sk-container-id-3 input.sk-toggleable__control:checked~div.sk-toggleable__content {max-height: 200px;max-width: 100%;overflow: auto;}#sk-container-id-3 input.sk-toggleable__control:checked~label.sk-toggleable__label-arrow:before {content: \"▾\";}#sk-container-id-3 div.sk-estimator input.sk-toggleable__control:checked~label.sk-toggleable__label {background-color: #d4ebff;}#sk-container-id-3 div.sk-label input.sk-toggleable__control:checked~label.sk-toggleable__label {background-color: #d4ebff;}#sk-container-id-3 input.sk-hidden--visually {border: 0;clip: rect(1px 1px 1px 1px);clip: rect(1px, 1px, 1px, 1px);height: 1px;margin: -1px;overflow: hidden;padding: 0;position: absolute;width: 1px;}#sk-container-id-3 div.sk-estimator {font-family: monospace;background-color: #f0f8ff;border: 1px dotted black;border-radius: 0.25em;box-sizing: border-box;margin-bottom: 0.5em;}#sk-container-id-3 div.sk-estimator:hover {background-color: #d4ebff;}#sk-container-id-3 div.sk-parallel-item::after {content: \"\";width: 100%;border-bottom: 1px solid gray;flex-grow: 1;}#sk-container-id-3 div.sk-label:hover label.sk-toggleable__label {background-color: #d4ebff;}#sk-container-id-3 div.sk-serial::before {content: \"\";position: absolute;border-left: 1px solid gray;box-sizing: border-box;top: 0;bottom: 0;left: 50%;z-index: 0;}#sk-container-id-3 div.sk-serial {display: flex;flex-direction: column;align-items: center;background-color: white;padding-right: 0.2em;padding-left: 0.2em;position: relative;}#sk-container-id-3 div.sk-item {position: relative;z-index: 1;}#sk-container-id-3 div.sk-parallel {display: flex;align-items: stretch;justify-content: center;background-color: white;position: relative;}#sk-container-id-3 div.sk-item::before, #sk-container-id-3 div.sk-parallel-item::before {content: \"\";position: absolute;border-left: 1px solid gray;box-sizing: border-box;top: 0;bottom: 0;left: 50%;z-index: -1;}#sk-container-id-3 div.sk-parallel-item {display: flex;flex-direction: column;z-index: 1;position: relative;background-color: white;}#sk-container-id-3 div.sk-parallel-item:first-child::after {align-self: flex-end;width: 50%;}#sk-container-id-3 div.sk-parallel-item:last-child::after {align-self: flex-start;width: 50%;}#sk-container-id-3 div.sk-parallel-item:only-child::after {width: 0;}#sk-container-id-3 div.sk-dashed-wrapped {border: 1px dashed gray;margin: 0 0.4em 0.5em 0.4em;box-sizing: border-box;padding-bottom: 0.4em;background-color: white;}#sk-container-id-3 div.sk-label label {font-family: monospace;font-weight: bold;display: inline-block;line-height: 1.2em;}#sk-container-id-3 div.sk-label-container {text-align: center;}#sk-container-id-3 div.sk-container {/* jupyter's `normalize.less` sets `[hidden] { display: none; }` but bootstrap.min.css set `[hidden] { display: none !important; }` so we also need the `!important` here to be able to override the default hidden behavior on the sphinx rendered scikit-learn.org. See: https://github.com/scikit-learn/scikit-learn/issues/21755 */display: inline-block !important;position: relative;}#sk-container-id-3 div.sk-text-repr-fallback {display: none;}</style><div id=\"sk-container-id-3\" class=\"sk-top-container\"><div class=\"sk-text-repr-fallback\"><pre>LogisticRegression()</pre><b>In a Jupyter environment, please rerun this cell to show the HTML representation or trust the notebook. <br />On GitHub, the HTML representation is unable to render, please try loading this page with nbviewer.org.</b></div><div class=\"sk-container\" hidden><div class=\"sk-item\"><div class=\"sk-estimator sk-toggleable\"><input class=\"sk-toggleable__control sk-hidden--visually\" id=\"sk-estimator-id-3\" type=\"checkbox\" checked><label for=\"sk-estimator-id-3\" class=\"sk-toggleable__label sk-toggleable__label-arrow\">LogisticRegression</label><div class=\"sk-toggleable__content\"><pre>LogisticRegression()</pre></div></div></div></div></div>"
      ],
      "text/plain": [
       "LogisticRegression()"
      ]
     },
     "execution_count": 508,
     "metadata": {},
     "output_type": "execute_result"
    }
   ],
   "source": [
    "log_reg.fit(train_x, train_y)"
   ]
  },
  {
   "cell_type": "markdown",
   "id": "2a5d29f6",
   "metadata": {},
   "source": [
    "I am going to use '.predict()' for simplicity, but for some grey cases, I would do 'predict_proba()' and check how is perfoming."
   ]
  },
  {
   "cell_type": "code",
   "execution_count": 509,
   "id": "1c6c2c5d",
   "metadata": {},
   "outputs": [],
   "source": [
    "pred_log_reg=log_reg.predict(val_x)"
   ]
  },
  {
   "cell_type": "code",
   "execution_count": 532,
   "id": "5d9cc954",
   "metadata": {},
   "outputs": [
    {
     "data": {
      "text/plain": [
       "0.9061825278192992"
      ]
     },
     "execution_count": 532,
     "metadata": {},
     "output_type": "execute_result"
    }
   ],
   "source": [
    "from sklearn.metrics import roc_auc_score, roc_curve\n",
    "roc_auc_score(val_y, pred_log_reg)"
   ]
  },
  {
   "cell_type": "markdown",
   "id": "ca405fc5",
   "metadata": {},
   "source": [
    "## Testing performance of Random Forest"
   ]
  },
  {
   "cell_type": "code",
   "execution_count": 544,
   "id": "257edce6",
   "metadata": {},
   "outputs": [
    {
     "name": "stdout",
     "output_type": "stream",
     "text": [
      "Fitting 5 folds for each of 100 candidates, totalling 500 fits\n",
      "Best combination: {'algorithm__subsample': 1.0, 'algorithm__num_leaves': 100, 'algorithm__n_estimators': 100, 'algorithm__min_child_samples': 50, 'algorithm__max_depth': -1, 'algorithm__learning_rate': 0.1, 'algorithm__colsample_bytree': 0.8, 'algorithm': LGBMClassifier(colsample_bytree=0.8, min_child_samples=50, num_leaves=100)}\n",
      "Best model: LGBMClassifier(colsample_bytree=0.8, min_child_samples=50, num_leaves=100)\n"
     ]
    }
   ],
   "source": [
    "from sklearn.pipeline import Pipeline\n",
    "from sklearn.model_selection import RandomizedSearchCV\n",
    "from sklearn.ensemble import RandomForestClassifier\n",
    "import lightgbm as lgb\n",
    "pipe = Pipeline([('algorithm', RandomForestClassifier())])\n",
    "grid = [{'algorithm': [RandomForestClassifier()],\n",
    "        'algorithm__max_depth': [8, 9, 10],\n",
    "        'algorithm__n_estimators': [100, 200, 300],\n",
    "        'algorithm__min_samples_split': [2, 5, 10],\n",
    "        'algorithm__min_samples_leaf': [1, 2, 4],\n",
    "        'algorithm__max_features': ['auto', 'sqrt', 'log2'],\n",
    "        'algorithm__bootstrap': [True, False]},\n",
    "        \n",
    "        {'algorithm': [lgb.LGBMClassifier()],\n",
    "        'algorithm__num_leaves': [31, 50, 100],\n",
    "        'algorithm__max_depth': [-1, 10, 20],\n",
    "        'algorithm__learning_rate': [0.01, 0.1, 0.2],\n",
    "        'algorithm__n_estimators': [100, 200, 300],\n",
    "        'algorithm__min_child_samples': [20, 30, 50],\n",
    "        'algorithm__subsample': [0.8, 0.9, 1.0],\n",
    "        'algorithm__colsample_bytree': [0.8, 0.9, 1.0]}]\n",
    "\n",
    "random_search = RandomizedSearchCV(estimator=pipe,param_distributions=grid,n_iter=100,  \n",
    "                                   cv=5,scoring='roc_auc',n_jobs=-1,verbose=3)\n",
    "random_search.fit(train_x, train_y)\n",
    "best_model = random_search.best_estimator_\n",
    "print('Best combination:', random_search.best_params_)\n",
    "best_algorithm = best_model.named_steps['algorithm']\n",
    "print('Best model:', best_algorithm)"
   ]
  },
  {
   "cell_type": "code",
   "execution_count": 545,
   "id": "a70f035f",
   "metadata": {},
   "outputs": [
    {
     "name": "stdout",
     "output_type": "stream",
     "text": [
      "Fitting 5 folds for each of 100 candidates, totalling 500 fits\n",
      "Best combination: {'algorithm__subsample': 0.9, 'algorithm__num_leaves': 50, 'algorithm__n_estimators': 100, 'algorithm__min_child_samples': 50, 'algorithm__max_depth': 20, 'algorithm__learning_rate': 0.1, 'algorithm__colsample_bytree': 0.8, 'algorithm': LGBMClassifier(colsample_bytree=0.8, max_depth=20, min_child_samples=50,\n",
      "               num_leaves=50, subsample=0.9)}\n"
     ]
    }
   ],
   "source": [
    "best_model=random_search.fit(train_x, train_y)\n",
    "print('Best combination:', random_search.best_params_)"
   ]
  },
  {
   "cell_type": "code",
   "execution_count": 546,
   "id": "54817ca0",
   "metadata": {},
   "outputs": [
    {
     "data": {
      "text/html": [
       "<div>\n",
       "<style scoped>\n",
       "    .dataframe tbody tr th:only-of-type {\n",
       "        vertical-align: middle;\n",
       "    }\n",
       "\n",
       "    .dataframe tbody tr th {\n",
       "        vertical-align: top;\n",
       "    }\n",
       "\n",
       "    .dataframe thead th {\n",
       "        text-align: right;\n",
       "    }\n",
       "</style>\n",
       "<table border=\"1\" class=\"dataframe\">\n",
       "  <thead>\n",
       "    <tr style=\"text-align: right;\">\n",
       "      <th></th>\n",
       "      <th>mean_fit_time</th>\n",
       "      <th>std_fit_time</th>\n",
       "      <th>mean_score_time</th>\n",
       "      <th>std_score_time</th>\n",
       "      <th>param_algorithm__subsample</th>\n",
       "      <th>param_algorithm__num_leaves</th>\n",
       "      <th>param_algorithm__n_estimators</th>\n",
       "      <th>param_algorithm__min_child_samples</th>\n",
       "      <th>param_algorithm__max_depth</th>\n",
       "      <th>param_algorithm__learning_rate</th>\n",
       "      <th>...</th>\n",
       "      <th>param_algorithm__bootstrap</th>\n",
       "      <th>params</th>\n",
       "      <th>split0_test_score</th>\n",
       "      <th>split1_test_score</th>\n",
       "      <th>split2_test_score</th>\n",
       "      <th>split3_test_score</th>\n",
       "      <th>split4_test_score</th>\n",
       "      <th>mean_test_score</th>\n",
       "      <th>std_test_score</th>\n",
       "      <th>rank_test_score</th>\n",
       "    </tr>\n",
       "  </thead>\n",
       "  <tbody>\n",
       "    <tr>\n",
       "      <th>96</th>\n",
       "      <td>0.163936</td>\n",
       "      <td>0.007378</td>\n",
       "      <td>0.012956</td>\n",
       "      <td>0.003987</td>\n",
       "      <td>0.9</td>\n",
       "      <td>50</td>\n",
       "      <td>100</td>\n",
       "      <td>50</td>\n",
       "      <td>20</td>\n",
       "      <td>0.1</td>\n",
       "      <td>...</td>\n",
       "      <td>NaN</td>\n",
       "      <td>{'algorithm__subsample': 0.9, 'algorithm__num_...</td>\n",
       "      <td>0.987114</td>\n",
       "      <td>0.987234</td>\n",
       "      <td>0.991068</td>\n",
       "      <td>0.991282</td>\n",
       "      <td>0.981515</td>\n",
       "      <td>0.987643</td>\n",
       "      <td>0.003549</td>\n",
       "      <td>1</td>\n",
       "    </tr>\n",
       "    <tr>\n",
       "      <th>75</th>\n",
       "      <td>0.121878</td>\n",
       "      <td>0.005205</td>\n",
       "      <td>0.011163</td>\n",
       "      <td>0.002128</td>\n",
       "      <td>0.9</td>\n",
       "      <td>31</td>\n",
       "      <td>100</td>\n",
       "      <td>50</td>\n",
       "      <td>10</td>\n",
       "      <td>0.1</td>\n",
       "      <td>...</td>\n",
       "      <td>NaN</td>\n",
       "      <td>{'algorithm__subsample': 0.9, 'algorithm__num_...</td>\n",
       "      <td>0.986751</td>\n",
       "      <td>0.986656</td>\n",
       "      <td>0.991475</td>\n",
       "      <td>0.991925</td>\n",
       "      <td>0.981108</td>\n",
       "      <td>0.987583</td>\n",
       "      <td>0.003936</td>\n",
       "      <td>2</td>\n",
       "    </tr>\n",
       "    <tr>\n",
       "      <th>17</th>\n",
       "      <td>0.097726</td>\n",
       "      <td>0.003573</td>\n",
       "      <td>0.007974</td>\n",
       "      <td>0.000891</td>\n",
       "      <td>0.9</td>\n",
       "      <td>31</td>\n",
       "      <td>100</td>\n",
       "      <td>50</td>\n",
       "      <td>-1</td>\n",
       "      <td>0.1</td>\n",
       "      <td>...</td>\n",
       "      <td>NaN</td>\n",
       "      <td>{'algorithm__subsample': 0.9, 'algorithm__num_...</td>\n",
       "      <td>0.986922</td>\n",
       "      <td>0.986613</td>\n",
       "      <td>0.991389</td>\n",
       "      <td>0.991518</td>\n",
       "      <td>0.981343</td>\n",
       "      <td>0.987557</td>\n",
       "      <td>0.003749</td>\n",
       "      <td>3</td>\n",
       "    </tr>\n",
       "    <tr>\n",
       "      <th>58</th>\n",
       "      <td>0.188823</td>\n",
       "      <td>0.011119</td>\n",
       "      <td>0.011981</td>\n",
       "      <td>0.000317</td>\n",
       "      <td>0.9</td>\n",
       "      <td>50</td>\n",
       "      <td>100</td>\n",
       "      <td>30</td>\n",
       "      <td>10</td>\n",
       "      <td>0.1</td>\n",
       "      <td>...</td>\n",
       "      <td>NaN</td>\n",
       "      <td>{'algorithm__subsample': 0.9, 'algorithm__num_...</td>\n",
       "      <td>0.986367</td>\n",
       "      <td>0.987727</td>\n",
       "      <td>0.991175</td>\n",
       "      <td>0.990725</td>\n",
       "      <td>0.981643</td>\n",
       "      <td>0.987527</td>\n",
       "      <td>0.003451</td>\n",
       "      <td>4</td>\n",
       "    </tr>\n",
       "    <tr>\n",
       "      <th>74</th>\n",
       "      <td>0.153985</td>\n",
       "      <td>0.008960</td>\n",
       "      <td>0.010365</td>\n",
       "      <td>0.000488</td>\n",
       "      <td>0.9</td>\n",
       "      <td>31</td>\n",
       "      <td>100</td>\n",
       "      <td>30</td>\n",
       "      <td>20</td>\n",
       "      <td>0.2</td>\n",
       "      <td>...</td>\n",
       "      <td>NaN</td>\n",
       "      <td>{'algorithm__subsample': 0.9, 'algorithm__num_...</td>\n",
       "      <td>0.985194</td>\n",
       "      <td>0.986077</td>\n",
       "      <td>0.992503</td>\n",
       "      <td>0.990918</td>\n",
       "      <td>0.982693</td>\n",
       "      <td>0.987477</td>\n",
       "      <td>0.003665</td>\n",
       "      <td>5</td>\n",
       "    </tr>\n",
       "  </tbody>\n",
       "</table>\n",
       "<p>5 rows × 25 columns</p>\n",
       "</div>"
      ],
      "text/plain": [
       "    mean_fit_time  std_fit_time  mean_score_time  std_score_time  \\\n",
       "96       0.163936      0.007378         0.012956        0.003987   \n",
       "75       0.121878      0.005205         0.011163        0.002128   \n",
       "17       0.097726      0.003573         0.007974        0.000891   \n",
       "58       0.188823      0.011119         0.011981        0.000317   \n",
       "74       0.153985      0.008960         0.010365        0.000488   \n",
       "\n",
       "   param_algorithm__subsample param_algorithm__num_leaves  \\\n",
       "96                        0.9                          50   \n",
       "75                        0.9                          31   \n",
       "17                        0.9                          31   \n",
       "58                        0.9                          50   \n",
       "74                        0.9                          31   \n",
       "\n",
       "   param_algorithm__n_estimators param_algorithm__min_child_samples  \\\n",
       "96                           100                                 50   \n",
       "75                           100                                 50   \n",
       "17                           100                                 50   \n",
       "58                           100                                 30   \n",
       "74                           100                                 30   \n",
       "\n",
       "   param_algorithm__max_depth param_algorithm__learning_rate  ...  \\\n",
       "96                         20                            0.1  ...   \n",
       "75                         10                            0.1  ...   \n",
       "17                         -1                            0.1  ...   \n",
       "58                         10                            0.1  ...   \n",
       "74                         20                            0.2  ...   \n",
       "\n",
       "   param_algorithm__bootstrap  \\\n",
       "96                        NaN   \n",
       "75                        NaN   \n",
       "17                        NaN   \n",
       "58                        NaN   \n",
       "74                        NaN   \n",
       "\n",
       "                                               params split0_test_score  \\\n",
       "96  {'algorithm__subsample': 0.9, 'algorithm__num_...          0.987114   \n",
       "75  {'algorithm__subsample': 0.9, 'algorithm__num_...          0.986751   \n",
       "17  {'algorithm__subsample': 0.9, 'algorithm__num_...          0.986922   \n",
       "58  {'algorithm__subsample': 0.9, 'algorithm__num_...          0.986367   \n",
       "74  {'algorithm__subsample': 0.9, 'algorithm__num_...          0.985194   \n",
       "\n",
       "   split1_test_score split2_test_score split3_test_score split4_test_score  \\\n",
       "96          0.987234          0.991068          0.991282          0.981515   \n",
       "75          0.986656          0.991475          0.991925          0.981108   \n",
       "17          0.986613          0.991389          0.991518          0.981343   \n",
       "58          0.987727          0.991175          0.990725          0.981643   \n",
       "74          0.986077          0.992503          0.990918          0.982693   \n",
       "\n",
       "    mean_test_score  std_test_score  rank_test_score  \n",
       "96         0.987643        0.003549                1  \n",
       "75         0.987583        0.003936                2  \n",
       "17         0.987557        0.003749                3  \n",
       "58         0.987527        0.003451                4  \n",
       "74         0.987477        0.003665                5  \n",
       "\n",
       "[5 rows x 25 columns]"
      ]
     },
     "execution_count": 546,
     "metadata": {},
     "output_type": "execute_result"
    }
   ],
   "source": [
    "pd.DataFrame(random_search.cv_results_).sort_values(by='mean_test_score', ascending=False).head(5)"
   ]
  },
  {
   "cell_type": "code",
   "execution_count": 530,
   "id": "a57f6481",
   "metadata": {},
   "outputs": [],
   "source": [
    "pred_rf=best_model.best_estimator_.predict(val_x)"
   ]
  },
  {
   "cell_type": "code",
   "execution_count": 531,
   "id": "3db04d7c",
   "metadata": {},
   "outputs": [
    {
     "data": {
      "text/plain": [
       "0.9371920500470575"
      ]
     },
     "execution_count": 531,
     "metadata": {},
     "output_type": "execute_result"
    }
   ],
   "source": [
    "roc_auc_score(val_y, pred_rf)"
   ]
  },
  {
   "cell_type": "code",
   "execution_count": 548,
   "id": "52a9b087",
   "metadata": {},
   "outputs": [
    {
     "data": {
      "image/png": "[encoded data removed]",
      "text/plain": [
       "<Figure size 1000x600 with 1 Axes>"
      ]
     },
     "metadata": {},
     "output_type": "display_data"
    }
   ],
   "source": [
    "import matplotlib.pyplot as plt\n",
    "from sklearn.metrics import roc_curve, roc_auc_score\n",
    "\n",
    "y_proba_log_reg = log_reg.predict_proba(val_x)[:, 1]\n",
    "y_proba_best_model = best_model.predict_proba(val_x)[:, 1]\n",
    "fpr_log_reg, tpr_log_reg, _ = roc_curve(val_y, y_proba_log_reg)\n",
    "fpr_best_model, tpr_best_model, _ = roc_curve(val_y, y_proba_best_model)\n",
    "auc_log_reg = roc_auc_score(val_y, y_proba_log_reg)\n",
    "auc_best_model = roc_auc_score(val_y, y_proba_best_model)\n",
    "plt.figure(figsize=(10, 6))\n",
    "plt.plot(fpr_log_reg, tpr_log_reg, label=f'Regresión Logística (AUC = {auc_log_reg:.2f})')\n",
    "plt.plot(fpr_best_model, tpr_best_model, label=f'Random Forest (AUC = {auc_best_model:.2f})')\n",
    "plt.plot([0, 1], [0, 1], 'k--', label='Clasificador Aleatorio (AUC = 0.50)')\n",
    "plt.xlabel('Tasa de Falsos Positivos (FPR)')\n",
    "plt.ylabel('Tasa de Verdaderos Positivos (TPR)')\n",
    "plt.title('Curvas ROC')\n",
    "plt.legend(loc='best')\n",
    "plt.grid()"
   ]
  },
  {
   "cell_type": "code",
   "execution_count": 549,
   "id": "b6fcb468",
   "metadata": {},
   "outputs": [
    {
     "data": {
      "text/html": [
       "<div>\n",
       "<style scoped>\n",
       "    .dataframe tbody tr th:only-of-type {\n",
       "        vertical-align: middle;\n",
       "    }\n",
       "\n",
       "    .dataframe tbody tr th {\n",
       "        vertical-align: top;\n",
       "    }\n",
       "\n",
       "    .dataframe thead th {\n",
       "        text-align: right;\n",
       "    }\n",
       "</style>\n",
       "<table border=\"1\" class=\"dataframe\">\n",
       "  <thead>\n",
       "    <tr style=\"text-align: right;\">\n",
       "      <th></th>\n",
       "      <th>Model</th>\n",
       "      <th>Precision</th>\n",
       "      <th>Recall</th>\n",
       "      <th>F1-score</th>\n",
       "    </tr>\n",
       "  </thead>\n",
       "  <tbody>\n",
       "    <tr>\n",
       "      <th>0</th>\n",
       "      <td>Regresión Logística</td>\n",
       "      <td>0.84</td>\n",
       "      <td>0.93</td>\n",
       "      <td>0.89</td>\n",
       "    </tr>\n",
       "    <tr>\n",
       "      <th>1</th>\n",
       "      <td>Random Forest</td>\n",
       "      <td>0.93</td>\n",
       "      <td>0.96</td>\n",
       "      <td>0.94</td>\n",
       "    </tr>\n",
       "  </tbody>\n",
       "</table>\n",
       "</div>"
      ],
      "text/plain": [
       "                 Model  Precision  Recall  F1-score\n",
       "0  Regresión Logística       0.84    0.93      0.89\n",
       "1        Random Forest       0.93    0.96      0.94"
      ]
     },
     "execution_count": 549,
     "metadata": {},
     "output_type": "execute_result"
    }
   ],
   "source": [
    "from sklearn.metrics import precision_score, recall_score, f1_score\n",
    "\n",
    "\n",
    "y_pred_log_reg = log_reg.predict(val_x)\n",
    "y_pred_best_model = best_model.predict(val_x)\n",
    "\n",
    "# Calcular métricas para la regresión logística\n",
    "precision_log_reg = precision_score(val_y, y_pred_log_reg)\n",
    "recall_log_reg = recall_score(val_y, y_pred_log_reg)\n",
    "f1_log_reg = f1_score(val_y, y_pred_log_reg)\n",
    "\n",
    "# Calcular métricas para el mejor modelo (Random Forest)\n",
    "precision_best_model = precision_score(val_y, y_pred_best_model)\n",
    "recall_best_model = recall_score(val_y, y_pred_best_model)\n",
    "f1_best_model = f1_score(val_y, y_pred_best_model)\n",
    "\n",
    "metrics_df = pd.DataFrame({\n",
    "    'Model': ['Regresión Logística', 'Random Forest'],\n",
    "    'Precision': [precision_log_reg, precision_best_model],\n",
    "    'Recall': [recall_log_reg, recall_best_model],\n",
    "    'F1-score': [f1_log_reg, f1_best_model]\n",
    "})\n",
    "round(metrics_df,2)"
   ]
  },
  {
   "cell_type": "markdown",
   "id": "aa5246a1",
   "metadata": {},
   "source": [
    "### Logistic Regression\n",
    "Precision: 0.84: Of all the positive predictions made by the model, 84% were correct. This means that the model has a good ability to avoid false positives.\n",
    "\n",
    "Recall: 0.93: Of all the actual positive instances, the model correctly identified 93%. This indicates that the model is very good at detecting most of the positive instances (low number of false negatives).\n",
    "\n",
    "F1-score: 0.89: The F1-score is the harmonic mean of precision and recall. A value of 0.89 suggests a good balance between precision and recall."
   ]
  },
  {
   "cell_type": "markdown",
   "id": "486dc9bb",
   "metadata": {},
   "source": [
    "### Random Forest\n",
    "Precision: 0.93: 93% of the positive predictions of the model were correct. This indicates a high ability to avoid false positives.\n",
    "\n",
    "Recall: 0.92: The model correctly identified 92% of the true positive instances. This shows that the model is very good at detecting positive instances.\n",
    "\n",
    "F1-score: 0.93: An F1-score of 0.93 indicates an excellent balance between precision and recall, slightly better than the logistic regression model.\n"
   ]
  },
  {
   "cell_type": "markdown",
   "id": "8e92a824",
   "metadata": {},
   "source": [
    "### Comparison\n",
    "\n",
    "Accuracy: Random Forest has a slightly higher accuracy (0.93) compared to logistic regression (0.84). This means that Random Forest is better at avoiding false positives.\n",
    "\n",
    "Recall: Logistic regression has a slightly higher recall (0.93) compared to Random Forest (0.92). This means that logistic regression is slightly better at detecting all positive instances.\n",
    "\n",
    "F1-score: The Random Forest has a slightly higher F1-score (0.93) compared to the logistic regression (0.89). This suggests that Random Forest has a better overall balance between precision and recall.\n",
    "\n",
    "In summary, both models perform very well, but the Random Forest seems to have a slight advantage in terms of precision and F1-score, indicating a better overall balance between avoiding false positives and detecting positive instances.\n"
   ]
  }
 ],
 "metadata": {
  "kernelspec": {
   "display_name": "Python 3 (ipykernel)",
   "language": "python",
   "name": "python3"
  },
  "language_info": {
   "codemirror_mode": {
    "name": "ipython",
    "version": 3
   },
   "file_extension": ".py",
   "mimetype": "text/x-python",
   "name": "python",
   "nbconvert_exporter": "python",
   "pygments_lexer": "ipython3",
   "version": "3.10.12"
  },
  "toc": {
   "base_numbering": 1,
   "nav_menu": {},
   "number_sections": true,
   "sideBar": true,
   "skip_h1_title": false,
   "title_cell": "Table of Contents",
   "title_sidebar": "Contents",
   "toc_cell": false,
   "toc_position": {},
   "toc_section_display": true,
   "toc_window_display": false
  },
  "varInspector": {
   "cols": {
    "lenName": 16,
    "lenType": 16,
    "lenVar": 40
   },
   "kernels_config": {
    "python": {
     "delete_cmd_postfix": "",
     "delete_cmd_prefix": "del ",
     "library": "var_list.py",
     "varRefreshCmd": "print(var_dic_list())"
    },
    "r": {
     "delete_cmd_postfix": ") ",
     "delete_cmd_prefix": "rm(",
     "library": "var_list.r",
     "varRefreshCmd": "cat(var_dic_list()) "
    }
   },
   "types_to_exclude": [
    "module",
    "function",
    "builtin_function_or_method",
    "instance",
    "_Feature"
   ],
   "window_display": false
  }
 },
 "nbformat": 4,
 "nbformat_minor": 5
}
