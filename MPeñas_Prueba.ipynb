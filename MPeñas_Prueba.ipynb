{
 "cells": [
  {
   "cell_type": "markdown",
   "id": "4ce18c46",
   "metadata": {},
   "source": [
    "Mario Peñas - Prueba Empresa Anónima\n",
    "Prueba realizada para una empresa, la cual dejo en el anonimato.\n",
    "Se me dieron dos días para realizar la prueba de 4M de datos sin ninguna explicación de los datos, con el objetivo de sacar un análisis EDA y una segmentación con modelos no supervisados."
   ]
  },
  {
   "cell_type": "markdown",
   "id": "e809dad2",
   "metadata": {},
   "source": [
    "# Consideraciones previas\n",
    "\n",
    "He acotado el tiempo para no hacer el ejercicio infinito.\n",
    "\n",
    "Después de un mini análisis, he decidido que haré estandarización y las categóricas las convertiré con OHE.\n",
    "\n",
    "Utilizaré minibatch Kmeans, para ahorrar el tiempo de ejecución.\n",
    "\n",
    "Por último, he decidido reducir el dataset final, porque he visto que podría alargarse mucho, y dado que no tengo los recursos en casa para tratar con tal cantidad de datos, lo he reducido a un tiempo de 1 mes."
   ]
  },
  {
   "cell_type": "markdown",
   "id": "5f10cc3d",
   "metadata": {},
   "source": [
    "# Importaciones"
   ]
  },
  {
   "cell_type": "markdown",
   "id": "13b2c330",
   "metadata": {},
   "source": [
    "Pandas, numpy y matplotlib para tratar con los datos y visualizaciones\n",
    "\n",
    "\n",
    "OHE para la transformación de variables y, MinMaxScaler para la estandarización\n",
    "\n",
    "MiniBartchKmeans para el algoritmo no supervisado.\n",
    "\n",
    "\n",
    "Y las tres métricas que uso para los no supervisados."
   ]
  },
  {
   "cell_type": "code",
   "execution_count": 1,
   "id": "6355c87d",
   "metadata": {},
   "outputs": [],
   "source": [
    "import pandas as pd\n",
    "import numpy as np\n",
    "import matplotlib.pyplot as plt\n",
    "from sklearn.preprocessing import OneHotEncoder\n",
    "from sklearn.preprocessing import MinMaxScaler\n",
    "from sklearn.cluster import MiniBatchKMeans\n",
    "from sklearn.metrics import silhouette_score\n",
    "from sklearn.metrics import calinski_harabasz_score\n",
    "from sklearn.metrics import davies_bouldin_score\n",
    "%matplotlib inline\n",
    "pd.set_option('display.float_format', '{:.4f}'.format)"
   ]
  },
  {
   "cell_type": "code",
   "execution_count": 291,
   "id": "8229d882",
   "metadata": {},
   "outputs": [],
   "source": [
    "path='C:/Users/110927/Desktop/EstructuraDirectorio/03_MACHINE_LEARNING/CASOS/PruebaPlaneta/datasets/'"
   ]
  },
  {
   "cell_type": "code",
   "execution_count": 280,
   "id": "a5034213",
   "metadata": {},
   "outputs": [],
   "source": [
    "archivo_original='Dataset_Ecommerce.csv'"
   ]
  },
  {
   "cell_type": "markdown",
   "id": "0f67c6b6",
   "metadata": {},
   "source": [
    "SQL:\n",
    "\n",
    "LOAD DATA INFILE 'Dataset_Ecommerce.csv'\n",
    "\n",
    "INTO TABLE df"
   ]
  },
  {
   "cell_type": "code",
   "execution_count": 281,
   "id": "163b3d73",
   "metadata": {},
   "outputs": [
    {
     "name": "stderr",
     "output_type": "stream",
     "text": [
      "C:\\Users\\110927\\AppData\\Local\\Temp\\ipykernel_32032\\3582430434.py:1: DtypeWarning: Columns (0) have mixed types. Specify dtype option on import or set low_memory=False.\n",
      "  df=pd.read_csv(path+archivo_original)\n"
     ]
    }
   ],
   "source": [
    "df=pd.read_csv(path+archivo_original)"
   ]
  },
  {
   "cell_type": "markdown",
   "id": "38d9a15c",
   "metadata": {},
   "source": [
    "Parece que hay bastantes nulos, pero por lo que parece es ausencia de esos datos, por lo que los rellenaré con 0s."
   ]
  },
  {
   "cell_type": "markdown",
   "id": "09cda554",
   "metadata": {},
   "source": [
    "# Primer Análisis"
   ]
  },
  {
   "cell_type": "code",
   "execution_count": 75,
   "id": "abe8999e",
   "metadata": {},
   "outputs": [
    {
     "data": {
      "text/html": [
       "<div>\n",
       "<style scoped>\n",
       "    .dataframe tbody tr th:only-of-type {\n",
       "        vertical-align: middle;\n",
       "    }\n",
       "\n",
       "    .dataframe tbody tr th {\n",
       "        vertical-align: top;\n",
       "    }\n",
       "\n",
       "    .dataframe thead th {\n",
       "        text-align: right;\n",
       "    }\n",
       "</style>\n",
       "<table border=\"1\" class=\"dataframe\">\n",
       "  <thead>\n",
       "    <tr style=\"text-align: right;\">\n",
       "      <th></th>\n",
       "      <th>fullVisitorId</th>\n",
       "      <th>visitNumber</th>\n",
       "      <th>visitId</th>\n",
       "      <th>visitStartTime</th>\n",
       "      <th>date</th>\n",
       "      <th>transactionRevenue</th>\n",
       "      <th>visits</th>\n",
       "      <th>hits</th>\n",
       "      <th>bounces</th>\n",
       "      <th>transactions</th>\n",
       "      <th>campaign</th>\n",
       "      <th>source</th>\n",
       "      <th>medium</th>\n",
       "      <th>channelGrouping</th>\n",
       "      <th>socialEngagementType</th>\n",
       "    </tr>\n",
       "  </thead>\n",
       "  <tbody>\n",
       "    <tr>\n",
       "      <th>0</th>\n",
       "      <td>1897069477319653626</td>\n",
       "      <td>1</td>\n",
       "      <td>1472335420</td>\n",
       "      <td>1472335420</td>\n",
       "      <td>20160827</td>\n",
       "      <td>NaN</td>\n",
       "      <td>1</td>\n",
       "      <td>1</td>\n",
       "      <td>1.0000</td>\n",
       "      <td>NaN</td>\n",
       "      <td>(not set)</td>\n",
       "      <td>google</td>\n",
       "      <td>organic</td>\n",
       "      <td>Organic Search</td>\n",
       "      <td>Not Socially Engaged</td>\n",
       "    </tr>\n",
       "    <tr>\n",
       "      <th>1</th>\n",
       "      <td>770977266919252794</td>\n",
       "      <td>1</td>\n",
       "      <td>1472313115</td>\n",
       "      <td>1472313115</td>\n",
       "      <td>20160827</td>\n",
       "      <td>NaN</td>\n",
       "      <td>1</td>\n",
       "      <td>1</td>\n",
       "      <td>1.0000</td>\n",
       "      <td>NaN</td>\n",
       "      <td>(not set)</td>\n",
       "      <td>google</td>\n",
       "      <td>organic</td>\n",
       "      <td>Organic Search</td>\n",
       "      <td>Not Socially Engaged</td>\n",
       "    </tr>\n",
       "    <tr>\n",
       "      <th>2</th>\n",
       "      <td>5388987938103983645</td>\n",
       "      <td>2</td>\n",
       "      <td>1472327435</td>\n",
       "      <td>1472327435</td>\n",
       "      <td>20160827</td>\n",
       "      <td>NaN</td>\n",
       "      <td>1</td>\n",
       "      <td>1</td>\n",
       "      <td>1.0000</td>\n",
       "      <td>NaN</td>\n",
       "      <td>AW - Dynamic Search Ads Whole Site</td>\n",
       "      <td>google</td>\n",
       "      <td>cpc</td>\n",
       "      <td>Paid Search</td>\n",
       "      <td>Not Socially Engaged</td>\n",
       "    </tr>\n",
       "    <tr>\n",
       "      <th>3</th>\n",
       "      <td>828910289597203555</td>\n",
       "      <td>1</td>\n",
       "      <td>1472293553</td>\n",
       "      <td>1472293553</td>\n",
       "      <td>20160827</td>\n",
       "      <td>NaN</td>\n",
       "      <td>1</td>\n",
       "      <td>1</td>\n",
       "      <td>1.0000</td>\n",
       "      <td>NaN</td>\n",
       "      <td>(not set)</td>\n",
       "      <td>google</td>\n",
       "      <td>organic</td>\n",
       "      <td>Organic Search</td>\n",
       "      <td>Not Socially Engaged</td>\n",
       "    </tr>\n",
       "    <tr>\n",
       "      <th>4</th>\n",
       "      <td>1307091095763777808</td>\n",
       "      <td>1</td>\n",
       "      <td>1472282667</td>\n",
       "      <td>1472282667</td>\n",
       "      <td>20160827</td>\n",
       "      <td>NaN</td>\n",
       "      <td>1</td>\n",
       "      <td>1</td>\n",
       "      <td>1.0000</td>\n",
       "      <td>NaN</td>\n",
       "      <td>(not set)</td>\n",
       "      <td>baidu</td>\n",
       "      <td>organic</td>\n",
       "      <td>Organic Search</td>\n",
       "      <td>Not Socially Engaged</td>\n",
       "    </tr>\n",
       "    <tr>\n",
       "      <th>...</th>\n",
       "      <td>...</td>\n",
       "      <td>...</td>\n",
       "      <td>...</td>\n",
       "      <td>...</td>\n",
       "      <td>...</td>\n",
       "      <td>...</td>\n",
       "      <td>...</td>\n",
       "      <td>...</td>\n",
       "      <td>...</td>\n",
       "      <td>...</td>\n",
       "      <td>...</td>\n",
       "      <td>...</td>\n",
       "      <td>...</td>\n",
       "      <td>...</td>\n",
       "      <td>...</td>\n",
       "    </tr>\n",
       "    <tr>\n",
       "      <th>4153670</th>\n",
       "      <td>7404995807935744993</td>\n",
       "      <td>1</td>\n",
       "      <td>1480091078</td>\n",
       "      <td>1480091078</td>\n",
       "      <td>20161125</td>\n",
       "      <td>NaN</td>\n",
       "      <td>1</td>\n",
       "      <td>1</td>\n",
       "      <td>1.0000</td>\n",
       "      <td>NaN</td>\n",
       "      <td>(not set)</td>\n",
       "      <td>(direct)</td>\n",
       "      <td>(none)</td>\n",
       "      <td>Organic Search</td>\n",
       "      <td>Not Socially Engaged</td>\n",
       "    </tr>\n",
       "    <tr>\n",
       "      <th>4153671</th>\n",
       "      <td>2460067330611103854</td>\n",
       "      <td>1</td>\n",
       "      <td>1480132983</td>\n",
       "      <td>1480132983</td>\n",
       "      <td>20161125</td>\n",
       "      <td>NaN</td>\n",
       "      <td>1</td>\n",
       "      <td>1</td>\n",
       "      <td>1.0000</td>\n",
       "      <td>NaN</td>\n",
       "      <td>(not set)</td>\n",
       "      <td>(direct)</td>\n",
       "      <td>(none)</td>\n",
       "      <td>Organic Search</td>\n",
       "      <td>Not Socially Engaged</td>\n",
       "    </tr>\n",
       "    <tr>\n",
       "      <th>4153672</th>\n",
       "      <td>5482354686549426627</td>\n",
       "      <td>1</td>\n",
       "      <td>1480111199</td>\n",
       "      <td>1480111199</td>\n",
       "      <td>20161125</td>\n",
       "      <td>NaN</td>\n",
       "      <td>1</td>\n",
       "      <td>1</td>\n",
       "      <td>1.0000</td>\n",
       "      <td>NaN</td>\n",
       "      <td>(not set)</td>\n",
       "      <td>(direct)</td>\n",
       "      <td>(none)</td>\n",
       "      <td>Organic Search</td>\n",
       "      <td>Not Socially Engaged</td>\n",
       "    </tr>\n",
       "    <tr>\n",
       "      <th>4153673</th>\n",
       "      <td>2873302188037880976</td>\n",
       "      <td>1</td>\n",
       "      <td>1480082964</td>\n",
       "      <td>1480082964</td>\n",
       "      <td>20161125</td>\n",
       "      <td>NaN</td>\n",
       "      <td>1</td>\n",
       "      <td>1</td>\n",
       "      <td>1.0000</td>\n",
       "      <td>NaN</td>\n",
       "      <td>(not set)</td>\n",
       "      <td>(direct)</td>\n",
       "      <td>(none)</td>\n",
       "      <td>Direct</td>\n",
       "      <td>Not Socially Engaged</td>\n",
       "    </tr>\n",
       "    <tr>\n",
       "      <th>4153674</th>\n",
       "      <td>9546739317857622574</td>\n",
       "      <td>1</td>\n",
       "      <td>1480124347</td>\n",
       "      <td>1480124347</td>\n",
       "      <td>20161125</td>\n",
       "      <td>NaN</td>\n",
       "      <td>1</td>\n",
       "      <td>1</td>\n",
       "      <td>1.0000</td>\n",
       "      <td>NaN</td>\n",
       "      <td>(not set)</td>\n",
       "      <td>(direct)</td>\n",
       "      <td>(none)</td>\n",
       "      <td>Organic Search</td>\n",
       "      <td>Not Socially Engaged</td>\n",
       "    </tr>\n",
       "  </tbody>\n",
       "</table>\n",
       "<p>4153675 rows × 15 columns</p>\n",
       "</div>"
      ],
      "text/plain": [
       "               fullVisitorId  visitNumber     visitId  visitStartTime  \\\n",
       "0        1897069477319653626            1  1472335420      1472335420   \n",
       "1         770977266919252794            1  1472313115      1472313115   \n",
       "2        5388987938103983645            2  1472327435      1472327435   \n",
       "3         828910289597203555            1  1472293553      1472293553   \n",
       "4        1307091095763777808            1  1472282667      1472282667   \n",
       "...                      ...          ...         ...             ...   \n",
       "4153670  7404995807935744993            1  1480091078      1480091078   \n",
       "4153671  2460067330611103854            1  1480132983      1480132983   \n",
       "4153672  5482354686549426627            1  1480111199      1480111199   \n",
       "4153673  2873302188037880976            1  1480082964      1480082964   \n",
       "4153674  9546739317857622574            1  1480124347      1480124347   \n",
       "\n",
       "             date  transactionRevenue  visits  hits  bounces  transactions  \\\n",
       "0        20160827                 NaN       1     1   1.0000           NaN   \n",
       "1        20160827                 NaN       1     1   1.0000           NaN   \n",
       "2        20160827                 NaN       1     1   1.0000           NaN   \n",
       "3        20160827                 NaN       1     1   1.0000           NaN   \n",
       "4        20160827                 NaN       1     1   1.0000           NaN   \n",
       "...           ...                 ...     ...   ...      ...           ...   \n",
       "4153670  20161125                 NaN       1     1   1.0000           NaN   \n",
       "4153671  20161125                 NaN       1     1   1.0000           NaN   \n",
       "4153672  20161125                 NaN       1     1   1.0000           NaN   \n",
       "4153673  20161125                 NaN       1     1   1.0000           NaN   \n",
       "4153674  20161125                 NaN       1     1   1.0000           NaN   \n",
       "\n",
       "                                   campaign    source   medium  \\\n",
       "0                                 (not set)    google  organic   \n",
       "1                                 (not set)    google  organic   \n",
       "2        AW - Dynamic Search Ads Whole Site    google      cpc   \n",
       "3                                 (not set)    google  organic   \n",
       "4                                 (not set)     baidu  organic   \n",
       "...                                     ...       ...      ...   \n",
       "4153670                           (not set)  (direct)   (none)   \n",
       "4153671                           (not set)  (direct)   (none)   \n",
       "4153672                           (not set)  (direct)   (none)   \n",
       "4153673                           (not set)  (direct)   (none)   \n",
       "4153674                           (not set)  (direct)   (none)   \n",
       "\n",
       "        channelGrouping  socialEngagementType  \n",
       "0        Organic Search  Not Socially Engaged  \n",
       "1        Organic Search  Not Socially Engaged  \n",
       "2           Paid Search  Not Socially Engaged  \n",
       "3        Organic Search  Not Socially Engaged  \n",
       "4        Organic Search  Not Socially Engaged  \n",
       "...                 ...                   ...  \n",
       "4153670  Organic Search  Not Socially Engaged  \n",
       "4153671  Organic Search  Not Socially Engaged  \n",
       "4153672  Organic Search  Not Socially Engaged  \n",
       "4153673          Direct  Not Socially Engaged  \n",
       "4153674  Organic Search  Not Socially Engaged  \n",
       "\n",
       "[4153675 rows x 15 columns]"
      ]
     },
     "execution_count": 75,
     "metadata": {},
     "output_type": "execute_result"
    }
   ],
   "source": [
    "df"
   ]
  },
  {
   "cell_type": "code",
   "execution_count": null,
   "id": "cd5dafd4",
   "metadata": {},
   "outputs": [],
   "source": []
  },
  {
   "cell_type": "markdown",
   "id": "3ea6e16d",
   "metadata": {},
   "source": [
    "Hay una fecha en modo integer, que habr´á que convertir a datetime, y un starttime, que no parece tener un sentido lógico, ya que concuerda claramente con el visitId. Podría investigar si este integer es un o una hora, pero he decidido no seguir invirtiendo tiempo en ello, por lo que las eliminaré del dataset."
   ]
  },
  {
   "cell_type": "markdown",
   "id": "13216859",
   "metadata": {},
   "source": [
    "Hay bastantes duplicados, los elimino."
   ]
  },
  {
   "cell_type": "code",
   "execution_count": 76,
   "id": "f3676515",
   "metadata": {},
   "outputs": [
    {
     "data": {
      "text/plain": [
       "3191126"
      ]
     },
     "execution_count": 76,
     "metadata": {},
     "output_type": "execute_result"
    }
   ],
   "source": [
    "df.duplicated().sum()"
   ]
  },
  {
   "cell_type": "code",
   "execution_count": 339,
   "id": "e2364585",
   "metadata": {},
   "outputs": [],
   "source": [
    "df=df.drop_duplicates()"
   ]
  },
  {
   "cell_type": "markdown",
   "id": "a39215ce",
   "metadata": {},
   "source": [
    "SQL:\n",
    "\n",
    "SELECT DISTINCT *\n",
    "\n",
    "INTO nueva_tabla_sin_duplicados\n",
    "\n",
    "FROM tu_tabla;"
   ]
  },
  {
   "cell_type": "markdown",
   "id": "dac58823",
   "metadata": {},
   "source": [
    "Pongo la fecha en formato DateTime, usando una lambda que es muy cómodo"
   ]
  },
  {
   "cell_type": "code",
   "execution_count": null,
   "id": "bf01ce1f",
   "metadata": {},
   "outputs": [],
   "source": [
    "df['DateTime'] = df['date'].apply(lambda x: pd.to_datetime(str(x), format='%Y%m%d'))"
   ]
  },
  {
   "cell_type": "markdown",
   "id": "9a7de767",
   "metadata": {},
   "source": [
    "Pongo la fecha como indice para aprovechar las mejoras que esto nos da"
   ]
  },
  {
   "cell_type": "code",
   "execution_count": 344,
   "id": "bf0a87bc",
   "metadata": {},
   "outputs": [],
   "source": [
    "df.set_index('DateTime', inplace=True)"
   ]
  },
  {
   "cell_type": "code",
   "execution_count": 345,
   "id": "18dac80e",
   "metadata": {},
   "outputs": [],
   "source": [
    "df=df.sort_index().drop(columns='date', axis=1)"
   ]
  },
  {
   "cell_type": "markdown",
   "id": "630b118b",
   "metadata": {},
   "source": [
    "SELECT *\n",
    "\n",
    "FROM tu_tabla\n",
    "\n",
    "ORDER BY DateTime;\n",
    "\n"
   ]
  },
  {
   "cell_type": "code",
   "execution_count": 346,
   "id": "63af4ddc",
   "metadata": {},
   "outputs": [],
   "source": [
    "nombre_fichero_trabajo = 'trabajo1.csv'\n",
    "\n",
    "ruta_completa = path + nombre_fichero_trabajo\n",
    "\n",
    "df.to_csv(ruta_completa)"
   ]
  },
  {
   "cell_type": "code",
   "execution_count": 10,
   "id": "7d44b0ec",
   "metadata": {},
   "outputs": [
    {
     "name": "stderr",
     "output_type": "stream",
     "text": [
      "C:\\Users\\110927\\AppData\\Local\\Temp\\ipykernel_21416\\3525673997.py:1: DtypeWarning: Columns (1) have mixed types. Specify dtype option on import or set low_memory=False.\n",
      "  df=pd.read_csv(path+ 'trabajo1.csv').set_index('DateTime')\n"
     ]
    }
   ],
   "source": [
    "df=pd.read_csv(path+ 'trabajo1.csv').set_index('DateTime')"
   ]
  },
  {
   "cell_type": "code",
   "execution_count": 11,
   "id": "d66172fb",
   "metadata": {},
   "outputs": [
    {
     "name": "stderr",
     "output_type": "stream",
     "text": [
      "C:\\Users\\110927\\AppData\\Local\\Temp\\ipykernel_21416\\1982639406.py:1: FutureWarning: null_counts is deprecated. Use show_counts instead\n",
      "  df.info(null_counts=True)\n"
     ]
    },
    {
     "name": "stdout",
     "output_type": "stream",
     "text": [
      "<class 'pandas.core.frame.DataFrame'>\n",
      "Index: 962549 entries, 2016-08-01 to 2017-08-01\n",
      "Data columns (total 14 columns):\n",
      " #   Column                Non-Null Count   Dtype  \n",
      "---  ------                --------------   -----  \n",
      " 0   fullVisitorId         962549 non-null  object \n",
      " 1   visitNumber           962549 non-null  int64  \n",
      " 2   visitId               962549 non-null  int64  \n",
      " 3   visitStartTime        962549 non-null  int64  \n",
      " 4   transactionRevenue    11959 non-null   float64\n",
      " 5   visits                962549 non-null  int64  \n",
      " 6   hits                  962549 non-null  int64  \n",
      " 7   bounces               450879 non-null  float64\n",
      " 8   transactions          25062 non-null   float64\n",
      " 9   campaign              962549 non-null  object \n",
      " 10  source                962549 non-null  object \n",
      " 11  medium                962549 non-null  object \n",
      " 12  channelGrouping       962549 non-null  object \n",
      " 13  socialEngagementType  962549 non-null  object \n",
      "dtypes: float64(3), int64(5), object(6)\n",
      "memory usage: 110.2+ MB\n"
     ]
    }
   ],
   "source": [
    "df.info(null_counts=True)"
   ]
  },
  {
   "cell_type": "markdown",
   "id": "26bf30a3",
   "metadata": {},
   "source": [
    "## Valores únicos"
   ]
  },
  {
   "cell_type": "markdown",
   "id": "83b6f44b",
   "metadata": {},
   "source": [
    "Hay tres variables que son constantes, las cuales serán eliminadas."
   ]
  },
  {
   "cell_type": "code",
   "execution_count": 12,
   "id": "a83ec6a5",
   "metadata": {},
   "outputs": [
    {
     "data": {
      "text/plain": [
       "visits                       1\n",
       "bounces                      1\n",
       "socialEngagementType         1\n",
       "medium                       7\n",
       "campaign                     8\n",
       "channelGrouping              8\n",
       "transactions                13\n",
       "hits                       274\n",
       "source                     275\n",
       "visitNumber                384\n",
       "transactionRevenue        6378\n",
       "fullVisitorId           724545\n",
       "visitId                 886303\n",
       "visitStartTime          887159\n",
       "dtype: int64"
      ]
     },
     "execution_count": 12,
     "metadata": {},
     "output_type": "execute_result"
    }
   ],
   "source": [
    "df.nunique().sort_values()"
   ]
  },
  {
   "cell_type": "code",
   "execution_count": 13,
   "id": "3ac9c664",
   "metadata": {},
   "outputs": [],
   "source": [
    "df.drop(['visits', 'socialEngagementType', 'visitStartTime'], axis=1, inplace=True)"
   ]
  },
  {
   "cell_type": "markdown",
   "id": "9657d955",
   "metadata": {},
   "source": [
    "ALTER TABLE df\n",
    "\n",
    "DROP COLUMN visits,\n",
    "           socialEngagementType,\n",
    "           visitStartTime;"
   ]
  },
  {
   "cell_type": "markdown",
   "id": "3f1c2f0d",
   "metadata": {},
   "source": [
    "Separo las categóricas de las numéricas, para trabajar más cómodamente con los gráficos y transformaciones."
   ]
  },
  {
   "cell_type": "code",
   "execution_count": 14,
   "id": "30e62b45",
   "metadata": {},
   "outputs": [],
   "source": [
    "cat = df.select_dtypes(exclude = 'number').copy()"
   ]
  },
  {
   "cell_type": "code",
   "execution_count": 282,
   "id": "a2e4e9b5",
   "metadata": {},
   "outputs": [],
   "source": [
    "num = df.select_dtypes(include='number').copy()"
   ]
  },
  {
   "cell_type": "markdown",
   "id": "f7247816",
   "metadata": {},
   "source": [
    "# Analisis CATEGÓRICAS"
   ]
  },
  {
   "cell_type": "markdown",
   "id": "e68cc4b0",
   "metadata": {},
   "source": [
    "## Reviso los nulos"
   ]
  },
  {
   "cell_type": "code",
   "execution_count": 16,
   "id": "4e642428",
   "metadata": {},
   "outputs": [
    {
     "data": {
      "text/plain": [
       "fullVisitorId      0\n",
       "campaign           0\n",
       "source             0\n",
       "medium             0\n",
       "channelGrouping    0\n",
       "dtype: int64"
      ]
     },
     "execution_count": 16,
     "metadata": {},
     "output_type": "execute_result"
    }
   ],
   "source": [
    "cat.isna().sum().sort_values(ascending = False)"
   ]
  },
  {
   "cell_type": "markdown",
   "id": "2173f5c5",
   "metadata": {},
   "source": [
    "## Los conteos"
   ]
  },
  {
   "cell_type": "code",
   "execution_count": 17,
   "id": "75aff6a7",
   "metadata": {},
   "outputs": [
    {
     "data": {
      "text/plain": [
       "(not set)                             932408\n",
       "Data Share Promo                       17325\n",
       "AW - Dynamic Search Ads Whole Site      6848\n",
       "AW - Accessories                        5845\n",
       "AW - Electronics                          84\n",
       "AW - Apparel                              34\n",
       "All Products                               4\n",
       "Data Share                                 1\n",
       "Name: campaign, dtype: int64"
      ]
     },
     "execution_count": 17,
     "metadata": {},
     "output_type": "execute_result"
    }
   ],
   "source": [
    "cat.campaign.value_counts()"
   ]
  },
  {
   "cell_type": "code",
   "execution_count": null,
   "id": "a154f5fd",
   "metadata": {},
   "outputs": [],
   "source": [
    "SELECT campaign, COUNT(*) AS countCampaign\n",
    "FROM cat\n",
    "GROUP BY campaign;"
   ]
  },
  {
   "cell_type": "code",
   "execution_count": 18,
   "id": "08aaf804",
   "metadata": {},
   "outputs": [
    {
     "data": {
      "text/plain": [
       "(not set)                            0.9687\n",
       "Data Share Promo                     0.0180\n",
       "AW - Dynamic Search Ads Whole Site   0.0071\n",
       "AW - Accessories                     0.0061\n",
       "AW - Electronics                     0.0001\n",
       "AW - Apparel                         0.0000\n",
       "All Products                         0.0000\n",
       "Data Share                           0.0000\n",
       "Name: campaign, dtype: float64"
      ]
     },
     "execution_count": 18,
     "metadata": {},
     "output_type": "execute_result"
    }
   ],
   "source": [
    "cat.campaign.value_counts(normalize=True)"
   ]
  },
  {
   "cell_type": "code",
   "execution_count": 19,
   "id": "35a9f030",
   "metadata": {},
   "outputs": [
    {
     "data": {
      "text/plain": [
       "(direct)                   0.4191\n",
       "google                     0.2685\n",
       "youtube.com                0.2262\n",
       "Partners                   0.0180\n",
       "analytics.google.com       0.0176\n",
       "                            ...  \n",
       "takeout.google.com         0.0000\n",
       "search.pch.com             0.0000\n",
       "mobile.facebook.com        0.0000\n",
       "nl.yhs4.search.yahoo.com   0.0000\n",
       "earth.google.com           0.0000\n",
       "Name: source, Length: 275, dtype: float64"
      ]
     },
     "execution_count": 19,
     "metadata": {},
     "output_type": "execute_result"
    }
   ],
   "source": [
    "cat.source.value_counts(normalize=True)"
   ]
  },
  {
   "cell_type": "markdown",
   "id": "bbd8eeee",
   "metadata": {},
   "source": [
    "Hay demasiados valores para esta variable por los que los voy a agrupar mediante la siguiente función. Todos aquellos con menos del 5% de aparición se irán a la categoría 'OTROS'."
   ]
  },
  {
   "cell_type": "markdown",
   "id": "57e25255",
   "metadata": {},
   "source": [
    "## Agrupo las categorias menos frecuentes:"
   ]
  },
  {
   "cell_type": "code",
   "execution_count": 20,
   "id": "38628248",
   "metadata": {},
   "outputs": [],
   "source": [
    "def agrupar_cat_raras(variable, criterio = 0.05):\n",
    "    #Calcula las frecuencias\n",
    "    frecuencias = variable.value_counts(normalize=True)\n",
    "    #Identifica las que están por debajo del criterio\n",
    "    temp = [cada for cada in frecuencias.loc[frecuencias < criterio].index.values]\n",
    "    #Las recodifica en 'OTROS'\n",
    "    temp2 = np.where(variable.isin(temp),'OTROS',variable)\n",
    "    #Devuelve el resultado\n",
    "    return(temp2)\n",
    "\n",
    "for variable in cat[['campaign','source','medium','channelGrouping']]:\n",
    "    cat[variable] = agrupar_cat_raras(cat[variable],criterio = 0.05)"
   ]
  },
  {
   "cell_type": "code",
   "execution_count": 21,
   "id": "df7fef56",
   "metadata": {},
   "outputs": [
    {
     "data": {
      "text/plain": [
       "(direct)      0.4191\n",
       "google        0.2685\n",
       "youtube.com   0.2262\n",
       "OTROS         0.0863\n",
       "Name: source, dtype: float64"
      ]
     },
     "execution_count": 21,
     "metadata": {},
     "output_type": "execute_result"
    }
   ],
   "source": [
    "cat.source.value_counts(normalize=True)"
   ]
  },
  {
   "cell_type": "code",
   "execution_count": 22,
   "id": "f3c389b3",
   "metadata": {},
   "outputs": [
    {
     "data": {
      "text/plain": [
       "(none)      403399\n",
       "referral    270080\n",
       "organic     250558\n",
       "OTROS        38512\n",
       "Name: medium, dtype: int64"
      ]
     },
     "execution_count": 22,
     "metadata": {},
     "output_type": "execute_result"
    }
   ],
   "source": [
    "cat.medium.value_counts()"
   ]
  },
  {
   "cell_type": "code",
   "execution_count": 23,
   "id": "00d3a2df",
   "metadata": {},
   "outputs": [
    {
     "data": {
      "text/plain": [
       "Organic Search    406466\n",
       "Social            232016\n",
       "Direct            153189\n",
       "Referral          119033\n",
       "OTROS              51845\n",
       "Name: channelGrouping, dtype: int64"
      ]
     },
     "execution_count": 23,
     "metadata": {},
     "output_type": "execute_result"
    }
   ],
   "source": [
    "cat.channelGrouping.value_counts()"
   ]
  },
  {
   "cell_type": "code",
   "execution_count": 24,
   "id": "29815884",
   "metadata": {},
   "outputs": [
    {
     "data": {
      "text/plain": [
       "(not set)   0.9687\n",
       "OTROS       0.0313\n",
       "Name: campaign, dtype: float64"
      ]
     },
     "execution_count": 24,
     "metadata": {},
     "output_type": "execute_result"
    }
   ],
   "source": [
    "cat.campaign.value_counts(normalize=True)"
   ]
  },
  {
   "cell_type": "markdown",
   "id": "cb66e58f",
   "metadata": {},
   "source": [
    "Tras el análisis borraremos la variable campaign, ya que parece que no aporta mucha info."
   ]
  },
  {
   "cell_type": "code",
   "execution_count": 26,
   "id": "ac8a942e",
   "metadata": {},
   "outputs": [],
   "source": [
    "cat.drop(columns='campaign', inplace=True)"
   ]
  },
  {
   "cell_type": "markdown",
   "id": "2f6c691a",
   "metadata": {},
   "source": [
    "#   Análisis: NUMÉRICAS"
   ]
  },
  {
   "cell_type": "markdown",
   "id": "c9f40acd",
   "metadata": {},
   "source": [
    "## Nulos"
   ]
  },
  {
   "cell_type": "code",
   "execution_count": 27,
   "id": "1355ed95",
   "metadata": {},
   "outputs": [
    {
     "data": {
      "text/plain": [
       "transactionRevenue    950590\n",
       "transactions          937487\n",
       "bounces               511670\n",
       "visitNumber                0\n",
       "visitId                    0\n",
       "hits                       0\n",
       "dtype: int64"
      ]
     },
     "execution_count": 27,
     "metadata": {},
     "output_type": "execute_result"
    }
   ],
   "source": [
    "num.isna().sum().sort_values(ascending = False)"
   ]
  },
  {
   "cell_type": "code",
   "execution_count": 28,
   "id": "c4cf7736",
   "metadata": {},
   "outputs": [],
   "source": [
    "num['transactionRevenue'].fillna(0, inplace=True)"
   ]
  },
  {
   "cell_type": "code",
   "execution_count": 29,
   "id": "45f1db3a",
   "metadata": {},
   "outputs": [
    {
     "data": {
      "text/plain": [
       "transactions          937487\n",
       "bounces               511670\n",
       "visitNumber                0\n",
       "visitId                    0\n",
       "transactionRevenue         0\n",
       "hits                       0\n",
       "dtype: int64"
      ]
     },
     "execution_count": 29,
     "metadata": {},
     "output_type": "execute_result"
    }
   ],
   "source": [
    "num.isna().sum().sort_values(ascending = False)"
   ]
  },
  {
   "cell_type": "code",
   "execution_count": 30,
   "id": "351bf8c3",
   "metadata": {},
   "outputs": [],
   "source": [
    "num['transactions'].fillna(0, inplace=True)"
   ]
  },
  {
   "cell_type": "code",
   "execution_count": 31,
   "id": "e2a3db36",
   "metadata": {},
   "outputs": [],
   "source": [
    "num['bounces'].fillna(0, inplace=True)"
   ]
  },
  {
   "cell_type": "code",
   "execution_count": 32,
   "id": "a5d08f47",
   "metadata": {},
   "outputs": [
    {
     "data": {
      "text/plain": [
       "visitNumber           0\n",
       "visitId               0\n",
       "transactionRevenue    0\n",
       "hits                  0\n",
       "bounces               0\n",
       "transactions          0\n",
       "dtype: int64"
      ]
     },
     "execution_count": 32,
     "metadata": {},
     "output_type": "execute_result"
    }
   ],
   "source": [
    "num.isna().sum().sort_values(ascending = False)"
   ]
  },
  {
   "cell_type": "markdown",
   "id": "31b11401",
   "metadata": {},
   "source": [
    "## Atípicos"
   ]
  },
  {
   "cell_type": "markdown",
   "id": "636c1a7b",
   "metadata": {},
   "source": [
    "Saco un describe de los registros con transacciones con compra para analizar los valores de esta variable."
   ]
  },
  {
   "cell_type": "code",
   "execution_count": 285,
   "id": "96b0a0af",
   "metadata": {},
   "outputs": [
    {
     "data": {
      "text/html": [
       "<div>\n",
       "<style scoped>\n",
       "    .dataframe tbody tr th:only-of-type {\n",
       "        vertical-align: middle;\n",
       "    }\n",
       "\n",
       "    .dataframe tbody tr th {\n",
       "        vertical-align: top;\n",
       "    }\n",
       "\n",
       "    .dataframe thead th {\n",
       "        text-align: right;\n",
       "    }\n",
       "</style>\n",
       "<table border=\"1\" class=\"dataframe\">\n",
       "  <thead>\n",
       "    <tr style=\"text-align: right;\">\n",
       "      <th></th>\n",
       "      <th>visitNumber</th>\n",
       "      <th>visitId</th>\n",
       "      <th>visitStartTime</th>\n",
       "      <th>date</th>\n",
       "      <th>transactionRevenue</th>\n",
       "      <th>visits</th>\n",
       "      <th>hits</th>\n",
       "      <th>bounces</th>\n",
       "      <th>transactions</th>\n",
       "    </tr>\n",
       "  </thead>\n",
       "  <tbody>\n",
       "    <tr>\n",
       "      <th>count</th>\n",
       "      <td>12073.0000</td>\n",
       "      <td>12073.0000</td>\n",
       "      <td>12073.0000</td>\n",
       "      <td>12073.0000</td>\n",
       "      <td>12073.0000</td>\n",
       "      <td>12073.0000</td>\n",
       "      <td>12073.0000</td>\n",
       "      <td>0.0000</td>\n",
       "      <td>12073.0000</td>\n",
       "    </tr>\n",
       "    <tr>\n",
       "      <th>mean</th>\n",
       "      <td>4.2765</td>\n",
       "      <td>1485820253.5037</td>\n",
       "      <td>1485820258.2005</td>\n",
       "      <td>20166210.4021</td>\n",
       "      <td>147670192.1643</td>\n",
       "      <td>1.0000</td>\n",
       "      <td>41.0946</td>\n",
       "      <td>NaN</td>\n",
       "      <td>1.2461</td>\n",
       "    </tr>\n",
       "    <tr>\n",
       "      <th>std</th>\n",
       "      <td>13.8227</td>\n",
       "      <td>9308229.6211</td>\n",
       "      <td>9308230.4039</td>\n",
       "      <td>4688.7736</td>\n",
       "      <td>549554279.9612</td>\n",
       "      <td>0.0000</td>\n",
       "      <td>47.7585</td>\n",
       "      <td>NaN</td>\n",
       "      <td>1.6292</td>\n",
       "    </tr>\n",
       "    <tr>\n",
       "      <th>min</th>\n",
       "      <td>1.0000</td>\n",
       "      <td>1470046365.0000</td>\n",
       "      <td>1470046365.0000</td>\n",
       "      <td>20160801.0000</td>\n",
       "      <td>1200000.0000</td>\n",
       "      <td>1.0000</td>\n",
       "      <td>2.0000</td>\n",
       "      <td>NaN</td>\n",
       "      <td>1.0000</td>\n",
       "    </tr>\n",
       "    <tr>\n",
       "      <th>25%</th>\n",
       "      <td>1.0000</td>\n",
       "      <td>1477954834.0000</td>\n",
       "      <td>1477954834.0000</td>\n",
       "      <td>20161031.0000</td>\n",
       "      <td>29990000.0000</td>\n",
       "      <td>1.0000</td>\n",
       "      <td>19.0000</td>\n",
       "      <td>NaN</td>\n",
       "      <td>1.0000</td>\n",
       "    </tr>\n",
       "    <tr>\n",
       "      <th>50%</th>\n",
       "      <td>2.0000</td>\n",
       "      <td>1485559969.0000</td>\n",
       "      <td>1485559969.0000</td>\n",
       "      <td>20170127.0000</td>\n",
       "      <td>55910000.0000</td>\n",
       "      <td>1.0000</td>\n",
       "      <td>29.0000</td>\n",
       "      <td>NaN</td>\n",
       "      <td>1.0000</td>\n",
       "    </tr>\n",
       "    <tr>\n",
       "      <th>75%</th>\n",
       "      <td>4.0000</td>\n",
       "      <td>1493912060.0000</td>\n",
       "      <td>1493912060.0000</td>\n",
       "      <td>20170504.0000</td>\n",
       "      <td>114980000.0000</td>\n",
       "      <td>1.0000</td>\n",
       "      <td>46.0000</td>\n",
       "      <td>NaN</td>\n",
       "      <td>1.0000</td>\n",
       "    </tr>\n",
       "    <tr>\n",
       "      <th>max</th>\n",
       "      <td>315.0000</td>\n",
       "      <td>1501651868.0000</td>\n",
       "      <td>1501651868.0000</td>\n",
       "      <td>20170801.0000</td>\n",
       "      <td>23952560000.0000</td>\n",
       "      <td>1.0000</td>\n",
       "      <td>500.0000</td>\n",
       "      <td>NaN</td>\n",
       "      <td>25.0000</td>\n",
       "    </tr>\n",
       "  </tbody>\n",
       "</table>\n",
       "</div>"
      ],
      "text/plain": [
       "       visitNumber         visitId  visitStartTime          date  \\\n",
       "count   12073.0000      12073.0000      12073.0000    12073.0000   \n",
       "mean        4.2765 1485820253.5037 1485820258.2005 20166210.4021   \n",
       "std        13.8227    9308229.6211    9308230.4039     4688.7736   \n",
       "min         1.0000 1470046365.0000 1470046365.0000 20160801.0000   \n",
       "25%         1.0000 1477954834.0000 1477954834.0000 20161031.0000   \n",
       "50%         2.0000 1485559969.0000 1485559969.0000 20170127.0000   \n",
       "75%         4.0000 1493912060.0000 1493912060.0000 20170504.0000   \n",
       "max       315.0000 1501651868.0000 1501651868.0000 20170801.0000   \n",
       "\n",
       "       transactionRevenue     visits       hits  bounces  transactions  \n",
       "count          12073.0000 12073.0000 12073.0000   0.0000    12073.0000  \n",
       "mean       147670192.1643     1.0000    41.0946      NaN        1.2461  \n",
       "std        549554279.9612     0.0000    47.7585      NaN        1.6292  \n",
       "min          1200000.0000     1.0000     2.0000      NaN        1.0000  \n",
       "25%         29990000.0000     1.0000    19.0000      NaN        1.0000  \n",
       "50%         55910000.0000     1.0000    29.0000      NaN        1.0000  \n",
       "75%        114980000.0000     1.0000    46.0000      NaN        1.0000  \n",
       "max      23952560000.0000     1.0000   500.0000      NaN       25.0000  "
      ]
     },
     "execution_count": 285,
     "metadata": {},
     "output_type": "execute_result"
    }
   ],
   "source": [
    "num[num['transactionRevenue']>0].describe()"
   ]
  },
  {
   "cell_type": "markdown",
   "id": "b8855f7e",
   "metadata": {},
   "source": [
    "Aunque trasactionRevenue tiene valores muy altos no puedo decir que sean atípicos. Habría que consultarlo con negocio, para saber si estos valores son valores habituales."
   ]
  },
  {
   "cell_type": "markdown",
   "id": "81f42e19",
   "metadata": {},
   "source": [
    "## Agrupo por 'fullVisitorId'"
   ]
  },
  {
   "cell_type": "markdown",
   "id": "4bd80eaf",
   "metadata": {},
   "source": [
    "Esto podría reducir mucho el dataset y pasar a nalizarlo por usuario en vez de por visita. Es un análisis diferente. Lo suyo sería hacer un análisis independiente para cada uno. "
   ]
  },
  {
   "cell_type": "code",
   "execution_count": 33,
   "id": "f5e95508",
   "metadata": {},
   "outputs": [],
   "source": [
    "df=pd.concat([num,cat], axis=1).reset_index()"
   ]
  },
  {
   "cell_type": "code",
   "execution_count": 43,
   "id": "15bb85ed",
   "metadata": {},
   "outputs": [],
   "source": [
    "df['DateTime']=pd.to_datetime(df['DateTime'])"
   ]
  },
  {
   "cell_type": "markdown",
   "id": "279a6e41",
   "metadata": {},
   "source": [
    "Verificamos si el visitNumber es un contador para cada fullVisitorId\n"
   ]
  },
  {
   "cell_type": "code",
   "execution_count": null,
   "id": "ce127533",
   "metadata": {},
   "outputs": [],
   "source": [
    "df[df['fullVisitorId']=='9308310352918219134'].sort_values(by='visitNumber')"
   ]
  },
  {
   "cell_type": "markdown",
   "id": "526cf199",
   "metadata": {},
   "source": [
    "Parece que visitNumber es un contador, por lo que voy a agregar el dataset por usuario= fullVisitorId. \n",
    "\n",
    "Y sacaré la mediana de todas las fechas de transacciones, la suma total de las transacciones, hits y bounces. \n",
    "\n",
    "Para las categóricas usaré la moda."
   ]
  },
  {
   "cell_type": "code",
   "execution_count": 61,
   "id": "e4d482e6",
   "metadata": {},
   "outputs": [],
   "source": [
    "df_fv=df.groupby('fullVisitorId').agg({'DateTime':'median',\n",
    "                                       'source':lambda x: x.mode().iloc[0] if not x.empty else None,\n",
    "                                     'medium':lambda x: x.mode().iloc[0] if not x.empty else None,\n",
    "                                     'channelGrouping':lambda x: x.mode().iloc[0] if not x.empty else None,\n",
    "                                     'visitNumber':'max',\n",
    "                                'transactionRevenue':'sum',\n",
    "                                'hits':'sum',\n",
    "                                'bounces':'sum',\n",
    "                                'transactions':'sum'})"
   ]
  },
  {
   "cell_type": "code",
   "execution_count": null,
   "id": "79159d47",
   "metadata": {},
   "outputs": [],
   "source": []
  },
  {
   "cell_type": "markdown",
   "id": "48cb7d85",
   "metadata": {},
   "source": [
    "He tenido que usar lambdas para las categóricas porque la moda no se puede usar dentro de la agregación."
   ]
  },
  {
   "cell_type": "markdown",
   "id": "f506664f",
   "metadata": {},
   "source": [
    "Lo mejor sería sacar la fecha en la que se produjo la maxima transacción, pero debido a falta de tiempo he dejarlo de esta forma más simple. Sacando la fecha mediana."
   ]
  },
  {
   "cell_type": "code",
   "execution_count": 73,
   "id": "7d5007f9",
   "metadata": {},
   "outputs": [],
   "source": [
    "df_fv.set_index('DateTime', inplace=True)"
   ]
  },
  {
   "cell_type": "markdown",
   "id": "cc0edcc8",
   "metadata": {},
   "source": [
    "Hago un análisis con un describe. Y verifico que los datos están correctamente.\n",
    "\n",
    "A primera vista, parece que hay muy pocas transacciones con beneficio."
   ]
  },
  {
   "cell_type": "code",
   "execution_count": 77,
   "id": "30fc7754",
   "metadata": {},
   "outputs": [
    {
     "data": {
      "text/html": [
       "<div>\n",
       "<style scoped>\n",
       "    .dataframe tbody tr th:only-of-type {\n",
       "        vertical-align: middle;\n",
       "    }\n",
       "\n",
       "    .dataframe tbody tr th {\n",
       "        vertical-align: top;\n",
       "    }\n",
       "\n",
       "    .dataframe thead th {\n",
       "        text-align: right;\n",
       "    }\n",
       "</style>\n",
       "<table border=\"1\" class=\"dataframe\">\n",
       "  <thead>\n",
       "    <tr style=\"text-align: right;\">\n",
       "      <th></th>\n",
       "      <th>count</th>\n",
       "      <th>mean</th>\n",
       "      <th>std</th>\n",
       "      <th>min</th>\n",
       "      <th>25%</th>\n",
       "      <th>50%</th>\n",
       "      <th>75%</th>\n",
       "      <th>max</th>\n",
       "    </tr>\n",
       "  </thead>\n",
       "  <tbody>\n",
       "    <tr>\n",
       "      <th>visitNumber</th>\n",
       "      <td>724545.0000</td>\n",
       "      <td>1.3542</td>\n",
       "      <td>2.3260</td>\n",
       "      <td>1.0000</td>\n",
       "      <td>1.0000</td>\n",
       "      <td>1.0000</td>\n",
       "      <td>1.0000</td>\n",
       "      <td>395.0000</td>\n",
       "    </tr>\n",
       "    <tr>\n",
       "      <th>transactionRevenue</th>\n",
       "      <td>724545.0000</td>\n",
       "      <td>2449973.0590</td>\n",
       "      <td>165248866.6068</td>\n",
       "      <td>0.0000</td>\n",
       "      <td>0.0000</td>\n",
       "      <td>0.0000</td>\n",
       "      <td>0.0000</td>\n",
       "      <td>124741780000.0000</td>\n",
       "    </tr>\n",
       "    <tr>\n",
       "      <th>hits</th>\n",
       "      <td>724545.0000</td>\n",
       "      <td>7.0621</td>\n",
       "      <td>30.9310</td>\n",
       "      <td>1.0000</td>\n",
       "      <td>1.0000</td>\n",
       "      <td>2.0000</td>\n",
       "      <td>5.0000</td>\n",
       "      <td>8018.0000</td>\n",
       "    </tr>\n",
       "    <tr>\n",
       "      <th>bounces</th>\n",
       "      <td>724545.0000</td>\n",
       "      <td>0.6223</td>\n",
       "      <td>0.8656</td>\n",
       "      <td>0.0000</td>\n",
       "      <td>0.0000</td>\n",
       "      <td>1.0000</td>\n",
       "      <td>1.0000</td>\n",
       "      <td>149.0000</td>\n",
       "    </tr>\n",
       "    <tr>\n",
       "      <th>transactions</th>\n",
       "      <td>724545.0000</td>\n",
       "      <td>0.0384</td>\n",
       "      <td>0.7783</td>\n",
       "      <td>0.0000</td>\n",
       "      <td>0.0000</td>\n",
       "      <td>0.0000</td>\n",
       "      <td>0.0000</td>\n",
       "      <td>378.0000</td>\n",
       "    </tr>\n",
       "  </tbody>\n",
       "</table>\n",
       "</div>"
      ],
      "text/plain": [
       "                         count         mean            std    min    25%  \\\n",
       "visitNumber        724545.0000       1.3542         2.3260 1.0000 1.0000   \n",
       "transactionRevenue 724545.0000 2449973.0590 165248866.6068 0.0000 0.0000   \n",
       "hits               724545.0000       7.0621        30.9310 1.0000 1.0000   \n",
       "bounces            724545.0000       0.6223         0.8656 0.0000 0.0000   \n",
       "transactions       724545.0000       0.0384         0.7783 0.0000 0.0000   \n",
       "\n",
       "                      50%    75%               max  \n",
       "visitNumber        1.0000 1.0000          395.0000  \n",
       "transactionRevenue 0.0000 0.0000 124741780000.0000  \n",
       "hits               2.0000 5.0000         8018.0000  \n",
       "bounces            1.0000 1.0000          149.0000  \n",
       "transactions       0.0000 0.0000          378.0000  "
      ]
     },
     "execution_count": 77,
     "metadata": {},
     "output_type": "execute_result"
    }
   ],
   "source": [
    "df_fv.describe().T"
   ]
  },
  {
   "cell_type": "code",
   "execution_count": 78,
   "id": "f9389a51",
   "metadata": {},
   "outputs": [],
   "source": [
    "nombre_fichero_trabajo = 'df_fv.csv'\n",
    "\n",
    "ruta_completa = path  + nombre_fichero_trabajo\n",
    "\n",
    "#df_fv.to_csv(ruta_completa)"
   ]
  },
  {
   "cell_type": "code",
   "execution_count": 238,
   "id": "bc09a5b8",
   "metadata": {},
   "outputs": [
    {
     "name": "stderr",
     "output_type": "stream",
     "text": [
      "C:\\Users\\110927\\AppData\\Local\\Temp\\ipykernel_32032\\1552789968.py:1: DtypeWarning: Columns (1) have mixed types. Specify dtype option on import or set low_memory=False.\n",
      "  df_fv=pd.read_csv(path+ 'df_fv.csv')\n"
     ]
    }
   ],
   "source": [
    "df_fv=pd.read_csv(path+ 'df_fv.csv')"
   ]
  },
  {
   "cell_type": "code",
   "execution_count": 239,
   "id": "52cca6c4",
   "metadata": {},
   "outputs": [],
   "source": [
    "df_fv.set_index('DateTime', inplace=True)"
   ]
  },
  {
   "cell_type": "markdown",
   "id": "24673fa5",
   "metadata": {},
   "source": [
    "# EDA: categóricas"
   ]
  },
  {
   "cell_type": "markdown",
   "id": "2615cb2c",
   "metadata": {},
   "source": [
    "Con la siguiente fórmula voy a sacar los gráficos de las categóricas de forma automática.\n",
    "\n",
    "He decidido también comparar cómo se comportan las variables categóricas cuando hay una venta y cuando no. Dado que transactionRevenue parece la variable más importante del dataset."
   ]
  },
  {
   "cell_type": "code",
   "execution_count": 7,
   "id": "7e74f41c",
   "metadata": {},
   "outputs": [],
   "source": [
    "def graficos_eda_categoricos(cat):\n",
    "    \n",
    "    #Calculamos el número de filas que necesitamos\n",
    "    from math import ceil\n",
    "    filas = ceil(cat.shape[1] / 2)\n",
    "\n",
    "    #Definimos el gráfico\n",
    "    f, ax = plt.subplots(nrows = filas, ncols = 2, figsize = (16, filas * 6))\n",
    "\n",
    "    #Aplanamos para iterar por el gráfico como si fuera de 1 dimensión en lugar de 2\n",
    "    ax = ax.flat \n",
    "\n",
    "    #Creamos el bucle que va añadiendo gráficos\n",
    "    for cada, variable in enumerate(cat):\n",
    "        cat[variable].value_counts().plot.barh(ax = ax[cada])\n",
    "        ax[cada].set_title(variable, fontsize = 12, fontweight = \"bold\")\n",
    "        ax[cada].tick_params(labelsize = 12)"
   ]
  },
  {
   "cell_type": "markdown",
   "id": "efa8d71f",
   "metadata": {},
   "source": [
    "Saco los registros en los que ha habido ventas y saco los gráficos para las categóricas."
   ]
  },
  {
   "cell_type": "code",
   "execution_count": 8,
   "id": "c96832f8",
   "metadata": {},
   "outputs": [],
   "source": [
    "cat_fv=df_fv[df_fv['transactionRevenue']>0].select_dtypes(include='O').copy()"
   ]
  },
  {
   "cell_type": "code",
   "execution_count": 9,
   "id": "ec3ab375",
   "metadata": {},
   "outputs": [
    {
     "data": {
      "image/png": "[encoded data removed]",
      "text/plain": [
       "<Figure size 1600x1200 with 4 Axes>"
      ]
     },
     "metadata": {},
     "output_type": "display_data"
    }
   ],
   "source": [
    "graficos_eda_categoricos(cat_fv[['source', 'medium', 'channelGrouping']])"
   ]
  },
  {
   "cell_type": "markdown",
   "id": "03395beb",
   "metadata": {},
   "source": [
    "Aquí hago lo mismo pero para todos aquellos registros sin ventas."
   ]
  },
  {
   "cell_type": "code",
   "execution_count": 13,
   "id": "dbe1e401",
   "metadata": {},
   "outputs": [
    {
     "data": {
      "image/png": "[encoded data removed]",
      "text/plain": [
       "<Figure size 1600x1200 with 4 Axes>"
      ]
     },
     "metadata": {},
     "output_type": "display_data"
    }
   ],
   "source": [
    "graficos_eda_categoricos(df_fv[df_fv['transactionRevenue']==0][['source', 'medium', 'channelGrouping']])"
   ]
  },
  {
   "cell_type": "markdown",
   "id": "d123586c",
   "metadata": {},
   "source": [
    "Parece que a simple vista todas aquellas visitas con compra llegan a traves de busqueda directa. De forma muy destacada. Esto podría decirnos que nuestros clientes no llegan a través de búsquedas de terceros y se podría bajar el presupuesto de anuncios google, por ejemplo."
   ]
  },
  {
   "cell_type": "markdown",
   "id": "22158e4c",
   "metadata": {},
   "source": [
    "num## EDA: Numéricas"
   ]
  },
  {
   "cell_type": "code",
   "execution_count": 22,
   "id": "d8b6fb99",
   "metadata": {},
   "outputs": [
    {
     "name": "stderr",
     "output_type": "stream",
     "text": [
      "C:\\Users\\110927\\AppData\\Local\\Temp\\ipykernel_32032\\4089886057.py:2: FutureWarning: The default value of numeric_only in DataFrameGroupBy.sum is deprecated. In a future version, numeric_only will default to False. Either specify numeric_only or select only columns which should be valid for the function.\n",
      "  num_dias=df_fv.resample('D').sum()\n"
     ]
    }
   ],
   "source": [
    "\n",
    "df_fv.index = pd.to_datetime(df_fv.index)\n",
    "num_dias=df_fv.resample('D').sum()"
   ]
  },
  {
   "cell_type": "code",
   "execution_count": 24,
   "id": "6ac8bbef",
   "metadata": {},
   "outputs": [
    {
     "data": {
      "image/png": "[encoded data removed]",
      "text/plain": [
       "<Figure size 640x480 with 1 Axes>"
      ]
     },
     "metadata": {},
     "output_type": "display_data"
    }
   ],
   "source": [
    "plt.plot(num_dias.index, num_dias.transactionRevenue)\n",
    "plt.tick_params(labelsize = 12, labelrotation=45)"
   ]
  },
  {
   "cell_type": "code",
   "execution_count": 29,
   "id": "797ba8f3",
   "metadata": {
    "scrolled": true
   },
   "outputs": [
    {
     "name": "stderr",
     "output_type": "stream",
     "text": [
      "C:\\Users\\110927\\AppData\\Local\\Temp\\ipykernel_32032\\3582755948.py:1: FutureWarning: The default value of numeric_only in DataFrameGroupBy.sum is deprecated. In a future version, numeric_only will default to False. Either specify numeric_only or select only columns which should be valid for the function.\n",
      "  num_sem=df_fv.resample('W').sum()\n"
     ]
    },
    {
     "data": {
      "image/png": "[encoded data removed]",
      "text/plain": [
       "<Figure size 640x480 with 1 Axes>"
      ]
     },
     "metadata": {},
     "output_type": "display_data"
    }
   ],
   "source": [
    "\n",
    "num_sem=df_fv.resample('W').sum()\n",
    "plt.plot(num_sem.index, num_sem.transactionRevenue)\n",
    "plt.tick_params(labelsize = 12, labelrotation=45)"
   ]
  },
  {
   "cell_type": "markdown",
   "id": "a042f6f0",
   "metadata": {},
   "source": [
    "Parece que tenemos una serie más o menos estable, salvo 3 o 4 picos que sobresalente significativamente. Habría que revisarlo más en profundidad."
   ]
  },
  {
   "cell_type": "code",
   "execution_count": 86,
   "id": "d2574a3d",
   "metadata": {},
   "outputs": [],
   "source": [
    "df1.reset_index(inplace=True)"
   ]
  },
  {
   "cell_type": "markdown",
   "id": "ff75c002",
   "metadata": {},
   "source": [
    "# Transformación de variables"
   ]
  },
  {
   "cell_type": "markdown",
   "id": "d045faa7",
   "metadata": {},
   "source": [
    "Ahora toca transformar las variables categóricas a numéricas.\n",
    "\n",
    "Utilizaré OHE.\n",
    "\n",
    "También pasaré la fecha a variables. Sacando los días que son fin de semana."
   ]
  },
  {
   "cell_type": "code",
   "execution_count": 240,
   "id": "17803934",
   "metadata": {},
   "outputs": [],
   "source": [
    "df_fv.reset_index(inplace=True)"
   ]
  },
  {
   "cell_type": "markdown",
   "id": "44f7458d",
   "metadata": {},
   "source": [
    "## Transformo la fecha"
   ]
  },
  {
   "cell_type": "code",
   "execution_count": 241,
   "id": "dfd4a9d2",
   "metadata": {},
   "outputs": [],
   "source": [
    "df_fv['DateTime']=pd.to_datetime(df_fv.DateTime)\n",
    "df_fv['year']=df_fv.DateTime.dt.year\n",
    "df_fv['month']=df_fv.DateTime.dt.month\n",
    "df_fv['weekday'] = df_fv.DateTime.dt.weekday\n",
    "df_fv['weekend'] = df_fv['weekday'].isin([5, 6]).astype(int)\n"
   ]
  },
  {
   "cell_type": "markdown",
   "id": "e3312e66",
   "metadata": {},
   "source": [
    "## OHE"
   ]
  },
  {
   "cell_type": "code",
   "execution_count": 242,
   "id": "5865c2e6",
   "metadata": {},
   "outputs": [
    {
     "name": "stderr",
     "output_type": "stream",
     "text": [
      "C:\\Users\\110927\\AppData\\Local\\miniconda3\\lib\\site-packages\\sklearn\\preprocessing\\_encoders.py:868: FutureWarning: `sparse` was renamed to `sparse_output` in version 1.2 and will be removed in 1.4. `sparse_output` is ignored unless you leave `sparse` to its default value.\n",
      "  warnings.warn(\n"
     ]
    }
   ],
   "source": [
    "var_ohe = ['source','medium','channelGrouping']\n",
    "ohe = OneHotEncoder(sparse = False, handle_unknown='ignore')\n",
    "cat_ohe = ohe.fit_transform(df_fv[var_ohe])\n",
    "cat_ohe = pd.DataFrame(cat_ohe, columns = ohe.get_feature_names_out())"
   ]
  },
  {
   "cell_type": "code",
   "execution_count": 243,
   "id": "3b060a10",
   "metadata": {},
   "outputs": [],
   "source": [
    "df_fv.reset_index(inplace=True)"
   ]
  },
  {
   "cell_type": "markdown",
   "id": "295362db",
   "metadata": {},
   "source": [
    "## Estandarización con Min Max Scaler"
   ]
  },
  {
   "cell_type": "code",
   "execution_count": 244,
   "id": "513e6718",
   "metadata": {},
   "outputs": [],
   "source": [
    "var_mms = df_fv[['visitNumber',\n",
    "                    'transactionRevenue' ,\n",
    "                    'hits' ,\n",
    "                     'bounces' ,\n",
    "                    'transactions',\n",
    "                    'year',\n",
    "                    'month',\n",
    "                    'weekday']].columns\n",
    "mms = MinMaxScaler()\n",
    "df_mms = mms.fit_transform(df_fv[var_mms])\n",
    "#Añadir sufijos a los nombres\n",
    "nombres_mms = [variable + '_mms' for variable in var_mms]\n",
    "\n",
    "#Guardar como dataframe\n",
    "df_mms = pd.DataFrame(df_mms,columns = nombres_mms)"
   ]
  },
  {
   "cell_type": "code",
   "execution_count": 245,
   "id": "666469a6",
   "metadata": {},
   "outputs": [],
   "source": [
    " df_final=pd.concat([df_fv, cat_ohe, df_mms], axis=1)"
   ]
  },
  {
   "cell_type": "markdown",
   "id": "4cc2338f",
   "metadata": {},
   "source": [
    "##  Eliminamos todas las variables previas:"
   ]
  },
  {
   "cell_type": "markdown",
   "id": "1adbe766",
   "metadata": {},
   "source": [
    "Las categóricas originales y las numéricas originales, sin estandarizar con min max."
   ]
  },
  {
   "cell_type": "code",
   "execution_count": 248,
   "id": "e9ee427f",
   "metadata": {},
   "outputs": [],
   "source": [
    "df_final.drop(columns=['DateTime','source','medium','channelGrouping',\n",
    "                       'fullVisitorId','year_mms','month_mms',\n",
    "                       'weekday','index','transactionRevenue','hits',\n",
    "                      'visitNumber','transactions', 'bounces'], inplace=True)"
   ]
  },
  {
   "cell_type": "code",
   "execution_count": 250,
   "id": "31a1e8a6",
   "metadata": {},
   "outputs": [],
   "source": [
    "nombre_fichero_trabajo = 'df_final.csv'\n",
    "\n",
    "ruta_completa = path  + nombre_fichero_trabajo\n",
    "\n",
    "#df_final.to_csv(ruta_completa)"
   ]
  },
  {
   "cell_type": "code",
   "execution_count": null,
   "id": "5c3a1dbe",
   "metadata": {},
   "outputs": [],
   "source": [
    "df_final=pd.read_csv(path+ 'df_final.csv')"
   ]
  },
  {
   "cell_type": "markdown",
   "id": "3a0862db",
   "metadata": {},
   "source": [
    "# CLUSTER CON MINI BATCH KMEANS"
   ]
  },
  {
   "cell_type": "markdown",
   "id": "08ef73a3",
   "metadata": {},
   "source": [
    "Como he mencionado antes lo voy a realizar con una parte del dataset, en este caso, con los meses de marzo, abril y mayo."
   ]
  },
  {
   "cell_type": "code",
   "execution_count": 251,
   "id": "d53d402b",
   "metadata": {},
   "outputs": [],
   "source": [
    "df_final=df_final[(df_final['month']==4)]"
   ]
  },
  {
   "cell_type": "markdown",
   "id": "801fb6c2",
   "metadata": {},
   "source": [
    "Después de poner el mes en 4, esta variable y el año quedan como constantes por lo que las elimino."
   ]
  },
  {
   "cell_type": "code",
   "execution_count": 253,
   "id": "319f21ef",
   "metadata": {},
   "outputs": [
    {
     "name": "stderr",
     "output_type": "stream",
     "text": [
      "C:\\Users\\110927\\AppData\\Local\\Temp\\ipykernel_32032\\3315464523.py:1: SettingWithCopyWarning: \n",
      "A value is trying to be set on a copy of a slice from a DataFrame\n",
      "\n",
      "See the caveats in the documentation: https://pandas.pydata.org/pandas-docs/stable/user_guide/indexing.html#returning-a-view-versus-a-copy\n",
      "  df_final.drop(columns=[ 'month', 'year'], inplace=True)\n"
     ]
    }
   ],
   "source": [
    "df_final.drop(columns=[ 'month', 'year'], inplace=True)"
   ]
  },
  {
   "cell_type": "markdown",
   "id": "5e5fd1cd",
   "metadata": {},
   "source": [
    "## Selección del mejor modelo"
   ]
  },
  {
   "cell_type": "markdown",
   "id": "83249fbd",
   "metadata": {},
   "source": [
    "El número de segmentos será entre 3,4 o 5"
   ]
  },
  {
   "cell_type": "code",
   "execution_count": 264,
   "id": "b03317d6",
   "metadata": {},
   "outputs": [],
   "source": [
    "min_k = 3\n",
    "max_k = 6\n",
    "\n",
    "soluciones = list(range(min_k,max_k))"
   ]
  },
  {
   "cell_type": "markdown",
   "id": "e95db4a6",
   "metadata": {},
   "source": [
    "Uso la silueta calinski, y davies para medir que partición es mejor."
   ]
  },
  {
   "cell_type": "code",
   "execution_count": 265,
   "id": "385067cb",
   "metadata": {},
   "outputs": [],
   "source": [
    "\n",
    "silueta = []\n",
    "calins = []\n",
    "davies = []"
   ]
  },
  {
   "cell_type": "markdown",
   "id": "8c6341c9",
   "metadata": {},
   "source": [
    "Lo hago dentro de un for, y voy añadiendo las metricas a las listas anteriores"
   ]
  },
  {
   "cell_type": "code",
   "execution_count": 266,
   "id": "174b3e06",
   "metadata": {},
   "outputs": [
    {
     "name": "stderr",
     "output_type": "stream",
     "text": [
      "C:\\Users\\110927\\AppData\\Local\\miniconda3\\lib\\site-packages\\sklearn\\cluster\\_kmeans.py:1902: UserWarning: MiniBatchKMeans is known to have a memory leak on Windows with MKL, when there are less chunks than available threads. You can prevent it by setting batch_size >= 2048 or by setting the environment variable OMP_NUM_THREADS=4\n",
      "  warnings.warn(\n"
     ]
    },
    {
     "name": "stdout",
     "output_type": "stream",
     "text": [
      "Init 1/10 with method k-means++\n",
      "Inertia for init 1/10: 7219.329591419834\n",
      "Init 2/10 with method k-means++\n",
      "Inertia for init 2/10: 8067.078131653415\n",
      "Init 3/10 with method k-means++\n",
      "Inertia for init 3/10: 8080.217148964679\n",
      "Init 4/10 with method k-means++\n",
      "Inertia for init 4/10: 8202.876826381416\n",
      "Init 5/10 with method k-means++\n",
      "Inertia for init 5/10: 9816.165614895146\n",
      "Init 6/10 with method k-means++\n",
      "Inertia for init 6/10: 6639.261063783338\n",
      "Init 7/10 with method k-means++\n",
      "Inertia for init 7/10: 8836.457807331872\n",
      "Init 8/10 with method k-means++\n",
      "Inertia for init 8/10: 7853.439468768636\n",
      "Init 9/10 with method k-means++\n",
      "Inertia for init 9/10: 9020.374497480687\n",
      "Init 10/10 with method k-means++\n",
      "Inertia for init 10/10: 7254.217148964678\n",
      "Minibatch step 1/5186: mean batch inertia: 2.1725006324871523\n",
      "Minibatch step 2/5186: mean batch inertia: 1.5544409925901301, ewa inertia: 1.5544409925901301\n",
      "Minibatch step 3/5186: mean batch inertia: 1.5015330673723075, ewa inertia: 1.5524006312214318\n",
      "Minibatch step 4/5186: mean batch inertia: 1.490301407367253, ewa inertia: 1.5500058131132453\n",
      "Minibatch step 5/5186: mean batch inertia: 1.5130241964309694, ewa inertia: 1.5485796399696212\n",
      "Minibatch step 6/5186: mean batch inertia: 1.4862975738754058, ewa inertia: 1.5461777706636868\n",
      "Minibatch step 7/5186: mean batch inertia: 1.5332287483985974, ewa inertia: 1.5456783996397176\n",
      "Minibatch step 8/5186: mean batch inertia: 1.4727770428662788, ewa inertia: 1.5428670039655565\n",
      "Minibatch step 9/5186: mean batch inertia: 1.4941291454511485, ewa inertia: 1.5409874586366388\n",
      "Minibatch step 10/5186: mean batch inertia: 1.4933658628089368, ewa inertia: 1.5391509612869017\n",
      "Minibatch step 11/5186: mean batch inertia: 1.5433401968376972, ewa inertia: 1.5393125165614099\n",
      "Minibatch step 12/5186: mean batch inertia: 1.5958304285061427, ewa inertia: 1.541492094832468\n",
      "Minibatch step 13/5186: mean batch inertia: 1.514086742752236, ewa inertia: 1.5404352244023787\n",
      "Minibatch step 14/5186: mean batch inertia: 1.5238053998722993, ewa inertia: 1.5397939055186818\n",
      "Minibatch step 15/5186: mean batch inertia: 1.4722107769391772, ewa inertia: 1.5371876040210954\n",
      "Minibatch step 16/5186: mean batch inertia: 1.4439838547270507, ewa inertia: 1.5335932591532047\n",
      "Minibatch step 17/5186: mean batch inertia: 1.5333613877254535, ewa inertia: 1.5335843171751977\n",
      "Minibatch step 18/5186: mean batch inertia: 1.4911594505727765, ewa inertia: 1.531948228469557\n",
      "Minibatch step 19/5186: mean batch inertia: 1.5409192232921394, ewa inertia: 1.532294189328907\n",
      "Minibatch step 20/5186: mean batch inertia: 1.513941071442256, ewa inertia: 1.5315864127041967\n",
      "Minibatch step 21/5186: mean batch inertia: 1.48062201155861, ewa inertia: 1.5296210021376664\n",
      "Minibatch step 22/5186: mean batch inertia: 1.5579032807571582, ewa inertia: 1.5307116906966376\n",
      "Minibatch step 23/5186: mean batch inertia: 1.5472679656762598, ewa inertia: 1.5313501731874721\n",
      "Minibatch step 24/5186: mean batch inertia: 1.5342983582749823, ewa inertia: 1.5314638681194803\n",
      "Minibatch step 25/5186: mean batch inertia: 1.5411939951671016, ewa inertia: 1.5318391044429378\n",
      "Minibatch step 26/5186: mean batch inertia: 1.484246649038125, ewa inertia: 1.530003730875562\n",
      "Minibatch step 27/5186: mean batch inertia: 1.4867015057309558, ewa inertia: 1.5283338073811141\n",
      "Minibatch step 28/5186: mean batch inertia: 1.4744220091076035, ewa inertia: 1.526254732269749\n",
      "Minibatch step 29/5186: mean batch inertia: 1.536447500516224, ewa inertia: 1.5266478100645138\n",
      "Minibatch step 30/5186: mean batch inertia: 1.5371252517835696, ewa inertia: 1.5270518661154426\n",
      "Minibatch step 31/5186: mean batch inertia: 1.477301254340512, ewa inertia: 1.5251332645842588\n",
      "Minibatch step 32/5186: mean batch inertia: 1.535834856964617, ewa inertia: 1.525545964866618\n",
      "Minibatch step 33/5186: mean batch inertia: 1.490176605645703, ewa inertia: 1.5241819674334762\n",
      "Minibatch step 34/5186: mean batch inertia: 1.5459032176457888, ewa inertia: 1.525019633995349\n",
      "Minibatch step 35/5186: mean batch inertia: 1.5090469990980142, ewa inertia: 1.5244036592228234\n",
      "Minibatch step 36/5186: mean batch inertia: 1.5624307463655116, ewa inertia: 1.5258701502872647\n",
      "Minibatch step 37/5186: mean batch inertia: 1.4653102032548602, ewa inertia: 1.5235346934363936\n",
      "Minibatch step 38/5186: mean batch inertia: 1.5115151721447528, ewa inertia: 1.5230711680418\n",
      "Minibatch step 39/5186: mean batch inertia: 1.466403414973428, ewa inertia: 1.5208858112406094\n",
      "Minibatch step 40/5186: mean batch inertia: 1.5145741769292518, ewa inertia: 1.5206424069723599\n",
      "Minibatch step 41/5186: mean batch inertia: 1.4697668350019433, ewa inertia: 1.5186804220479555\n",
      "Minibatch step 42/5186: mean batch inertia: 1.4965277120481781, ewa inertia: 1.5178261165065938\n",
      "Minibatch step 43/5186: mean batch inertia: 1.5100379728250988, ewa inertia: 1.5175257715689277\n",
      "Minibatch step 44/5186: mean batch inertia: 1.5325616845829122, ewa inertia: 1.5181056222421594\n",
      "Minibatch step 45/5186: mean batch inertia: 1.506229481706539, ewa inertia: 1.5176476262376222\n",
      "Minibatch step 46/5186: mean batch inertia: 1.5294368450754425, ewa inertia: 1.5181022701607165\n",
      "Minibatch step 47/5186: mean batch inertia: 1.4716480045811715, ewa inertia: 1.5163107901790402\n",
      "Minibatch step 48/5186: mean batch inertia: 1.5229886671123636, ewa inertia: 1.5165683183671819\n",
      "Minibatch step 49/5186: mean batch inertia: 1.5322543391380403, ewa inertia: 1.517173240043428\n",
      "Minibatch step 50/5186: mean batch inertia: 1.5283143984349308, ewa inertia: 1.517602891916772\n",
      "Minibatch step 51/5186: mean batch inertia: 1.4718055997783275, ewa inertia: 1.5158367477089698\n",
      "Minibatch step 52/5186: mean batch inertia: 1.4667294275220983, ewa inertia: 1.5139429543194711\n",
      "Minibatch step 53/5186: mean batch inertia: 1.516489640153469, ewa inertia: 1.514041165681427\n",
      "Minibatch step 54/5186: mean batch inertia: 1.4848198785359195, ewa inertia: 1.5129142648402039\n",
      "Minibatch step 55/5186: mean batch inertia: 1.4808616455963501, ewa inertia: 1.5116781754301296\n",
      "Minibatch step 56/5186: mean batch inertia: 1.573288107802476, ewa inertia: 1.5140541243153511\n",
      "Minibatch step 57/5186: mean batch inertia: 1.4803330979902298, ewa inertia: 1.5127536938194779\n",
      "Minibatch step 58/5186: mean batch inertia: 1.5410512738525086, ewa inertia: 1.5138449724679857\n",
      "Minibatch step 59/5186: mean batch inertia: 1.5977651422757475, ewa inertia: 1.5170813018425628\n",
      "Minibatch step 60/5186: mean batch inertia: 1.54234114834555, ewa inertia: 1.518055432178836\n",
      "Minibatch step 61/5186: mean batch inertia: 1.5006038911263737, ewa inertia: 1.517382424306365\n",
      "Minibatch step 62/5186: mean batch inertia: 1.495270752263082, ewa inertia: 1.5165297013683796\n",
      "Minibatch step 63/5186: mean batch inertia: 1.547892268451796, ewa inertia: 1.517739179344255\n",
      "Minibatch step 64/5186: mean batch inertia: 1.5522393686523375, ewa inertia: 1.5190696577780092\n",
      "Minibatch step 65/5186: mean batch inertia: 1.5299047078888475, ewa inertia: 1.5194875047750904\n",
      "Converged (lack of improvement in inertia) at step 65/5186\n"
     ]
    },
    {
     "name": "stderr",
     "output_type": "stream",
     "text": [
      "C:\\Users\\110927\\AppData\\Local\\miniconda3\\lib\\site-packages\\sklearn\\cluster\\_kmeans.py:1902: UserWarning: MiniBatchKMeans is known to have a memory leak on Windows with MKL, when there are less chunks than available threads. You can prevent it by setting batch_size >= 2048 or by setting the environment variable OMP_NUM_THREADS=4\n",
      "  warnings.warn(\n"
     ]
    },
    {
     "name": "stdout",
     "output_type": "stream",
     "text": [
      "Init 1/10 with method k-means++\n",
      "Inertia for init 1/10: 7000.6890831721985\n",
      "Init 2/10 with method k-means++\n",
      "Inertia for init 2/10: 5415.229566656979\n",
      "Init 3/10 with method k-means++\n",
      "Inertia for init 3/10: 4976.613448919916\n",
      "Init 4/10 with method k-means++\n",
      "Inertia for init 4/10: 7807.615913908754\n",
      "Init 5/10 with method k-means++\n",
      "Inertia for init 5/10: 10184.170148678393\n",
      "Init 6/10 with method k-means++\n",
      "Inertia for init 6/10: 6936.93632950781\n",
      "Init 7/10 with method k-means++\n",
      "Inertia for init 7/10: 6910.086733719041\n",
      "Init 8/10 with method k-means++\n",
      "Inertia for init 8/10: 6198.24403037241\n",
      "Init 9/10 with method k-means++\n",
      "Inertia for init 9/10: 6551.703924041608\n",
      "Init 10/10 with method k-means++\n",
      "Inertia for init 10/10: 6178.125031021297\n",
      "Minibatch step 1/5186: mean batch inertia: 1.5967344379437995\n",
      "Minibatch step 2/5186: mean batch inertia: 1.332881486108044, ewa inertia: 1.332881486108044\n",
      "Minibatch step 3/5186: mean batch inertia: 1.3693839102260494, ewa inertia: 1.334289179487204\n",
      "Minibatch step 4/5186: mean batch inertia: 1.3189224839839837, ewa inertia: 1.3336965723921377\n",
      "Minibatch step 5/5186: mean batch inertia: 1.3138514537643489, ewa inertia: 1.3329312576828825\n",
      "Minibatch step 6/5186: mean batch inertia: 1.2987258299270685, ewa inertia: 1.3316121465458375\n",
      "Minibatch step 7/5186: mean batch inertia: 1.3045789992038892, ewa inertia: 1.3305696299609635\n",
      "Minibatch step 8/5186: mean batch inertia: 1.3071537559126716, ewa inertia: 1.3296666112803832\n",
      "Minibatch step 9/5186: mean batch inertia: 1.3712909795072326, ewa inertia: 1.3312718292619405\n",
      "Minibatch step 10/5186: mean batch inertia: 1.3324763520839071, ewa inertia: 1.3313182809385757\n",
      "Minibatch step 11/5186: mean batch inertia: 1.358851353838703, ewa inertia: 1.3323800768429832\n",
      "Minibatch step 12/5186: mean batch inertia: 1.2782870026764839, ewa inertia: 1.3302940109390744\n",
      "Minibatch step 13/5186: mean batch inertia: 1.3452789380980497, ewa inertia: 1.3308718953743846\n",
      "Minibatch step 14/5186: mean batch inertia: 1.330098924936699, ewa inertia: 1.330842086248177\n",
      "Minibatch step 15/5186: mean batch inertia: 1.2981762720349268, ewa inertia: 1.329582349353876\n",
      "Minibatch step 16/5186: mean batch inertia: 1.337068143113216, ewa inertia: 1.329871034354048\n",
      "Minibatch step 17/5186: mean batch inertia: 1.3616755211385758, ewa inertia: 1.3310975546895039\n",
      "Minibatch step 18/5186: mean batch inertia: 1.3707401631849132, ewa inertia: 1.3326263473343762\n",
      "Minibatch step 19/5186: mean batch inertia: 1.337553841661165, ewa inertia: 1.3328163731013567\n",
      "Minibatch step 20/5186: mean batch inertia: 1.3210670784668965, ewa inertia: 1.3323632688304388\n",
      "Minibatch step 21/5186: mean batch inertia: 1.3474222710877433, ewa inertia: 1.3329440099260392\n",
      "Minibatch step 22/5186: mean batch inertia: 1.2964441829370896, ewa inertia: 1.3315364167035526\n",
      "Minibatch step 23/5186: mean batch inertia: 1.3430262688888996, ewa inertia: 1.3319795157371004\n",
      "Minibatch step 24/5186: mean batch inertia: 1.3278194129592418, ewa inertia: 1.331819083949938\n",
      "Minibatch step 25/5186: mean batch inertia: 1.304099045553719, ewa inertia: 1.3307500778369667\n",
      "Converged (lack of improvement in inertia) at step 25/5186\n"
     ]
    },
    {
     "name": "stderr",
     "output_type": "stream",
     "text": [
      "C:\\Users\\110927\\AppData\\Local\\miniconda3\\lib\\site-packages\\sklearn\\cluster\\_kmeans.py:1902: UserWarning: MiniBatchKMeans is known to have a memory leak on Windows with MKL, when there are less chunks than available threads. You can prevent it by setting batch_size >= 2048 or by setting the environment variable OMP_NUM_THREADS=4\n",
      "  warnings.warn(\n"
     ]
    },
    {
     "name": "stdout",
     "output_type": "stream",
     "text": [
      "Init 1/10 with method k-means++\n",
      "Inertia for init 1/10: 6796.203961246881\n",
      "Init 2/10 with method k-means++\n",
      "Inertia for init 2/10: 5039.016453741334\n",
      "Init 3/10 with method k-means++\n",
      "Inertia for init 3/10: 5620.574176901244\n",
      "Init 4/10 with method k-means++\n",
      "Inertia for init 4/10: 5132.545919401874\n",
      "Init 5/10 with method k-means++\n",
      "Inertia for init 5/10: 5287.96838107502\n",
      "Init 6/10 with method k-means++\n",
      "Inertia for init 6/10: 4739.79819605393\n",
      "Init 7/10 with method k-means++\n",
      "Inertia for init 7/10: 4839.566598413283\n",
      "Init 8/10 with method k-means++\n",
      "Inertia for init 8/10: 4933.504115420275\n",
      "Init 9/10 with method k-means++\n",
      "Inertia for init 9/10: 5133.310401036508\n",
      "Init 10/10 with method k-means++\n",
      "Inertia for init 10/10: 4955.718519834328\n",
      "Minibatch step 1/5186: mean batch inertia: 1.5099312738431272\n",
      "Minibatch step 2/5186: mean batch inertia: 1.1158227875861, ewa inertia: 1.1158227875861\n",
      "Minibatch step 3/5186: mean batch inertia: 1.1099417656436623, ewa inertia: 1.1155959896171679\n",
      "Minibatch step 4/5186: mean batch inertia: 1.100375794357148, ewa inertia: 1.1150090322132489\n",
      "Minibatch step 5/5186: mean batch inertia: 1.153011156747423, ewa inertia: 1.1164745606101532\n",
      "Minibatch step 6/5186: mean batch inertia: 1.0633372048014782, ewa inertia: 1.114425351392811\n",
      "Minibatch step 7/5186: mean batch inertia: 1.060609087998424, ewa inertia: 1.112349960524892\n",
      "Minibatch step 8/5186: mean batch inertia: 1.1563966155820853, ewa inertia: 1.1140485924978731\n",
      "Minibatch step 9/5186: mean batch inertia: 1.1248152828323954, ewa inertia: 1.1144638032425178\n",
      "Minibatch step 10/5186: mean batch inertia: 1.164515012337531, ewa inertia: 1.1163939971231827\n",
      "Minibatch step 11/5186: mean batch inertia: 1.1218581229183409, ewa inertia: 1.1166047177503902\n",
      "Minibatch step 12/5186: mean batch inertia: 1.1237946403712988, ewa inertia: 1.1168819926633495\n",
      "Minibatch step 13/5186: mean batch inertia: 1.0904073504463019, ewa inertia: 1.11586101448272\n",
      "Minibatch step 14/5186: mean batch inertia: 1.109167035361407, ewa inertia: 1.115602865323671\n",
      "Minibatch step 15/5186: mean batch inertia: 1.1706068616670982, ewa inertia: 1.117724060377174\n",
      "Minibatch step 16/5186: mean batch inertia: 1.1624064025817846, ewa inertia: 1.1194472072312969\n",
      "Minibatch step 17/5186: mean batch inertia: 1.109336844228802, ewa inertia: 1.1190573073437302\n",
      "Converged (lack of improvement in inertia) at step 17/5186\n"
     ]
    }
   ],
   "source": [
    "for solucion in soluciones:\n",
    "    \n",
    "    #Instanciar\n",
    "    cluster = MiniBatchKMeans(n_clusters = solucion, n_init=10, verbose=3)\n",
    "    \n",
    "    #Entrenar\n",
    "    cluster.fit(df_final)\n",
    "    \n",
    "    #Recoger las métricas\n",
    "\n",
    "    silueta.append(silhouette_score(df_final, cluster.labels_))\n",
    "    calins.append(calinski_harabasz_score(df_final, cluster.labels_))\n",
    "    davies.append(davies_bouldin_score(df_final, cluster.labels_))"
   ]
  },
  {
   "cell_type": "code",
   "execution_count": 267,
   "id": "a05586ef",
   "metadata": {},
   "outputs": [
    {
     "data": {
      "text/html": [
       "<div>\n",
       "<style scoped>\n",
       "    .dataframe tbody tr th:only-of-type {\n",
       "        vertical-align: middle;\n",
       "    }\n",
       "\n",
       "    .dataframe tbody tr th {\n",
       "        vertical-align: top;\n",
       "    }\n",
       "\n",
       "    .dataframe thead th {\n",
       "        text-align: right;\n",
       "    }\n",
       "</style>\n",
       "<table border=\"1\" class=\"dataframe\">\n",
       "  <thead>\n",
       "    <tr style=\"text-align: right;\">\n",
       "      <th></th>\n",
       "      <th>Silueta</th>\n",
       "      <th>Calins</th>\n",
       "      <th>Davies</th>\n",
       "    </tr>\n",
       "    <tr>\n",
       "      <th>Solucion</th>\n",
       "      <th></th>\n",
       "      <th></th>\n",
       "      <th></th>\n",
       "    </tr>\n",
       "  </thead>\n",
       "  <tbody>\n",
       "    <tr>\n",
       "      <th>3</th>\n",
       "      <td>0.4392</td>\n",
       "      <td>27194.6399</td>\n",
       "      <td>1.1700</td>\n",
       "    </tr>\n",
       "    <tr>\n",
       "      <th>4</th>\n",
       "      <td>0.4439</td>\n",
       "      <td>22815.4447</td>\n",
       "      <td>1.2631</td>\n",
       "    </tr>\n",
       "    <tr>\n",
       "      <th>5</th>\n",
       "      <td>0.3772</td>\n",
       "      <td>23018.9535</td>\n",
       "      <td>1.1605</td>\n",
       "    </tr>\n",
       "  </tbody>\n",
       "</table>\n",
       "</div>"
      ],
      "text/plain": [
       "          Silueta     Calins  Davies\n",
       "Solucion                            \n",
       "3          0.4392 27194.6399  1.1700\n",
       "4          0.4439 22815.4447  1.2631\n",
       "5          0.3772 23018.9535  1.1605"
      ]
     },
     "execution_count": 267,
     "metadata": {},
     "output_type": "execute_result"
    }
   ],
   "source": [
    "metricas = pd.DataFrame({'Solucion':soluciones,\n",
    "              'Silueta':silueta,\n",
    "              'Calins':calins,           \n",
    "              'Davies':davies}).set_index('Solucion')\n",
    "\n",
    "metricas"
   ]
  },
  {
   "cell_type": "markdown",
   "id": "cb7ff7fe",
   "metadata": {},
   "source": [
    "## Representación de los modelos"
   ]
  },
  {
   "cell_type": "markdown",
   "id": "eec01fec",
   "metadata": {},
   "source": [
    "Saco las metricas en gráficos.\n",
    "\n",
    "La silueta es mejor cuanto es mejor que 1.\n",
    "\n",
    "Calinski es cuanto mayor sea el número.\n",
    "\n",
    "y Davies cuanto más cercano a 0.\n",
    "\n",
    "Por lo que parece que la mejor solución es 4."
   ]
  },
  {
   "cell_type": "code",
   "execution_count": 268,
   "id": "21b40670",
   "metadata": {},
   "outputs": [
    {
     "data": {
      "image/png": "[encoded data removed]",
      "text/plain": [
       "<Figure size 1200x800 with 4 Axes>"
      ]
     },
     "metadata": {},
     "output_type": "display_data"
    }
   ],
   "source": [
    "metricas.plot(subplots = True, figsize = (12,8), layout = (2,2), sharex = False);"
   ]
  },
  {
   "cell_type": "markdown",
   "id": "71fd7cc7",
   "metadata": {},
   "source": [
    "## Elijo la mejor solución:"
   ]
  },
  {
   "cell_type": "code",
   "execution_count": 272,
   "id": "13ecf89a",
   "metadata": {},
   "outputs": [
    {
     "name": "stderr",
     "output_type": "stream",
     "text": [
      "C:\\Users\\110927\\AppData\\Local\\miniconda3\\lib\\site-packages\\sklearn\\cluster\\_kmeans.py:1902: UserWarning: MiniBatchKMeans is known to have a memory leak on Windows with MKL, when there are less chunks than available threads. You can prevent it by setting batch_size >= 2048 or by setting the environment variable OMP_NUM_THREADS=4\n",
      "  warnings.warn(\n"
     ]
    },
    {
     "name": "stdout",
     "output_type": "stream",
     "text": [
      "Init 1/10 with method k-means++\n",
      "Inertia for init 1/10: 6965.3973640603845\n",
      "Init 2/10 with method k-means++\n",
      "Inertia for init 2/10: 5883.045281435417\n",
      "Init 3/10 with method k-means++\n",
      "Inertia for init 3/10: 6228.8720331430795\n",
      "Init 4/10 with method k-means++\n",
      "Inertia for init 4/10: 6684.817431761835\n",
      "Init 5/10 with method k-means++\n",
      "Inertia for init 5/10: 7462.392772635373\n",
      "Init 6/10 with method k-means++\n",
      "Inertia for init 6/10: 5060.111829095527\n",
      "Init 7/10 with method k-means++\n",
      "Inertia for init 7/10: 5824.016635941524\n",
      "Init 8/10 with method k-means++\n",
      "Inertia for init 8/10: 7902.980400855246\n",
      "Init 9/10 with method k-means++\n",
      "Inertia for init 9/10: 5053.523177525647\n",
      "Init 10/10 with method k-means++\n",
      "Inertia for init 10/10: 5227.643588720683\n",
      "Minibatch step 1/5186: mean batch inertia: 1.673393973548743\n",
      "Minibatch step 2/5186: mean batch inertia: 1.4077158745744365, ewa inertia: 1.4077158745744365\n",
      "Minibatch step 3/5186: mean batch inertia: 1.3279651694374954, ewa inertia: 1.4046403380226258\n",
      "Minibatch step 4/5186: mean batch inertia: 1.3790801825068995, ewa inertia: 1.403654626455266\n",
      "Minibatch step 5/5186: mean batch inertia: 1.3645133686102349, ewa inertia: 1.4021451680877253\n",
      "Minibatch step 6/5186: mean batch inertia: 1.3650911703487711, ewa inertia: 1.400716203613478\n",
      "Minibatch step 7/5186: mean batch inertia: 1.3846639584002367, ewa inertia: 1.4000971587184243\n",
      "Minibatch step 8/5186: mean batch inertia: 1.323015281901489, ewa inertia: 1.3971245438778963\n",
      "Minibatch step 9/5186: mean batch inertia: 1.340072890581322, ewa inertia: 1.3949243822021649\n",
      "Minibatch step 10/5186: mean batch inertia: 1.3122109934897244, ewa inertia: 1.391734591593136\n",
      "Minibatch step 11/5186: mean batch inertia: 1.347148223505157, ewa inertia: 1.3900151459213819\n",
      "Minibatch step 12/5186: mean batch inertia: 1.3072845336635153, ewa inertia: 1.3868246910969908\n",
      "Minibatch step 13/5186: mean batch inertia: 1.3597354102123906, ewa inertia: 1.3857800097568096\n",
      "Minibatch step 14/5186: mean batch inertia: 1.3693171667035577, ewa inertia: 1.3851451304103504\n",
      "Minibatch step 15/5186: mean batch inertia: 1.3304530652131228, ewa inertia: 1.3830359647883128\n",
      "Minibatch step 16/5186: mean batch inertia: 1.3516821076036911, ewa inertia: 1.38182682270429\n",
      "Minibatch step 17/5186: mean batch inertia: 1.3632248334396384, ewa inertia: 1.38110944850902\n",
      "Minibatch step 18/5186: mean batch inertia: 1.3149346257265753, ewa inertia: 1.378557457452295\n",
      "Minibatch step 19/5186: mean batch inertia: 1.424547437189234, ewa inertia: 1.380331032537996\n",
      "Minibatch step 20/5186: mean batch inertia: 1.332802456407733, ewa inertia: 1.378498122435281\n",
      "Minibatch step 21/5186: mean batch inertia: 1.346177278366202, ewa inertia: 1.3772516891009408\n",
      "Minibatch step 22/5186: mean batch inertia: 1.3935026019418786, ewa inertia: 1.3778783954900162\n",
      "Minibatch step 23/5186: mean batch inertia: 1.3708606512782802, ewa inertia: 1.3776077605307717\n",
      "Minibatch step 24/5186: mean batch inertia: 1.404275879103438, ewa inertia: 1.3786362000072305\n",
      "Minibatch step 25/5186: mean batch inertia: 1.3547485797504237, ewa inertia: 1.377714988726284\n",
      "Minibatch step 26/5186: mean batch inertia: 1.3784194978292987, ewa inertia: 1.37774215768352\n",
      "Minibatch step 27/5186: mean batch inertia: 1.372639322232124, ewa inertia: 1.3775453699946627\n",
      "Minibatch step 28/5186: mean batch inertia: 1.3602587493486449, ewa inertia: 1.3768787221755265\n",
      "Minibatch step 29/5186: mean batch inertia: 1.3641308223983257, ewa inertia: 1.376387107315742\n",
      "Minibatch step 30/5186: mean batch inertia: 1.3428326359207068, ewa inertia: 1.3750930999075957\n",
      "Minibatch step 31/5186: mean batch inertia: 1.354796189677581, ewa inertia: 1.3743103621350072\n",
      "Minibatch step 32/5186: mean batch inertia: 1.3116367198295458, ewa inertia: 1.371893391935\n",
      "Minibatch step 33/5186: mean batch inertia: 1.3289113170703635, ewa inertia: 1.3702358148378213\n",
      "Minibatch step 34/5186: mean batch inertia: 1.3802916563542467, ewa inertia: 1.3706236121380444\n",
      "Minibatch step 35/5186: mean batch inertia: 1.3115846485445328, ewa inertia: 1.3683468110715074\n",
      "Minibatch step 36/5186: mean batch inertia: 1.309042946175162, ewa inertia: 1.3660597942502872\n",
      "Minibatch step 37/5186: mean batch inertia: 1.4034661145989564, ewa inertia: 1.367502345827775\n",
      "Minibatch step 38/5186: mean batch inertia: 1.3639313667021327, ewa inertia: 1.3673646332293998\n",
      "Minibatch step 39/5186: mean batch inertia: 1.3842754007118077, ewa inertia: 1.3680167865040576\n",
      "Minibatch step 40/5186: mean batch inertia: 1.3464016675441757, ewa inertia: 1.3671832128282049\n",
      "Minibatch step 41/5186: mean batch inertia: 1.3080814707953323, ewa inertia: 1.3649039907500342\n",
      "Minibatch step 42/5186: mean batch inertia: 1.342910323030226, ewa inertia: 1.3640558185757006\n",
      "Minibatch step 43/5186: mean batch inertia: 1.3046642376888076, ewa inertia: 1.36176541904163\n",
      "Minibatch step 44/5186: mean batch inertia: 1.2903792907473453, ewa inertia: 1.3590124572153448\n",
      "Minibatch step 45/5186: mean batch inertia: 1.3584181971852658, ewa inertia: 1.3589895399453265\n",
      "Minibatch step 46/5186: mean batch inertia: 1.3749743904196183, ewa inertia: 1.359605985804012\n",
      "Minibatch step 47/5186: mean batch inertia: 1.3585370314584355, ewa inertia: 1.3595647622417075\n",
      "Minibatch step 48/5186: mean batch inertia: 1.405110492171708, ewa inertia: 1.3613212051087404\n",
      "Minibatch step 49/5186: mean batch inertia: 1.34533561924992, ewa inertia: 1.360704730890406\n",
      "Minibatch step 50/5186: mean batch inertia: 1.3456484327228118, ewa inertia: 1.3601240940763504\n",
      "Minibatch step 51/5186: mean batch inertia: 1.3548919906198413, ewa inertia: 1.3599223212469351\n",
      "Minibatch step 52/5186: mean batch inertia: 1.3357868562269548, ewa inertia: 1.358991551986194\n",
      "Minibatch step 53/5186: mean batch inertia: 1.3362534292331074, ewa inertia: 1.3581146703645632\n",
      "Minibatch step 54/5186: mean batch inertia: 1.3358349236285658, ewa inertia: 1.3572554657301468\n",
      "Minibatch step 55/5186: mean batch inertia: 1.3503104238138826, ewa inertia: 1.3569876344899008\n",
      "Minibatch step 56/5186: mean batch inertia: 1.4040313085679996, ewa inertia: 1.3588018446452872\n",
      "Minibatch step 57/5186: mean batch inertia: 1.3668957921723703, ewa inertia: 1.3591139827188659\n",
      "Minibatch step 58/5186: mean batch inertia: 1.3865083744382962, ewa inertia: 1.3601704304694286\n",
      "Minibatch step 59/5186: mean batch inertia: 1.386786046016658, ewa inertia: 1.361196845199228\n",
      "Minibatch step 60/5186: mean batch inertia: 1.2783207076017045, ewa inertia: 1.358000778280241\n",
      "Minibatch step 61/5186: mean batch inertia: 1.3122244786114114, ewa inertia: 1.3562354436340285\n",
      "Minibatch step 62/5186: mean batch inertia: 1.3997570787061613, ewa inertia: 1.357913828536445\n",
      "Minibatch step 63/5186: mean batch inertia: 1.3238915830556908, ewa inertia: 1.356601781710388\n",
      "Minibatch step 64/5186: mean batch inertia: 1.33984433831016, ewa inertia: 1.3559555412840016\n",
      "Minibatch step 65/5186: mean batch inertia: 1.3458510840396576, ewa inertia: 1.3555658691483405\n",
      "Minibatch step 66/5186: mean batch inertia: 1.3466095448466608, ewa inertia: 1.3552204740485432\n",
      "Minibatch step 67/5186: mean batch inertia: 1.3244631325235159, ewa inertia: 1.3540343362214944\n",
      "Minibatch step 68/5186: mean batch inertia: 1.3475224799783763, ewa inertia: 1.3537832105184493\n",
      "Minibatch step 69/5186: mean batch inertia: 1.3558198163706376, ewa inertia: 1.3538617509618132\n",
      "Minibatch step 70/5186: mean batch inertia: 1.313776009619694, ewa inertia: 1.3523158691731516\n",
      "Minibatch step 71/5186: mean batch inertia: 1.3127482889657787, ewa inertia: 1.3507899699477401\n",
      "Minibatch step 72/5186: mean batch inertia: 1.334801080516123, ewa inertia: 1.350173368329167\n",
      "Minibatch step 73/5186: mean batch inertia: 1.3543435898623508, ewa inertia: 1.3503341903398618\n",
      "Minibatch step 74/5186: mean batch inertia: 1.3657397935924116, ewa inertia: 1.3509282978881845\n",
      "Minibatch step 75/5186: mean batch inertia: 1.399312375263747, ewa inertia: 1.3527941998665889\n",
      "Minibatch step 76/5186: mean batch inertia: 1.353098193253767, ewa inertia: 1.3528059231832938\n",
      "Minibatch step 77/5186: mean batch inertia: 1.3647952070821223, ewa inertia: 1.3532682824915603\n",
      "Minibatch step 78/5186: mean batch inertia: 1.3953521664373731, ewa inertia: 1.3548912214122288\n",
      "Minibatch step 79/5186: mean batch inertia: 1.331035687640664, ewa inertia: 1.3539712475267138\n",
      "Minibatch step 80/5186: mean batch inertia: 1.3020502934139009, ewa inertia: 1.3519689480874217\n",
      "Minibatch step 81/5186: mean batch inertia: 1.3789403286861845, ewa inertia: 1.3530090826760983\n",
      "Minibatch step 82/5186: mean batch inertia: 1.3188671880105458, ewa inertia: 1.3516924216533317\n",
      "Converged (lack of improvement in inertia) at step 82/5186\n"
     ]
    },
    {
     "data": {
      "text/html": [
       "<style>#sk-container-id-9 {color: black;background-color: white;}#sk-container-id-9 pre{padding: 0;}#sk-container-id-9 div.sk-toggleable {background-color: white;}#sk-container-id-9 label.sk-toggleable__label {cursor: pointer;display: block;width: 100%;margin-bottom: 0;padding: 0.3em;box-sizing: border-box;text-align: center;}#sk-container-id-9 label.sk-toggleable__label-arrow:before {content: \"▸\";float: left;margin-right: 0.25em;color: #696969;}#sk-container-id-9 label.sk-toggleable__label-arrow:hover:before {color: black;}#sk-container-id-9 div.sk-estimator:hover label.sk-toggleable__label-arrow:before {color: black;}#sk-container-id-9 div.sk-toggleable__content {max-height: 0;max-width: 0;overflow: hidden;text-align: left;background-color: #f0f8ff;}#sk-container-id-9 div.sk-toggleable__content pre {margin: 0.2em;color: black;border-radius: 0.25em;background-color: #f0f8ff;}#sk-container-id-9 input.sk-toggleable__control:checked~div.sk-toggleable__content {max-height: 200px;max-width: 100%;overflow: auto;}#sk-container-id-9 input.sk-toggleable__control:checked~label.sk-toggleable__label-arrow:before {content: \"▾\";}#sk-container-id-9 div.sk-estimator input.sk-toggleable__control:checked~label.sk-toggleable__label {background-color: #d4ebff;}#sk-container-id-9 div.sk-label input.sk-toggleable__control:checked~label.sk-toggleable__label {background-color: #d4ebff;}#sk-container-id-9 input.sk-hidden--visually {border: 0;clip: rect(1px 1px 1px 1px);clip: rect(1px, 1px, 1px, 1px);height: 1px;margin: -1px;overflow: hidden;padding: 0;position: absolute;width: 1px;}#sk-container-id-9 div.sk-estimator {font-family: monospace;background-color: #f0f8ff;border: 1px dotted black;border-radius: 0.25em;box-sizing: border-box;margin-bottom: 0.5em;}#sk-container-id-9 div.sk-estimator:hover {background-color: #d4ebff;}#sk-container-id-9 div.sk-parallel-item::after {content: \"\";width: 100%;border-bottom: 1px solid gray;flex-grow: 1;}#sk-container-id-9 div.sk-label:hover label.sk-toggleable__label {background-color: #d4ebff;}#sk-container-id-9 div.sk-serial::before {content: \"\";position: absolute;border-left: 1px solid gray;box-sizing: border-box;top: 0;bottom: 0;left: 50%;z-index: 0;}#sk-container-id-9 div.sk-serial {display: flex;flex-direction: column;align-items: center;background-color: white;padding-right: 0.2em;padding-left: 0.2em;position: relative;}#sk-container-id-9 div.sk-item {position: relative;z-index: 1;}#sk-container-id-9 div.sk-parallel {display: flex;align-items: stretch;justify-content: center;background-color: white;position: relative;}#sk-container-id-9 div.sk-item::before, #sk-container-id-9 div.sk-parallel-item::before {content: \"\";position: absolute;border-left: 1px solid gray;box-sizing: border-box;top: 0;bottom: 0;left: 50%;z-index: -1;}#sk-container-id-9 div.sk-parallel-item {display: flex;flex-direction: column;z-index: 1;position: relative;background-color: white;}#sk-container-id-9 div.sk-parallel-item:first-child::after {align-self: flex-end;width: 50%;}#sk-container-id-9 div.sk-parallel-item:last-child::after {align-self: flex-start;width: 50%;}#sk-container-id-9 div.sk-parallel-item:only-child::after {width: 0;}#sk-container-id-9 div.sk-dashed-wrapped {border: 1px dashed gray;margin: 0 0.4em 0.5em 0.4em;box-sizing: border-box;padding-bottom: 0.4em;background-color: white;}#sk-container-id-9 div.sk-label label {font-family: monospace;font-weight: bold;display: inline-block;line-height: 1.2em;}#sk-container-id-9 div.sk-label-container {text-align: center;}#sk-container-id-9 div.sk-container {/* jupyter's `normalize.less` sets `[hidden] { display: none; }` but bootstrap.min.css set `[hidden] { display: none !important; }` so we also need the `!important` here to be able to override the default hidden behavior on the sphinx rendered scikit-learn.org. See: https://github.com/scikit-learn/scikit-learn/issues/21755 */display: inline-block !important;position: relative;}#sk-container-id-9 div.sk-text-repr-fallback {display: none;}</style><div id=\"sk-container-id-9\" class=\"sk-top-container\"><div class=\"sk-text-repr-fallback\"><pre>MiniBatchKMeans(n_clusters=4, n_init=10, verbose=3)</pre><b>In a Jupyter environment, please rerun this cell to show the HTML representation or trust the notebook. <br />On GitHub, the HTML representation is unable to render, please try loading this page with nbviewer.org.</b></div><div class=\"sk-container\" hidden><div class=\"sk-item\"><div class=\"sk-estimator sk-toggleable\"><input class=\"sk-toggleable__control sk-hidden--visually\" id=\"sk-estimator-id-9\" type=\"checkbox\" checked><label for=\"sk-estimator-id-9\" class=\"sk-toggleable__label sk-toggleable__label-arrow\">MiniBatchKMeans</label><div class=\"sk-toggleable__content\"><pre>MiniBatchKMeans(n_clusters=4, n_init=10, verbose=3)</pre></div></div></div></div></div>"
      ],
      "text/plain": [
       "MiniBatchKMeans(n_clusters=4, n_init=10, verbose=3)"
      ]
     },
     "execution_count": 272,
     "metadata": {},
     "output_type": "execute_result"
    }
   ],
   "source": [
    "mejor_solucion = 4\n",
    "\n",
    "#Instanciar\n",
    "cluster = MiniBatchKMeans(n_clusters = mejor_solucion, n_init=10, verbose=3)\n",
    "    \n",
    "#Entrenar\n",
    "cluster.fit(df_final)"
   ]
  },
  {
   "cell_type": "markdown",
   "id": "902bab00",
   "metadata": {},
   "source": [
    "## Representación gráfica de la mejor solución"
   ]
  },
  {
   "cell_type": "code",
   "execution_count": 273,
   "id": "fec51fb5",
   "metadata": {},
   "outputs": [
    {
     "name": "stderr",
     "output_type": "stream",
     "text": [
      "C:\\Users\\110927\\AppData\\Local\\Temp\\ipykernel_32032\\4262928315.py:1: SettingWithCopyWarning: \n",
      "A value is trying to be set on a copy of a slice from a DataFrame.\n",
      "Try using .loc[row_indexer,col_indexer] = value instead\n",
      "\n",
      "See the caveats in the documentation: https://pandas.pydata.org/pandas-docs/stable/user_guide/indexing.html#returning-a-view-versus-a-copy\n",
      "  df_final['segmento4'] = cluster.predict(df_final)\n"
     ]
    }
   ],
   "source": [
    "df_final['segmento4'] = cluster.predict(df_final)"
   ]
  },
  {
   "cell_type": "code",
   "execution_count": 277,
   "id": "e582b69a",
   "metadata": {},
   "outputs": [
    {
     "data": {
      "text/html": [
       "<style type=\"text/css\">\n",
       "#T_03d4b_row0_col0, #T_03d4b_row1_col1, #T_03d4b_row1_col3, #T_03d4b_row2_col2, #T_03d4b_row3_col3, #T_03d4b_row4_col0, #T_03d4b_row4_col1, #T_03d4b_row4_col2, #T_03d4b_row5_col3, #T_03d4b_row6_col2, #T_03d4b_row7_col0, #T_03d4b_row7_col2, #T_03d4b_row7_col3, #T_03d4b_row8_col0, #T_03d4b_row8_col1, #T_03d4b_row8_col2, #T_03d4b_row9_col1, #T_03d4b_row10_col2, #T_03d4b_row11_col3, #T_03d4b_row12_col1, #T_03d4b_row13_col1, #T_03d4b_row13_col2, #T_03d4b_row14_col3, #T_03d4b_row15_col3, #T_03d4b_row16_col3, #T_03d4b_row17_col0, #T_03d4b_row18_col3, #T_03d4b_row19_col0 {\n",
       "  background-color: red;\n",
       "}\n",
       "#T_03d4b_row0_col3, #T_03d4b_row1_col2, #T_03d4b_row2_col3, #T_03d4b_row3_col1, #T_03d4b_row4_col3, #T_03d4b_row5_col2, #T_03d4b_row6_col3, #T_03d4b_row7_col1, #T_03d4b_row8_col3, #T_03d4b_row9_col2, #T_03d4b_row10_col3, #T_03d4b_row11_col1, #T_03d4b_row12_col0, #T_03d4b_row13_col3, #T_03d4b_row14_col0, #T_03d4b_row15_col0, #T_03d4b_row16_col0, #T_03d4b_row17_col3, #T_03d4b_row18_col0, #T_03d4b_row19_col3 {\n",
       "  background-color: green;\n",
       "}\n",
       "</style>\n",
       "<table id=\"T_03d4b\">\n",
       "  <thead>\n",
       "    <tr>\n",
       "      <th class=\"index_name level0\" >segmento4</th>\n",
       "      <th id=\"T_03d4b_level0_col0\" class=\"col_heading level0 col0\" >0</th>\n",
       "      <th id=\"T_03d4b_level0_col1\" class=\"col_heading level0 col1\" >1</th>\n",
       "      <th id=\"T_03d4b_level0_col2\" class=\"col_heading level0 col2\" >2</th>\n",
       "      <th id=\"T_03d4b_level0_col3\" class=\"col_heading level0 col3\" >3</th>\n",
       "    </tr>\n",
       "  </thead>\n",
       "  <tbody>\n",
       "    <tr>\n",
       "      <th id=\"T_03d4b_level0_row0\" class=\"row_heading level0 row0\" >weekend</th>\n",
       "      <td id=\"T_03d4b_row0_col0\" class=\"data row0 col0\" >0.243670</td>\n",
       "      <td id=\"T_03d4b_row0_col1\" class=\"data row0 col1\" >0.271699</td>\n",
       "      <td id=\"T_03d4b_row0_col2\" class=\"data row0 col2\" >0.252570</td>\n",
       "      <td id=\"T_03d4b_row0_col3\" class=\"data row0 col3\" >0.281757</td>\n",
       "    </tr>\n",
       "    <tr>\n",
       "      <th id=\"T_03d4b_level0_row1\" class=\"row_heading level0 row1\" >source_(direct)</th>\n",
       "      <td id=\"T_03d4b_row1_col0\" class=\"data row1 col0\" >0.999351</td>\n",
       "      <td id=\"T_03d4b_row1_col1\" class=\"data row1 col1\" >0.000000</td>\n",
       "      <td id=\"T_03d4b_row1_col2\" class=\"data row1 col2\" >0.999688</td>\n",
       "      <td id=\"T_03d4b_row1_col3\" class=\"data row1 col3\" >0.000000</td>\n",
       "    </tr>\n",
       "    <tr>\n",
       "      <th id=\"T_03d4b_level0_row2\" class=\"row_heading level0 row2\" >source_OTROS</th>\n",
       "      <td id=\"T_03d4b_row2_col0\" class=\"data row2 col0\" >0.000433</td>\n",
       "      <td id=\"T_03d4b_row2_col1\" class=\"data row2 col1\" >0.031259</td>\n",
       "      <td id=\"T_03d4b_row2_col2\" class=\"data row2 col2\" >0.000104</td>\n",
       "      <td id=\"T_03d4b_row2_col3\" class=\"data row2 col3\" >0.382087</td>\n",
       "    </tr>\n",
       "    <tr>\n",
       "      <th id=\"T_03d4b_level0_row3\" class=\"row_heading level0 row3\" >source_google</th>\n",
       "      <td id=\"T_03d4b_row3_col0\" class=\"data row3 col0\" >0.000216</td>\n",
       "      <td id=\"T_03d4b_row3_col1\" class=\"data row3 col1\" >0.968741</td>\n",
       "      <td id=\"T_03d4b_row3_col2\" class=\"data row3 col2\" >0.000208</td>\n",
       "      <td id=\"T_03d4b_row3_col3\" class=\"data row3 col3\" >0.000000</td>\n",
       "    </tr>\n",
       "    <tr>\n",
       "      <th id=\"T_03d4b_level0_row4\" class=\"row_heading level0 row4\" >source_youtube.com</th>\n",
       "      <td id=\"T_03d4b_row4_col0\" class=\"data row4 col0\" >0.000000</td>\n",
       "      <td id=\"T_03d4b_row4_col1\" class=\"data row4 col1\" >0.000000</td>\n",
       "      <td id=\"T_03d4b_row4_col2\" class=\"data row4 col2\" >0.000000</td>\n",
       "      <td id=\"T_03d4b_row4_col3\" class=\"data row4 col3\" >0.617913</td>\n",
       "    </tr>\n",
       "    <tr>\n",
       "      <th id=\"T_03d4b_level0_row5\" class=\"row_heading level0 row5\" >medium_(none)</th>\n",
       "      <td id=\"T_03d4b_row5_col0\" class=\"data row5 col0\" >0.999351</td>\n",
       "      <td id=\"T_03d4b_row5_col1\" class=\"data row5 col1\" >0.000080</td>\n",
       "      <td id=\"T_03d4b_row5_col2\" class=\"data row5 col2\" >0.999896</td>\n",
       "      <td id=\"T_03d4b_row5_col3\" class=\"data row5 col3\" >0.000000</td>\n",
       "    </tr>\n",
       "    <tr>\n",
       "      <th id=\"T_03d4b_level0_row6\" class=\"row_heading level0 row6\" >medium_OTROS</th>\n",
       "      <td id=\"T_03d4b_row6_col0\" class=\"data row6 col0\" >0.000649</td>\n",
       "      <td id=\"T_03d4b_row6_col1\" class=\"data row6 col1\" >0.027808</td>\n",
       "      <td id=\"T_03d4b_row6_col2\" class=\"data row6 col2\" >0.000104</td>\n",
       "      <td id=\"T_03d4b_row6_col3\" class=\"data row6 col3\" >0.083034</td>\n",
       "    </tr>\n",
       "    <tr>\n",
       "      <th id=\"T_03d4b_level0_row7\" class=\"row_heading level0 row7\" >medium_organic</th>\n",
       "      <td id=\"T_03d4b_row7_col0\" class=\"data row7 col0\" >0.000000</td>\n",
       "      <td id=\"T_03d4b_row7_col1\" class=\"data row7 col1\" >0.972112</td>\n",
       "      <td id=\"T_03d4b_row7_col2\" class=\"data row7 col2\" >0.000000</td>\n",
       "      <td id=\"T_03d4b_row7_col3\" class=\"data row7 col3\" >0.000000</td>\n",
       "    </tr>\n",
       "    <tr>\n",
       "      <th id=\"T_03d4b_level0_row8\" class=\"row_heading level0 row8\" >medium_referral</th>\n",
       "      <td id=\"T_03d4b_row8_col0\" class=\"data row8 col0\" >0.000000</td>\n",
       "      <td id=\"T_03d4b_row8_col1\" class=\"data row8 col1\" >0.000000</td>\n",
       "      <td id=\"T_03d4b_row8_col2\" class=\"data row8 col2\" >0.000000</td>\n",
       "      <td id=\"T_03d4b_row8_col3\" class=\"data row8 col3\" >0.916966</td>\n",
       "    </tr>\n",
       "    <tr>\n",
       "      <th id=\"T_03d4b_level0_row9\" class=\"row_heading level0 row9\" >channelGrouping_Direct</th>\n",
       "      <td id=\"T_03d4b_row9_col0\" class=\"data row9 col0\" >0.665224</td>\n",
       "      <td id=\"T_03d4b_row9_col1\" class=\"data row9 col1\" >0.000000</td>\n",
       "      <td id=\"T_03d4b_row9_col2\" class=\"data row9 col2\" >0.712223</td>\n",
       "      <td id=\"T_03d4b_row9_col3\" class=\"data row9 col3\" >0.000072</td>\n",
       "    </tr>\n",
       "    <tr>\n",
       "      <th id=\"T_03d4b_level0_row10\" class=\"row_heading level0 row10\" >channelGrouping_OTROS</th>\n",
       "      <td id=\"T_03d4b_row10_col0\" class=\"data row10 col0\" >0.005194</td>\n",
       "      <td id=\"T_03d4b_row10_col1\" class=\"data row10 col1\" >0.027728</td>\n",
       "      <td id=\"T_03d4b_row10_col2\" class=\"data row10 col2\" >0.004362</td>\n",
       "      <td id=\"T_03d4b_row10_col3\" class=\"data row10 col3\" >0.083034</td>\n",
       "    </tr>\n",
       "    <tr>\n",
       "      <th id=\"T_03d4b_level0_row11\" class=\"row_heading level0 row11\" >channelGrouping_Organic Search</th>\n",
       "      <td id=\"T_03d4b_row11_col0\" class=\"data row11 col0\" >0.123134</td>\n",
       "      <td id=\"T_03d4b_row11_col1\" class=\"data row11 col1\" >0.972272</td>\n",
       "      <td id=\"T_03d4b_row11_col2\" class=\"data row11 col2\" >0.130024</td>\n",
       "      <td id=\"T_03d4b_row11_col3\" class=\"data row11 col3\" >0.000287</td>\n",
       "    </tr>\n",
       "    <tr>\n",
       "      <th id=\"T_03d4b_level0_row12\" class=\"row_heading level0 row12\" >channelGrouping_Referral</th>\n",
       "      <td id=\"T_03d4b_row12_col0\" class=\"data row12 col0\" >0.206232</td>\n",
       "      <td id=\"T_03d4b_row12_col1\" class=\"data row12 col1\" >0.000000</td>\n",
       "      <td id=\"T_03d4b_row12_col2\" class=\"data row12 col2\" >0.153391</td>\n",
       "      <td id=\"T_03d4b_row12_col3\" class=\"data row12 col3\" >0.171379</td>\n",
       "    </tr>\n",
       "    <tr>\n",
       "      <th id=\"T_03d4b_level0_row13\" class=\"row_heading level0 row13\" >channelGrouping_Social</th>\n",
       "      <td id=\"T_03d4b_row13_col0\" class=\"data row13 col0\" >0.000216</td>\n",
       "      <td id=\"T_03d4b_row13_col1\" class=\"data row13 col1\" >0.000000</td>\n",
       "      <td id=\"T_03d4b_row13_col2\" class=\"data row13 col2\" >0.000000</td>\n",
       "      <td id=\"T_03d4b_row13_col3\" class=\"data row13 col3\" >0.745228</td>\n",
       "    </tr>\n",
       "    <tr>\n",
       "      <th id=\"T_03d4b_level0_row14\" class=\"row_heading level0 row14\" >visitNumber_mms</th>\n",
       "      <td id=\"T_03d4b_row14_col0\" class=\"data row14 col0\" >0.001737</td>\n",
       "      <td id=\"T_03d4b_row14_col1\" class=\"data row14 col1\" >0.000730</td>\n",
       "      <td id=\"T_03d4b_row14_col2\" class=\"data row14 col2\" >0.001143</td>\n",
       "      <td id=\"T_03d4b_row14_col3\" class=\"data row14 col3\" >0.000486</td>\n",
       "    </tr>\n",
       "    <tr>\n",
       "      <th id=\"T_03d4b_level0_row15\" class=\"row_heading level0 row15\" >transactionRevenue_mms</th>\n",
       "      <td id=\"T_03d4b_row15_col0\" class=\"data row15 col0\" >0.000157</td>\n",
       "      <td id=\"T_03d4b_row15_col1\" class=\"data row15 col1\" >0.000010</td>\n",
       "      <td id=\"T_03d4b_row15_col2\" class=\"data row15 col2\" >0.000001</td>\n",
       "      <td id=\"T_03d4b_row15_col3\" class=\"data row15 col3\" >0.000001</td>\n",
       "    </tr>\n",
       "    <tr>\n",
       "      <th id=\"T_03d4b_level0_row16\" class=\"row_heading level0 row16\" >hits_mms</th>\n",
       "      <td id=\"T_03d4b_row16_col0\" class=\"data row16 col0\" >0.001902</td>\n",
       "      <td id=\"T_03d4b_row16_col1\" class=\"data row16 col1\" >0.000741</td>\n",
       "      <td id=\"T_03d4b_row16_col2\" class=\"data row16 col2\" >0.000728</td>\n",
       "      <td id=\"T_03d4b_row16_col3\" class=\"data row16 col3\" >0.000288</td>\n",
       "    </tr>\n",
       "    <tr>\n",
       "      <th id=\"T_03d4b_level0_row17\" class=\"row_heading level0 row17\" >bounces_mms</th>\n",
       "      <td id=\"T_03d4b_row17_col0\" class=\"data row17 col0\" >0.003991</td>\n",
       "      <td id=\"T_03d4b_row17_col1\" class=\"data row17 col1\" >0.004230</td>\n",
       "      <td id=\"T_03d4b_row17_col2\" class=\"data row17 col2\" >0.004081</td>\n",
       "      <td id=\"T_03d4b_row17_col3\" class=\"data row17 col3\" >0.004938</td>\n",
       "    </tr>\n",
       "    <tr>\n",
       "      <th id=\"T_03d4b_level0_row18\" class=\"row_heading level0 row18\" >transactions_mms</th>\n",
       "      <td id=\"T_03d4b_row18_col0\" class=\"data row18 col0\" >0.000729</td>\n",
       "      <td id=\"T_03d4b_row18_col1\" class=\"data row18 col1\" >0.000076</td>\n",
       "      <td id=\"T_03d4b_row18_col2\" class=\"data row18 col2\" >0.000027</td>\n",
       "      <td id=\"T_03d4b_row18_col3\" class=\"data row18 col3\" >0.000008</td>\n",
       "    </tr>\n",
       "    <tr>\n",
       "      <th id=\"T_03d4b_level0_row19\" class=\"row_heading level0 row19\" >weekday_mms</th>\n",
       "      <td id=\"T_03d4b_row19_col0\" class=\"data row19 col0\" >0.477242</td>\n",
       "      <td id=\"T_03d4b_row19_col1\" class=\"data row19 col1\" >0.485454</td>\n",
       "      <td id=\"T_03d4b_row19_col2\" class=\"data row19 col2\" >0.478381</td>\n",
       "      <td id=\"T_03d4b_row19_col3\" class=\"data row19 col3\" >0.487285</td>\n",
       "    </tr>\n",
       "  </tbody>\n",
       "</table>\n"
      ],
      "text/plain": [
       "<pandas.io.formats.style.Styler at 0x1e4c76d2920>"
      ]
     },
     "execution_count": 277,
     "metadata": {},
     "output_type": "execute_result"
    }
   ],
   "source": [
    "df_final.groupby('segmento4').mean().T \\\n",
    "    .style.highlight_max(color = 'green', axis = 1) \\\n",
    "    .highlight_min(color = 'red', axis = 1)\n",
    "\n"
   ]
  },
  {
   "cell_type": "markdown",
   "id": "c2e13fdf",
   "metadata": {},
   "source": [
    "# Conclusiones"
   ]
  },
  {
   "cell_type": "markdown",
   "id": "8fee0191",
   "metadata": {},
   "source": [
    "A primera vista concuerdan los altos valores en Revenue, con las visitas, los clicks, y el número de transacciones. Que se producen en dias de diario. Y que viene por tráfico directo.\n",
    "\n",
    "Lo cual puede ser una indicación de que haya que invertir menos en anuncios de google, por ejemplo. Parece que la mayoría de los clientes son hábituales y se les capta por otros medios. \n",
    "\n",
    "También es verdad que esto es un análisis muy básico y que habría que mirarlo más en profundidad para confirmarlo.\n",
    "\n",
    "Este resultado es solo una demostración de cómo hacerlo, para llegar a resultados más eficientes es necesario dedicarle más tiempo, ajustar qué variables entran, cuales no, ajustar el Kmeans...etc.\n"
   ]
  },
  {
   "cell_type": "code",
   "execution_count": 293,
   "id": "7b0e9fba",
   "metadata": {},
   "outputs": [],
   "source": [
    "df_final.to_pickle(path+'df_final.pickle')"
   ]
  }
 ],
 "metadata": {
  "kernelspec": {
   "display_name": "Python 3 (ipykernel)",
   "language": "python",
   "name": "python3"
  },
  "language_info": {
   "codemirror_mode": {
    "name": "ipython",
    "version": 3
   },
   "file_extension": ".py",
   "mimetype": "text/x-python",
   "name": "python",
   "nbconvert_exporter": "python",
   "pygments_lexer": "ipython3",
   "version": "3.10.12"
  },
  "toc": {
   "base_numbering": 1,
   "nav_menu": {},
   "number_sections": true,
   "sideBar": true,
   "skip_h1_title": false,
   "title_cell": "Table of Contents",
   "title_sidebar": "Contents",
   "toc_cell": false,
   "toc_position": {},
   "toc_section_display": true,
   "toc_window_display": false
  },
  "varInspector": {
   "cols": {
    "lenName": 16,
    "lenType": 16,
    "lenVar": 40
   },
   "kernels_config": {
    "python": {
     "delete_cmd_postfix": "",
     "delete_cmd_prefix": "del ",
     "library": "var_list.py",
     "varRefreshCmd": "print(var_dic_list())"
    },
    "r": {
     "delete_cmd_postfix": ") ",
     "delete_cmd_prefix": "rm(",
     "library": "var_list.r",
     "varRefreshCmd": "cat(var_dic_list()) "
    }
   },
   "types_to_exclude": [
    "module",
    "function",
    "builtin_function_or_method",
    "instance",
    "_Feature"
   ],
   "window_display": false
  },
  "widgets": {
   "application/vnd.jupyter.widget-state+json": {
    "state": {},
    "version_major": 2,
    "version_minor": 0
   }
  }
 },
 "nbformat": 4,
 "nbformat_minor": 5
}
