{
 "cells": [
  {
   "cell_type": "markdown",
   "id": "driving-blond",
   "metadata": {},
   "source": [
    "# KMEANS"
   ]
  },
  {
   "cell_type": "markdown",
   "id": "skilled-owner",
   "metadata": {},
   "source": [
    "## Objetivo de esta lección"
   ]
  },
  {
   "cell_type": "markdown",
   "id": "korean-orange",
   "metadata": {},
   "source": [
    "Aprender a usar el que es el algoritmo no supervisado aplicado más frecuentemente en entornos empresariales: kmeans (kmedias)."
   ]
  },
  {
   "cell_type": "markdown",
   "id": "organic-happiness",
   "metadata": {},
   "source": [
    "## FICHA DEL ALGORITMO"
   ]
  },
  {
   "cell_type": "markdown",
   "id": "established-olympus",
   "metadata": {},
   "source": [
    "### Ámbito de aplicación"
   ]
  },
  {
   "cell_type": "markdown",
   "id": "minute-hayes",
   "metadata": {},
   "source": [
    "Kmeans se usa en contextos no supervisados. Por ejemplo en los siguientes casos de uso:\n",
    "\n",
    "* Segmentaciones: de clientes, proveedores, tiendas, ...\n",
    "* Agrupaciones: textos, incidencias, zonas geográficas, tipos de crimen, ...\n",
    "* Localización de atípicos multidimensionales: identificación de fraude, accesos sospechosos a sistemas, ...\n",
    "\n",
    "Sklearn lo implementa con la clase KMeans() del módulo cluster."
   ]
  },
  {
   "cell_type": "markdown",
   "id": "tested-livestock",
   "metadata": {},
   "source": [
    "### Pros"
   ]
  },
  {
   "cell_type": "markdown",
   "id": "modular-token",
   "metadata": {},
   "source": [
    "* Algoritmo sencillo\n",
    "* Alta explicabilidad\n",
    "* Solo 1 hiperparámetro: k"
   ]
  },
  {
   "cell_type": "markdown",
   "id": "junior-cancer",
   "metadata": {},
   "source": [
    "### Contras"
   ]
  },
  {
   "cell_type": "markdown",
   "id": "comic-consumer",
   "metadata": {},
   "source": [
    "* Hay que definir el número de segmentos por adelantado\n",
    "* Como se basa en distancias necesita escalar las variables\n",
    "* Sensible a multicolinealidad\n",
    "* Sensible a la maldición de la dimensionalidad\n",
    "* Las variebles categóricas pueden ser problemáticas\n",
    "* Puede ser computacionalmente intenso en datasets grandes"
   ]
  },
  {
   "cell_type": "markdown",
   "id": "settled-reservation",
   "metadata": {},
   "source": [
    "### Necesidad de preprocesamiento\n",
    "\n",
    "Eliminar variables correlacionadas para no sobreponderar conceptos.\n",
    "\n",
    "Hacer encoding de las variables categóricas.\n",
    "\n",
    "Escalar las variables."
   ]
  },
  {
   "cell_type": "markdown",
   "id": "individual-arabic",
   "metadata": {},
   "source": [
    "### Supuestos e hipótesis"
   ]
  },
  {
   "cell_type": "markdown",
   "id": "informed-provincial",
   "metadata": {},
   "source": [
    "La distancia es una buena medida para identificar semejanza."
   ]
  },
  {
   "cell_type": "markdown",
   "id": "north-petroleum",
   "metadata": {},
   "source": [
    "### Sobre ajuste"
   ]
  },
  {
   "cell_type": "markdown",
   "id": "radical-charles",
   "metadata": {},
   "source": [
    "El algoritmo kmedias comienza con una selección aleatoria de las semillas.\n",
    "\n",
    "Lo cual puede hacer que desarrollemos una solución no estable.\n",
    "\n",
    "La implementación de Sklearn tiene opciones para reducir este problema:\n",
    "\n",
    "* Un modo inteligente, llamado k-means++, para inicializar las semillas\n",
    "* El parámetro n_init, que repetirá el proceso n veces con diferentes semillas y se quedará con la más estable (definida como la que tenga menor inercia (suma de cuadrados del error))"
   ]
  },
  {
   "cell_type": "markdown",
   "id": "maritime-preview",
   "metadata": {},
   "source": [
    "### Grado de interpretación"
   ]
  },
  {
   "cell_type": "markdown",
   "id": "weighted-registration",
   "metadata": {},
   "source": [
    "Alto.\n",
    "\n",
    "Tras las salida del modelo se pueden cruzar los segmentos con otras variables para caracterizar cada uno de ellos.\n",
    "\n",
    "Aunque la interpretación de qué es cada segmento siempre va a depender mucho del analista."
   ]
  },
  {
   "cell_type": "markdown",
   "id": "completed-skating",
   "metadata": {},
   "source": [
    "### Importación"
   ]
  },
  {
   "cell_type": "code",
   "execution_count": 34,
   "id": "rural-complement",
   "metadata": {},
   "outputs": [],
   "source": [
    "from sklearn.cluster import KMeans"
   ]
  },
  {
   "cell_type": "markdown",
   "id": "noble-conservative",
   "metadata": {},
   "source": [
    "### Principales parámetros"
   ]
  },
  {
   "cell_type": "markdown",
   "id": "pressing-innocent",
   "metadata": {},
   "source": [
    "https://scikit-learn.org/stable/modules/generated/sklearn.cluster.KMeans.html#sklearn.cluster.KMeans\n",
    "\n",
    "* n_clusters: el número de clusters que queremos que obtenga\n",
    "* n_init: número de repeticiones a realizar"
   ]
  },
  {
   "cell_type": "markdown",
   "id": "quarterly-fetish",
   "metadata": {},
   "source": [
    "### Principales atributos de resultado"
   ]
  },
  {
   "cell_type": "markdown",
   "id": "correct-election",
   "metadata": {},
   "source": [
    "https://scikit-learn.org/stable/modules/generated/sklearn.cluster.KMeans.html#sklearn.cluster.KMeans\n",
    "\n",
    "* labels_: la etiqueta del segmento identificado para cada registro\n",
    "* inertia_: la suma del cuadrado de los errores\n",
    "* cluster_centers_: los centroides de cada cluster"
   ]
  },
  {
   "cell_type": "markdown",
   "id": "silver-tragedy",
   "metadata": {},
   "source": [
    "### Principales métodos"
   ]
  },
  {
   "cell_type": "markdown",
   "id": "passive-buddy",
   "metadata": {},
   "source": [
    "https://scikit-learn.org/stable/modules/generated/sklearn.cluster.KMeans.html#sklearn.cluster.KMeans\n",
    "\n",
    "* fit(): para entrenar\n",
    "* predict(): para generar el segmento de cada registro\n",
    "* get_params(): para extraer los parámetros del modelo entrenado"
   ]
  },
  {
   "cell_type": "markdown",
   "id": "gross-institution",
   "metadata": {},
   "source": [
    "### Cómo elegir el número k"
   ]
  },
  {
   "cell_type": "markdown",
   "id": "running-funeral",
   "metadata": {},
   "source": [
    "La mayor dificultad al entrenar un kmedias es elegir el número de segmentos, que es algo que le tenemos que decir al algoritmo.\n",
    "\n",
    "Pero como no hay forma de saber de antemano el valor óptimo lo que se hace es ejecutar varias opciones que tendrían sentido desde negocio y evaluar el resultado con una serie de métodos:\n",
    "\n",
    "**Método del codo (elbow method)** \n",
    "\n",
    "Consiste en calcular la media de la suma de cuadrados de los errores en cada cluster (nos lo da el atributo inertia_) y crear un gráfico con el resultado para cada valor de K. Entonces hay que buscar en qué momento se producte un salto (forma de codo) en el decremento de ese error.\n",
    "\n",
    "**Método de la silueta (silhouette method)**\n",
    "\n",
    "Es una fórmula que compara la distancia media de cada registro con el resto de registros de su cluster con la distancia media de ese registro a los otros registros del cluster más cercano. \n",
    "\n",
    "Por tanto a diferencia del método del codo que solo tenía en cuenta cuanto de cerca están los registros este método también añade cuanto de lejos están del resto.\n",
    "\n",
    "Sklearn lo implementa en la función silhouette_score del módulo metrics, que nos devuelte un número que:\n",
    "\n",
    "* Está entre -1 y 1\n",
    "* Cuanto más cerca de 1 significa mejor solución\n",
    "* Si está sobre cero significa que ya hay clusters que se solapan\n",
    "* Si es negativo significa que los registros están siendo asignados a clusters incorrectos o que hay grandes outliers que están desvirtuando los resultados\n",
    "\n",
    "**Índice Calinski-Harabasz**\n",
    "\n",
    "Es el ratio entre la dispersión inter-cluster y la dispersión intra-cluster.\n",
    "\n",
    "Sklearn lo implementa en la función calinski_harabasz_score del módulo metrics.\n",
    "\n",
    "Cuanto mayor sea significa mejor segmentación.\n",
    "\n",
    "\n",
    "**Índice Davies-Bouldin**\n",
    "\n",
    "Es la similaridad media entre cada cluster y su otro cluster más cercano.\n",
    "\n",
    "Sklearn lo implementa en la función davies_bouldin_score del módulo metrics.\n",
    "\n",
    "Va de cero a infinito, siendo mejor segmentación cuanto más cercano a cero."
   ]
  },
  {
   "cell_type": "markdown",
   "id": "raising-gothic",
   "metadata": {},
   "source": [
    "## EJEMPLO"
   ]
  },
  {
   "cell_type": "markdown",
   "id": "fallen-conservation",
   "metadata": {},
   "source": [
    "### Opciones y paquetes"
   ]
  },
  {
   "cell_type": "code",
   "execution_count": 35,
   "id": "promising-captain",
   "metadata": {},
   "outputs": [],
   "source": [
    "import numpy as np\n",
    "import pandas as pd\n",
    "import matplotlib.pyplot as plt\n",
    "%matplotlib inline\n",
    "\n",
    "#Automcompletar rápido\n",
    "%config IPCompleter.greedy=True"
   ]
  },
  {
   "cell_type": "markdown",
   "id": "precious-somalia",
   "metadata": {},
   "source": [
    "### Importación de datos"
   ]
  },
  {
   "cell_type": "markdown",
   "id": "horizontal-lying",
   "metadata": {},
   "source": [
    "Vamos a usar el dataset sintético de target binaria."
   ]
  },
  {
   "cell_type": "code",
   "execution_count": 36,
   "id": "understood-tucson",
   "metadata": {
    "scrolled": false
   },
   "outputs": [
    {
     "data": {
      "text/html": [
       "<div>\n",
       "<style scoped>\n",
       "    .dataframe tbody tr th:only-of-type {\n",
       "        vertical-align: middle;\n",
       "    }\n",
       "\n",
       "    .dataframe tbody tr th {\n",
       "        vertical-align: top;\n",
       "    }\n",
       "\n",
       "    .dataframe thead th {\n",
       "        text-align: right;\n",
       "    }\n",
       "</style>\n",
       "<table border=\"1\" class=\"dataframe\">\n",
       "  <thead>\n",
       "    <tr style=\"text-align: right;\">\n",
       "      <th></th>\n",
       "      <th>x1</th>\n",
       "      <th>x2</th>\n",
       "    </tr>\n",
       "  </thead>\n",
       "  <tbody>\n",
       "    <tr>\n",
       "      <th>0</th>\n",
       "      <td>6.182284</td>\n",
       "      <td>-4.216219</td>\n",
       "    </tr>\n",
       "    <tr>\n",
       "      <th>1</th>\n",
       "      <td>-3.397139</td>\n",
       "      <td>5.583268</td>\n",
       "    </tr>\n",
       "    <tr>\n",
       "      <th>2</th>\n",
       "      <td>-1.084075</td>\n",
       "      <td>5.518597</td>\n",
       "    </tr>\n",
       "    <tr>\n",
       "      <th>3</th>\n",
       "      <td>-3.955928</td>\n",
       "      <td>6.235456</td>\n",
       "    </tr>\n",
       "    <tr>\n",
       "      <th>4</th>\n",
       "      <td>4.910375</td>\n",
       "      <td>-4.695720</td>\n",
       "    </tr>\n",
       "    <tr>\n",
       "      <th>...</th>\n",
       "      <td>...</td>\n",
       "      <td>...</td>\n",
       "    </tr>\n",
       "    <tr>\n",
       "      <th>995</th>\n",
       "      <td>-0.867601</td>\n",
       "      <td>5.712312</td>\n",
       "    </tr>\n",
       "    <tr>\n",
       "      <th>996</th>\n",
       "      <td>-4.367363</td>\n",
       "      <td>5.689197</td>\n",
       "    </tr>\n",
       "    <tr>\n",
       "      <th>997</th>\n",
       "      <td>-4.947908</td>\n",
       "      <td>6.063362</td>\n",
       "    </tr>\n",
       "    <tr>\n",
       "      <th>998</th>\n",
       "      <td>-3.955862</td>\n",
       "      <td>7.082070</td>\n",
       "    </tr>\n",
       "    <tr>\n",
       "      <th>999</th>\n",
       "      <td>-4.526739</td>\n",
       "      <td>5.889024</td>\n",
       "    </tr>\n",
       "  </tbody>\n",
       "</table>\n",
       "<p>1000 rows × 2 columns</p>\n",
       "</div>"
      ],
      "text/plain": [
       "           x1        x2\n",
       "0    6.182284 -4.216219\n",
       "1   -3.397139  5.583268\n",
       "2   -1.084075  5.518597\n",
       "3   -3.955928  6.235456\n",
       "4    4.910375 -4.695720\n",
       "..        ...       ...\n",
       "995 -0.867601  5.712312\n",
       "996 -4.367363  5.689197\n",
       "997 -4.947908  6.063362\n",
       "998 -3.955862  7.082070\n",
       "999 -4.526739  5.889024\n",
       "\n",
       "[1000 rows x 2 columns]"
      ]
     },
     "execution_count": 36,
     "metadata": {},
     "output_type": "execute_result"
    }
   ],
   "source": [
    "#Cargamos el dataset sintetico_cluster.csv que está en 00_DATASETS\n",
    "x = pd.read_csv('../00_DATASETS/sintetico_cluster.csv')\n",
    "x"
   ]
  },
  {
   "cell_type": "markdown",
   "id": "56fe5147",
   "metadata": {},
   "source": [
    "Lo visualizamos para hacernos una idea (esto es posible solo porque son 2 dimensiones, en la realidad no podremos hacerlo)"
   ]
  },
  {
   "cell_type": "code",
   "execution_count": 37,
   "id": "271a70a2",
   "metadata": {},
   "outputs": [
    {
     "data": {
      "image/png": "[encoded data removed]",
      "text/plain": [
       "<Figure size 432x288 with 1 Axes>"
      ]
     },
     "metadata": {
      "needs_background": "light"
     },
     "output_type": "display_data"
    }
   ],
   "source": [
    "import seaborn as sns\n",
    "\n",
    "sns.scatterplot(data = x, x = 'x1', y = 'x2');"
   ]
  },
  {
   "cell_type": "markdown",
   "id": "specific-feeding",
   "metadata": {},
   "source": [
    "### Modelo"
   ]
  },
  {
   "cell_type": "markdown",
   "id": "regulated-gentleman",
   "metadata": {},
   "source": [
    "#### Entrenar el modelo"
   ]
  },
  {
   "cell_type": "markdown",
   "id": "superior-thailand",
   "metadata": {},
   "source": [
    "Vamos a poner que desde negocio pensamos que podría tener sentido una solución desde 3 clusters hasta 6 clusters.\n",
    "\n",
    "Por tanto vamos a crear un bucle donde vaya probando las soluciones con 3,4,5 y 6 clusters.\n",
    "\n",
    "Y recolectando en cada solución las métricas que ya hemos descrito.\n",
    "\n",
    "Además, para estar más tranquilos de que obtener una solución más estable, vamos a hacer que repita 10 veces cada proceso."
   ]
  },
  {
   "cell_type": "code",
   "execution_count": 38,
   "id": "disciplinary-buffer",
   "metadata": {},
   "outputs": [],
   "source": [
    "from sklearn.cluster import KMeans\n",
    "from sklearn.metrics import silhouette_score\n",
    "from sklearn.metrics import calinski_harabasz_score\n",
    "from sklearn.metrics import davies_bouldin_score\n",
    "\n",
    "#Creamos el espacio de soluciones\n",
    "soluciones = list(range(3,7))\n",
    "\n",
    "#Creamos varias listas para ir guardando la salida de cada métrica\n",
    "codo = []\n",
    "silueta = []\n",
    "calins = []\n",
    "davies = []\n",
    "\n",
    "#Probamos las diferentes soluciones\n",
    "for solucion in soluciones:\n",
    "    \n",
    "    #Instanciar\n",
    "    cluster = KMeans(random_state=1234, n_clusters = solucion, n_init=10)\n",
    "    \n",
    "    #Entrenar\n",
    "    cluster.fit(x)\n",
    "    \n",
    "    #Recoger las métricas\n",
    "    codo.append(cluster.inertia_)\n",
    "    silueta.append(silhouette_score(x, cluster.labels_))\n",
    "    calins.append(calinski_harabasz_score(x, cluster.labels_))\n",
    "    davies.append(davies_bouldin_score(x, cluster.labels_))"
   ]
  },
  {
   "cell_type": "markdown",
   "id": "extended-fantasy",
   "metadata": {},
   "source": [
    "Creamos un data frame con todas las métricas"
   ]
  },
  {
   "cell_type": "code",
   "execution_count": 39,
   "id": "african-header",
   "metadata": {},
   "outputs": [
    {
     "data": {
      "text/html": [
       "<div>\n",
       "<style scoped>\n",
       "    .dataframe tbody tr th:only-of-type {\n",
       "        vertical-align: middle;\n",
       "    }\n",
       "\n",
       "    .dataframe tbody tr th {\n",
       "        vertical-align: top;\n",
       "    }\n",
       "\n",
       "    .dataframe thead th {\n",
       "        text-align: right;\n",
       "    }\n",
       "</style>\n",
       "<table border=\"1\" class=\"dataframe\">\n",
       "  <thead>\n",
       "    <tr style=\"text-align: right;\">\n",
       "      <th></th>\n",
       "      <th>Codo</th>\n",
       "      <th>Silueta</th>\n",
       "      <th>Calins</th>\n",
       "      <th>Davies</th>\n",
       "    </tr>\n",
       "    <tr>\n",
       "      <th>Solucion</th>\n",
       "      <th></th>\n",
       "      <th></th>\n",
       "      <th></th>\n",
       "      <th></th>\n",
       "    </tr>\n",
       "  </thead>\n",
       "  <tbody>\n",
       "    <tr>\n",
       "      <th>3</th>\n",
       "      <td>1850.917011</td>\n",
       "      <td>0.720026</td>\n",
       "      <td>10004.833381</td>\n",
       "      <td>0.381386</td>\n",
       "    </tr>\n",
       "    <tr>\n",
       "      <th>4</th>\n",
       "      <td>481.220958</td>\n",
       "      <td>0.796453</td>\n",
       "      <td>26573.587847</td>\n",
       "      <td>0.284044</td>\n",
       "    </tr>\n",
       "    <tr>\n",
       "      <th>5</th>\n",
       "      <td>436.071335</td>\n",
       "      <td>0.648266</td>\n",
       "      <td>21997.744056</td>\n",
       "      <td>0.669279</td>\n",
       "    </tr>\n",
       "    <tr>\n",
       "      <th>6</th>\n",
       "      <td>394.490807</td>\n",
       "      <td>0.538788</td>\n",
       "      <td>19454.180678</td>\n",
       "      <td>0.900558</td>\n",
       "    </tr>\n",
       "  </tbody>\n",
       "</table>\n",
       "</div>"
      ],
      "text/plain": [
       "                 Codo   Silueta        Calins    Davies\n",
       "Solucion                                               \n",
       "3         1850.917011  0.720026  10004.833381  0.381386\n",
       "4          481.220958  0.796453  26573.587847  0.284044\n",
       "5          436.071335  0.648266  21997.744056  0.669279\n",
       "6          394.490807  0.538788  19454.180678  0.900558"
      ]
     },
     "execution_count": 39,
     "metadata": {},
     "output_type": "execute_result"
    }
   ],
   "source": [
    "metricas = pd.DataFrame({'Solucion':soluciones,\n",
    "              'Codo': codo,\n",
    "              'Silueta':silueta,\n",
    "              'Calins':calins,           \n",
    "              'Davies':davies}).set_index('Solucion')\n",
    "\n",
    "metricas"
   ]
  },
  {
   "cell_type": "markdown",
   "id": "coated-tribute",
   "metadata": {},
   "source": [
    "Visualizamos los gráficos"
   ]
  },
  {
   "cell_type": "code",
   "execution_count": 40,
   "id": "f3870df5",
   "metadata": {},
   "outputs": [
    {
     "data": {
      "image/png": "[encoded data removed]",
      "text/plain": [
       "<Figure size 864x576 with 4 Axes>"
      ]
     },
     "metadata": {
      "needs_background": "light"
     },
     "output_type": "display_data"
    }
   ],
   "source": [
    "metricas.plot(subplots = True, figsize = (12,8), layout = (2,2), sharex = False);"
   ]
  },
  {
   "cell_type": "markdown",
   "id": "composed-portugal",
   "metadata": {},
   "source": [
    "Parece claro que la mejor solución es con 4 segmentos.\n",
    "\n",
    "Así que vamos a crear el modelo final y escribir el segmento de cada registro en nuestro dataset."
   ]
  },
  {
   "cell_type": "markdown",
   "id": "relative-production",
   "metadata": {},
   "source": [
    "#### Predecir"
   ]
  },
  {
   "cell_type": "code",
   "execution_count": 41,
   "id": "desirable-stuart",
   "metadata": {},
   "outputs": [
    {
     "data": {
      "text/html": [
       "<div>\n",
       "<style scoped>\n",
       "    .dataframe tbody tr th:only-of-type {\n",
       "        vertical-align: middle;\n",
       "    }\n",
       "\n",
       "    .dataframe tbody tr th {\n",
       "        vertical-align: top;\n",
       "    }\n",
       "\n",
       "    .dataframe thead th {\n",
       "        text-align: right;\n",
       "    }\n",
       "</style>\n",
       "<table border=\"1\" class=\"dataframe\">\n",
       "  <thead>\n",
       "    <tr style=\"text-align: right;\">\n",
       "      <th></th>\n",
       "      <th>x1</th>\n",
       "      <th>x2</th>\n",
       "      <th>cluster</th>\n",
       "    </tr>\n",
       "  </thead>\n",
       "  <tbody>\n",
       "    <tr>\n",
       "      <th>0</th>\n",
       "      <td>6.182284</td>\n",
       "      <td>-4.216219</td>\n",
       "      <td>1</td>\n",
       "    </tr>\n",
       "    <tr>\n",
       "      <th>1</th>\n",
       "      <td>-3.397139</td>\n",
       "      <td>5.583268</td>\n",
       "      <td>0</td>\n",
       "    </tr>\n",
       "    <tr>\n",
       "      <th>2</th>\n",
       "      <td>-1.084075</td>\n",
       "      <td>5.518597</td>\n",
       "      <td>3</td>\n",
       "    </tr>\n",
       "    <tr>\n",
       "      <th>3</th>\n",
       "      <td>-3.955928</td>\n",
       "      <td>6.235456</td>\n",
       "      <td>0</td>\n",
       "    </tr>\n",
       "    <tr>\n",
       "      <th>4</th>\n",
       "      <td>4.910375</td>\n",
       "      <td>-4.695720</td>\n",
       "      <td>1</td>\n",
       "    </tr>\n",
       "  </tbody>\n",
       "</table>\n",
       "</div>"
      ],
      "text/plain": [
       "         x1        x2  cluster\n",
       "0  6.182284 -4.216219        1\n",
       "1 -3.397139  5.583268        0\n",
       "2 -1.084075  5.518597        3\n",
       "3 -3.955928  6.235456        0\n",
       "4  4.910375 -4.695720        1"
      ]
     },
     "execution_count": 41,
     "metadata": {},
     "output_type": "execute_result"
    }
   ],
   "source": [
    "#Instanciar\n",
    "cluster = KMeans(random_state=1234, n_clusters = 4, n_init=10)\n",
    "    \n",
    "#Entrenar\n",
    "cluster.fit(x)\n",
    "\n",
    "#Asignar segmento\n",
    "x['cluster'] = cluster.predict(x)\n",
    "\n",
    "x.head()"
   ]
  },
  {
   "cell_type": "markdown",
   "id": "included-capture",
   "metadata": {},
   "source": [
    "#### Visualización gráfica"
   ]
  },
  {
   "cell_type": "markdown",
   "id": "minus-seventh",
   "metadata": {},
   "source": [
    "En este caso como solo tenemos dos variables podemos representar los segmentos en un gráfico, asignar un color distinto a cada cluster y visualizarlo.\n",
    "\n",
    "En la realidad haremos segmentaciones con muchas variables, por lo que no podremos hacer esto."
   ]
  },
  {
   "cell_type": "code",
   "execution_count": 42,
   "id": "05128096",
   "metadata": {},
   "outputs": [
    {
     "data": {
      "image/png": "[encoded data removed]",
      "text/plain": [
       "<Figure size 432x288 with 1 Axes>"
      ]
     },
     "metadata": {
      "needs_background": "light"
     },
     "output_type": "display_data"
    }
   ],
   "source": [
    "sns.scatterplot(data = x, x = 'x1', y = 'x2', hue = 'cluster', palette= 'rainbow');"
   ]
  },
  {
   "cell_type": "markdown",
   "id": "cellular-crossing",
   "metadata": {},
   "source": [
    "#### Perfilado de los segmentos"
   ]
  },
  {
   "cell_type": "markdown",
   "id": "hearing-tampa",
   "metadata": {},
   "source": [
    "Como habíamos dicho en una situación real no podremos visualizar los segmentos ya que tendremos muchas variables.\n",
    "\n",
    "Pero lo que sí podemos hacer es calcular la media de cada variable en cada segmento y usarlo para ponerles \"cara y ojos\" a cada uno."
   ]
  },
  {
   "cell_type": "code",
   "execution_count": 43,
   "id": "vocational-columbus",
   "metadata": {},
   "outputs": [
    {
     "data": {
      "text/html": [
       "<div>\n",
       "<style scoped>\n",
       "    .dataframe tbody tr th:only-of-type {\n",
       "        vertical-align: middle;\n",
       "    }\n",
       "\n",
       "    .dataframe tbody tr th {\n",
       "        vertical-align: top;\n",
       "    }\n",
       "\n",
       "    .dataframe thead th {\n",
       "        text-align: right;\n",
       "    }\n",
       "</style>\n",
       "<table border=\"1\" class=\"dataframe\">\n",
       "  <thead>\n",
       "    <tr style=\"text-align: right;\">\n",
       "      <th></th>\n",
       "      <th>x1</th>\n",
       "      <th>x2</th>\n",
       "    </tr>\n",
       "    <tr>\n",
       "      <th>cluster</th>\n",
       "      <th></th>\n",
       "      <th></th>\n",
       "    </tr>\n",
       "  </thead>\n",
       "  <tbody>\n",
       "    <tr>\n",
       "      <th>0</th>\n",
       "      <td>-4.491661</td>\n",
       "      <td>6.132460</td>\n",
       "    </tr>\n",
       "    <tr>\n",
       "      <th>1</th>\n",
       "      <td>5.617912</td>\n",
       "      <td>-4.537224</td>\n",
       "    </tr>\n",
       "    <tr>\n",
       "      <th>2</th>\n",
       "      <td>-6.143397</td>\n",
       "      <td>2.431109</td>\n",
       "    </tr>\n",
       "    <tr>\n",
       "      <th>3</th>\n",
       "      <td>-1.212272</td>\n",
       "      <td>5.681711</td>\n",
       "    </tr>\n",
       "  </tbody>\n",
       "</table>\n",
       "</div>"
      ],
      "text/plain": [
       "               x1        x2\n",
       "cluster                    \n",
       "0       -4.491661  6.132460\n",
       "1        5.617912 -4.537224\n",
       "2       -6.143397  2.431109\n",
       "3       -1.212272  5.681711"
      ]
     },
     "execution_count": 43,
     "metadata": {},
     "output_type": "execute_result"
    }
   ],
   "source": [
    "perfilado = x.groupby('cluster').mean()\n",
    "perfilado"
   ]
  },
  {
   "cell_type": "code",
   "execution_count": 44,
   "id": "0fdf34bc",
   "metadata": {},
   "outputs": [
    {
     "data": {
      "image/png": "[encoded data removed]",
      "text/plain": [
       "<Figure size 432x288 with 1 Axes>"
      ]
     },
     "metadata": {
      "needs_background": "light"
     },
     "output_type": "display_data"
    }
   ],
   "source": [
    "perfilado.plot();"
   ]
  },
  {
   "cell_type": "markdown",
   "id": "separated-distribution",
   "metadata": {},
   "source": [
    "## MINI BATCH KMEANS"
   ]
  },
  {
   "cell_type": "markdown",
   "id": "subject-colonial",
   "metadata": {},
   "source": [
    "Como decíamos al principio Kmeans puede ser computacionalmente intenso sobre muchos datos.\n",
    "\n",
    "Y más si usamos n_init y probamos soluciones con diferentes segmentos.\n",
    "\n",
    "Para estos casos Sklearn tiene la función MiniBatchKMeans() también en el módulo cluster.\n",
    "\n",
    "https://scikit-learn.org/stable/modules/generated/sklearn.cluster.MiniBatchKMeans.html#sklearn.cluster.MiniBatchKMeans\n",
    "\n",
    "Básicamente es igual que kmeans, pero en lugar de usar todos los registros usa una muestra.\n",
    "\n",
    "El tamaño de la muestra lo controlamos con el parámetro batch_size.\n",
    "\n",
    "De esta forma el entrenamiento es más rápido, y los resultados son bastante similares excepto en registros que no estén claramente en un cluster, cuyo resultado puede cambiar con respecto a kmeans.\n",
    "\n",
    "El uso es igual que kmeans.\n",
    "\n",
    "Veamos un ejemplo sin probar diferentes soluciones, pero por supuesto todo el proceso de identificar el mejor k lo hariámos igual que con kmeans."
   ]
  },
  {
   "cell_type": "code",
   "execution_count": 45,
   "id": "universal-immunology",
   "metadata": {},
   "outputs": [],
   "source": [
    "#Creamos otro dataframe para no sobreescribir\n",
    "x2 = pd.read_csv('../00_DATASETS/sintetico_cluster.csv')"
   ]
  },
  {
   "cell_type": "code",
   "execution_count": 46,
   "id": "binary-reconstruction",
   "metadata": {},
   "outputs": [
    {
     "name": "stderr",
     "output_type": "stream",
     "text": [
      "C:\\Users\\isaac\\miniconda3\\envs\\PDSM\\lib\\site-packages\\sklearn\\cluster\\_kmeans.py:887: UserWarning: MiniBatchKMeans is known to have a memory leak on Windows with MKL, when there are less chunks than available threads. You can prevent it by setting batch_size >= 3072 or by setting the environment variable OMP_NUM_THREADS=1\n",
      "  warnings.warn(\n"
     ]
    },
    {
     "data": {
      "text/html": [
       "<div>\n",
       "<style scoped>\n",
       "    .dataframe tbody tr th:only-of-type {\n",
       "        vertical-align: middle;\n",
       "    }\n",
       "\n",
       "    .dataframe tbody tr th {\n",
       "        vertical-align: top;\n",
       "    }\n",
       "\n",
       "    .dataframe thead th {\n",
       "        text-align: right;\n",
       "    }\n",
       "</style>\n",
       "<table border=\"1\" class=\"dataframe\">\n",
       "  <thead>\n",
       "    <tr style=\"text-align: right;\">\n",
       "      <th></th>\n",
       "      <th>x1</th>\n",
       "      <th>x2</th>\n",
       "      <th>cluster</th>\n",
       "    </tr>\n",
       "  </thead>\n",
       "  <tbody>\n",
       "    <tr>\n",
       "      <th>0</th>\n",
       "      <td>6.182284</td>\n",
       "      <td>-4.216219</td>\n",
       "      <td>1</td>\n",
       "    </tr>\n",
       "    <tr>\n",
       "      <th>1</th>\n",
       "      <td>-3.397139</td>\n",
       "      <td>5.583268</td>\n",
       "      <td>3</td>\n",
       "    </tr>\n",
       "    <tr>\n",
       "      <th>2</th>\n",
       "      <td>-1.084075</td>\n",
       "      <td>5.518597</td>\n",
       "      <td>0</td>\n",
       "    </tr>\n",
       "    <tr>\n",
       "      <th>3</th>\n",
       "      <td>-3.955928</td>\n",
       "      <td>6.235456</td>\n",
       "      <td>3</td>\n",
       "    </tr>\n",
       "    <tr>\n",
       "      <th>4</th>\n",
       "      <td>4.910375</td>\n",
       "      <td>-4.695720</td>\n",
       "      <td>1</td>\n",
       "    </tr>\n",
       "  </tbody>\n",
       "</table>\n",
       "</div>"
      ],
      "text/plain": [
       "         x1        x2  cluster\n",
       "0  6.182284 -4.216219        1\n",
       "1 -3.397139  5.583268        3\n",
       "2 -1.084075  5.518597        0\n",
       "3 -3.955928  6.235456        3\n",
       "4  4.910375 -4.695720        1"
      ]
     },
     "execution_count": 46,
     "metadata": {},
     "output_type": "execute_result"
    }
   ],
   "source": [
    "from sklearn.cluster import MiniBatchKMeans\n",
    "\n",
    "#Instanciar\n",
    "cluster2 = MiniBatchKMeans(random_state=1234, n_clusters = 4, n_init=5, batch_size = 100)\n",
    "    \n",
    "#Entrenar\n",
    "cluster2.fit(x2)\n",
    "    \n",
    "#Asignar segmento\n",
    "x2['cluster'] = cluster2.predict(x2)\n",
    "\n",
    "x2.head()"
   ]
  },
  {
   "cell_type": "markdown",
   "id": "forbidden-condition",
   "metadata": {},
   "source": [
    "Vamos a contrastar esta salida con la de Kmeans a ver si nos sale parecido."
   ]
  },
  {
   "cell_type": "code",
   "execution_count": 47,
   "id": "economic-damage",
   "metadata": {},
   "outputs": [
    {
     "data": {
      "text/html": [
       "<div>\n",
       "<style scoped>\n",
       "    .dataframe tbody tr th:only-of-type {\n",
       "        vertical-align: middle;\n",
       "    }\n",
       "\n",
       "    .dataframe tbody tr th {\n",
       "        vertical-align: top;\n",
       "    }\n",
       "\n",
       "    .dataframe thead th {\n",
       "        text-align: right;\n",
       "    }\n",
       "</style>\n",
       "<table border=\"1\" class=\"dataframe\">\n",
       "  <thead>\n",
       "    <tr style=\"text-align: right;\">\n",
       "      <th>cluster</th>\n",
       "      <th>0</th>\n",
       "      <th>1</th>\n",
       "      <th>2</th>\n",
       "      <th>3</th>\n",
       "    </tr>\n",
       "    <tr>\n",
       "      <th>cluster</th>\n",
       "      <th></th>\n",
       "      <th></th>\n",
       "      <th></th>\n",
       "      <th></th>\n",
       "    </tr>\n",
       "  </thead>\n",
       "  <tbody>\n",
       "    <tr>\n",
       "      <th>0</th>\n",
       "      <td>0</td>\n",
       "      <td>0</td>\n",
       "      <td>0</td>\n",
       "      <td>250</td>\n",
       "    </tr>\n",
       "    <tr>\n",
       "      <th>1</th>\n",
       "      <td>0</td>\n",
       "      <td>250</td>\n",
       "      <td>0</td>\n",
       "      <td>0</td>\n",
       "    </tr>\n",
       "    <tr>\n",
       "      <th>2</th>\n",
       "      <td>0</td>\n",
       "      <td>0</td>\n",
       "      <td>250</td>\n",
       "      <td>0</td>\n",
       "    </tr>\n",
       "    <tr>\n",
       "      <th>3</th>\n",
       "      <td>250</td>\n",
       "      <td>0</td>\n",
       "      <td>0</td>\n",
       "      <td>0</td>\n",
       "    </tr>\n",
       "  </tbody>\n",
       "</table>\n",
       "</div>"
      ],
      "text/plain": [
       "cluster    0    1    2    3\n",
       "cluster                    \n",
       "0          0    0    0  250\n",
       "1          0  250    0    0\n",
       "2          0    0  250    0\n",
       "3        250    0    0    0"
      ]
     },
     "execution_count": 47,
     "metadata": {},
     "output_type": "execute_result"
    }
   ],
   "source": [
    "pd.crosstab(x.cluster, x2.cluster)"
   ]
  }
 ],
 "metadata": {
  "kernelspec": {
   "display_name": "Python 3",
   "language": "python",
   "name": "python3"
  },
  "language_info": {
   "codemirror_mode": {
    "name": "ipython",
    "version": 3
   },
   "file_extension": ".py",
   "mimetype": "text/x-python",
   "name": "python",
   "nbconvert_exporter": "python",
   "pygments_lexer": "ipython3",
   "version": "3.9.1"
  },
  "toc": {
   "base_numbering": 1,
   "nav_menu": {},
   "number_sections": true,
   "sideBar": true,
   "skip_h1_title": false,
   "title_cell": "Table of Contents",
   "title_sidebar": "Contents",
   "toc_cell": false,
   "toc_position": {
    "height": "calc(100% - 180px)",
    "left": "10px",
    "top": "150px",
    "width": "352px"
   },
   "toc_section_display": true,
   "toc_window_display": true
  },
  "varInspector": {
   "cols": {
    "lenName": 16,
    "lenType": 16,
    "lenVar": 40
   },
   "kernels_config": {
    "python": {
     "delete_cmd_postfix": "",
     "delete_cmd_prefix": "del ",
     "library": "var_list.py",
     "varRefreshCmd": "print(var_dic_list())"
    },
    "r": {
     "delete_cmd_postfix": ") ",
     "delete_cmd_prefix": "rm(",
     "library": "var_list.r",
     "varRefreshCmd": "cat(var_dic_list()) "
    }
   },
   "types_to_exclude": [
    "module",
    "function",
    "builtin_function_or_method",
    "instance",
    "_Feature"
   ],
   "window_display": false
  }
 },
 "nbformat": 4,
 "nbformat_minor": 5
}
